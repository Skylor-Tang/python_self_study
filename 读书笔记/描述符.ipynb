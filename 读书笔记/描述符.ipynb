{
 "cells": [
  {
   "cell_type": "markdown",
   "metadata": {},
   "source": [
    "### 描述符的定义"
   ]
  },
  {
   "cell_type": "raw",
   "metadata": {},
   "source": [
    "描述符就是将某种特殊类型的类的实例指派给另一个类的属性，\n",
    "所以只有对指派类的属性进行操作才会有响应。但是因为三个方法都有参数instance,为指派类的实例对象，所以最好操作的时候，以类实例对象的身份调用该属性。即以test.x调用，而不是Test.x。\n",
    "描述符类必须被定义为指派类的类属性，而不能在构造方法中。"
   ]
  },
  {
   "cell_type": "markdown",
   "metadata": {},
   "source": [
    "+ `__get__(self, instance, owner)`: 用于访问属性，返回属性的值\n",
    "+ `__set__(self, instance, value)`: 将在属性分配操作中调用，不返回任何内容\n",
    "+ `__delete__(self, instance)`: 控制删除操作，不返回任何内容\n",
    "\n",
    "以上方法的参数一个不能少，可以使用其他变量名代替，但是个数不能少，返回值的位置固定，建议就用这几个变量做参数"
   ]
  },
  {
   "cell_type": "code",
   "execution_count": 39,
   "metadata": {},
   "outputs": [
    {
     "name": "stdout",
     "output_type": "stream",
     "text": [
      "descriptor working\n",
      "setting... <__main__.MyDescriptor object at 0x7ff0892d4210> <__main__.Test object at 0x7ff088f73150> X-MAN\n",
      "getting... <__main__.MyDescriptor object at 0x7ff0892d4210> <__main__.Test object at 0x7ff088f73150> <class '__main__.Test'>\n"
     ]
    }
   ],
   "source": [
    "class MyDescriptor:\n",
    "    def __init__(self):\n",
    "        print(\"descriptor working\")\n",
    "        \n",
    "    def __get__(self, instance, owner):\n",
    "        print(\"getting...\", self, instance, owner)\n",
    "        \n",
    "    def __set__(self, instance, value):\n",
    "        print(\"setting...\", self, instance, value)\n",
    "    \n",
    "    def __delete__(self, instance):\n",
    "        print(\"delete...\", self, instance)\n",
    "        \n",
    "        \n",
    "class Test(object):\n",
    "    x = MyDescriptor()\n",
    "    \n",
    "    \n",
    "t = Test()\n",
    "# t.x\n",
    "t.x = \"X-MAN\"\n",
    "t.x"
   ]
  },
  {
   "cell_type": "code",
   "execution_count": 40,
   "metadata": {},
   "outputs": [
    {
     "name": "stdout",
     "output_type": "stream",
     "text": [
      "delete... <__main__.MyDescriptor object at 0x7ff0892d4210> <__main__.Test object at 0x7ff088f73150>\n"
     ]
    }
   ],
   "source": [
    "del t.x"
   ]
  },
  {
   "cell_type": "markdown",
   "metadata": {},
   "source": [
    "**小结：**\n",
    "\n",
    "描述类的：\n",
    "\n",
    "`__init__(self)`在指派类创建完成时就会执行，因为指派类的创建过程就是指派类的初始化，作为其类属性的描述符实例对象也就完成了创建。\n",
    "\n",
    "`__get__(self, instance, owner)`在作为指派类的类属性，被指派类的实例对象调用的时候触发，self是描述类实例对象，instance是指派类实例对象，owner是指派类对象。\n",
    "\n",
    "`__set__(self, instance, value)`在作为指派类的类属性，被指派类的实例对象调用赋值的时候触发，self是描述类实例对象，instance是指派类实例对象，value是赋值的值。\n",
    "\n",
    "`__delete__(self, instance)`是在删除指派类的类属性时触发。\n",
    "\n",
    "\n",
    "**** 注意：描述符类本身的实例对象进行属性操作并不会触发三个方法的执行代码。****"
   ]
  },
  {
   "cell_type": "markdown",
   "metadata": {},
   "source": [
    "#### 作为装饰器使用"
   ]
  },
  {
   "cell_type": "raw",
   "metadata": {},
   "source": [
    "因为在作为类装饰器的时候，在装饰完成之后，被装饰的对象实际上就变成了装饰器类的实例对象，所以下面的test方法就变成了在TestDecoration类内的类属性，该类属性值是MyDescriptorAsDecoration的实例化对象，也就是相当于上面描述符类用法，此时调用通过TestDecoration.test就相当于指派类调用过了描述类的实例对象，就会调用MyDescriptorAsDecoration的__get__方法。"
   ]
  },
  {
   "cell_type": "code",
   "execution_count": 76,
   "metadata": {},
   "outputs": [
    {
     "name": "stdout",
     "output_type": "stream",
     "text": [
      "hello\n"
     ]
    }
   ],
   "source": [
    "class MyDescriptorAsDecoration:\n",
    "    def __init__(self, func):  # 作为装饰器时，__init__需要设置参数接受被装饰的对象。\n",
    "        self._func = func\n",
    "        \n",
    "    def __get__(self, instance, owner):\n",
    "        return self._func(instance)  # 必须要return\n",
    "\n",
    "class TestDecoration:\n",
    "    @MyDescriptorAsDecoration        \n",
    "    def test(self):\n",
    "        return 'hello'\n",
    "    \n",
    "t = TestDecoration()\n",
    "print(t.test)  # 将方法当做属性进行调用"
   ]
  },
  {
   "cell_type": "markdown",
   "metadata": {},
   "source": [
    "**小结：**\n",
    "\n",
    "作为装饰器：\n",
    "    \n",
    "    利用类装饰器的特性，在装饰之后，随即会调用装饰器类的`__init__`方法对装饰器类进行初始化，实际上被装饰的方法就变成了装饰器类的实例对象，相当于在被装饰的函数的类内部创建了一个以方法名命令的类属性，值是装饰器的实例对象。\n",
    "    \n",
    "    以上的整个过程，就相当于描述符类（这里的装饰器类MyDescriptorAsDecoration）和指派类（TestDecoration）之间的关系。\n",
    "    \n",
    "    \n",
    "实际上，MyDescriptorAsDecoration并不能完全作为以装饰器类理解，因为该方式被装饰的函数实际上变成了类属性，只能被当做属性进行调用，不能传递函数的参数（类作为装饰器的时候，内部使用的应该是`__call__`方法），以上的例子只是借用了装饰器的语法糖，使用`@`时，会调用装饰器类的`__init__(self, func)`进行初始化。\n",
    "\n",
    "\n",
    "实现过程：<font color='red'>依赖于描述符类这个特殊类的性质，依赖其内部的`__get__`、`__set__`、`__delete__`的用法，这是Python这些魔法方法的特性。</font>"
   ]
  },
  {
   "cell_type": "markdown",
   "metadata": {},
   "source": [
    "*** <del>以上作为类装饰器的用法，实际上也是`@property`的内部实现原理</del> ***\n",
    "\n",
    "只是类似，实际上内部实现是使用c语言实现，但也使用了`__get__`，我们可以利用该魔法方式手动实现`@property`的效果。"
   ]
  },
  {
   "cell_type": "markdown",
   "metadata": {},
   "source": [
    "#### 手动实现property效果"
   ]
  },
  {
   "cell_type": "code",
   "execution_count": null,
   "metadata": {},
   "outputs": [],
   "source": [
    "https://www.cnblogs.com/keithtt/p/10223260.html"
   ]
  },
  {
   "cell_type": "markdown",
   "metadata": {},
   "source": [
    "### 描述类的应用"
   ]
  },
  {
   "cell_type": "code",
   "execution_count": 41,
   "metadata": {},
   "outputs": [
    {
     "name": "stdout",
     "output_type": "stream",
     "text": [
      "78.80000000000001\n",
      "26.0\n"
     ]
    }
   ],
   "source": [
    "# 实现摄氏度华氏度的转换\n",
    "\n",
    "class Celsius:\n",
    "    '''摄氏度'''\n",
    "    def __init__(self, value=26.0):\n",
    "        self.value = float(value)\n",
    "        \n",
    "    def __get__(self, instance, owner):\n",
    "        return self.value\n",
    "    \n",
    "    def __set__(self, instance, value):\n",
    "        self.value = float(value)\n",
    "        \n",
    "class Fahrenheit:\n",
    "    '''华氏度'''\n",
    "    def __get__(self, instance, owner):\n",
    "        return instance.cel * 1.8 + 32\n",
    "    \n",
    "    def __set__(self, instance, value):\n",
    "        instance.cel = (float(value) - 32) / 1.8\n",
    "        \n",
    "class Temperature:\n",
    "    cel = Celsius()\n",
    "    fah = Fahrenheit()\n",
    "    \n",
    "temp = Temperature()\n",
    "\n",
    "# temp.cel = 30\n",
    "print(temp.fah)\n",
    "# temp.fah = 100\n",
    "print(temp.cel)"
   ]
  },
  {
   "cell_type": "raw",
   "metadata": {},
   "source": []
  },
  {
   "cell_type": "raw",
   "metadata": {},
   "source": []
  },
  {
   "cell_type": "code",
   "execution_count": null,
   "metadata": {},
   "outputs": [],
   "source": []
  },
  {
   "cell_type": "code",
   "execution_count": null,
   "metadata": {},
   "outputs": [],
   "source": []
  }
 ],
 "metadata": {
  "kernelspec": {
   "display_name": "Python 3",
   "language": "python",
   "name": "python3"
  },
  "language_info": {
   "codemirror_mode": {
    "name": "ipython",
    "version": 3
   },
   "file_extension": ".py",
   "mimetype": "text/x-python",
   "name": "python",
   "nbconvert_exporter": "python",
   "pygments_lexer": "ipython3",
   "version": "3.7.4"
  }
 },
 "nbformat": 4,
 "nbformat_minor": 4
}
