{
 "cells": [
  {
   "cell_type": "code",
   "execution_count": null,
   "metadata": {},
   "outputs": [],
   "source": [
    "# 提示： git 中的尽量使用双引号"
   ]
  },
  {
   "cell_type": "code",
   "execution_count": 1,
   "metadata": {},
   "outputs": [],
   "source": [
    "# 创建版本库"
   ]
  },
  {
   "cell_type": "code",
   "execution_count": null,
   "metadata": {},
   "outputs": [],
   "source": [
    "# 首先确定身份象征\n",
    "进入仓库文件夹\n",
    "使用 git config --global user.name '用户名'\n",
    "使用 git config --global user.email '邮箱地址'\n",
    "设置好之后 可以使用 git config user.name 和 git config user.email 进行查看\n",
    "结果无误，则之后就将使用这些作为我们的身份象征去提交任何的修改，进行版本库的管理\n"
   ]
  },
  {
   "cell_type": "code",
   "execution_count": null,
   "metadata": {},
   "outputs": [],
   "source": [
    "# 修改git配置文件\n",
    "一般在用户目录下的隐藏文件 .config 手动修改\n",
    "或者使用命令行\n",
    "git config --global --replace-all user.name \"your new name\"\n",
    "email同理"
   ]
  },
  {
   "cell_type": "code",
   "execution_count": null,
   "metadata": {},
   "outputs": [],
   "source": [
    "# 查看配置信息\n",
    "git config --list"
   ]
  },
  {
   "cell_type": "code",
   "execution_count": null,
   "metadata": {},
   "outputs": [],
   "source": [
    "# 将文件夹编程管理库文件夹（初始化仓库）\n",
    "进入要被设置为仓库的文件夹（一定要确保在要设置的仓库的文件夹之下）\n",
    "使用 `git init` 命令初始化仓库\n",
    "此时会在仓库文件夹下创建一个 .git的不可见文件夹， windows下是隐藏的\n",
    "此时使用 ls -a 是可以看见隐藏文件的  \n",
    ".git下的文件不要轻易动\n",
    "\n",
    "此时当前文件夹已经变成了一个git管理库\n"
   ]
  },
  {
   "cell_type": "code",
   "execution_count": null,
   "metadata": {},
   "outputs": [],
   "source": [
    "# 往仓库中添加文件\n",
    "添加文件的方式：\n",
    "1. 直接在文件夹下操作，往文件夹中添加文件\n",
    "2. 使用命令行， touch 1.py     touch 文件名       该命令创建文件\n",
    "\n",
    "此时创建的文件（或者是手动添加的文件）还没有被真正的添加到管理库中\n",
    "\n",
    "使用git status 可以查看git仓库中的内容情况 会提示文件的状态\n",
    "λ git status    \n",
    "```git\n",
    "    On branch master                                                            \n",
    "                                                                            \n",
    "    No commits yet                                                              \n",
    "\n",
    "    Untracked files:                                                            \n",
    "      (use \"git add <file>...\" to include in what will be committed)            \n",
    "\n",
    "            1.py                                                                \n",
    "\n",
    "    nothing added to commit but untracked files present (use \"git add\" to track)\n",
    "\n",
    "```\n",
    "\n",
    "使用git add 1.py  git add 可以完成文件的添加\n",
    "\n",
    "此时再次使用 git status 进行查看\n",
    "```git\n",
    "    On branch master\n",
    "\n",
    "    No commits yet\n",
    "\n",
    "    Changes to be committed:\n",
    "      (use \"git rm --cached <file>...\" to unstage)\n",
    "\n",
    "            new file:   1.py\n",
    "\n",
    "```"
   ]
  },
  {
   "cell_type": "code",
   "execution_count": null,
   "metadata": {},
   "outputs": [],
   "source": [
    "# 将文件提交到仓库\n",
    "在git add 文件  之后\n",
    "使用 git commit - m '此次提交的说明'\n",
    "```git\n",
    "    [master (root-commit) 0230cf9] the first commit\n",
    "     1 file changed, 0 insertions(+), 0 deletions(-)\n",
    "     create mode 100644 1.py\n",
    "```\n",
    "为什么Git添加文件需要add，commit一共两步呢？因为commit可以一次提交很多文件，所以你可以多次add不同的文件，比如：\n",
    "\n",
    "$ git add file1.txt\n",
    "$ git add file2.txt file3.txt\n",
    "$ git commit -m \"add 3 files.\"    \n",
    "\n",
    "往仓库中add 文件 会使文件从Untracked(未被追踪) 处于Staged (暂存) 状态 ，提交文件后是文件处于 Unmodified （未修改）状态  \n",
    "git commit 可以一次性提交多个文件"
   ]
  },
  {
   "cell_type": "markdown",
   "metadata": {},
   "source": [
    "git仓库文件的几种状态：\n",
    "\n",
    "![git.png](https://www.z4a.net/images/2019/09/21/git.png)"
   ]
  },
  {
   "cell_type": "code",
   "execution_count": null,
   "metadata": {},
   "outputs": [],
   "source": [
    "Untracked(未被追踪) 此时文件没有被放进git仓库，此时git不知道该文件存在----直接刚被创建或者刚被拖进来的文件处于该状态         未被追踪的文件（即没git add的文件）即使被删除也不会被git记录，但是git add 的会\n",
    "Staged(暂存) Untracked文件被git add  添加进仓库后，git知道该文件存在\n",
    "Unmodified（未修改） Staged 使用git commit 进行提交后处于该状态\n",
    "Modified (修改) 未修改的文件修改后变为Modified状态，此时再次使用git add 放进仓库，变为Staged状态   所以只有git add 后，文件才会变成Staged暂存状态\n",
    "\n",
    "其中 Unmodified和Modified统称为 Unstaged状态 与Staged状态相对\n",
    "\n",
    "用到的命令：\n",
    "    初始化git配置：\n",
    "        git config --global user.name \"用户名\"\n",
    "        git config --global user.email '邮箱地址'\n",
    "        git init                    :   在建好的文件夹下使用该命令，将当前文件夹变成一个git仓库\n",
    "\n",
    "    仓库文件操作：\n",
    "        git add 文件名              ：  将文件添加进仓库，使git能对其进行跟踪\n",
    "        git commit -m \"提交注释\"    ：  将文件提交\n",
    "        git status                  :   查看文件的状态\n",
    "        git diff                    ：  查看文件的不同\n",
    "        git log                     :   查看文件的提交日志\n",
    "\n",
    "git add 文件    使得该文件被git管理库识别并了解（这也叫一次修改） 文件从 Untracked(未被追踪) 变成 Staged (暂存) 状态\n",
    "之后使用 git commit 将修改提交到版本库中 使文件从Staged 变为 Unmodified\n",
    "如果我们修改了文件，此时文件就会从Unmodified 变成 modified，使用 git add 文件，可以将文件变成Staged (暂存)，然后再使用git commit 提交"
   ]
  },
  {
   "cell_type": "code",
   "execution_count": null,
   "metadata": {},
   "outputs": [],
   "source": [
    "# 查看更改日志\n",
    "git log 命令可以查看提交的历史\n",
    "```git\n",
    "    commit 0230cf95824602bfb70042569390b2046fa8448d (HEAD -> master)\n",
    "    Author: Skylor <739230854@qq.com>\n",
    "    Date:   Sat Sep 21 17:15:20 2019 +0800\n",
    "\n",
    "        the first commit\n",
    "```\n"
   ]
  },
  {
   "cell_type": "code",
   "execution_count": null,
   "metadata": {},
   "outputs": [],
   "source": [
    "# 修改文件 重新添加 并且提交\n",
    "```git\n",
    "    On branch master\n",
    "    Changes not staged for commit:\n",
    "      (use \"git add <file>...\" to update what will be committed)\n",
    "      (use \"git checkout -- <file>...\" to discard changes in working directory)\n",
    "\n",
    "            modified:   1.py\n",
    "\n",
    "    no changes added to commit (use \"git add\" and/or \"git commit -a\")\n",
    "```\n",
    "“未提交没有暂存的文件”\n",
    "修改文件后，文件的状态从Unmodified变为modified修改过的，\n",
    "此时的git状态：\n",
    "```git\n",
    "    On branch master\n",
    "    Changes to be committed:\n",
    "      (use \"git reset HEAD <file>...\" to unstage)\n",
    "\n",
    "            modified:   1.pyfile\n",
    "```\n",
    "此时文件为Staged，使用get commit -m \"提交注释\" 完成提交\n",
    "显示文件的变化\n",
    "```git\n",
    "    [master b018179] add a line\n",
    "     1 file changed, 1 insertion(+)\n",
    "```\n",
    "\n",
    "\n",
    "此时再次使用git log 查看文件的提交日志\n",
    "```git\n",
    "    commit b0181799cebe1ac073e9c04a8e42ebd4ea0b5de4 (HEAD -> master)\n",
    "    Author: Skylor Tang <739230854@qq.com>\n",
    "    Date:   Sat Sep 21 21:59:21 2019 +0800\n",
    "\n",
    "        add a line\n",
    "\n",
    "    commit 0230cf95824602bfb70042569390b2046fa8448d\n",
    "    Author: Skylor <739230854@qq.com>\n",
    "    Date:   Sat Sep 21 17:15:20 2019 +0800\n",
    "\n",
    "        the first commit\n",
    "\n",
    "```\n",
    "记录是从下往上看的，最上面的内容是最新的记录"
   ]
  },
  {
   "cell_type": "code",
   "execution_count": null,
   "metadata": {},
   "outputs": [],
   "source": [
    "# 查看更改的细节\n",
    "我们再次修改文件\n",
    "\n",
    "\n",
    "查看状态的时候使用 -s 参数 可以看简略的信息\n",
    "git status -s \n",
    "对比如下：\n",
    "使用了 -s 参数\n",
    "```git\n",
    "     M 1.py     \n",
    "```\n",
    "其中M，就是状态Modified的缩写\n",
    "未使用\n",
    "```git\n",
    "    On branch master\n",
    "    Changes not staged for commit:\n",
    "      (use \"git add <file>...\" to update what will be committed)\n",
    "      (use \"git checkout -- <file>...\" to discard changes in working directory)\n",
    "\n",
    "            modified:   1.py\n",
    "\n",
    "    no changes added to commit (use \"git add\" and/or \"git commit -a\")\n",
    "```\n",
    "\n",
    "查看文件修改的地方，使用git diff 可以查看修改的内容 ---- 只可以在文件没有 git add 的时候查看同一个文件的不同\n",
    "```git\n",
    "    diff --git a/1.py b/1.py            \n",
    "    index 1337a53..ff7c36c 100644       \n",
    "    --- a/1.py                          \n",
    "    +++ b/1.py                          \n",
    "    @@ -1 +1,2 @@                       \n",
    "    -a = 1                              \n",
    "    +a = 2                              \n",
    "    +b = 1                              \n",
    "```\n",
    "\n",
    "\n",
    "使用git add 将改动后的文件添加到仓库中\n",
    "使用 git add .  的方式 可以将所有Modified状态的文件添加\n",
    "此时使用git status -s 查看\n",
    "```git\n",
    "    M 1.py     \n",
    "```\n",
    "这里的M和之前Modified状态返回的M不一样\n",
    "之前的M是红色，且有一个空格\n",
    "现在的M是绿色，且没有空格\n",
    "\n",
    "\n",
    "在Staged状态时候，还没有使用git commit 提交的时候，使用git diff 是没有返回结果的，\n",
    "因为git diff 命令只会显示 Unmodified 和 之前一次commit的对比\n",
    "\n",
    "要想使用git diff命令看Staged状态和上次commit之间的对比，可以添加 --cached 参数查看  -------  此时是刚git add 还没有 git commit\n",
    "结果和之前的一样\n",
    "\n",
    "\n",
    "\n",
    "注意： 若此时在文件处于Staged的状态的时候（即 使用了git add，但是还没有使用git commit进行提交代码），再次修改文件，\n",
    "此时同一个文件就会有两个状态\n",
    "```git\n",
    "    On branch master\n",
    "    Changes to be committed:\n",
    "      (use \"git reset HEAD <file>...\" to unstage)\n",
    "\n",
    "            modified:   1.py\n",
    "\n",
    "    Changes not staged for commit:\n",
    "      (use \"git add <file>...\" to update what will be committed)\n",
    "      (use \"git checkout -- <file>...\" to discard changes in working directory)\n",
    "\n",
    "            modified:   1.py\n",
    "```\n",
    "使用git status -s 查看简略信息的时候\n",
    "```git\n",
    "MM 1.py\n",
    "```\n",
    "两个M，前面一个是绿的，后面是红的   \n",
    "\n",
    "查看有两种状态的文件的不同\n",
    "使用git diff 只能看到刚刚修改的地方，即文件在Modified的状态与上次commit之间的不同\n",
    "同理使用git diff --cached时候，只能看到文件在Staged的状态与上次commit之间的不同\n",
    "\n",
    "对处在Staged状态的文件再次修改，使用get diff 查到的不同是在Staged这个没有被commit的基础上修改的，此时比较的时候，将这次没有被\n",
    "commit的当做已经commit了，所以前面会没有+ - 号的标识\n",
    "\n",
    "此时想看两种状态的不同 应该使用 HEAD参数\n",
    "git diff HEAD\n",
    "```git \n",
    "    diff --git a/1.py b/1.py\n",
    "    index 1337a53..12a0070 100644\n",
    "    --- a/1.py\n",
    "    +++ b/1.py\n",
    "    @@ -1 +1,3 @@\n",
    "    -a = 1\n",
    "    +a = 2\n",
    "    +b = 1\n",
    "    +c = b\n",
    "```\n",
    "\n",
    "\n",
    "git add .\n",
    "git commit -m \"the second commit\"\n",
    "```git\n",
    "    [master 4665c75] the second commit\n",
    "     1 file changed, 3 insertions(+), 1 deletion(-)\n",
    "```\n",
    "\n",
    "使用 git log --oneline 可以查看简略信息  \n",
    "```git\n",
    "    4665c75 (HEAD -> master) the second commit\n",
    "    b018179 add a line\n",
    "    0230cf9 the first commit\n",
    "```\n",
    "该命令等同于  git log --pretty=oneline  不过会显示完整的版本号\n",
    "```git\n",
    "    4665c75219a5570027f91cb1e47f258f66a02d0b (HEAD -> master) the second commit\n",
    "    b0181799cebe1ac073e9c04a8e42ebd4ea0b5de4 add a line\n",
    "    0230cf95824602bfb70042569390b2046fa8448d the first commit\n",
    "```"
   ]
  },
  {
   "cell_type": "code",
   "execution_count": null,
   "metadata": {},
   "outputs": [],
   "source": [
    "git diff 使用的方式： 可以添加文件名，只查看某一个文件的修改\n",
    "\n",
    "1. 刚修改完，还没有使用git add ，此时文件处在 Modified ，此时可以使用git diff 查看文件的不同\n",
    "2. 使用git add，文件状态变成Staged，此时就不能直接使用git diff 这样是没有结果的，需要添加cached参数， 即使用 git diff --cached 可以比较Staged状态的文件和上次提交时的不同\n",
    "（即需要将暂存区与版本最近一次commit的内容进行比较）\n",
    "3. 与指定的版本进行比较：\n",
    "    即 git diff 需要比较版本的HASH值 可以指定单独要比较的文件名  即可将当前版本的文件与指定版本的文件比较不同\n",
    "    同理，当需要将暂存区（即使用了git add ，还没有git commit）和某个版本比较时，使用 git diff --cached hash值\n",
    "注意：使用git diff hash值的方式，默认是将工作区（修改了未git add）和缓存区（git add了没有git commit）的文件都拿来和指定的版本进行比较\n",
    "但是可以添加 --cached 参数，让他只将缓存区的进行比较\n",
    "\n",
    "当比较的版本是上次的最新版本，可以使用git diff HEAD 代替hash值\n",
    "\n",
    "4. 如果要比较两个历史记录的版本时\n",
    "git diff hash值1 hash值2\n",
    "\n"
   ]
  },
  {
   "cell_type": "markdown",
   "metadata": {},
   "source": [
    "#### 版本回退"
   ]
  },
  {
   "cell_type": "code",
   "execution_count": null,
   "metadata": {},
   "outputs": [],
   "source": [
    "回到从前的样式一：\n",
    "将一个新文件直接替换掉之前的一次提交，且任然使用之前一次的提交的注释\n",
    "\n",
    "git add 2.py 添加一个新文件\n",
    "git commit --amend --no-edit 提交\n",
    "\n",
    "参数解释：\n",
    "    --amend参数：将这次改变放到上次的commit中  \n",
    "    --no-edit参数:不修改之前的commit评论，仍然使用之前的评论\n",
    "\n",
    "结果： 替换了上次commit的版本，仍然使用之前的评论，版本号被修改\n",
    "\n",
    "```git \n",
    "    a926f16 (HEAD -> master) the second commit\n",
    "    b018179 add a line\n",
    "    0230cf9 the first commit\n",
    "```"
   ]
  },
  {
   "cell_type": "code",
   "execution_count": null,
   "metadata": {},
   "outputs": [],
   "source": [
    "回到从前的样式二：\n",
    "在一个Modified文件git add变成Staged后，反悔，想再次修改后git add \n",
    "\n",
    "从Staged状态返回到Modified状态 红色的modified\n",
    "在git add 文件之后， 使用git reset 文件名           git reset和git diff类似，不接受文件名的时候，默认所有文件\n",
    "\n",
    "```git \n",
    "    Unstaged changes after reset:\n",
    "    M       11.py\n",
    "```\n",
    "使用git reset 文件名 命令后，文件返回到被修改的状态 红色的modified  \n",
    "（被追踪的文件，一旦被修改，就会被git仓库发现，但是将修改撤销后，就不会发现了，git仓库是通过比较与上次commit的文件）"
   ]
  },
  {
   "cell_type": "code",
   "execution_count": null,
   "metadata": {},
   "outputs": [],
   "source": [
    "回到从前的样式三：\n",
    "将commit到仓库的文件\n",
    "commit id  版本号（即log前的hash值）    HEAD 当前版本指针（代指当前文件）\n",
    "git reset --hard HEAD  回到最近一次commit的版本\n",
    "git reset --hard HEAD^ 回到HEAD指向的commit的版本的前一个版本   效果等同于 git reset --hard HEAD~2\n",
    "git reset --hard commit id  通过特定版本号  回到相应的版本\n",
    "\n",
    "\n",
    "相应的，回到过去之后，再想回到未来\n",
    "在过去的时候，使用git log 只能看到回退到的版本开始的log，所以再想通过git reset --hard commit id的方式是不可能了\n",
    "\n",
    "此时可以使用 git reflog :\n",
    "    git reflog 可以查看所有分支的所有操作记录（包括已经被删除的 commit 记录和 reset 的操作）\n",
    "    例如执行 git reset --hard HEAD~1，退回到上一个版本，用git log则是看不出来被删除的commitid，\n",
    "    用git reflog则可以看到被删除的commitid，我们就可以买后悔药，恢复到被删除的那个版本。\n",
    "    \n",
    "    在使用git reflog 查询到上次操作的版本号，git reset --hard commit id就行\n",
    "```git\n",
    "    a926f16 (HEAD -> master) HEAD@{0}: reset: moving to a926f16\n",
    "    b018179 HEAD@{1}: reset: moving to b018179\n",
    "    a926f16 (HEAD -> master) HEAD@{2}: reset: moving to HEAD\n",
    "    a926f16 (HEAD -> master) HEAD@{3}: reset: moving to HEAD\n",
    "    a926f16 (HEAD -> master) HEAD@{4}: commit (amend): the second commit\n",
    "    4665c75 HEAD@{5}: commit: the second commit\n",
    "    b018179 HEAD@{6}: commit: add a line\n",
    "    0230cf9 HEAD@{7}: commit (initial): the first commit\n",
    "```\n",
    "git reset --hard commit id除了可以使用版本号，还可以使用指针HEAD@{1}，不过要注意顺序，逻辑可能比较乱"
   ]
  },
  {
   "cell_type": "code",
   "execution_count": null,
   "metadata": {},
   "outputs": [],
   "source": [
    "git reset \n",
    "1. 若直接使用 git reset 文件名 则是将当前处在Stages暂存区的文件返回到工作区 Modified的状态，即 撤销 git add 的操作 --- 该操作不会留下记录\n",
    "2. 若添加参数 --hard, git reset --hard hash值 则是将版本库回退到相应的版本"
   ]
  },
  {
   "cell_type": "markdown",
   "metadata": {},
   "source": [
    "![2-2-4.md.png](https://www.z4a.net/images/2019/09/22/2-2-4.md.png)\n",
    "![2-2-3.md.png](https://www.z4a.net/images/2019/09/22/2-2-3.md.png)\n",
    "![2-2-2.md.png](https://www.z4a.net/images/2019/09/22/2-2-2.md.png)\n",
    "![2-2-1.md.png](https://www.z4a.net/images/2019/09/22/2-2-1.md.png)"
   ]
  },
  {
   "cell_type": "markdown",
   "metadata": {},
   "source": [
    "#### 回到从前 （针对文件）"
   ]
  },
  {
   "cell_type": "code",
   "execution_count": null,
   "metadata": {},
   "outputs": [],
   "source": [
    "使用\n",
    "    `git checkout 版本号 -- 文件名`   \n",
    "注意: \n",
    "    -- 前后都有一个空格\n",
    "    git checkout 命令只会对指定文件进行版本的回退，而不是整个git仓库的文件\n",
    "    除此以外，git checkout 还可以在各个branch分支间进行切换\n",
    "    \n",
    "`git checkout 版本号 -- 文件名`后的文件仓库状态\n",
    "```git\n",
    "    On branch master\n",
    "    Changes to be committed:\n",
    "      (use \"git reset HEAD <file>...\" to unstage)\n",
    "\n",
    "            modified:   1.py\n",
    "```\n",
    "此时被回退的文件会处于Staged状态，等待被commit\n",
    "\n",
    "此时修改文件就会产生两种状态 Modified 和 Staged状态\n",
    "最后都add并且commit之后，git log 可以发现，之前的log不会产生变化，新添额commit 会被记录在最新\n",
    "\n",
    "\n",
    "git reset是将整个仓库的版本回退到某个记录，但是git checkout则是将某个单独的文件的版本回退到某个版本"
   ]
  },
  {
   "cell_type": "code",
   "execution_count": null,
   "metadata": {},
   "outputs": [],
   "source": []
  },
  {
   "cell_type": "markdown",
   "metadata": {},
   "source": [
    "#### 分支`branch`"
   ]
  },
  {
   "cell_type": "markdown",
   "metadata": {},
   "source": [
    "![branch.md.png](https://www.z4a.net/images/2019/09/22/branch.md.png)"
   ]
  },
  {
   "cell_type": "code",
   "execution_count": null,
   "metadata": {},
   "outputs": [],
   "source": [
    "主分支 Master 给客户用，要求必须是稳定的完美版本\n",
    "而我们可以创立一个新的分支，用来开发，该分支叫开发版， 和稳定的Master 互不影响"
   ]
  },
  {
   "cell_type": "code",
   "execution_count": null,
   "metadata": {},
   "outputs": [],
   "source": [
    "git log --oneline 可以查看一条条的提交日志（简略的）\n",
    "git log 详细的提交记录\n",
    "\n",
    "此时我们可以添加 --graph 参数 以图形化的形式显示\n",
    "```git\n",
    "* commit 764fa857d9431286f75b0537809ac4aeb6762f43 (HEAD -> master)\n",
    "| Author: Skylor Tang <739230854@qq.com>\n",
    "| Date:   Sun Sep 22 17:38:39 2019 +0800\n",
    "|\n",
    "|     back to thefirst and commit fot 1.py\n",
    "|\n",
    "* commit 9536be33492198a5fb8b91486063c199eca7c4e9\n",
    "| Author: Skylor Tang <739230854@qq.com>\n",
    "| Date:   Sun Sep 22 11:08:54 2019 +0800\n",
    "|\n",
    "|     fdsfasf\n",
    "|\n",
    "* commit 27bea717d7341081e49b23b175941fb94522dde5\n",
    "  Author: Skylor Tang <739230854@qq.com>\n",
    "  Date:   Sun Sep 22 10:27:12 2019 +0800\n",
    "\n",
    "      the first\n",
    "    \n",
    "    \n",
    "以下是--oneline 版本\n",
    "\n",
    "* 764fa85 (HEAD -> master) back to thefirst and commit fot 1.py\n",
    "* 9536be3 fdsfasf\n",
    "* 27bea71 the first    \n",
    "    \n",
    "    \n",
    "```\n",
    "排成一条线，表示是同一条分支上的内容\n"
   ]
  },
  {
   "cell_type": "code",
   "execution_count": null,
   "metadata": {},
   "outputs": [],
   "source": [
    "# 建立分支\n",
    "git branch 分支名    \n",
    "git branch dev  : 创建了一个develop分支\n",
    "    \n",
    "    \n",
    "使用git branch 命令可以查看分支的状况，当前存在所有分支\n",
    "```git \n",
    "\n",
    "      dev\n",
    "    * master\n",
    "```\n",
    "分支没有高低之分，所有分支等级都一样，master分支是刚开始创建仓库的时候的默认分支\n",
    "分支之前的*表示当前所处在的分支是哪一分支\n",
    "\n",
    "\n",
    "建立分支方式二：\n",
    "使用git checkout -b 分支名\n",
    "用该方法创建分支的时候，会直接进入到该分支下"
   ]
  },
  {
   "cell_type": "code",
   "execution_count": null,
   "metadata": {},
   "outputs": [],
   "source": [
    "# 切换分支\n",
    "git checkout 分支名 \n",
    "git checkout dev ： 切换到dev分支上\n",
    "```git \n",
    "    Switched to branch 'dev'\n",
    "```\n",
    "显示切换到dev分支\n",
    "\n",
    "另外，当之前的分支中有Mutified状态的文件，即有了修改，但是没有使用git add添加的文件的时候，\n",
    "以及文件处在Staged状态的时候，此时切换分支，是不被允许的\n",
    "```git \n",
    "    error: Your local changes to the following files would be overwritten by checkout:\n",
    "            11.py\n",
    "    Please commit your changes or stash them before you switch branches.\n",
    "    Aborting\n",
    "```\n"
   ]
  },
  {
   "cell_type": "code",
   "execution_count": null,
   "metadata": {},
   "outputs": [],
   "source": [
    "# 删除分支\n",
    "git branch -d 分支名\n",
    "git branch -d dev 删除dev分支，此时注意使用该命令时，当前所在的分支一定不能是要删除的分支"
   ]
  },
  {
   "cell_type": "code",
   "execution_count": null,
   "metadata": {},
   "outputs": [],
   "source": []
  },
  {
   "cell_type": "code",
   "execution_count": null,
   "metadata": {},
   "outputs": [],
   "source": [
    "使用 git commit -am \"此次提交的注释\"\n",
    "-am 同时完成了add 和 -m 的作用  ，而不需要在使用add 先添加在commit，直接将文件从Modified状态变成Unmodified状态\n",
    "注意： 使用git commit -am \"此次提交的注释\" 命令的时候，需要当前提交的文件必须是已经被git仓库追踪的文件\n",
    "即刚放进仓库的还没有add，处于Untracked状态的文件是不能使用git commit -am \"此次提交的注释\"的\n",
    "\n",
    "\n",
    "使用git commit 是可以指定提交单个文件的   git commit 文件名 -m \"此次提交的注释\""
   ]
  },
  {
   "cell_type": "code",
   "execution_count": null,
   "metadata": {},
   "outputs": [],
   "source": []
  },
  {
   "cell_type": "code",
   "execution_count": null,
   "metadata": {},
   "outputs": [],
   "source": [
    "在某个分支下，切换到另外一个分支，仓库中的文件也会随之发生变化"
   ]
  },
  {
   "cell_type": "markdown",
   "metadata": {},
   "source": [
    "在git仓库下的文件，一旦使用git add 文件名， 将此文件添加到git仓库中，就收到git仓库的追踪，追踪其一生的变化， \n",
    "git仓库中的文件只要被记录，即使被删除了，也可以通过版本回退的方式找回或者通过回退某个文件的方式 `git checkout 版本号 -- 文件名` 找回。\n",
    "\n"
   ]
  },
  {
   "cell_type": "code",
   "execution_count": null,
   "metadata": {},
   "outputs": [],
   "source": []
  },
  {
   "cell_type": "code",
   "execution_count": null,
   "metadata": {},
   "outputs": [],
   "source": [
    "# 将分支中的内容推送到另外一个分支中（将开发版的内容推送到用户正式版中）\n",
    "首先要先确定，当前在要被推送到的版本中，即在用户正式版中\n",
    "使用git merge 开发版分支名\n",
    "为了使此次merge能够在用户版中的log中留下相应的信息，需要传递一些参数\n",
    "git merge --no-ff -m \"keep merge info\"  dev\n",
    "参数解释：\n",
    "    --no-ff  ： 就是不要 fast forward 不设置的时候，默认就是fast forward参数，不会留下信息   是否使用该参数\n",
    "    此时只要使用 --no-ff 参数后， 使用 -m 参数就可以留下我们的信息了\n",
    "    \n",
    "    \n",
    "```git \n",
    "    Merge made by the 'recursive' strategy.\n",
    "     1.py | 2 ++\n",
    "     1 file changed, 2 insertions(+)\n",
    "```\n",
    "\n",
    "此时使用git log --oneline --graph 可以看到\n",
    "```git \n",
    "    *   c479282 (HEAD -> master) keep merge info\n",
    "    |\\\n",
    "    | * b5e03c7 (dev) change 3 in dev\n",
    "    |/\n",
    "    * 436b81b the latest\n",
    "    * a0cfb7f checkout\n",
    "    * a926f16 the second commit\n",
    "    * b018179 add a line\n",
    "    * 0230cf9 the first commit    \n",
    "```"
   ]
  },
  {
   "cell_type": "code",
   "execution_count": null,
   "metadata": {},
   "outputs": [],
   "source": [
    "git checkout -b 分支名  ： 创建新分支，并进入该分支\n",
    "git checkout 分支名     ： 切换分支\n",
    "git branch  分支名      ： 创建新分支\n",
    "git branch -d 分支名    ： 删除分支\n",
    "git branch              ： 查看所有分支\n",
    "git merge 分支名        ： 推送分支合并到当前分支下\n",
    "\n",
    "\n"
   ]
  },
  {
   "cell_type": "markdown",
   "metadata": {},
   "source": [
    "#### `merge`分支冲突"
   ]
  },
  {
   "cell_type": "markdown",
   "metadata": {},
   "source": [
    "在不会产生分支冲突的时候（即新旧分支没有在相同的文件上就行修改）：\n",
    "\n",
    "1. 当开发版分支回退到之前的版本，此时再将此版本合并到用户版分支上，是没有问题的，且此时git merge --no-ff -m \"keep merge info\"  dev 添加的注释也是没有用的。等于什么都没有做。\n",
    "    \n",
    "2. 一般情况下，合并两个分支的时候，如将开发版本合并到用户使用版本上，会自动从不相同的地方自动进行合并，以前的内容不变，将分支中的新内容添加到现有分支中，组成新的节点。（合并的时候，都是在现有分支之后增加，不会对现有分支之前的内容进行修改）"
   ]
  },
  {
   "cell_type": "markdown",
   "metadata": {},
   "source": [
    "![1b05836a1d1ef69bd.png](https://www.z4a.net/images/2019/09/25/1b05836a1d1ef69bd.png)"
   ]
  },
  {
   "cell_type": "markdown",
   "metadata": {},
   "source": [
    "在会产生分支冲突的时候（在之前相同文件上进行了修改）：\n",
    "两种情况： 1. 在一个开发者分支中对从用户分支中copy过来的之前的文件进行了修改的话，在和并的时候会造成冲突。 2. 在两个版本中都有同时对相同的文件进行了修改也会产生冲突。"
   ]
  },
  {
   "cell_type": "markdown",
   "metadata": {},
   "source": [
    "![4-2-1.png](https://www.z4a.net/images/2019/09/25/4-2-1.png)"
   ]
  },
  {
   "cell_type": "code",
   "execution_count": null,
   "metadata": {},
   "outputs": [],
   "source": [
    "冲突： conflict\n",
    "\n",
    "冲突发生在，合并的两个分支，中有相同的文件做了不同的操作，则会报错\n",
    "\n",
    "一个删除了  一个修改了 也是一样的处理方式\n",
    "\n",
    "\n",
    "冲突了会提示有冲突的文件，你需要手动做出修改，然后git commit -am \"提交说明\" 此时就完成了整个合并过程\n",
    "\n",
    "\n",
    "合并过程，若没有冲突，则相当于使用了最新的分支\n",
    "此时若设置了 git merge --no-ff -m \"keep merge info\"  dev  参数，就会新创建一个版本\n",
    "\n",
    "\n",
    "如果两个分支都有了各自新的内容（但是没有冲突，即没有相同文件修改），合并的话，git 会自动创建一个新的版本，如下：\n",
    "*   cef83a1 (HEAD -> master) Merge branch 'dev2'\n",
    "|\\\n",
    "| * 94c4048 (dev2)  dev 2\n",
    "* | f06914b master\n",
    "|/\n",
    "* 3d7796e change 4 in master\n",
    "* 47f167e back to change 1 and add comment for 1.py\n",
    "* 904e1ba change 2\n",
    "* c6762a1 change 1\n",
    "* 13be9a7 create 1.py\n",
    "\n",
    "若都对相同的文件做了修改 是不会冲突的"
   ]
  },
  {
   "cell_type": "code",
   "execution_count": null,
   "metadata": {},
   "outputs": [],
   "source": []
  },
  {
   "cell_type": "code",
   "execution_count": null,
   "metadata": {},
   "outputs": [],
   "source": [
    "rebase分支冲突\n",
    "\n",
    "\n",
    "rebase : 重新基于\n",
    "场景：\n",
    "两个分支，主分支和开发分支\n",
    "我在开发分支上开发，某天发现我从主分支"
   ]
  },
  {
   "cell_type": "code",
   "execution_count": null,
   "metadata": {},
   "outputs": [],
   "source": []
  },
  {
   "cell_type": "code",
   "execution_count": null,
   "metadata": {},
   "outputs": [],
   "source": [
    "临时修改： stash\n",
    "\n",
    "git stash  将当前的工作区 存起来\n",
    "此时可以切换到别的分支，或者创建新的分支来完成别的工作\n",
    "\n",
    "再切换到当前分支，使用git stash pop 就可以继续之前的工作了\n",
    "\n",
    "\n",
    "使用git stash list 查看缓存列表"
   ]
  }
 ],
 "metadata": {
  "kernelspec": {
   "display_name": "Python 3",
   "language": "python",
   "name": "python3"
  },
  "language_info": {
   "codemirror_mode": {
    "name": "ipython",
    "version": 3
   },
   "file_extension": ".py",
   "mimetype": "text/x-python",
   "name": "python",
   "nbconvert_exporter": "python",
   "pygments_lexer": "ipython3",
   "version": "3.7.4"
  }
 },
 "nbformat": 4,
 "nbformat_minor": 4
}
