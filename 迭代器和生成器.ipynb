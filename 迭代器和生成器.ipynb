{
 "cells": [
  {
   "cell_type": "code",
   "execution_count": 6,
   "metadata": {},
   "outputs": [
    {
     "name": "stdout",
     "output_type": "stream",
     "text": [
      "True\n",
      "True\n"
     ]
    }
   ],
   "source": [
    "# 9-1 python中的迭代协议\n",
    "#什么是迭代协议\n",
    "#迭代器是什么？ 迭代器是访问集合内元素的一种方式， 一般用来遍历数据\n",
    "#迭代器和以下标的访问方式不一样， 迭代器是不能返回的（即 不可以通过像list那样下标的方式来得到对应的返回值）, 迭代器提供了一种惰性访问数据的方式\n",
    "\n",
    "# 生成器背后的原理也会是迭代器，    Iterator继承了Iterable, Generation又是继承的Iterator 实现了Iterator的__next__方法\n",
    "# 惰性方式数据 在访问数据的时候才去计算或获取数据\n",
    "#[] list , __iter__ 迭代协议  实现了该方法的就是可迭代类型    而迭代器还必须实现 __next__方法\n",
    "\n",
    "'''\n",
    "class Iterator(Iterable):\n",
    "\n",
    "    __slots__ = ()\n",
    "\n",
    "    @abstractmethod\n",
    "    def __next__(self):\n",
    "        'Return the next item from the iterator. When exhausted, raise StopIteration'\n",
    "        raise StopIteration\n",
    "\n",
    "    def __iter__(self):    # Iterator 中已经重载了父类Iterable的iter方法\n",
    "        return self  \n",
    "'''\n",
    "# Iterator 继承自Iterable,Iterator有两个必须要实现的方法 一个是自身的 __next__  是返回下个数据的  还有一个是Iterable 的方法 __iter__用来返回迭代器\n",
    "\n",
    "from collections.abc import Iterable, Iterator\n",
    "a = [1,2]\n",
    "iter_rator = iter(a)    #iter(iterable) -> iterator 将迭代对象 生成一个迭代器\n",
    "print (isinstance(a, Iterable))     # list是可迭代对象却不是迭代器\n",
    "print (isinstance(iter_rator, Iterator))"
   ]
  },
  {
   "cell_type": "code",
   "execution_count": 9,
   "metadata": {},
   "outputs": [
    {
     "name": "stdout",
     "output_type": "stream",
     "text": [
      "True\n"
     ]
    }
   ],
   "source": [
    "# python 通过是否实现了一些共有的魔法函数（即协议） 而判断某个类是否属于某种类   所以只要实现了相应的魔法函数，就会具有相应类型的一些特性\n",
    "\n",
    "class a:\n",
    "    def __iter__(self):\n",
    "        pass\n",
    "a = a()    \n",
    "print (isinstance(a, Iterable)) \n",
    "\n"
   ]
  },
  {
   "cell_type": "code",
   "execution_count": null,
   "metadata": {},
   "outputs": [],
   "source": [
    "# 9-2 什么是迭代器和可迭代对象"
   ]
  },
  {
   "cell_type": "code",
   "execution_count": 5,
   "metadata": {},
   "outputs": [
    {
     "name": "stdout",
     "output_type": "stream",
     "text": [
      "tom\n",
      "bob\n",
      "jane\n"
     ]
    }
   ],
   "source": [
    "class Company(object):\n",
    "    def __init__(self, employee_list):\n",
    "        self.employee = employee_list\n",
    "\n",
    "    def __getitem__(self, item):\n",
    "        return self.employee[item]\n",
    "    \n",
    "if __name__ == \"__main__\":\n",
    "    company = Company([\"tom\", \"bob\", \"jane\"])\n",
    "    # 为什么可以for循环，其实内部for循环的时候是会尝试调用iter() 即iter(company)  会首先查找内部是否有__iter__方法，没有的话会利用__getitem__创建一个迭代器Iterator，\n",
    "    for item in company:   \n",
    "        print(item)\n",
    "        \n",
    "#     iter(company) 得到了一个迭代器对象<iterator object at 0x0000028C4EE34710>"
   ]
  },
  {
   "cell_type": "code",
   "execution_count": 9,
   "metadata": {},
   "outputs": [
    {
     "name": "stdout",
     "output_type": "stream",
     "text": [
      "True\n",
      "tom\n",
      "bob\n",
      "jane\n"
     ]
    }
   ],
   "source": [
    "from collections.abc import Iterator\n",
    "\n",
    "class Company(object):\n",
    "    \"\"\"\n",
    "    事实上我们也可以自己在类中设计实现 __next__方法，而使其成为一个迭代器对象\n",
    "    但是迭代器的设计规范和设计模式要求 我们应该通过自定义一个迭代器类来实现，将index的维护放到单独的迭代器类中维护，而不要放在当前类中\n",
    "\n",
    "    比如像内置的list类型，也没有实现 __next__  而是单独设计了一个迭代器 在__iter__中进行调用\n",
    "\n",
    "    \"\"\"\n",
    "\n",
    "    def __init__(self, employee_list):\n",
    "        self.employee = employee_list\n",
    "\n",
    "    def __iter__(self):  # 返回一个迭代器对象\n",
    "        return MyIterator(self.employee)   # 使用我们自己创建的迭代器类生成一个迭代器实例对象\n",
    "\n",
    "    # def __getitem__(self, item):\n",
    "    #     return self.employee[item]\n",
    "\n",
    "\n",
    "class MyIterator(Iterator):                    #  也可以不使用继承的方式而是直接使用__iter__魔法函数，因为Python是基于协议的\n",
    "    \"\"\"\n",
    "    自定义迭代器，因为继承自Iterator，内部已经实现了__iter__方法\n",
    "    实际上， 如果只是将这个类作为工具类，为其他地方的__iter__提供调用，那么不需要在本类中也实现__iter__方法\n",
    "    但最好写上，或者直接继承Iterator类（l里面写好了__iter__方法）为了防止将自身作为可迭代对象使用，此时不能没有__iter__方法\n",
    "    \"\"\"\n",
    "    def __init__(self, employee_list):\n",
    "        self.iter_list = employee_list\n",
    "        self.index = 0  # 需要维护内部变量，用来标识读取到的位置\n",
    "        \n",
    "#     def __iter__(self):\n",
    "#         print(\"我被调用了\")\n",
    "#         return self\n",
    "\n",
    "    def __next__(self):      # 是不会传递索引的   __next__能从任意位置读数据\n",
    "        #真正返回迭代值的逻辑\n",
    "        try:\n",
    "            word = self.iter_list[self.index]\n",
    "        except IndexError:  # 超出索引\n",
    "            raise StopIteration # 迭代器到结尾的时候要主动抛出StopIteration异常，该异常能够被for语句自动处理，不会再抛出     这里实际做的是 一个异常的转换\n",
    "        self.index += 1\n",
    "        return word\n",
    "\n",
    "if __name__ == \"__main__\":\n",
    "    print(issubclass(MyIterator, Iterator))\n",
    "    company = Company([\"tom\", \"bob\", \"jane\"])\n",
    "    # 方式一： 得到生成器对象\n",
    "#     my_itor = iter(company)\n",
    "#     while True:\n",
    "#         try:\n",
    "#             print (next(my_itor))\n",
    "#         except StopIteration:\n",
    "#             break\n",
    "    # 方式二：利用for训话自动找__iter__使用iter()包装\n",
    "    for item in company:\n",
    "        print(item)\n"
   ]
  },
  {
   "cell_type": "raw",
   "metadata": {},
   "source": [
    "实现了 __iter__为可迭代对象，__iter__必须返回一个迭代器对象 否则报错\n",
    "在一个类中同时实现了__next__ 和 __iter__的为迭代器  __next__返回数据  此时的 __iter__只要return self即可     \n",
    "迭代器的设计规范和设计模式要求我们这么做：\n",
    "自定义一个迭代器类，继承Iterator类，实现__next__魔法方法返回数据   或者  自定义类，实现__next__和__iter__，其中__iter__只要return self即可，因为此时同时实现了__next__和__iter__，本身就是迭代器了，所以只要返回自己的对象就行了 ---- 得到迭代器对象（Iterator）本身就是可迭代的对象（Iterable）\n",
    "然后在要使用该迭代器的类中添加 __iter__方法，返回使用迭代器类生成的迭代器对象  \n",
    "这时，这个类就是一个可迭代对象了（因为实现了__iter__魔法方法），\n",
    "然后将该可迭代对象赋值给iter()内置方法，（使用iter(iterable)会调用它的__iter__方法）就可以得到__iter__内部返回的迭代器对象\n",
    "\n",
    "迭代器对象可以调用next()--（使用next()会调用内部的__next__方法）或者直接调用自己的__next__() 得到内容\n",
    "\n",
    "重点：\n",
    "# 只有属性__iter__不行，是因为要通过__next__才能得到数据，所以iter(Iterable)一个可迭代对象，是为了调用__iter__返回的迭代器对象的__next__方法\n",
    "# 通过iter()可以调用设置了__iter__的类实例对象 得到一个生成器实例对象\n",
    "# 对于生成器实例对象可以使用next()调用其内部的__next__得到值，  所以next()操作的对象是生成器实例对象，也就是使用iter()调用实现了__iter__（要求返回一个生成器实例对象）方法的类的实例对象得到的内容 --- 一个生成器实例对象，"
   ]
  },
  {
   "cell_type": "code",
   "execution_count": null,
   "metadata": {},
   "outputs": [],
   "source": []
  },
  {
   "cell_type": "code",
   "execution_count": 11,
   "metadata": {},
   "outputs": [
    {
     "name": "stdout",
     "output_type": "stream",
     "text": [
      "<generator object gen_func at 0x0000029CAD0BDB10>\n",
      "------------------------------------------------------------------------------------------\n",
      "1\n",
      "2\n",
      "3\n"
     ]
    }
   ],
   "source": [
    "# 9-3 生成器函数的使用                      含有yield关键字的函数就是生成器\n",
    "\n",
    "#生成器函数，函数里只要有yield关键字\n",
    "def gen_func():\n",
    "    yield 1 \n",
    "    yield 2\n",
    "    yield 3\n",
    "\n",
    "# 调用生成器 返回的是生成器对象，是在Python编译字节码的时候就产生的\n",
    "gen = gen_func()\n",
    "print(gen)  # 得到的是一个生成器对象\n",
    "print(\"---\"*30)\n",
    "# 生成器对象实际上也是实现了迭代器协议（__iter__）的，所以直接for循环就能遍历值      \n",
    "for value in gen:\n",
    "    print(value)"
   ]
  },
  {
   "cell_type": "code",
   "execution_count": 10,
   "metadata": {},
   "outputs": [
    {
     "name": "stdout",
     "output_type": "stream",
     "text": [
      "55\n"
     ]
    }
   ],
   "source": [
    "#惰性求值， 延迟求值提供了可能\n",
    "\n",
    "# 斐波拉契数列\n",
    "# 斐波拉契 1 1 2 3 5 8 13 21 34 55\n",
    "# 递归：\n",
    "def fib(index):\n",
    "#     if index <= 2:\n",
    "#         return 1\n",
    "#     else:\n",
    "#         return fib(index-1) + fib(index-2)\n",
    "    return 1 if index <= 2 else fib(index-1) + fib(index-2)\n",
    "print(fib(10))"
   ]
  },
  {
   "cell_type": "code",
   "execution_count": 27,
   "metadata": {},
   "outputs": [
    {
     "name": "stdout",
     "output_type": "stream",
     "text": [
      "[1, 1, 2, 3, 5, 8, 13, 21, 34, 55]\n"
     ]
    }
   ],
   "source": [
    "# 缺点是 当数很多时，非常消耗内存\n",
    "def fib2(index):\n",
    "    re_list = []\n",
    "    n,a,b = 0,0,1\n",
    "    while n<index:\n",
    "        re_list.append(b)\n",
    "        a,b = b, a+b\n",
    "        n += 1\n",
    "    return re_list\n",
    "print(fib2(10))"
   ]
  },
  {
   "cell_type": "code",
   "execution_count": 34,
   "metadata": {},
   "outputs": [
    {
     "name": "stdout",
     "output_type": "stream",
     "text": [
      "1\n",
      "1\n",
      "2\n",
      "3\n",
      "5\n",
      "8\n",
      "13\n",
      "21\n",
      "34\n",
      "55\n"
     ]
    }
   ],
   "source": [
    "# 使用生成器   不消耗内存，不会增加内存，因为只有在计算的时候才会增加值\n",
    "def gen_fib(index):\n",
    "    n,a,b = 0,0,1\n",
    "    while n<index:\n",
    "        yield b\n",
    "        a,b = b, a+b\n",
    "        n += 1\n",
    "        \n",
    "for data in gen_fib(10):\n",
    "    print(data)\n",
    "# next(gen_fib(10))"
   ]
  },
  {
   "cell_type": "raw",
   "metadata": {},
   "source": []
  },
  {
   "cell_type": "code",
   "execution_count": null,
   "metadata": {},
   "outputs": [],
   "source": []
  },
  {
   "cell_type": "code",
   "execution_count": null,
   "metadata": {},
   "outputs": [],
   "source": [
    "# 9-4 python是如何实现生成器的\n",
    "\n",
    "生成器对象一旦产生 可以在任何地方对其进行调用，暂停\n",
    "生成器内部实现了对函数的暂停（内部有变量f_lasti记录函数运行到的位置（下次继续运行的时候，就知道从什么位置开始运行了），f_locals记录生成器返回的值） 而不是像普通函数那样一次性运行完，"
   ]
  },
  {
   "cell_type": "code",
   "execution_count": null,
   "metadata": {},
   "outputs": [],
   "source": []
  },
  {
   "cell_type": "code",
   "execution_count": 37,
   "metadata": {},
   "outputs": [
    {
     "name": "stdout",
     "output_type": "stream",
     "text": [
      "1\n",
      "2\n",
      "3\n"
     ]
    }
   ],
   "source": [
    "# 9-5 生成器在UserList中的应用\n",
    "\n",
    "a = [1, 2, 3]\n",
    "for i in a:\n",
    "    print(i)\n",
    "\n",
    "# 能够for进行遍历，这样实际是因为for循环的时候，执行 for iter() 去找类中是否有__iter__如果没有会退化到找 __getitem__方法    使用iter() 就是去执行类的__iter__方法"
   ]
  },
  {
   "cell_type": "raw",
   "metadata": {},
   "source": [
    "from collections import UserList\n",
    "UserList的用处：\n",
    "1 UserList中以Python的形式解释了list的实现原理\n",
    "2 可以让我们去继承list  ---  不建议想继承的之后直接继承list，因为list内部使用c语言写成的，做了很多优化，不允许我们去覆盖一些方法（一旦覆盖了这些方法，会造成问题），此时我们就可以通过继承UserList来同样实现list的功能（UserList中也是用了list，原生的c写成的list，所以UserList也就拥有了list的性能）"
   ]
  },
  {
   "cell_type": "code",
   "execution_count": null,
   "metadata": {},
   "outputs": [],
   "source": [
    "from collections import UserList\n",
    "# UuserList的父类的父类Sequence实现了__iter__方法\n",
    "    def __iter__(self):\n",
    "        i = 0\n",
    "        try:\n",
    "            while True:\n",
    "                v = self[i]\n",
    "                yield v\n",
    "                i += 1\n",
    "        except IndexError:\n",
    "            return\n",
    "# 从下面的检测总可以看出，一直调用多次"
   ]
  },
  {
   "cell_type": "code",
   "execution_count": 131,
   "metadata": {},
   "outputs": [
    {
     "name": "stdout",
     "output_type": "stream",
     "text": [
      "<generator object Sequence.__iter__ at 0x0000029CAD5CFB88>\n",
      "<generator object Sequence.__iter__ at 0x0000029CAD5CFB88>\n",
      "<generator object Sequence.__iter__ at 0x0000029CAD5CFB88>\n"
     ]
    },
    {
     "data": {
      "text/plain": [
       "1"
      ]
     },
     "execution_count": 131,
     "metadata": {},
     "output_type": "execute_result"
    }
   ],
   "source": [
    "from collections import UserList\n",
    "a = UserList([1,2,3,4])\n",
    "print(a.__iter__())   # 得到的是生成器对象   调用iter()这个方法，就是相当于执行了__iter__\n",
    "print(iter(a))\n",
    "print(iter(a))                                                                              # 多次调用统一个方法返回的对象应该是不同的，但是生成器是相同的，__iter__就是一个生成器，之前解释了原理，生成器是会记录本身位置以及值的\n",
    "b = a.__iter__()   #此处就是执行了一个生成器，得到b 是一个生成器对象\n",
    "next(b) # 或者是 b.__next__()"
   ]
  },
  {
   "cell_type": "code",
   "execution_count": 124,
   "metadata": {},
   "outputs": [
    {
     "name": "stdout",
     "output_type": "stream",
     "text": [
      "<list_iterator object at 0x0000029CAD580748>\n",
      "<list_iterator object at 0x0000029CAD580C18>\n",
      "<list_iterator object at 0x0000029CAD575128>\n",
      "<list_iterator object at 0x0000029CAD5803C8>\n",
      "<list_iterator object at 0x0000029CAD575128> <list_iterator object at 0x0000029CAD5803C8>\n",
      "12\n"
     ]
    }
   ],
   "source": [
    "b = [12,3,54]\n",
    "print(b.__iter__())   # 得到的是迭代器对象\n",
    "print(iter(b))      # 原本实现了__iter__方法的类实例，只要调用__iter__就能得到生成器对象，该对象就可以使用next() 或者 调用__next__()\n",
    "                    # 而可见，调用iter()这个方法，就是相当于执行了__iter__，list中会得到相应的生成器对象，从结果可知 都是list_iterator object 列表迭代器对象\n",
    "print(iter(b))\n",
    "print(iter(b))      # list每次调用得到的迭代器对象不是同一个 就应该是不同的，因为都是重新调用了__iter__，得到的是重新生成的的迭代器对象\n",
    "\n",
    "a = iter(b)\n",
    "c = iter(b)\n",
    "print(a,c)\n",
    "\n",
    "bb = b.__iter__()\n",
    "print(next(bb))  # 12\n"
   ]
  },
  {
   "cell_type": "code",
   "execution_count": 130,
   "metadata": {},
   "outputs": [
    {
     "name": "stdout",
     "output_type": "stream",
     "text": [
      "<__main__.a object at 0x0000029CAD54ECC0>\n",
      "<__main__.a object at 0x0000029CAD54EBE0>\n",
      "<__main__.a object at 0x0000029CAD575DD8>\n"
     ]
    }
   ],
   "source": [
    "class a():\n",
    "#     def __init__(self, a):\n",
    "#         self.a = a\n",
    "        \n",
    "    def aa(self):\n",
    "        a = B()\n",
    "        return a\n",
    "\n",
    "    \n",
    "class B():\n",
    "    pass\n",
    "\n",
    "\n",
    "print(a())\n",
    "print(a())\n",
    "# print(a())\n",
    "print(a())\n",
    "# print(a())\n",
    "# print(a())\n",
    "# aaa = a(1)\n",
    "# print(\"a的两次调用：\"+\"---\"*30)\n",
    "# print(aaa.aa())\n",
    "# print(aaa.aa())\n",
    "# bbb = a(1)\n",
    "# print(\"b的一次调用：\"+\"---\"*30)\n",
    "# print(bbb.aa())\n",
    "# print(\"---\"*30)\n",
    "# print(aaa)\n",
    "# print(bbb)                                                \n",
    "'''\n",
    "python 似乎会在一个对象生成的次数过多的时候，（且生成的对象都没有调用），会自动使用之前得到的对象\n",
    "'''"
   ]
  },
  {
   "cell_type": "markdown",
   "metadata": {},
   "source": [
    "1. <font color='red' size='3'>iter()方法就是调用对象的`__iter__`魔法函数，并将`__iter__`的返回值作为自己的返回值</font>  此外，UserList和list的`__iter__`不同，UserList是生成器原理，而list是迭代器原理\n",
    "2. 含有yield关键字的函数就是生成器，生成器实际上是特殊的一种迭代器，即完全可以想使用迭代器一样使用生成器\n"
   ]
  },
  {
   "cell_type": "code",
   "execution_count": 20,
   "metadata": {},
   "outputs": [
    {
     "name": "stdout",
     "output_type": "stream",
     "text": [
      "1\n",
      "2\n",
      "[1, 2, 3, 4, 5, 5]\n",
      "3\n",
      "4\n",
      "5\n",
      "5\n",
      "56\n"
     ]
    }
   ],
   "source": [
    "# 注意：当使用迭代器迭代一个可变对象的时候，对可变对象的操作会影响到迭代器的值， 因为序列的迭代器只是记录当前到达了序列的第几个元素，\n",
    "# 所以如果迭代的过程中改变了序列的元素，更新会立即反映到所迭代的条目上\n",
    "\n",
    "a = list([1,2,3,4,5])\n",
    "b = iter(a)\n",
    "print(next(b))\n",
    "print(next(b))\n",
    "a.append(5)\n",
    "print(a)\n",
    "print(next(b))\n",
    "print(next(b))\n",
    "print(next(b))\n",
    "print(next(b))\n",
    "a.append(56)\n",
    "print(next(b))"
   ]
  },
  {
   "cell_type": "code",
   "execution_count": null,
   "metadata": {},
   "outputs": [],
   "source": [
    "\n",
    "\n"
   ]
  },
  {
   "cell_type": "code",
   "execution_count": 24,
   "metadata": {},
   "outputs": [
    {
     "name": "stdout",
     "output_type": "stream",
     "text": [
      "Prior to beginning tutoring sessions\n",
      ", I ask new students to fill\n",
      " out a brief self-assessment\n",
      " where they rate their\n",
      " understanding of various Python concepts. Some topics (\"control flow with if/else\" or \"defining and using functions\") are understood by a majority of students before ever beginning tutoring. There are a handful of topics, however, that almost all\n",
      " students report having no knowledge or very limited understanding of. Of these\n",
      "\n"
     ]
    }
   ],
   "source": [
    "# 9-6 生成器如何读取大文件\n",
    "\n",
    "'''\n",
    "读取500G的文件，若文件是一行一行的时候，可以采用下面的方式\n",
    "f = open()\n",
    "方式一：\n",
    "for line in f:\n",
    "  line.read()\n",
    "方式二：\n",
    "f.readlines()\n",
    "若文件只有一行的时候，这样就不行了，占用内存\n",
    "\n",
    "\n",
    "read\n",
    "'''\n",
    "'''\n",
    "处理读取大文件，或者只有一行的文件的处理方法\n",
    "'''\n",
    "\n",
    "#500G, 特殊 一行\n",
    "def myreadlines(f, newline):     # 参数为句柄 和 分隔符\n",
    "    buf = \"\"  # 缓存\n",
    "    while True:\n",
    "        while newline in buf:   # 缓存中是否有分隔符newline   第一次读取的时候不成立    如果读取的4096数据过长，有多个分隔符，则在循环中都会处理完，使得缓存中没有分隔符\n",
    "            '''\n",
    "            while循环保证了缓存中不会存储超出读取的4096的两倍长，即每次在读4096个数据的时候，缓存中不会有超出去4096长的数据\n",
    "            如果使用\n",
    "            '''\n",
    "            pos = buf.index(newline)  # 找到分隔符的位置\n",
    "            yield buf[:pos]  # 将缓存中 分割符之前的数据返回\n",
    "            buf = buf[pos + len(newline):] # 更新缓存  去除返回的数据，将剩下的数据重新放到缓存中\n",
    "        chunk = f.read(4096)   # 读取4096长的字符  read内部会维护这个偏移量，不需要我们进行设置\n",
    "\n",
    "        if not chunk:   # 没有值的时候成立 即已经读取完整\n",
    "            '''\n",
    "            边界条件处理，即读不到数据了，就将缓存中剩余的内容全部返回（缓存中肯定没有分隔符，以及长度不大于4096）\n",
    "            用于处理结尾没有分割符而滞留在缓存中的数据\n",
    "            '''\n",
    "            #说明已经读到了文件结尾\n",
    "            yield buf   # 将最后剩余的内容返回\n",
    "            break       # 结束整个循环过程\n",
    "        buf += chunk  # 拼接进缓存\n",
    "\n",
    "with open(\"input.txt\") as f:\n",
    "    for line in myreadlines(f, \"{|}\"):\n",
    "        print (line)\n",
    "\n"
   ]
  },
  {
   "cell_type": "code",
   "execution_count": null,
   "metadata": {},
   "outputs": [],
   "source": []
  }
 ],
 "metadata": {
  "kernelspec": {
   "display_name": "Python 3",
   "language": "python",
   "name": "python3"
  },
  "language_info": {
   "codemirror_mode": {
    "name": "ipython",
    "version": 3
   },
   "file_extension": ".py",
   "mimetype": "text/x-python",
   "name": "python",
   "nbconvert_exporter": "python",
   "pygments_lexer": "ipython3",
   "version": "3.7.2"
  }
 },
 "nbformat": 4,
 "nbformat_minor": 2
}
