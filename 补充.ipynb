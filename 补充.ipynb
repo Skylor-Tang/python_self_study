{
 "cells": [
  {
   "cell_type": "code",
   "execution_count": null,
   "metadata": {},
   "outputs": [],
   "source": [
    "Python中一切皆对象，所以函数也是对象，使用 函数名.__dict__ 也可以查看函数的属性  和类的用法一样，都是为字典dict类型 {}\n",
    "可以使用 函数名.属性名 = 值 的方式调用为函数创建属性\n",
    "同样，也可以通过 函数名.属性名 的方式在函数內，或者在函数的外部对函数的属性进行设置\n",
    "\n",
    "注意：对于在函数内部使用 函数名.属性名 的方式创建时，由于函数名.属性名 必须要运行才能创建，即函数必须要先调用一次，在函数内部使用 函数名.属性名 定义的函数的属性才能生效\n",
    "\n",
    "'''\n",
    "函数的属性使用范围很小，一般不使用\n",
    "\n",
    "另外，类中的实例方法不能这样设置方法的属性\n",
    "'''"
   ]
  },
  {
   "cell_type": "code",
   "execution_count": 2,
   "metadata": {},
   "outputs": [
    {
     "data": {
      "text/plain": [
       "{}"
      ]
     },
     "execution_count": 2,
     "metadata": {},
     "output_type": "execute_result"
    }
   ],
   "source": [
    "def fun(a, b):\n",
    "    print(a, b)\n",
    "fun.__dict__"
   ]
  },
  {
   "cell_type": "code",
   "execution_count": 8,
   "metadata": {},
   "outputs": [
    {
     "name": "stdout",
     "output_type": "stream",
     "text": [
      "1 2\n"
     ]
    },
    {
     "data": {
      "text/plain": [
       "{'outter_attr': '在函数外部定义的属性名', 'inner_attr': '在函数内部定义的属性名'}"
      ]
     },
     "execution_count": 8,
     "metadata": {},
     "output_type": "execute_result"
    }
   ],
   "source": [
    "def fun(a, b):\n",
    "    fun.inner_attr = \"在函数内部定义的属性名\"\n",
    "    print(a, b)\n",
    "fun.outter_attr = \"在函数外部定义的属性名\"\n",
    "fun(1,2)\n",
    "fun.__dict__\n"
   ]
  },
  {
   "cell_type": "code",
   "execution_count": 5,
   "metadata": {},
   "outputs": [
    {
     "name": "stdout",
     "output_type": "stream",
     "text": [
      "1\n"
     ]
    }
   ],
   "source": [
    "def ackermann(i, j):\n",
    "    if i == 1 and j >= 1:\n",
    "        ackermann.value = j  # 没错，就是加了这一行\n",
    "        return 2 ** j\n",
    "    elif i >= 2 and j == 1:\n",
    "        return ackermann(i - 1, 2)\n",
    "    elif i >= 2 and j >= 2:\n",
    "        return ackermann(i - 1, ackermann(i, j - 1))\n",
    "ackermann(1,1)\n",
    "print(ackermann.value)"
   ]
  },
  {
   "cell_type": "markdown",
   "metadata": {},
   "source": [
    "===================================================================="
   ]
  },
  {
   "cell_type": "code",
   "execution_count": null,
   "metadata": {},
   "outputs": [],
   "source": [
    "几个装饰器"
   ]
  }
 ],
 "metadata": {
  "kernelspec": {
   "display_name": "Python 3",
   "language": "python",
   "name": "python3"
  },
  "language_info": {
   "codemirror_mode": {
    "name": "ipython",
    "version": 3
   },
   "file_extension": ".py",
   "mimetype": "text/x-python",
   "name": "python",
   "nbconvert_exporter": "python",
   "pygments_lexer": "ipython3",
   "version": "3.7.4"
  }
 },
 "nbformat": 4,
 "nbformat_minor": 4
}
