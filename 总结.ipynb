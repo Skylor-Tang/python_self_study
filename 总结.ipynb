{
 "cells": [
  {
   "cell_type": "code",
   "execution_count": null,
   "metadata": {},
   "outputs": [],
   "source": [
    "Python是一门基于协议的语言  利用鸭子类型     描述器协议是一个理解python内部机制的知识点，属性(property), 方法(bound和unbound method), 静态方法和类方法都是基于描述器协议的。  @语法糖是Python解释器解释的，类装饰器是基于__call__魔法函数的  "
   ]
  },
  {
   "cell_type": "code",
   "execution_count": null,
   "metadata": {},
   "outputs": [],
   "source": []
  },
  {
   "cell_type": "code",
   "execution_count": null,
   "metadata": {},
   "outputs": [],
   "source": []
  },
  {
   "cell_type": "code",
   "execution_count": null,
   "metadata": {},
   "outputs": [],
   "source": []
  },
  {
   "cell_type": "code",
   "execution_count": null,
   "metadata": {},
   "outputs": [],
   "source": []
  },
  {
   "cell_type": "code",
   "execution_count": null,
   "metadata": {},
   "outputs": [],
   "source": []
  },
  {
   "cell_type": "code",
   "execution_count": null,
   "metadata": {},
   "outputs": [],
   "source": [
    "Python是一门动态语言\n",
    "\n",
    "首先要理解什么是动态语言：通俗地说：能够在运行时修改自身程序结构的语言，就属于动态语言。那怎样才算是“运行时修改自身程序结构”呢？\n",
    "比如下面这几个例子都 算：在运行时给某个类增加成员函数及成员变量；在运行时改变某个类的父类；在运行时创建出某个函数.。\n",
    "Python是可以实现动态类的创建类（在任意代码位置，符合正确的书写格式），或者给类增加删除属性。\n",
    "因为类也是对象，你可以在运行时动态的创建它们，就像其他任何对象一样。首先，你可以在函数中创建类，使用class关键字即可。\n",
    "\n",
    "例子：\n",
    "\n",
    "def choose_class(name):\n",
    "    if name == 'foo':\n",
    "        class Foo(object):\n",
    "            pass\n",
    "        return Foo     # 返回的是类，不是类的实例\n",
    "    else:\n",
    "        class Bar(object):\n",
    "            pass\n",
    "        return Bar\n",
    "\n",
    "#如果你觉得还不够动态，因为你仍然需要自己编写整个类的代码。由于类也是对象，\n",
    "#所以它们必须是通过什么东西来生成的才对。当你使用class关键字时，Python解释器自动创建这\n",
    "#个对象。但就和Python中的大多数事情一样，Python仍然提供给你手动处理的方法。内建函数中有\n",
    "#一个名叫type的内建函数，这个内建函数古老但强大的函数， 它能够让你知道一个对象的类型是\n",
    "#什么，就像这样：\n",
    " \n",
    ">>> MyShinyClass = type('MyShinyClass', (), {})  # 返回一个类对象\n",
    ">>> print MyShinyClass<class '__main__.MyShinyClass'\n",
    ">>>> print MyShinyClass()  #  创建一个该类的实例\n",
    "<__main__.MyShinyClass object at 0x8997cec>另附type使用方法：\n",
    "#type(类名, 父类的元组（针对继承的情况，可以为空），包含属性的字典（名称和值）)"
   ]
  },
  {
   "cell_type": "code",
   "execution_count": 1,
   "metadata": {},
   "outputs": [
    {
     "ename": "NameError",
     "evalue": "name '异常' is not defined",
     "output_type": "error",
     "traceback": [
      "\u001b[1;31m---------------------------------------------------------------------------\u001b[0m",
      "\u001b[1;31mNameError\u001b[0m                                 Traceback (most recent call last)",
      "\u001b[1;32m<ipython-input-1-424290b6fcc7>\u001b[0m in \u001b[0;36m<module>\u001b[1;34m\u001b[0m\n\u001b[1;32m----> 1\u001b[1;33m \u001b[0m异常\u001b[0m\u001b[1;33m\u001b[0m\u001b[1;33m\u001b[0m\u001b[0m\n\u001b[0m",
      "\u001b[1;31mNameError\u001b[0m: name '异常' is not defined"
     ]
    }
   ],
   "source": [
    "异常  元类编程中要 __getattribute__内部异常怎么抛给__getattr__的"
   ]
  },
  {
   "cell_type": "code",
   "execution_count": null,
   "metadata": {},
   "outputs": [],
   "source": [
    "__getitem__ 用于获取 []  和 切片\n",
    "\n",
    "__get__ 描述符类\n",
    "\n",
    "__getattr__ 和  __getattribute__   获取属性 实例.属性"
   ]
  },
  {
   "cell_type": "code",
   "execution_count": null,
   "metadata": {},
   "outputs": [],
   "source": [
    "不同类的 __dict__中的值的包含"
   ]
  },
  {
   "cell_type": "code",
   "execution_count": null,
   "metadata": {},
   "outputs": [],
   "source": [
    "关于定制\n",
    "通过定义元类，可以定制化类的创建\n",
    "通过定义__new__ 。 可以定制化类实例的创建"
   ]
  },
  {
   "cell_type": "code",
   "execution_count": null,
   "metadata": {},
   "outputs": [],
   "source": []
  },
  {
   "cell_type": "code",
   "execution_count": null,
   "metadata": {},
   "outputs": [],
   "source": [
    "# 重写了一些重要内置的方法的时候（如__init__,__new__,__getattribute__），一定要继承父类的同类方法，因为这些方法关系到类功能的完整   \n",
    "# 此外 object的__init__没有参数，__new__因为是静态方法，除了cls也没有其他的参数，"
   ]
  },
  {
   "cell_type": "code",
   "execution_count": null,
   "metadata": {},
   "outputs": [],
   "source": []
  },
  {
   "cell_type": "code",
   "execution_count": 9,
   "metadata": {},
   "outputs": [
    {
     "name": "stdout",
     "output_type": "stream",
     "text": [
      "True\n"
     ]
    }
   ],
   "source": [
    "# python 通过是否实现了一些共有的魔法函数（即协议） 而判断某个类是否属于某种类   所以只要实现了相应的魔法函数，就会具有相应类型的一些特性\n",
    "\n",
    "class a:\n",
    "    def __iter__(self):\n",
    "        pass\n",
    "a = a()    \n",
    "print (isinstance(a, Iterable)) \n",
    "\n"
   ]
  },
  {
   "cell_type": "code",
   "execution_count": null,
   "metadata": {},
   "outputs": [],
   "source": []
  },
  {
   "cell_type": "code",
   "execution_count": 29,
   "metadata": {},
   "outputs": [
    {
     "name": "stdout",
     "output_type": "stream",
     "text": [
      "1\n",
      "------------------------------------------------------------\n",
      "(1, 2, 4)\n"
     ]
    },
    {
     "data": {
      "text/plain": [
       "[0, 1, 2, 3, 4]"
      ]
     },
     "execution_count": 29,
     "metadata": {},
     "output_type": "execute_result"
    }
   ],
   "source": [
    "# 使用* 解包\n",
    "def a(f,*args):\n",
    "    print(*args)   \n",
    "a(a,(1))\n",
    "print(\"--\"*30)\n",
    "\n",
    "a = (1,2,4)\n",
    "print(a)\n",
    "[*range(4),4]  # 利用 * 进行解包  https://blog.csdn.net/weixin_42635759/article/details/81990343"
   ]
  },
  {
   "cell_type": "code",
   "execution_count": null,
   "metadata": {},
   "outputs": [],
   "source": []
  },
  {
   "cell_type": "code",
   "execution_count": null,
   "metadata": {},
   "outputs": [],
   "source": [
    "结论：   https://www.cnblogs.com/clarenceyang/p/9681653.html\n",
    "`if x is not None`是最好的写法，清晰，不会出现错误，以后坚持使用这种写法。   \n",
    "使用if not x这种写法的前提是：必须清楚x等于None, False, 空字符串\"\", 0, 空列表[], 空字典{}, 空元组()时对你的判断没有影响才行。\n",
    "\n",
    " "
   ]
  }
 ],
 "metadata": {
  "kernelspec": {
   "display_name": "Python 3",
   "language": "python",
   "name": "python3"
  },
  "language_info": {
   "codemirror_mode": {
    "name": "ipython",
    "version": 3
   },
   "file_extension": ".py",
   "mimetype": "text/x-python",
   "name": "python",
   "nbconvert_exporter": "python",
   "pygments_lexer": "ipython3",
   "version": "3.7.2"
  }
 },
 "nbformat": 4,
 "nbformat_minor": 2
}
