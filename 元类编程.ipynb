{
 "cells": [
  {
   "cell_type": "markdown",
   "metadata": {},
   "source": [
    "#### 元类编程"
   ]
  },
  {
   "cell_type": "code",
   "execution_count": null,
   "metadata": {},
   "outputs": [],
   "source": [
    "# 8-1 property动态属性    Python内置的@property装饰器就是负责把一个方法变成属性调用的\n",
    "'''\n",
    "@property可以将python定义的函数“当做”属性访问，从而提供更加友好访问方式，但是有时候setter/deleter也是需要的。\n",
    "1》只有@property表示只读。\n",
    "2》同时有@property和@x.setter表示可读可写。\n",
    "3》同时有@property和@x.setter和@x.deleter表示可读可写可删除。\n",
    "@property 装饰器实现了对类属性的控制和保护 \n",
    "@property 装饰器兼顾了方便和控制，让实例的使用显得更加优雅，提高了可用性。另外，@property装饰器不设置setter时，就是一个只读属性，相当于对属性起到了保护作用  https://www.cnblogs.com/bitterz/p/10237602.html\n",
    "'''"
   ]
  },
  {
   "cell_type": "raw",
   "metadata": {},
   "source": [
    "__file__ 是python文件的属性，用于打印Python文件的地址"
   ]
  },
  {
   "cell_type": "code",
   "execution_count": 10,
   "metadata": {},
   "outputs": [
    {
     "name": "stdout",
     "output_type": "stream",
     "text": [
      "32\n"
     ]
    }
   ],
   "source": [
    "from datetime import date, datetime     # datetime库介绍   https://www.jianshu.com/p/82008ba6706e\n",
    "class User:\n",
    "    def __init__(self, name, birthday):\n",
    "        self.name = name\n",
    "        self.birthday = birthday\n",
    "        self._age = 0\n",
    "\n",
    "    def get_age(self):\n",
    "        return datetime.now().year - self.birthday.year\n",
    "\n",
    "if __name__ == \"__main__\":\n",
    "    user = User(\"bobby\", date(year=1987, month=1, day=1))\n",
    "    print(user.get_age())\n",
    "    \n"
   ]
  },
  {
   "cell_type": "code",
   "execution_count": 3,
   "metadata": {},
   "outputs": [
    {
     "name": "stdout",
     "output_type": "stream",
     "text": [
      "30\n",
      "32\n",
      "<class 'int'>\n"
     ]
    }
   ],
   "source": [
    "from datetime import date, datetime \n",
    "class User:\n",
    "    def __init__(self, name, birthday):\n",
    "        self.name = name\n",
    "        self.birthday = birthday\n",
    "        self._age = 0   # 加上单下划线，实际上只是一种编程规范，意思是说我们不想把这个属性暴露出去，只能通过类的方法进行调用，实际上在Python中，只有双下划线__才有此作用\n",
    "\n",
    "    '''\n",
    "    假设原本有一个age属性，我们可以使用user.age的方式调用，但是后来我们去除了该属性，\n",
    "    就不能使用user.age的方式了，此时我们可以定义一个叫age的方法，然后使用@property修饰，使该方法变成一个可以被调用的属性\n",
    "    '''\n",
    "    @property     # 相当于一个取的操作了 get     使用@property 使得一个函数可以当做属性进行调用   \n",
    "    def age(self):  \n",
    "        return datetime.now().year - self.birthday.year\n",
    "    #@property 装饰器兼顾了方便和控制，让实例的使用显得更加优雅，提高了可用性。另外，@property装饰器不设置setter时，就是一个只读属性，相当于对属性起到了保护作用\n",
    "    \n",
    "    @age.setter   # @property本身又创建了另一个装饰器@age.setter，负责把一个setter方法变成属性赋值，于是，我们就拥有一个可控的属性操作：\n",
    "    def age(self, value):\n",
    "        self._age = value\n",
    "    \n",
    "    def print_age(self):\n",
    "        print(self._age)\n",
    "        \n",
    "if __name__ == \"__main__\":\n",
    "    user = User(\"bobby\", date(year=1987, month=1, day=1))\n",
    "    user.age = 30  # 调用了 @age.setter 修饰的方法\n",
    "    user.print_age()\n",
    "    print(user.age)\n",
    "    \n",
    "    \n",
    "    print(type(user.age))  # 因为装饰器函数在被装饰函数定义好后立即执行，这里得到的就是返回值的类型 int 了"
   ]
  },
  {
   "cell_type": "code",
   "execution_count": null,
   "metadata": {},
   "outputs": [],
   "source": [
    "说明：\n",
    "\n",
    "1. @property相当于对age方法进行了一个装饰，它使得我们能通过 对象.方法名 来调用对应的属性\n",
    "\n",
    "2. @property所装饰的方法名与 对象. 调用的名称要保持一致\n",
    "\n",
    "3. @property会生成另外的装饰器，@方法名.setter, @方法名.getter, @方法名.deleter，分别对应set, get, del方法。这里get方法用得很少，因为已经通过@property直接对应到了get方法\n",
    "使用这些装饰器装饰的方法都是用的同样的名字 方法名\n",
    "\n",
    "@方法名.setter 修饰的方法由于需要接受一个被设置的参数值，所以需要有一个value参数，其余的方法都不需要参数\n",
    "使用property属性托管的功能用法的时候，方法的参数也是一样"
   ]
  },
  {
   "cell_type": "markdown",
   "metadata": {},
   "source": [
    "##### `property`使用说明       `property` 不适合大规模使用"
   ]
  },
  {
   "cell_type": "code",
   "execution_count": 92,
   "metadata": {},
   "outputs": [],
   "source": [
    "# property 的使用说明  典型的用法是托管属性            看一看描述器协议的内容，因为实际上 property托管属性的功能实现原理就是基于描述器协议的__get__方法（具体在描述器协议中看），而装饰器@property更是如此（这个可以参照1-4中的装饰器部分例二） \n",
    "class C(object): \n",
    "            def getx(self): return self._x\n",
    "            def setx(self, value): self._x = value\n",
    "            def delx(self): del self._x\n",
    "            x = property(getx, setx, delx, \"I'm the 'x' property.\")   \n",
    "            '''\n",
    "            该语法是利用描述器协议实现的，因为在property类中，实现了__get__(self, instance, type)、__set__(self, instance, value)、__delete__(self, instance)这三个方方，所以成了描述符\n",
    "            '''\n",
    "\n",
    "# @property说明 装饰器可以轻松定义新属性或修改原有属性\n",
    "class C(object):\n",
    "            @property\n",
    "            def x(self):\n",
    "                \"I am the 'x' property.\"\n",
    "                return self._x\n",
    "            @x.setter\n",
    "            def x(self, value):\n",
    "                self._x = value\n",
    "            @x.deleter\n",
    "            def x(self):\n",
    "                del self._x"
   ]
  },
  {
   "cell_type": "markdown",
   "metadata": {},
   "source": [
    "##### `property`之托管属性用法"
   ]
  },
  {
   "cell_type": "code",
   "execution_count": 22,
   "metadata": {},
   "outputs": [
    {
     "name": "stdout",
     "output_type": "stream",
     "text": [
      "1\n",
      "I'm the 'x' property.\n"
     ]
    }
   ],
   "source": [
    "# 托管属性 用法示例 1 \n",
    "class C(object):\n",
    "    def getx(self): return self._x\n",
    "    def setx(self, value): self._x = value\n",
    "    def delx(self): del self._x \n",
    "    x = property(getx, setx, delx, \"I'm the 'x' property.\")   # 声明一个property实例对象 \n",
    "\n",
    "c = C()  # 想使用被托管的属性，一定要创建一个类实例来调用\n",
    "c.x =1   # 此例中，一定要先动态创建一个变量才可以使用getx的语句，所以先用 c.x 调用setx创建一个变量         \n",
    "print(c.x) \n",
    "print(C.x.__doc__) # 大写的C\n",
    "#  property(self, fget=None, fset=None, fdel=None, doc=None) 中有第四个属性doc，是对当前property的说明，想打印该参数，必须使用类来调用property的实例对象x，因为此时x才是property实例对象，\n",
    "# 而使用类实例调用x的话就已经开始使用property的功能了，其次必须使用__doc__方能打印property的doc内容，因为property没有属性doc，是在doc接受到值的时候，动态修改property类的__doc__的内容（即文档说明）\n",
    "# 使用property.__doc__任然能查到文档内容，但是一般情况下我们使用类的实例对象调用__doc__也是能打印类的文档内容的，但是property做了处理，动态改变了其实例调用__doc__得到的说明文档内容\n",
    "\n",
    "# 解释： 通过 dir(类实例对象) 我们可以发现，类对象是可以调用类的__doc__方法的，该方法打印类的注释文档，所以使用类实例对象.__doc__打印的是类的文档，而我们这里print(C.x.__doc__)  本应该打印的是property的说明文档\n",
    "# 而这里实际是动态的改变的了打印的内容"
   ]
  },
  {
   "cell_type": "code",
   "execution_count": 8,
   "metadata": {},
   "outputs": [
    {
     "name": "stdout",
     "output_type": "stream",
     "text": [
      "10\n",
      "20\n",
      "实例对象的size属性被删除\n"
     ]
    }
   ],
   "source": [
    "# 托管属性 用法示例 2\n",
    "'''\n",
    "三个参数分别是，获取属性的方法，设置属性的方法和删除属性的方法\n",
    "作用是通过属性来设置属性\n",
    "使用的好处：对于类中有多个方法时候，之后要对这些方法进行大改的时候，可能会对之前已经调用的地方进行大量的修改，有了property()则只对使用者提供了x这一个接口，无论是用户使用，还是程序员修改都是方便的。\n",
    "'''\n",
    "class C(object):\n",
    "    def __init__(self, size=10):self.size = size \n",
    "    def getSize(self): return self.size\n",
    "    def setSize(self, value): self.size = value\n",
    "    def delSize(self): \n",
    "        del self.size \n",
    "        # 注意这里是删除实例对象的一个属性size，不是当前类的实例对象，是不是调用当前类定义的__del__魔法方法的\n",
    "        # 第一：与__del__无关，不会调用类的__del__魔法函数，只有删除  实例对象  的  引用   ，使其引用数为0才会调用__del__方法\n",
    "        # 其次：这里与什么引用数也无关，它删除的是一个  类属性  （删除的是类实例的属性，而不是一个实例类实例对象），相当于一个指针 说明看下面的 \n",
    "        print(\"实例对象的size属性被删除\")                 \n",
    "    x = property(getSize, setSize, delSize)   # 由property类的实现，这里的getSize,setSize，delSize三个函数名参数传递给了property类的__get__(self, instance, type)、__set__(self, instance, value)、__delete__(self, instance)三个方法\n",
    "\n",
    "c1 = C()\n",
    "print(c1.x)\n",
    "c1.x = 20\n",
    "print(c1.x)\n",
    "del c1.x\n",
    "# print(c1.x)  # AttributeError: 'C' object has no attribute 'size'\n",
    "\n",
    "\n"
   ]
  },
  {
   "cell_type": "code",
   "execution_count": 88,
   "metadata": {},
   "outputs": [
    {
     "name": "stdout",
     "output_type": "stream",
     "text": [
      "2309323515976\n",
      "2309323515976\n",
      "以上两次的 id 都一样，说明指向的是同一个对象\n",
      "2309323515976\n",
      "hello\n"
     ]
    }
   ],
   "source": [
    "#  关于垃圾回收问题 看第五章 # 7-3 del语句和垃圾回收\n",
    "\n",
    "'''\n",
    "  python 中的变量名有些类似于C++中的指针的概念.\n",
    "  python 中的赋值操作改变的并不是内存中变量的值, 而是变量名指向的变量.\n",
    "'''\n",
    "\n",
    "a = \"hello\"\n",
    "b = a       # b也是指向\"hello\"对象\n",
    "print(id(a))\n",
    "print(id(b))\n",
    "print(\"以上两次的 id 都一样，说明指向的是同一个对象\")\n",
    "print(id(\"hello\"))    # intern机制  https://www.cnblogs.com/greatfish/p/6045088.html\n",
    "'''\n",
    "此处使用 id('hello') 打印的时候，理论上应该是不同的地址，因为这里实际上是生成的新的对象（即使名字是一样的，与a = 'hello' 不是同一个'hello'对象），造成这样原因是因为Python处理字符串时的intern（字符串驻留）机制，\n",
    "会将已有的字符串即值同样的字符串对象仅仅会保存一份，放在一个字符串储蓄池中，是共用的\n",
    "'''\n",
    "del a\n",
    "print(b)    # 只是a指针被删除了,\"hello\"的引用数减少1，当没有为0，所以\"hello\"对象还在\n",
    "\n",
    "\n",
    "# 上边的例子指出, 当执行 \" a = 'hello' \" 时, python会在内存中分配一块空间, 把'hello'赋值给这块空间.\n",
    "# 然后, 将变量名 \"a\" 关联到'hello'分配的内存.\n",
    "# 当执行 \"b=a\" 时,同样将变量名 \"b\" 关联到'hello'分配的内存.'hello'有两份引用\n",
    "# 所以删除 a指针后，'hello'对象任然存在，调用b人得到'hello' ---- （这里我们不讨论intern（字符串驻留）机制导致的'hello'对象 有其他的引用）.  ---  对没有intern（字符串驻留）机制的其他类型，上面的理论完全有效， 如长整型 1111111111111111 "
   ]
  },
  {
   "cell_type": "markdown",
   "metadata": {},
   "source": [
    "##### `@property`装饰器使用说明"
   ]
  },
  {
   "cell_type": "code",
   "execution_count": 9,
   "metadata": {},
   "outputs": [
    {
     "name": "stdout",
     "output_type": "stream",
     "text": [
      "{}\n",
      "成绩： 90\n",
      "{'_score': 90}\n"
     ]
    },
    {
     "ename": "ValueError",
     "evalue": "成绩必须在 0 到 100 之间！",
     "output_type": "error",
     "traceback": [
      "\u001b[1;31m---------------------------------------------------------------------------\u001b[0m",
      "\u001b[1;31mValueError\u001b[0m                                Traceback (most recent call last)",
      "\u001b[1;32m<ipython-input-9-4a7ef090231a>\u001b[0m in \u001b[0;36m<module>\u001b[1;34m\u001b[0m\n\u001b[0;32m     29\u001b[0m \u001b[0mprint\u001b[0m\u001b[1;33m(\u001b[0m\u001b[0ms\u001b[0m\u001b[1;33m.\u001b[0m\u001b[0m__dict__\u001b[0m\u001b[1;33m)\u001b[0m\u001b[1;33m\u001b[0m\u001b[1;33m\u001b[0m\u001b[0m\n\u001b[0;32m     30\u001b[0m \u001b[1;33m\u001b[0m\u001b[0m\n\u001b[1;32m---> 31\u001b[1;33m \u001b[0ms\u001b[0m\u001b[1;33m.\u001b[0m\u001b[0mscore\u001b[0m \u001b[1;33m=\u001b[0m \u001b[1;33m-\u001b[0m\u001b[1;36m100\u001b[0m\u001b[1;33m\u001b[0m\u001b[1;33m\u001b[0m\u001b[0m\n\u001b[0m\u001b[0;32m     32\u001b[0m \u001b[0mprint\u001b[0m\u001b[1;33m(\u001b[0m\u001b[1;34m\"成绩：\"\u001b[0m\u001b[1;33m,\u001b[0m \u001b[0ms\u001b[0m\u001b[1;33m.\u001b[0m\u001b[0mscore\u001b[0m\u001b[1;33m)\u001b[0m\u001b[1;33m\u001b[0m\u001b[1;33m\u001b[0m\u001b[0m\n",
      "\u001b[1;32m<ipython-input-9-4a7ef090231a>\u001b[0m in \u001b[0;36mscore\u001b[1;34m(self, value)\u001b[0m\n\u001b[0;32m     18\u001b[0m             \u001b[1;32mraise\u001b[0m \u001b[0mValueError\u001b[0m\u001b[1;33m(\u001b[0m\u001b[1;34m\"成绩必须为整数\"\u001b[0m\u001b[1;33m)\u001b[0m\u001b[1;33m\u001b[0m\u001b[1;33m\u001b[0m\u001b[0m\n\u001b[0;32m     19\u001b[0m         \u001b[1;32mif\u001b[0m \u001b[0mvalue\u001b[0m \u001b[1;33m<\u001b[0m \u001b[1;36m0\u001b[0m \u001b[1;32mor\u001b[0m \u001b[0mvalue\u001b[0m \u001b[1;33m>\u001b[0m \u001b[1;36m100\u001b[0m\u001b[1;33m:\u001b[0m\u001b[1;33m\u001b[0m\u001b[1;33m\u001b[0m\u001b[0m\n\u001b[1;32m---> 20\u001b[1;33m             \u001b[1;32mraise\u001b[0m \u001b[0mValueError\u001b[0m\u001b[1;33m(\u001b[0m\u001b[1;34m\"成绩必须在 0 到 100 之间！\"\u001b[0m\u001b[1;33m)\u001b[0m\u001b[1;33m\u001b[0m\u001b[1;33m\u001b[0m\u001b[0m\n\u001b[0m\u001b[0;32m     21\u001b[0m         \u001b[0mself\u001b[0m\u001b[1;33m.\u001b[0m\u001b[0m_score\u001b[0m \u001b[1;33m=\u001b[0m \u001b[0mvalue\u001b[0m   \u001b[1;31m# 动态生成实例属性\u001b[0m\u001b[1;33m\u001b[0m\u001b[1;33m\u001b[0m\u001b[0m\n\u001b[0;32m     22\u001b[0m \u001b[1;33m\u001b[0m\u001b[0m\n",
      "\u001b[1;31mValueError\u001b[0m: 成绩必须在 0 到 100 之间！"
     ]
    }
   ],
   "source": [
    "# https://www.cnblogs.com/bitterz/p/10237602.html\n",
    "# https://www.cnblogs.com/Meanwey/p/9902668.html\n",
    "\n",
    "# 使用@property的好处是我们可以对我们的内置属性进行检测，限制  --  因为我们是通过函数去操作属性的\n",
    "# 注意 @property def score 和 @score.setter 是一套完整的 设置一个可读可写的变量 \n",
    "\n",
    "# 示例：在绑定属性时，如果我们直接把属性暴露出去，虽然写起来很简单，但是，没办法检查参数，导致可以把成绩随便改\n",
    "class Student(object):\n",
    "    \n",
    "    @property\n",
    "    def score(self):                \n",
    "        return self._score\n",
    "    # score( )方法在使用“@property”装饰器之后已经成为类中的普通属性了，会与原本的score属性冲突（即之后调用的score都是由@property产生的，原先类定义的score将无法调用），因此建议读者平时写代码时养成良好的习惯，在定义类属性时使用下划线作为前缀。\n",
    "    \n",
    "    @score.setter\n",
    "    def score(self, value):\n",
    "        if not isinstance(value, int):\n",
    "            raise ValueError(\"成绩必须为整数\")\n",
    "        if value < 0 or value > 100:\n",
    "            raise ValueError(\"成绩必须在 0 到 100 之间！\")\n",
    "        self._score = value   # 动态生成实例属性\n",
    "        \n",
    "s = Student()\n",
    "print(s.__dict__)\n",
    "\n",
    "s.score = 90   # 优先调用该方法，动态生成实例属性\n",
    "print(\"成绩：\", s.score)\n",
    "\n",
    "print(s.__dict__)  # 发现此时动态添加了_score实例属性，这是因为类实例的属性是可以在类的内部方法中动态添加的\n",
    "\n",
    "s.score = -100\n",
    "print(\"成绩：\", s.score)\n"
   ]
  },
  {
   "cell_type": "code",
   "execution_count": 58,
   "metadata": {},
   "outputs": [
    {
     "name": "stdout",
     "output_type": "stream",
     "text": [
      "{}\n",
      "{'a': 2}\n"
     ]
    },
    {
     "data": {
      "text/plain": [
       "2"
      ]
     },
     "execution_count": 58,
     "metadata": {},
     "output_type": "execute_result"
    }
   ],
   "source": [
    "class a:\n",
    "    def pp(self,value):\n",
    "        self.a =value\n",
    "    \n",
    "b = a()\n",
    "print(b.__dict__)\n",
    "b.pp(2)            # 实例属性是可以动态生成的\n",
    "print(b.__dict__)\n",
    "b.a"
   ]
  },
  {
   "cell_type": "code",
   "execution_count": 4,
   "metadata": {},
   "outputs": [
    {
     "name": "stdout",
     "output_type": "stream",
     "text": [
      "resolution = 786432\n",
      "测试通过!\n",
      "{'_width': 1024, '_height': 768}\n"
     ]
    }
   ],
   "source": [
    "# 请利用@property给一个Screen对象加上width和height属性，以及一个只读属性resolution：\n",
    "\n",
    "class Screen():\n",
    "    @property\n",
    "    def width(self):\n",
    "        return self._width\n",
    "\n",
    "    @width.setter\n",
    "    def width(self, value):\n",
    "        self._width = value\n",
    "\n",
    "    @property\n",
    "    def height(self):\n",
    "        return self._height\n",
    "\n",
    "    @height.setter\n",
    "    def height(self, value):\n",
    "        self._height = value\n",
    "  \n",
    "    @property\n",
    "    def resolution(self):\n",
    "        return self._height * self._width\n",
    "\n",
    "\n",
    "if __name__ == \"__main__\":\n",
    "    s = Screen()\n",
    "    s.width = 1024\n",
    "    s.height = 768\n",
    "    print('resolution =', s.resolution)\n",
    "    if s.resolution == 786432:\n",
    "        print('测试通过!')\n",
    "    else:\n",
    "        print('测试失败!')\n",
    "\n",
    "    print(s.__dict__)\n"
   ]
  },
  {
   "cell_type": "code",
   "execution_count": null,
   "metadata": {},
   "outputs": [],
   "source": [
    "\n",
    "\n"
   ]
  },
  {
   "cell_type": "code",
   "execution_count": null,
   "metadata": {},
   "outputs": [],
   "source": []
  },
  {
   "cell_type": "code",
   "execution_count": 95,
   "metadata": {},
   "outputs": [
    {
     "ename": "AttributeError",
     "evalue": "'User' object has no attribute 'test'",
     "output_type": "error",
     "traceback": [
      "\u001b[1;31m---------------------------------------------------------------------------\u001b[0m",
      "\u001b[1;31mAttributeError\u001b[0m                            Traceback (most recent call last)",
      "\u001b[1;32m<ipython-input-95-6d772dcf7e92>\u001b[0m in \u001b[0;36m<module>\u001b[1;34m\u001b[0m\n\u001b[0;32m      8\u001b[0m \u001b[1;32mif\u001b[0m \u001b[0m__name__\u001b[0m \u001b[1;33m==\u001b[0m \u001b[1;34m\"__main__\"\u001b[0m\u001b[1;33m:\u001b[0m\u001b[1;33m\u001b[0m\u001b[1;33m\u001b[0m\u001b[0m\n\u001b[0;32m      9\u001b[0m     \u001b[0muser\u001b[0m \u001b[1;33m=\u001b[0m \u001b[0mUser\u001b[0m\u001b[1;33m(\u001b[0m\u001b[0minfo\u001b[0m\u001b[1;33m=\u001b[0m\u001b[1;33m{\u001b[0m\u001b[1;34m\"company_name\"\u001b[0m\u001b[1;33m:\u001b[0m\u001b[1;34m\"imooc\"\u001b[0m\u001b[1;33m,\u001b[0m \u001b[1;34m\"name\"\u001b[0m\u001b[1;33m:\u001b[0m\u001b[1;34m\"bobby\"\u001b[0m\u001b[1;33m}\u001b[0m\u001b[1;33m)\u001b[0m\u001b[1;33m\u001b[0m\u001b[1;33m\u001b[0m\u001b[0m\n\u001b[1;32m---> 10\u001b[1;33m     \u001b[0mprint\u001b[0m\u001b[1;33m(\u001b[0m\u001b[0muser\u001b[0m\u001b[1;33m.\u001b[0m\u001b[0mtest\u001b[0m\u001b[1;33m)\u001b[0m\u001b[1;33m\u001b[0m\u001b[1;33m\u001b[0m\u001b[0m\n\u001b[0m",
      "\u001b[1;31mAttributeError\u001b[0m: 'User' object has no attribute 'test'"
     ]
    }
   ],
   "source": [
    "# 8-2 __getattr__、__getattribute__魔法函数    调用属性 和 方法的时候用到\n",
    "# __getattr__ 就是在查找不到属性的时候调用      \n",
    "from datetime import date\n",
    "class User:\n",
    "    def __init__(self,info={}):\n",
    "        self.info = info\n",
    "\n",
    "if __name__ == \"__main__\":\n",
    "    user = User(info={\"company_name\":\"imooc\", \"name\":\"bobby\"})\n",
    "    print(user.test)\n"
   ]
  },
  {
   "cell_type": "markdown",
   "metadata": {},
   "source": [
    "<font color='red' size='6'>注意：`__getattribute__ `和 `__getattr__` 都必须要有返回值  即要有return 语句  必须</font>"
   ]
  },
  {
   "cell_type": "code",
   "execution_count": 104,
   "metadata": {},
   "outputs": [
    {
     "name": "stdout",
     "output_type": "stream",
     "text": [
      "bobby\n"
     ]
    }
   ],
   "source": [
    "from datetime import date\n",
    "class User:\n",
    "    def __init__(self,info={}):\n",
    "        self.info = info\n",
    "\n",
    "    def __getattr__(self, item):    # 当查找的属性不存在的时候，就会调用__getattr__魔法函数 \n",
    "        return self.info[item]  \n",
    "\n",
    "if __name__ == \"__main__\":\n",
    "    user = User(info={\"company_name\":\"imooc\", \"name\":\"bobby\"})\n",
    "    print(user.name)   "
   ]
  },
  {
   "cell_type": "code",
   "execution_count": 113,
   "metadata": {},
   "outputs": [
    {
     "name": "stdout",
     "output_type": "stream",
     "text": [
      "getlength\n",
      "<class 'str'>\n"
     ]
    },
    {
     "data": {
      "text/plain": [
       "5"
      ]
     },
     "execution_count": 113,
     "metadata": {},
     "output_type": "execute_result"
    }
   ],
   "source": [
    "# __getattr__接收一个不存在的方法，此时__getattr__要求也要返回一个方法，且此方法还要求能够接受不存在的方法的参数，__getattribute__同理\n",
    "class Test(object):\n",
    "    def __getattr__(self, value):\n",
    "        print(value)\n",
    "        print(type(value))\n",
    "        return len                   # 可见，接受的是方法名，且return的方法一定要能接受不存在的方法的参数\n",
    "\n",
    "test = Test()\n",
    "test.getlength(\"dfsaf\")"
   ]
  },
  {
   "cell_type": "code",
   "execution_count": 114,
   "metadata": {},
   "outputs": [
    {
     "name": "stdout",
     "output_type": "stream",
     "text": [
      "ietian\n",
      "China\n",
      "China\n"
     ]
    }
   ],
   "source": [
    "# __getattribute__魔法函数，是当只要调用属性，或是调用方法都会调用该方法    \n",
    "'''\n",
    "实际上，__getattr__是在__getattribute__中被的调用的   \n",
    "没有必要的时候，尽量不要重写这个方法，因为一旦写不好就会使整个类的属性方法崩溃掉，---  所以在重写的时候，一般要在其内部继承父类的该方法\n",
    "一般在写框架的时候重写这个方法，用于控制整个类实例的过程以及类属性访问的过程\n",
    "\n",
    "观点一：可以看下面的131 因为类的实例方法是在类创建完的时候就创建完成的，而实际属性则是调用__new__(cls)创建实例对象，然后会调用__init__创建实例的属性，\n",
    "此时就要调用__setattr__(self, key, value)，在其中调用self.__dict__是就会使用到__getattribute__，此时如果对__getattribute__进行了重写了，且没有继承父类的__getattribute__，可能使整个类的属性方法崩溃掉\n",
    "无法创建__dict__，见下例子\n",
    " \n",
    "\n",
    "'''\n",
    "class Test(object):\n",
    "    def __init__(self, name):\n",
    "        self.name = name\n",
    "        \n",
    "    def __getattribute__(self, value):\n",
    "        if value == 'address':\n",
    "            return \"China\"\n",
    "        return super().__getattribute__(value)  # 实现定制化，继承父类，一般值可以正常返回\n",
    "    \n",
    "if __name__ == \"__main__\":\n",
    "    test = Test(\"ietian\")\n",
    "    print(test.name)\n",
    "    print(test.address)\n",
    "    test.address = \"Anhui\"   # 这里动态给当前实例对象创建了属性address，依然被过滤了 \n",
    "    print(test.address)\n",
    "    "
   ]
  },
  {
   "cell_type": "code",
   "execution_count": 32,
   "metadata": {},
   "outputs": [
    {
     "name": "stdout",
     "output_type": "stream",
     "text": [
      "called\n"
     ]
    }
   ],
   "source": [
    "class Test(object):\n",
    "    def __init__(self, name):\n",
    "        self.name = name\n",
    "        \n",
    "    def __getattribute__(self, value):\n",
    "        print(\"called\")\n",
    "        return super().__getattribute__(value)  # 实现定制化，继承父类，一般值可以正常返回\n",
    "    \n",
    "    def __setattr__(self,key ,value): \n",
    "        '''\n",
    "        因为self.__dict__是调用了实例属性，所以会调用了__getattribute__方法    但是没有重写__setattr__的时候，没有调用__getattribute__方法      \n",
    "        \n",
    "        问题： 那么没有重写__setattr__时候，类实例__dict__属性从哪里来呢??而__setattr__又是怎样进行初始化的呢？？？？\n",
    "        \n",
    "        猜测是从基类object出继承过来的，因为object在定义的时候，创建了类属性 __dict__\n",
    "        '''\n",
    "        self.__dict__[key] = value   \n",
    "                                    \n",
    "    \n",
    "if __name__ == \"__main__\":\n",
    "    test = Test(\"ietian\")\n",
    "\n",
    "\n",
    "    "
   ]
  },
  {
   "cell_type": "markdown",
   "metadata": {},
   "source": [
    "<font color = \"red\" size = 6> 一般的，除非是自己定义一个框架，否则是不会重写`__getattribute__(self, itme)`的（重写的时候为了保证实例属性的正常创建，一般还要继承父类的同类方法），但是会重写`__getattr__(self, item)`(当要调用的实例方法或者属性不存在的时候，会调用这个方法)，一般也不会重写`__setattr__(self, key, value)`方法，因为`__init__`时候会调用此方法，对`__setattr__`的修改也会影响到实例属性的初始化 </font></br>\n",
    "</br>\n",
    "<font color = \"red\" size = 6>另外要注意的一点就是：在`__setattr__`中创建实例属性的时候，是一定要通过`self.__dict__`调用内置的`__dict__`实例属性字典的形式去进行赋值，而不能使用`self.key = value`的形式去使用，因为因为__setattr__ </font>"
   ]
  },
  {
   "cell_type": "code",
   "execution_count": 208,
   "metadata": {},
   "outputs": [
    {
     "name": "stdout",
     "output_type": "stream",
     "text": [
      "TEST\n",
      "'AboutAttr' object has no attribute 'not_exised'\n"
     ]
    },
    {
     "data": {
      "text/plain": [
       "AttributeError(\"'AboutAttr' object has no attribute 'name11'\")"
      ]
     },
     "execution_count": 208,
     "metadata": {},
     "output_type": "execute_result"
    }
   ],
   "source": [
    "# __getattr__ 和 __getattribute__ 关系\n",
    "class AboutAttr(object):\n",
    "    def __init__(self, name):\n",
    "        self.name = name\n",
    "        \n",
    "    def __getattribute__(self, value):\n",
    "        try:\n",
    "            return super().__getattribute__(value)\n",
    "        except AttributeError as ex:\n",
    "            return ex\n",
    "            \n",
    "    def __getattr__(self, value):\n",
    "        '''此处的__getattr__不会被调用，因为AttributeError异常已经在__getattribute__中被捕获了'''\n",
    "        return 'default'\n",
    "    \n",
    "at = AboutAttr(\"TEST\")\n",
    "print(at.name)\n",
    "print(at.not_exised)  \n",
    "getattr(at, 'name11')   #  该方法当属性存在的时候，返回属性值，不存在的时候返回异常  该方法实现的原理是调用当前对象__getattribuete__魔法函数        "
   ]
  },
  {
   "cell_type": "raw",
   "metadata": {},
   "source": [
    "实际上，当调用实例属性或者实例方法的时候会调用__getattribute__进行处理，当出现AttributeError异常的时候，就会调用__getattr__进行处理，所以如果在__getattribute__中将AttributeError异常进行捕获了，那么就不会再调用__getattr__了。\n",
    "\n",
    "还有一点是：__getattr__是在__getattribute__中调用的，当__getattribute__检测到属性或方法不存在的时候会抛出AttributeError 没错，即使方法不存在也是该错误，此时将捕获该异常传给内部的__getattr__方法并由__getattr__抛出，\n",
    "所以一旦异常被处理了，没有异常出来（自己自定义实现方法的时候），__getattr__也就不会被调用了\n",
    "上例中，正常时使用父类的__getattribute__方法接受了，当有异常的时候，应该被__getattribute__传给__getattr__的，但是抛出了，所以def __getattr__(self, value) 就没有作用。"
   ]
  },
  {
   "cell_type": "code",
   "execution_count": 147,
   "metadata": {},
   "outputs": [
    {
     "name": "stdout",
     "output_type": "stream",
     "text": [
      "{'a': 1}\n",
      "{'__module__': '__main__', '__init__': <function test.__init__ at 0x00000219AE8F89D8>, 'fun': <function test.fun at 0x00000219ADD8C488>, '__dict__': <attribute '__dict__' of 'test' objects>, '__weakref__': <attribute '__weakref__' of 'test' objects>, '__doc__': None}\n"
     ]
    }
   ],
   "source": [
    "# __setattr__参见 doc文档说明  \n",
    "# __setattr__调用的是当前实例的__dict__内置属性，返回值是一个字典类型，用于打印当前对象所含的属性（只有属性，没有实例的方法，实例的方法在类的__dict__中）  __init__创建实例属性的时候也是调用的__setattr__方法\n",
    "class test():\n",
    "    def __init__(self, a):\n",
    "        self.a = a\n",
    "    \n",
    "    def fun(self):\n",
    "        pass\n",
    "aa = test(1) \n",
    "print(aa.__dict__)       # 只有属性，没有实例的方法，实例的方法在类的__dict__中\n",
    "print(test.__dict__)"
   ]
  },
  {
   "cell_type": "code",
   "execution_count": 25,
   "metadata": {},
   "outputs": [
    {
     "name": "stdout",
     "output_type": "stream",
     "text": [
      "called\n"
     ]
    },
    {
     "ename": "AttributeError",
     "evalue": "'F' object has no attribute 'name'",
     "output_type": "error",
     "traceback": [
      "\u001b[1;31m---------------------------------------------------------------------------\u001b[0m",
      "\u001b[1;31mAttributeError\u001b[0m                            Traceback (most recent call last)",
      "\u001b[1;32m<ipython-input-25-0421c40a75f2>\u001b[0m in \u001b[0;36m<module>\u001b[1;34m\u001b[0m\n\u001b[0;32m     27\u001b[0m \u001b[1;33m\u001b[0m\u001b[0m\n\u001b[0;32m     28\u001b[0m \u001b[0mf\u001b[0m \u001b[1;33m=\u001b[0m \u001b[0mF\u001b[0m\u001b[1;33m(\u001b[0m\u001b[1;34m\"tmj\"\u001b[0m\u001b[1;33m)\u001b[0m\u001b[1;33m\u001b[0m\u001b[1;33m\u001b[0m\u001b[0m\n\u001b[1;32m---> 29\u001b[1;33m \u001b[0mprint\u001b[0m\u001b[1;33m(\u001b[0m\u001b[0mf\u001b[0m\u001b[1;33m.\u001b[0m\u001b[0mname\u001b[0m\u001b[1;33m)\u001b[0m\u001b[1;33m\u001b[0m\u001b[1;33m\u001b[0m\u001b[0m\n\u001b[0m\u001b[0;32m     30\u001b[0m \u001b[0mf\u001b[0m\u001b[1;33m.\u001b[0m\u001b[0mage\u001b[0m \u001b[1;33m=\u001b[0m \u001b[1;36m12\u001b[0m\u001b[1;33m\u001b[0m\u001b[1;33m\u001b[0m\u001b[0m\n\u001b[0;32m     31\u001b[0m \u001b[0mprint\u001b[0m\u001b[1;33m(\u001b[0m\u001b[0mf\u001b[0m\u001b[1;33m.\u001b[0m\u001b[0mage\u001b[0m\u001b[1;33m)\u001b[0m\u001b[1;33m\u001b[0m\u001b[1;33m\u001b[0m\u001b[0m\n",
      "\u001b[1;32m<ipython-input-25-0421c40a75f2>\u001b[0m in \u001b[0;36m__getattribute__\u001b[1;34m(self, item)\u001b[0m\n\u001b[0;32m      9\u001b[0m     \u001b[1;32mdef\u001b[0m \u001b[0m__getattribute__\u001b[0m\u001b[1;33m(\u001b[0m\u001b[0mself\u001b[0m\u001b[1;33m,\u001b[0m \u001b[0mitem\u001b[0m\u001b[1;33m)\u001b[0m\u001b[1;33m:\u001b[0m\u001b[1;33m\u001b[0m\u001b[1;33m\u001b[0m\u001b[0m\n\u001b[0;32m     10\u001b[0m         \u001b[0mprint\u001b[0m\u001b[1;33m(\u001b[0m\u001b[1;34m\"called\"\u001b[0m\u001b[1;33m)\u001b[0m\u001b[1;33m\u001b[0m\u001b[1;33m\u001b[0m\u001b[0m\n\u001b[1;32m---> 11\u001b[1;33m         \u001b[1;32mreturn\u001b[0m \u001b[0msuper\u001b[0m\u001b[1;33m(\u001b[0m\u001b[1;33m)\u001b[0m\u001b[1;33m.\u001b[0m\u001b[0m__getattribute__\u001b[0m\u001b[1;33m(\u001b[0m\u001b[0mitem\u001b[0m\u001b[1;33m)\u001b[0m\u001b[1;33m\u001b[0m\u001b[1;33m\u001b[0m\u001b[0m\n\u001b[0m\u001b[0;32m     12\u001b[0m \u001b[1;33m\u001b[0m\u001b[0m\n\u001b[0;32m     13\u001b[0m     \u001b[1;32mdef\u001b[0m \u001b[0m__setattr__\u001b[0m\u001b[1;33m(\u001b[0m\u001b[0mself\u001b[0m\u001b[1;33m,\u001b[0m \u001b[0mkey\u001b[0m\u001b[1;33m,\u001b[0m \u001b[0mvalue\u001b[0m\u001b[1;33m)\u001b[0m\u001b[1;33m:\u001b[0m\u001b[1;33m\u001b[0m\u001b[1;33m\u001b[0m\u001b[0m\n",
      "\u001b[1;31mAttributeError\u001b[0m: 'F' object has no attribute 'name'"
     ]
    }
   ],
   "source": [
    "'''\n",
    "__setattr__(self, key, value)直接和存放实例属性的字典 __dict__联系，无论是初始化调用__init__()，还是在类中动态为实例添加属性，都会调用该魔法方法，\n",
    "所以最好不要重写该方法，因为也会影响到__init__()中的初始化\n",
    "'''\n",
    "class F():\n",
    "    def __init__(self, name):\n",
    "        self.name = name\n",
    "        \n",
    "    def __getattribute__(self, item):\n",
    "        print(\"called\")\n",
    "        return super().__getattribute__(item)\n",
    "        \n",
    "    def __setattr__(self, key, value):\n",
    "        '''\n",
    "        两点:\n",
    "        第一点： 在使用super().__setattr__(key, value)的方式的时候，会使用用Python中原始的方式通过__setattr__为实例创建属性\n",
    "        第二点： 因为第一点的原因，所以在想对实例属性定制化的时候，要将定制化的变化写在super().__setattr__(key, value)之前，这样再通过原生类的__setter__进行实例化属性的创建\n",
    "        第三点： 使用原生类的__setattr__(key, value)并不会调用__dict__属性，因为__dict__也是属性，如果调用的话会触发__getattribute__方法，但是此处可以发现并没有调用__getattribute__\n",
    "        第四点： 在__setattr__中对实例属性创建，一定要使用self.__dict__的方式，而不能self.k = value的字典赋值方式，否则会报最大递归错误\n",
    "        第五点也是最重要的一点: 因为在执行初始化方法__init__()的时候，也是调用的__setattr__进行初始化的，如果对__setattr__做了修改，也会影响到__init__的初始化\n",
    "        '''\n",
    "        key = key + \"_haha\"\n",
    "        super().__setattr__(key, value)  # 这是比较推荐的实例属性\n",
    "        \n",
    "#         print(key)\n",
    "#         self.__dict__[key] = value\n",
    "        \n",
    "f = F(\"tmj\")\n",
    "print(f.name)\n",
    "f.age = 12\n",
    "print(f.age)\n",
    "print(f.__dict__)\n",
    "# 可以看到 无法调用name，提示当且类没有name属性，是因为初始化时__init__中也是调用的__setattr__将实例属性存储到__dict__中（python中，只要动态修改__dict__中的内筒，实际也就是修改的实例的属性，但只对当前实例有效，因为不同的实例不共享），\n",
    "# 这里自定义的__setattr__中，对属性名就行了修改添加了_haha"
   ]
  },
  {
   "cell_type": "code",
   "execution_count": 26,
   "metadata": {},
   "outputs": [
    {
     "name": "stdout",
     "output_type": "stream",
     "text": [
      "called\n",
      "tmj\n"
     ]
    }
   ],
   "source": [
    "f = F(\"tmj\")\n",
    "print(f.name_haha) # 此时就可以调用了  所以一般不需要使用__setattr__方法"
   ]
  },
  {
   "cell_type": "markdown",
   "metadata": {},
   "source": [
    "####  手动实现自定几个 实例属性 不能`被修改和创建`。见下例子。"
   ]
  },
  {
   "cell_type": "code",
   "execution_count": 28,
   "metadata": {},
   "outputs": [
    {
     "name": "stdout",
     "output_type": "stream",
     "text": [
      "我在初始化的时候调用了\n",
      "我在初始化的时候调用了\n",
      "------------------------------------------------------------\n",
      "我在初始化的时候调用了\n",
      "该属性是私有属性，不能被创建或修改\n",
      "------------------------------------------------------------\n",
      "None\n",
      "------------------------------------------------------------\n"
     ]
    }
   ],
   "source": [
    "# 手动实现自定几个实例属性不能被修改和创建。见下例子。\n",
    "class F(object):  \n",
    "    '''\n",
    "    设置私有属性类的基类\n",
    "    '''\n",
    "    # 记录访问的次数，除去初始化的第一次\n",
    "    access_count = 0\n",
    "    def __setattr__(self, key, value):\n",
    "        print(\"我在初始化的时候调用了\")        \n",
    "        try:\n",
    "            if F.access_count <= 1:\n",
    "                self.__dict__[key] = value\n",
    "                F.access_count += 1\n",
    "            elif key in self.privs: # 这里使用self调用privs，是因为实例对象可以使用类属性   \n",
    "                # 之所以不会因为调用了当前类没有的privs类属性而报错，是因为__setattr__只有在__init__初始化（还必须有属性并进行赋值才调用__setattr__，\n",
    "                # 因为初始化就是往__dict__字典中添值，添值才会调用__setattr__）和使用self.属性 = value 设置属性值的时候才会调用，当前类只数创建了\n",
    "                raise AttributeError(\"该属性是私有属性，不能被创建或修改\")\n",
    "            else:\n",
    "                self.__dict__[key] = value      # 这里保证了，即使创建的数量超过设置的2，只要不是privs中规定的私有属性，就可以创建    前面之所以设置2，是为了逻辑上当只有2个私有属性的时候能减少逻辑判断\n",
    "        except AttributeError as ex:\n",
    "            print(ex)\n",
    "\n",
    "    \n",
    "    # __getattribute__方法一般不需要重写\n",
    "    def __getattribute__(self, item):\n",
    "        return super().__getattribute__(item)   # __getattribute__必须有返回值，所以这里是必须是return 父类__getattribute__ 保证正常额功能，__getattribute__还关系到内置舒心__dict__ 见下例\n",
    "        \n",
    "    \n",
    "    \n",
    "    def __getattr__(self, item):\n",
    "        str = '此属性无法创建，则无法读取'\n",
    "        if item in self.privs:\n",
    "            return str\n",
    "\n",
    "\n",
    "\n",
    "class f(F):\n",
    "      \n",
    "    privs = ['name','age']\n",
    "\n",
    "    def __init__(self):\n",
    "        self.name = 'tom'\n",
    "        self.age = '12'\n",
    "\n",
    "f1 = f()                            ##  这里初始化的时候有两个属性，所以\"我在初始化的时候调用了\"打印了两次  __init__的时候是调用__setattr__执行的\n",
    "f1.__dict__\n",
    "print(\"-\"*60)\n",
    "f1.name = 'xiaoming'\n",
    "print(\"-\"*60)\n",
    "print(f1.name1)\n",
    "print(\"-\"*60)"
   ]
  },
  {
   "cell_type": "code",
   "execution_count": null,
   "metadata": {},
   "outputs": [],
   "source": [
    "类的实例属性，是在创建实例化对象的时候才会初始化\n",
    "类的实例方法，则是在类定义完时就初始化的了"
   ]
  },
  {
   "cell_type": "code",
   "execution_count": 24,
   "metadata": {},
   "outputs": [
    {
     "name": "stdout",
     "output_type": "stream",
     "text": [
      "dd\n",
      "{'__module__': '__main__', '__getattribute__': <function CC.__getattribute__ at 0x000001CD0FDB1B70>, '__dict__': <attribute '__dict__' of 'CC' objects>, '__weakref__': <attribute '__weakref__' of 'CC' objects>, '__doc__': None}\n"
     ]
    }
   ],
   "source": [
    "class CC(object):\n",
    "    def __getattribute__(self, item):\n",
    "        return \"dd\"\n",
    "    \n",
    "c = CC()\n",
    "print(c.__dict__)\n",
    "print(CC.__dict__)"
   ]
  },
  {
   "cell_type": "code",
   "execution_count": 25,
   "metadata": {},
   "outputs": [
    {
     "name": "stdout",
     "output_type": "stream",
     "text": [
      "{}\n",
      "{'__module__': '__main__', '__getattribute__': <function CC.__getattribute__ at 0x000001CD0FDB1B70>, '__dict__': <attribute '__dict__' of 'CC' objects>, '__weakref__': <attribute '__weakref__' of 'CC' objects>, '__doc__': None}\n"
     ]
    }
   ],
   "source": [
    "class c(object):\n",
    "    def __getattribute__(self, item):\n",
    "#         return \"dd\"\n",
    "        return super().__getattribute__(item)\n",
    "    \n",
    "c = c()\n",
    "print(c.__dict__)\n",
    "print(CC.__dict__)"
   ]
  },
  {
   "cell_type": "code",
   "execution_count": null,
   "metadata": {},
   "outputs": [],
   "source": [
    "1） 内置的数据类型没有__dict__属性\n",
    "\n",
    "2） 每个类有自己的__dict__属性，就算存着继承关系，父类的__dict__ 并不会影响子类的__dict__\n",
    "\n",
    "3） 对象也有自己的__dict__属性， 存储self.xxx 信息，父子类对象共用__dict__"
   ]
  },
  {
   "cell_type": "code",
   "execution_count": null,
   "metadata": {},
   "outputs": [],
   "source": [
    "\n",
    "\n",
    "\n"
   ]
  },
  {
   "cell_type": "code",
   "execution_count": 16,
   "metadata": {},
   "outputs": [
    {
     "name": "stdout",
     "output_type": "stream",
     "text": [
      "<__main__.IntField object at 0x00000129E4C34668>\n",
      "<__main__.IntField object at 0x00000129E4C34668> <__main__.User object at 0x00000129E4C34710> <class '__main__.User'>\n",
      "<__main__.IntField object at 0x00000129E4C34668> <__main__.User object at 0x00000129E4C34710> 1\n",
      "<__main__.User object at 0x00000129E4C34710>\n",
      "<class '__main__.User'>\n"
     ]
    }
   ],
   "source": [
    "# 8-3 属性描述符和属性查找过程      看描述器协议\n",
    "\n",
    "'''\n",
    "描述符类三个参数分别是  self 描述类的实例对象  instance为使用描述类的类的实例对象， 使用描述类的类对象\n",
    "\n",
    "以上方法的参数一个不能少，可以使用其他变量名代替，但是个数不能少，返回值的位置固定，建议就用这几个变量做参数\n",
    "\n",
    "注意：描述符类本身的实例对象进行属性操作并不会触发三个方法的执行代码。    \n",
    "\n",
    "一个类实现了任意一个方法都可以称为属性描述符：\n",
    "如果实现了__get__和__set__方法，称为数据描述符\n",
    "如果只实现了__get__方法，称为非数据属性描述符\n",
    "'''\n",
    "class IntField:\n",
    "    def __get__(self, instance, owner):\n",
    "        print(self, instance, owner)\n",
    "    def __set__(self, instance, value):\n",
    "        print(self, instance, value)\n",
    "    def __delete__(self, instance):\n",
    "        print(self, instance)\n",
    "        \n",
    "class User:\n",
    "    x = IntField()\n",
    "    print(x)\n",
    "    \n",
    "u = User()       \n",
    "u.x  \n",
    "u.x = 1\n",
    "print(u)\n",
    "print(User)"
   ]
  },
  {
   "cell_type": "code",
   "execution_count": 35,
   "metadata": {},
   "outputs": [
    {
     "name": "stdout",
     "output_type": "stream",
     "text": [
      "2\n",
      "{'age': 2}\n"
     ]
    }
   ],
   "source": [
    "from datetime import date, datetime\n",
    "import numbers\n",
    "class IntField:\n",
    "    #数据描述符\n",
    "    def __get__(self, instance, owner):\n",
    "        return self.value\n",
    "    def __set__(self, instance, value):\n",
    "        if not isinstance(value, numbers.Integral):\n",
    "            raise ValueError(\"int value need\")\n",
    "        if value < 0:\n",
    "            raise ValueError(\"positive value need\")\n",
    "        self.value = value   # 这里将数据存到描述符类实例对象的属性中 动态创建了一个属性\n",
    "        # 也可以使用 self.__dict__['value'] = value\n",
    "        \n",
    "    def __delete__(self, instance):\n",
    "        pass\n",
    "    \n",
    "class NonDataIntField:\n",
    "    #非数据属性描述符\n",
    "    def __get__(self, instance, owner):\n",
    "        print(\"called\")\n",
    "        return self.value\n",
    "    \n",
    "class User:\n",
    "#     age = IntField()   # 描述符类必须被定义为指派类的类属性，而不能在构造方法中。\n",
    "    age = NonDataIntField()\n",
    "    \n",
    "if __name__ == \"__main__\":\n",
    "    user = User()\n",
    "    user.age = 2      #  可以发现此时虽然age是描述符类（是非数据描述符，所以当先使用 user.age = 2 这样的赋值语句的时候，就没有经过非数据描述符（因为没有__set__），此时age 就变成了User的实例对象的属性了，相当于动态添加，之后调用就__dict__[‘age’]）\n",
    "    print(user.age)  # 此时调用的是User类调用 user.age = 2  时动态创建的属性age， 并没有调用 非数据描述符的 __get__\n",
    "    print(user.__dict__)\n",
    "\n",
    "# 说到底数据描述符类和非数据属性描述符类的区别在: 非数据描述符由于没有__set__，所以一旦当    user.age = 2   先出现，则非数据描述符类就不会被调用了，因为此时age这个非数据描述符类的实例对象已经变成了 指派类的实例对象属性了（相当于动态添加了）\n",
    "# 因为下面的（2） 优先级高于 （3.1）"
   ]
  },
  {
   "cell_type": "code",
   "execution_count": null,
   "metadata": {},
   "outputs": [],
   "source": [
    "属性的查找过程： 首先查找是否是类属性，然后在看是否是实例属性\n",
    "而因为属性描述符类就是在User类中创建一个该属性描述符类的实例对象作为当前类的类属性\n",
    "\n",
    "虽然__getattribute__和 __setattr__都只负责实例对象，但是当类属性被以  实例对象.类属性  的方式进行调用（因为类属性也可以被实例对象调用，但是如果进行修改的话，实际上是创建了一个实例属性）\n",
    "但是在 实例对象.类属性 进行调用的时候，因为是以实例对象进行操作的，所以此时也会调用__getattribute__方法， 只限描述符的__get__，调用__get__的时候，会先经过__getattribute__\n",
    "\n",
    "另外，当实例属性和类属性重名的时候，调用的是实例的属性  --  所以即使有描述符类，也不起作用，但是若此时类属性是数据描述符类，则会出现下面的情况一：\n",
    "\n",
    "情况一：\n",
    "class User:\n",
    "    #     age = IntField()   # 描述符类必须被定义为指派类的类属性，而不能在构造方法中。\n",
    "    name = IntField() # IntField()为描述符类\n",
    "\n",
    "    def __init__(self):\n",
    "        self.name = \"tt\"\n",
    "\n",
    "像上面这样，实际上是__init__中调用的self.name 已经用的是描述符类的实例了，即此时就不是创建当前类的实例属性了 --- 这点和属性装饰器@property的用法相似（也会覆盖掉本该的赋值行为），实际上是因为@property内部的处理方式也是通过描述符装饰器实现的 \n",
    "但是，若此时是非数据描述符类就没有关系，因为没有__set__，实际上这会就是创建的实例属性\n",
    "\n",
    "-------------------------------------------------------------------------------------------------------------------------------------------------------------------------\n",
    "\n",
    "    def __init__(self):\n",
    "        self.name = IntField()\n",
    "        \n",
    "如果像这样，在构造方法中进行定义，那么，描述符类就没有效果了，就是单纯的将一个类实例对象赋值给了一个属性\n",
    "\n",
    "要注意：描述符类只对描述符类定义为指派类的类属性，这个类属性的操作有效果，其余的实例属性的操作，都是经过__getattribute__(self, item)魔法方法\n",
    "数据描述符类:\n",
    "\n",
    "非数据描述符类:\n",
    "    \n",
    "    \n",
    "两者的实现方法的个数要求\n",
    "\n",
    "没有__set__的时候，不能有__delete__吗？似乎是的，非数据描述符类中就不能有__delete__，因为没有 __set__，会报错： AttributeError: __set__\n",
    "        \n",
    "'''\n",
    "如果user是某个类的实例，那么user.age（以及等价的getattr(user,’age’)）\n",
    "首先调用__getattribute__。如果类定义了__getattr__方法，\n",
    "那么在__getattribute__抛出 AttributeError 的时候就会调用到__getattr__，\n",
    "而对于描述符(__get__）的调用，则是发生在__getattribute__内部的。   --------   确实，描述符类的__get__方法的调用，是在__getattribute__中进行的，打印user.age的时候会先进入__getattribute__内部，判断是描述符类，调用__get__\n",
    "user = User(), 那么user.age 顺序如下：\n",
    "\n",
    "（1）如果“age”是出现在User（因为属性描述符类就是在User类中创建一个该属性描述符类的实例对象作为当前类的类属性）或其基类的__dict__中（即'age'是基类的类属性）， 且age是data descriptor（数据描述符）， \n",
    "     那么调用其__get__方法, 否则    ---    即如果有数据描述符，则其优先级是最高的\n",
    "\n",
    "（2）如果“age”出现在user的__dict__中（即‘age’是实例属性）， 那么直接返回 obj.__dict__[‘age’]， 否则\n",
    "\n",
    "（3）如果“age”出现在User或其基类的__dict__中\n",
    "\n",
    "（3.1）如果age是non-data descriptor （非数据描述符），那么调用其__get__方法， 否则    --- 这里面有种情况，如果是非数据描述符，但是没有先调用值（即没有要先执行__get__方法），\n",
    "       而是对属性进行赋值，则由于非数据描述符类没有定义__set__方法，此时的self.user = 值， 实际上就是创建了一个实例属性，则此时之后的self.user也就是用的那个刚创建的实例属性\n",
    "       但是通过 类.user 调用，还是使用的非数据描述符类的__get__进行访问的。\n",
    "       \n",
    "       这里原因：\n",
    "           因为是将描述符类定义为类的属性，而且由于可以通过 self.类属性 的方式调用类属性的，所以当是数据描述符类的实例作为类属性的时候 self.类属性= 值，调用__set__， 打印self.类属性 调用__get__\n",
    "           self.类属性 = 值，会调用__set__，就没有办法创建实例属性了（因为此时会调用描述符类的__set__方法，而一般的，由于只可以在类中通过 实例.类属性 的方式调用类属性，但是却不可以通过 self.类属性= 值 的方式修改类属性，\n",
    "           如果这么用了，就会创建一个新的实例属性），所以一旦是为数据描述符类，则用永远没办法创建同名的实例属性，每次调用也都只是调用的数据描述符类     ，因为一个类的类属性是多个类实例对象共享的，\n",
    "           （且一般情况下实例是不能修改类属性的，想执行修改的时候会自动创建同名的实例属性），所以数据描述符类的实例实际上用的同一个。 \n",
    "           -------- 是不是可以根据这个特性，做点事\n",
    "           但是若是非数据描述符类就不一样了，由于没有__set__，一旦先使用self.类属性= 值，由与没有__set__，也就不会调用__set__，这时候就会创建一个与类属性同名的实例属性，之后，由于当实例属性和类属性重名的时候，实例.类属性 调用的是实例的属性，\n",
    "           单纯的打印 self.类属性 也不会调用__get__了，因为只有调用类属性的时候才会调用这个__get__，而现在无法通过self.类属性调用类属性了，只能调用的同名的刚创建的实例属性\n",
    "           这中间是由于一个是类属性，而一个中间过程变为了实例属性，才造成了无法使用非数据描述符类\n",
    "           \n",
    "\n",
    "（3.2）返回 __dict__[‘age’]  --- 什么也不是，是一般的类属性\n",
    "\n",
    "（4）如果User有__getattr__方法，调用__getattr__方法，否则\n",
    "\n",
    "（5）抛出AttributeError\n",
    "\n",
    "'''\n",
    "\n",
    "所以即使是描述符类，使用__get__时也会经过__getattribute__，但只限在使用 self.类属性 或者 实例对象.类属性 的时候"
   ]
  },
  {
   "cell_type": "code",
   "execution_count": 55,
   "metadata": {},
   "outputs": [
    {
     "name": "stdout",
     "output_type": "stream",
     "text": [
      "86.0\n",
      "37.77777777777778\n"
     ]
    }
   ],
   "source": [
    "# 案例。摄氏度华氏度转换\n",
    "class Celsius:\n",
    "    def __init__(self, value=26.0):\n",
    "        self.value = float(value)\n",
    "    \n",
    "    def __get__(self, instance, owner):\n",
    "        return self.value\n",
    "    \n",
    "    def __set__(self, instance, value):\n",
    "        self.value = float(value)\n",
    "    \n",
    "class Fahrenheit:\n",
    "    def __get__(self, instance, owner):\n",
    "        return instance.cel * 1.8 + 32\n",
    "    \n",
    "    def __set__(self, instance, value):\n",
    "        instance.cel = (float(value) - 32) / 1.8\n",
    "        \n",
    "class Temperature:\n",
    "    cel = Celsius()\n",
    "    fah = Fahrenheit()\n",
    "    \n",
    "temp = Temperature()\n",
    "temp.cel = 30\n",
    "print(temp.fah)\n",
    "temp.fah = 100\n",
    "print(temp.cel)\n"
   ]
  },
  {
   "cell_type": "code",
   "execution_count": 112,
   "metadata": {},
   "outputs": [
    {
     "name": "stdout",
     "output_type": "stream",
     "text": [
      "('bobby',)\n",
      "{}\n",
      " in new \n",
      " in init\n",
      "------------------------------------------------------------------------------------------\n",
      "()\n",
      "{'name': 'bobby'}\n",
      " in new \n",
      " in init\n"
     ]
    }
   ],
   "source": [
    "# 8-4 __new__和__init__的区别  参见笔记\n",
    "'''\n",
    "使用 类名() 创建 实例对象的时候，解释器首先会调用__new__方法为 实例对象 分配空间\n",
    "在使用__new__方法为实例对象分配空间之前，Python解释器已经完成了类的创建，即已经为类分配了内存地址。这个就是__new__(cls)中cls中接受的是当前类。\n",
    "__new__是一个由object 基类提供的内置静态方法，主要作用有两个:\n",
    "    1.在内存中为 实例对象 分配空间\n",
    "    2.返回 实例对象 的引用\n",
    "    3.创建实例对象时传进的实例属性会先经过__new__(cls, *args, **kwargs)，再由__new__传递给__init__\n",
    "为什么会是静态方法：\n",
    "    因为静态方法的调用不需要创建类的实例对象，就可以通过 类.静态方法 的方式来进行调用，类对象和实例对象都可以调用静态方法。 \n",
    "    静态方法的所有参数都是都是要手动传递的。\n",
    "    \n",
    "Python的解释器获得当前类实例对象的引用之后，将引用作为第一个参数，传递给__init__方法\n",
    "创建对象的过程：\n",
    "使用 类名() 创建实例对象的时候，解释器首先会调用（此类中由基类object类继承下来的）__new__方法为对象 分配空间然后返回实例对象的引用，Python的解释器获得实例对象的引用之后，将引用作为第一个参数，传递给__init__方法，__init__方法进行实例对象的属性值\n",
    "初始化，然后在__init__(self,x)中通过调用__setattr__(self, key, value) 为实例创建属性\n",
    "\n",
    "\n",
    "使用时注意:重写__new__方法时，一定要调用父类的__new__方法获得创建的实例并进行返回，否则解释器无法获得创建的实例对象（的引用）\n",
    "'''\n",
    "\n",
    "class User:\n",
    "    def __new__(cls, *args, **kwargs):    \n",
    "        print(args)\n",
    "        print(kwargs)\n",
    "        print (\" in new \")\n",
    "        return super().__new__(cls)   # 要return 返回生成的实例对象内存地址  object的__new__只有一个cls参数\n",
    "    def __init__(self, name):\n",
    "        print (\" in init\")\n",
    "\n",
    "#new 是用来控制实例对象的生成过程， 在实例对象生成之前\n",
    "#init是用来完善实例对象的\n",
    "#如果new方法不返回对象， 则不会调用init函数\n",
    "if __name__ == \"__main__\":\n",
    "    user = User(\"bobby\")    # 传递的参数经过 __new__ 所以我们可以在这里面进行定制化\n",
    "    print(\"---\"*30)\n",
    "    user = User(name = \"bobby\") \n"
   ]
  },
  {
   "cell_type": "code",
   "execution_count": 3,
   "metadata": {},
   "outputs": [
    {
     "name": "stdout",
     "output_type": "stream",
     "text": [
      "called\n",
      "tmj\n",
      "called\n",
      "skylor\n",
      "skylor\n"
     ]
    }
   ],
   "source": [
    "# 应用  单例模式\n",
    "\"\"\"\n",
    "实现单例模式：\n",
    "\"\"\"\n",
    "class SingleCase(object):\n",
    "    instance = None\n",
    "    def __new__(cls, *args, **kwargs): \n",
    "        '''\n",
    "        这里是一定要加上*args, **kwargs参数，用来接收调用__init__时，要接受的参数\n",
    "        就是__new__方法会接受定义实例的时候传递的参数，\n",
    "        这里的参数是先经过__new__方法的，再有__new__传递给__init__\n",
    "        '''\n",
    "        if not cls.instance :\n",
    "            cls.instance = super(SingleCase, cls).__new__(cls)\n",
    "        return cls.instance\n",
    "\n",
    "    def __init__(self, name, age):\n",
    "        print(\"called\")\n",
    "        self.name = name\n",
    "        self.age = age\n",
    "'''\n",
    "虽然传递了两次 属性的值\n",
    "但是显示的是最新的属性值\n",
    "是因为使用的同一个类实例，每个类实例都只有一个__dict__，所以修改的是同一个__dict__\n",
    "'''\n",
    "single_case1 = SingleCase('tmj',12)\n",
    "print(single_case1.name)\n",
    "single_case2 = SingleCase('skylor', 14)\n",
    "print(single_case1.name)\n",
    "print(single_case2.name) "
   ]
  },
  {
   "cell_type": "code",
   "execution_count": null,
   "metadata": {},
   "outputs": [],
   "source": [
    "\n",
    "\n",
    "\n"
   ]
  },
  {
   "cell_type": "code",
   "execution_count": null,
   "metadata": {},
   "outputs": [],
   "source": [
    "'''\n",
    "python中\n",
    "类调用类方法（@classmethod）不需要传递参数cls\n",
    "类调用实例方法，需要手动传递实例对象\n",
    "实例可以调用类方法（@classmethod）不需要传递参数cls\n",
    "实例调用实例方法，不需要传递参数self\n",
    "\n",
    "静态方法：使用@staticmethod修饰，理论上静态方法是不会调用类以及实例的属性或者方法\n",
    "只有这样才能在没有创建实例对象的时候进行调用\n",
    "一般通过类对象迪用静态方法\n",
    "实例对象也是可以调用静态方法的\n",
    "\n",
    "总结就是，实例对象可以调用各种方法\n",
    "\n",
    "另外，在实例没有某个属性的时候，若有同名的类属性，则就会调用类属性，如果此时再进行赋值操作，则不是修改类属性，而是动态为当前实例对象创建一个实例属性\n",
    "        但是切记，类不能调用实例属性\n",
    "'''"
   ]
  },
  {
   "cell_type": "code",
   "execution_count": null,
   "metadata": {},
   "outputs": [],
   "source": []
  },
  {
   "cell_type": "code",
   "execution_count": 5,
   "metadata": {},
   "outputs": [
    {
     "name": "stdout",
     "output_type": "stream",
     "text": [
      "<class '__main__.create_class.<locals>.User'>\n",
      "user\n"
     ]
    }
   ],
   "source": [
    "# 8-5 自定义元类\n",
    "# type创建类， 是object类的子类， object是所有类的基类，所有类都是type类的实例化对象   所以类也是对象\n",
    "\n",
    "\n",
    "def create_class(name):\n",
    "    '''函数，动态创建类'''\n",
    "    if name == \"user\":\n",
    "        class User:\n",
    "            def __str__(self):\n",
    "                return \"user\"\n",
    "        return User\n",
    "    elif name == \"company\":\n",
    "        class Company:\n",
    "            def __str__(self):\n",
    "                return \"company\"\n",
    "        return Company\n",
    "\n",
    "if __name__ == \"__main__\":\n",
    "    MyClass = create_class(\"user\")\n",
    "    my_obj = MyClass()\n",
    "    print(type(my_obj))\n",
    "    print(my_obj)"
   ]
  },
  {
   "cell_type": "code",
   "execution_count": null,
   "metadata": {},
   "outputs": [],
   "source": [
    "# type的3种用法：\n",
    "# type(object_or_name, bases, dict)  动态创建类\n",
    "# type(object) -> the object's type  得到类型\n",
    "# type(name, bases, dict) -> a new type "
   ]
  },
  {
   "cell_type": "code",
   "execution_count": 10,
   "metadata": {},
   "outputs": [
    {
     "name": "stdout",
     "output_type": "stream",
     "text": [
      "<__main__.User object at 0x0000029BA5EBCE10>\n",
      "{}\n",
      "{'name': 'skylor', 'say': <function say at 0x0000029BA5DD7F28>, '__module__': '__main__', '__doc__': None}\n",
      "skylor\n",
      "i am baseclass\n"
     ]
    }
   ],
   "source": [
    "# 使用type动态创建类\n",
    "class Baseclass:\n",
    "    def answer(self):\n",
    "        return \"i am baseclass\"\n",
    "    \n",
    "def say(self):\n",
    "#     return \"i am user\"\n",
    "    return self.name # 调用的时候，如果类有同名的属性，则调用类的同名属性\n",
    "User = type(\"User\", (Baseclass, ), {\"name\":\"skylor\", \"say\":say})     #三个参数 ： 类的名称， 类的基类tuple类型， 类属性和类方法实例方法 dict类型  \n",
    "my_obj = User()\n",
    "print(my_obj)\n",
    "print(my_obj.__dict__)\n",
    "print(User.__dict__) # 可见动态创建类的时候 定义的属性是类的属性\n",
    "print(my_obj.say())\n",
    "print(my_obj.answer())"
   ]
  },
  {
   "cell_type": "code",
   "execution_count": null,
   "metadata": {},
   "outputs": [],
   "source": [
    "https://www.cnblogs.com/chvv/p/9950837.html\n",
    "\n",
    "python中的__new__方法\n",
    "1.创建类时先执行type的__init__方法,\n",
    "2.当一个类实例化时(创建一个对象)执行type的__call__方法，__call__方法的返回值就是实例化的对象\n",
    "　　　　__call__内部调用\n",
    "　　　　　　类.__new__方法，创建一个对象\n",
    "　　　　　　类.__init__方法，初始化对象\n",
    "\n",
    "实例化对象是谁取决于__new__方法,__new__返回什么就是什么\n",
    "\n",
    "　__new__() 方法的特性：\n",
    "        __new__() 方法是在类准备将自身实例化时调用。\n",
    "        __new__() 方法始终都是类的静态方法，即使没有被加上静态方法装饰器"
   ]
  },
  {
   "cell_type": "code",
   "execution_count": 29,
   "metadata": {},
   "outputs": [
    {
     "name": "stdout",
     "output_type": "stream",
     "text": [
      "<class '__main__.MetaClass'>\n",
      "('User', (), {'__module__': '__main__', '__qualname__': 'User', '__doc__': '类比上面的__new__，可以发现 自定义元类就是控制了类的创建，而定义__new__就是控制类的实例化对象的创建', '__new__': <function User.__new__ at 0x0000029BA5F81510>, '__init__': <function User.__init__ at 0x0000029BA5F81598>, '__classcell__': <cell at 0x0000029BA5B2E6D8: empty>})\n",
      "{}\n",
      "------------------------------------------------------------------------------------------\n",
      "<class '__main__.User'>\n",
      "()\n",
      "{'name': 'bobby'}\n",
      "------------------------------------------------------------------------------------------\n",
      "<__main__.User object at 0x0000029BA5FC4940>\n",
      "------------------------------------------------------------------------------------------\n",
      "<class '__main__.MetaClass'>\n",
      "------------------------------------------------------------------------------------------------------------------------\n",
      "当前类没有该类属性\n",
      "我是类的属性\n",
      "{'__module__': '__main__', '__doc__': '类比上面的__new__，可以发现 自定义元类就是控制了类的创建，而定义__new__就是控制类的实例化对象的创建', '__new__': <staticmethod object at 0x0000029BA5FC4828>, '__init__': <function User.__init__ at 0x0000029BA5F81598>, '__dict__': <attribute '__dict__' of 'User' objects>, '__weakref__': <attribute '__weakref__' of 'User' objects>, 'class_attribute': '我是类的属性'}\n"
     ]
    }
   ],
   "source": [
    "# 什么是元类，元类是创建类的类  对象由class创建，而class也是对象,由type创建 所以type是也是一个元类\n",
    "'''\n",
    "    实际上，以下 MetaClass 自定义元类中的cls self 的标准写法为 mcs cls\n",
    "'''\n",
    "\"\"\"\n",
    "一般在使用中很少使用type来创建类，一般我们都是通过自定义元类的方式来创建类\n",
    "\"\"\"\n",
    "class MetaClass(type):   # 一个类继承了type （必须要继承type才是元类，因为要调用type类的__new__方法完成类的创建（因为类比用类的__new__创建实例对象，type的__new__创建的也是type的实例对象，而type类的实例对象就是各种类） ） 就是一个元类 \n",
    "                         # 自定义元类 能够控制 metaclass等于该 自定义元类 的 类 实例化的过程     \n",
    "    '''\n",
    "        除了其他类在使用metaclass来使用元类，也可以直接传参生成元类的实例化对象，该对象就是一个类\n",
    "        用当前自定义元类生成实例化对象--一个新类时候，注意以下几项：\n",
    "            1. 生成实例对象--新类时，要接收的参数一般由三个，类比普通类创建实例对象的方式，接受的参数由__init__最终接收，用于创建自定义元类实例对象--一个新的类，和普通类一样，中间会经过__new__\n",
    "               三个参数和使用type(object_or_name, bases, dict)动态创建类传递的参数一样，为 object_or_name:str 创建的类的名字 bases:tuple 创建的类继承的父类，可以是多个 dict:dict 创建的类的属性和方法\n",
    "            2. return super().__new__(cls, *args, **kwargs)  # metaclass中的__new__要接受*args, **kwargs这两个参数  （这点和普通的类创建实例对象不同）\n",
    "    '''\n",
    "    def __new__(cls, *args, **kwargs):  # cls 为自定义元类MetaClass， args是 ('User',(),{'__module__':'__main__','__qualname__':'User'})就是type()动态创建类时的参数   。、kwargs是{}      \n",
    "        '''\n",
    "        __new__方法的标准参数是 __new__(mcls, name, bases, namespace)\n",
    "        ''' \n",
    "        print(cls)\n",
    "        print(args)   # 控制了类的创建， 接收到类的没名字，基类，方法 属性\n",
    "        print(kwargs)\n",
    "        print(\"---\"*30)\n",
    "        return super().__new__(cls, *args, **kwargs)  # metaclass中的__new__要接受*args, **kwargs这两个参数              __new__方法返回类的引用（即创建了类这个类对象），然后类对象就可以通过my_obj = User(name=\"bobby\")创建一个实例了\n",
    "        \n",
    "    \n",
    "    def __init__(self, *args, **kwargs):\n",
    "        self.class_attribute = \"我是类的属性\" # 接受了 type(object_or_name, bases, dict) 传递过来的关于创建的类的设置，  在__init__还可以手动创建一些当前类的其他的属性和方法，（把类方法当做方法）\n",
    "#         super().__init__(*args, **kwargs)   # 这句是没有用的\n",
    "    \n",
    "    def __getattr__(self, item):\n",
    "        '''\n",
    "            元类就是控制类的创建的类，所以可以进行类的调控\n",
    "            这里使用__getattr__就能控制类的属性，像在实现类中的__getattr__可以调控实例类的实例对象属性一样-----因为类是元类的实例对象\n",
    "        '''\n",
    "        return \"当前类没有该类属性\"\n",
    "    \n",
    "#     def say(self):\n",
    "#         '''\n",
    "#             创建了，但是为什么使用User.__dict__中没有该方法呢，不是应该是类的方法吗\n",
    "#         '''\n",
    "#         print(\"我是User类的类方法\")\n",
    "    \n",
    "class User(metaclass=MetaClass):  # 创建该类时，先调用MetaClass\n",
    "    '''类比上面的__new__，可以发现 自定义元类就是控制了类的创建，而定义__new__就是控制类的实例化对象的创建'''\n",
    "    def __new__(cls, *args, **kwargs):\n",
    "        print(cls)\n",
    "        print(args)\n",
    "        print(kwargs)\n",
    "        print(\"---\"*30)\n",
    "        \n",
    "        return super().__new__(cls) # 使用 类名() 创建实例对象的时候，解释器首先会调用（此类中由基类object类继承下来的）__new__方法为对象 分配空间然后返回实例对象的引用，，将引用作为第一个参数，传递给__init__方法进行实例对象的初始化，定义实例属性\n",
    "    \n",
    "    def __init__(self, name):\n",
    "        self.name = name\n",
    "                                             \n",
    "#     def __str__(self):\n",
    "#         return \"user\"     # 不设置的返回值为<__main__.User object at 0x000001C282F769B0>\n",
    "\n",
    "if __name__ == \"__main__\":\n",
    "    my_obj = User(name=\"bobby\")\n",
    "    print(my_obj)\n",
    "    print(\"---\"*30)\n",
    "    print(type(User))\n",
    "    print(\"---\"*40)\n",
    "    print(User.dddddd)    # 调用类的属性不存在的时候使用的是 元类的__getattr__，类比 某个类的实例对象，类就是元类的实例对象 \n",
    "    print(User.class_attribute)   # 使用 元类的__init__实现\n",
    "    print(User.__dict__)\n",
    "#     User.say()\n",
    "\n",
    "\n",
    "\n",
    "#     Test = MetaClass('Test',(),{'__module__':'__main__','__qualname__':'Test'})   # 就像使用type动态创建类那样，具体去看type的使用    这样使用的好处 就是相对于使用type，对类的定制化更加高了\n",
    "#     print(\"---\"*40)\n",
    "#     print(Test.__dict__)\n",
    "    \n",
    "    \n",
    "    \n"
   ]
  },
  {
   "cell_type": "code",
   "execution_count": 25,
   "metadata": {},
   "outputs": [
    {
     "name": "stdout",
     "output_type": "stream",
     "text": [
      "{'__module__': '__main__', 'say': <classmethod object at 0x0000029BA5F79940>, '__dict__': <attribute '__dict__' of 'bbbbb' objects>, '__weakref__': <attribute '__weakref__' of 'bbbbb' objects>, '__doc__': None}\n"
     ]
    }
   ],
   "source": [
    "class bbbbb():\n",
    "    @classmethod\n",
    "    def say(cls):\n",
    "        print(\"fas\")\n",
    "        \n",
    "        \n",
    "b = bbbbb()\n",
    "print(bbbbb.__dict__)"
   ]
  },
  {
   "cell_type": "code",
   "execution_count": 49,
   "metadata": {},
   "outputs": [
    {
     "data": {
      "text/plain": [
       "{'aa': 33}"
      ]
     },
     "execution_count": 49,
     "metadata": {},
     "output_type": "execute_result"
    }
   ],
   "source": [
    "class a():\n",
    "    def __new__(cls, *args, **kwargs):\n",
    "        return super().__new__(cls)\n",
    "    \n",
    "    def __init__(self, *args, **kwargs):\n",
    "        self.aa = 33\n",
    "        \n",
    "        \n",
    "b = a(11, v= 1)  \n",
    "b.__dict__"
   ]
  },
  {
   "cell_type": "code",
   "execution_count": null,
   "metadata": {},
   "outputs": [],
   "source": [
    "'''\n",
    "Python中类创建的时候，会首先寻找metaclass属性，找到则通过metaclass定义的自定义元类去创建User类   --- 若一个类是继承自一个类，那么首先会寻找自己有没有metaclass，然后在看基类有没有metaclass\n",
    "没有metaclass的类会在创建的时候调用type去创建一个User的类对象    --  所以metaclass的优先级非常的高\n",
    "\n",
    "# 一旦某个类有metaclass 或者其父类含有metaclass  则这些类的类型都是 metaclass指定的类， 即是通过该类创建了这些类。 ---- 只要继承关系上某个类有metaclass，则就会从该类开始，以及他的子类都会通过metaclass进行创建\n",
    "# 一旦一个类有metaclass 或者其父类含有metaclass  则都会调用自定义元类来创建\n",
    "# 当是父类User含有metaclass的时候，则是父类User先调用自定义元类创建父类，然后调用自定义元类创建子类T，且创建的时候子类有的('T', (<class '__main__.User'>,), {'__module__': '__main__', '__qualname__': 'T'})其父类(<class '__main__.User'>,)\n",
    "# 即使用metaclass创建了子类T，且子类同时会继承父类User\n",
    "'''"
   ]
  },
  {
   "cell_type": "code",
   "execution_count": null,
   "metadata": {},
   "outputs": [],
   "source": [
    "我们在指定一个类的元类是ABCMeta的时候，就能帮我们自动检查是否有未实现的抽象方法的时候，其实就是通过自定义元类ABCMeta在其__new__的检测其子类在定义的时候抽象方法是否实现了这些抽象方法\n",
    "因为在实例化的时候，类首先会看是否有metaclass属性，没有则看其继承的父类是否有metaclass，若都没有，才会调用type这个元类去创建类"
   ]
  },
  {
   "cell_type": "code",
   "execution_count": 49,
   "metadata": {},
   "outputs": [
    {
     "name": "stdout",
     "output_type": "stream",
     "text": [
      "<class '__main__.RedisCache'>\n"
     ]
    }
   ],
   "source": [
    "# 如何实现在初始化的时候就抛出异常呢（当没有实现抽象基类的方法的时候）\n",
    "import abc\n",
    "\n",
    "class CacheBase(metaclass=abc.ABCMeta):     \n",
    "    \n",
    "    @abc.abstractmethod\n",
    "    def get(self, key):\n",
    "        pass # 此处就可以直接pass了，不需要raise NotImplementedError，  因为使用了abc，这样当一个类继承该抽象基类时没有实现其抽象方法的时候，就会报错\n",
    "                                  # 相当于之前是手动加保险，用raise手动抛出异常，这里我们借助abc模块，所以即不用手动在写出来了。\n",
    "    @abc.abstractmethod\n",
    "    def set(self, key, value):\n",
    "        pass\n",
    "    \n",
    "class RedisCache(CacheBase):\n",
    "    def get(self, key):\n",
    "        pass\n",
    "    \n",
    "    def set(self, key, value):     # python 中只要求方法名相同\n",
    "        pass\n",
    "\n",
    "redis_cache = RedisCache()  # 这样直接在初始化阶段就会告知创建 RedisCache(CacheBase)类的时候要实现的抽象方法 TypeError: Can't instantiate abstract class RedisCache with abstract methods get, set \n",
    "print(type(redis_cache))"
   ]
  },
  {
   "cell_type": "code",
   "execution_count": null,
   "metadata": {},
   "outputs": [],
   "source": [
    "知识点：重载：\n",
    "'''\n",
    "Python中没有重载，即不可能实现说：一个类中有两个方法的方法名相同，但是参数不同这种用法\n",
    "    java中的重载的定义：重载(overloading) 是在一个类里面，方法名字相同，而参数不同。返回类型可以相同也可以不同。\n",
    "    但是Python中完全就不需要重载：\n",
    "        1. 参数不同： 可以通过缺省参数（可变参数）*args 和 **kwargs，也可以通过传递列表这种可变序列类型，来完成。\n",
    "        2. 类型问题： Python没有类型限制\n",
    "    https://www.cnblogs.com/erbaodabao0611/p/7490439.html：\n",
    "    简单来说，Python中为什么不需要重载，重载要解决的是参数类型和参数个数的问题，对于类型，python不像是c语言整型要写int，字符串要写str,,,这些python都不需要。\n",
    "    那么需要解决的就是传递参数个数问题，此时python可以传递列表呀，字典呀，可以使用*arg和**args呀，所以python根本不需要重载。\n",
    "    \n",
    "Python具有重载的思想却没有重载的概念，由于本身的特性，不需要重载。\n",
    "python提供@singledispatch实现重载的功能 ------- 流畅的Python\n",
    "https://www.jb51.net/article/150579.htm\n",
    "https://www.cnblogs.com/zhuangliu/p/10851268.html\n",
    "'''"
   ]
  },
  {
   "cell_type": "code",
   "execution_count": null,
   "metadata": {},
   "outputs": [],
   "source": [
    "ABCMeta 的实现（Python3.5）：\n",
    "def __new__(mcls, name, bases, namespace):\n",
    "        cls = super().__new__(mcls, name, bases, namespace)\n",
    "        # Compute set of abstract method names\n",
    "        abstracts = {name\n",
    "                     for name, value in namespace.items()\n",
    "                     if getattr(value, \"__isabstractmethod__\", False)}\n",
    "        for base in bases:\n",
    "            for name in getattr(base, \"__abstractmethods__\", set()):\n",
    "                value = getattr(cls, name, None)\n",
    "                if getattr(value, \"__isabstractmethod__\", False):\n",
    "                    abstracts.add(name)\n",
    "        cls.__abstractmethods__ = frozenset(abstracts)\n",
    "        # Set up inheritance registry\n",
    "        cls._abc_registry = WeakSet()\n",
    "        cls._abc_cache = WeakSet()\n",
    "        cls._abc_negative_cache = WeakSet()\n",
    "        cls._abc_negative_cache_version = ABCMeta._abc_invalidation_counter\n",
    "        return cls\n",
    "# 会进行一系列的检查"
   ]
  },
  {
   "cell_type": "code",
   "execution_count": null,
   "metadata": {},
   "outputs": [],
   "source": [
    "\n",
    "\n",
    "\n"
   ]
  },
  {
   "cell_type": "code",
   "execution_count": null,
   "metadata": {},
   "outputs": [],
   "source": []
  },
  {
   "cell_type": "code",
   "execution_count": 18,
   "metadata": {},
   "outputs": [
    {
     "name": "stdout",
     "output_type": "stream",
     "text": [
      "<__main__.User object at 0x000001E9A897D128>\n",
      "<__main__.User object at 0x000001E9A897D128>\n",
      "bobby\n",
      "28\n",
      "{'__module__': '__main__', '__doc__': '\\n    实际上要想实现将类User能够映射到数据表还需要内部很多的操作，class User实际还有很多的属性要做，所以在创建User的时候，我们可以注册进自己需要的很多东西到User中 \\n    通过自定义元类ModelMetaClass往我们的类中注入（动态添加）一些属性，方法之类的，供一些特有的方法使用这些属性\\n    \\n    这里通过自定义元类动态添加了数据库表名，数据库的列（字段名和值）   由本类到元类 再到本类，再到父类的save方法 \\n    \\n    ', 'name': <__main__.CharField object at 0x000001E9A897D1D0>, 'age': <__main__.IntField object at 0x000001E9A897D0B8>, '_meta': {'db_table': 'user'}, 'fields': {'name': <__main__.CharField object at 0x000001E9A897D1D0>, 'age': <__main__.IntField object at 0x000001E9A897D0B8>}}\n"
     ]
    }
   ],
   "source": [
    "# 8-6 通过元类实现orm   以Django中的ORM方式实现\n",
    "\n",
    "'''\n",
    "需求:\n",
    "orm  将类映射到数据库中的一种表 对类进行操作，就可以将数据写到数据库的表中\n",
    "\n",
    "描述符类CharField数据库的字段类型char ，db_colum指明在数据库中所属的列 ,max_length 字段最大长度\n",
    "描述符类IntField, \n",
    "\n",
    "    单独的内部类 Meta 指明数据库表的名称   而不希望在定义数据库的类中实现    不定义该Meta的时候，默认使用类型User的小写来实现数据库表的名称\n",
    "\n",
    "class User:  # 不定义内部类Meta的时候，默认使用类型User的小写来实现数据库表的名称\n",
    "    name = CharField(db_colum='' ,max_length=10)  # 字段名\n",
    "    age = IntField(db_colum='',min_value=0, max_value=10)  # 字段名\n",
    "    \n",
    "    class Meta：\n",
    "        # 内部类，创建数据库表名\n",
    "        db_table = \"数据库表的名称\"  \n",
    "        abstract \n",
    "        \n",
    "\n",
    "if __name__ = \"__main__\":\n",
    "    # 表的创建\n",
    "    user = User()\n",
    "    # 表数据的创建   使用的是描述符类的特性  __set__\n",
    "    user.name = \"xiaoming\"   \n",
    "    user.age = 28                 # 希望在设置值时，能够完成属性赋值报错的功能，  属性描述符完成\n",
    "    user.save()\n",
    "    \n",
    "    \n",
    "    # 内部受保护的属性 使用_  一种约定\n",
    "'''\n",
    "import numbers\n",
    "\n",
    "class Field:\n",
    "    '''\n",
    "    作为IntField和CharField的父类，用于在下面的判断中能够将这两种数据通过isinstance判断取出\n",
    "    '''\n",
    "    pass\n",
    "\n",
    "class IntField(Field):\n",
    "    # 数据描述符\n",
    "    def __init__(self, db_column=None, min_value=None, max_value=None):\n",
    "        self._value = None                   # 这里_value 作为 user.age = 28接受值28的属性，可以是动态生成的，但是为了保证如果先调用__get__能有值，所以设置在这里。 也是可以在__get__中进行参数检查是否存在的，但是逻辑上复杂\n",
    "        self.min_value = min_value\n",
    "        self.max_value = max_value\n",
    "        self.db_column = db_column\n",
    "        # 以下是大量的数据检查\n",
    "        if min_value is not None:\n",
    "            if not isinstance(min_value, numbers.Integral):\n",
    "                raise ValueError(\"min_value must be int\")\n",
    "            elif min_value < 0:\n",
    "                raise ValueError(\"min_value must be positive int\")\n",
    "        if max_value is not None:\n",
    "            if not isinstance(max_value, numbers.Integral):\n",
    "                raise ValueError(\"max_value must be int\")\n",
    "            elif max_value < 0:\n",
    "                raise ValueError(\"max_value must be positive int\")\n",
    "        if min_value is not None and max_value is not None:\n",
    "            if min_value > max_value:\n",
    "                raise ValueError(\"min_value must be smaller than max_value\")\n",
    "    \n",
    "    def __get__(self, instance, owner):\n",
    "        return self._value\n",
    "                \n",
    "    def __set__(self, instance, value):\n",
    "        if not isinstance(value, numbers.Integral):\n",
    "            raise ValueError(\"int value need\")\n",
    "        if value < self.min_value or value > self.max_value:\n",
    "            raise ValueError(\"value must between min_value and max_value\")\n",
    "        self._value = value\n",
    "        \n",
    "class CharField(Field):\n",
    "    def __init__(self, db_column=None, max_length=None):\n",
    "        self._value = None\n",
    "        self.db_column = db_column\n",
    "        if max_length is None:\n",
    "            raise ValueError(\"you must spcify max_lenth for charfiled\")\n",
    "        self.max_length = max_length\n",
    "    \n",
    "    def __get__(self, instance, owner):\n",
    "        return self._value\n",
    "      \n",
    "    def __set__(self, instance, value):\n",
    "        if not isinstance(value, str):\n",
    "            raise ValueError(\"string value need\")\n",
    "        if len(value) > self.max_length:\n",
    "            raise ValueError(\"value len excess len of max_length\")\n",
    "        self._value = value\n",
    "        \n",
    "class ModelMetaClass(type): \n",
    "    '''数据库模型元类\n",
    "    模仿ABCMeta的写法：\n",
    "    __new__(mcls, name, bases, namespace)\n",
    "    可以这么写，因为我们不是手动创建一个该元类的实例对象\n",
    "    而是在创建类的时候，通过 metaclass = 自定义元类 参数，告诉解释器，由解释器来进行掉用\n",
    "    则那三个参数就会按序传递给 __new__(mcls, name, bases, namespace)\n",
    "    所以当是交个解释器使用时，就不需要防止参数过多之类的而使用 *args和**kwarg 可变参数参数\n",
    "    \n",
    "    实际上当解释调用的时候，只会传递三个参数 name, bases, namespace\n",
    "    实际上下面的new只需要__new__(cls, name, bases, attrs)即可，attrs是个字典 namespace\n",
    "    然后return super().__new__(cls, name, bases, attrs) 也只需要三个参数就行了\n",
    "    这里的**kwargs永远是没有内容的\n",
    "    \n",
    "    但这里因为type的__new__是__new__(*args, **kwargs)， 所以没有问题，不论传多少都会被接收\n",
    "    \n",
    "    '''\n",
    "    def __new__(cls, name, bases, attrs, **kwargs):    \n",
    "        if name == \"BaseModel\":\n",
    "            return super().__new__(cls, name, bases, attrs, **kwargs)  # 序列拆包   \n",
    "        \n",
    "        fields = {}  # 记录数据表相关的列\n",
    "        for key, value in  attrs.items():\n",
    "            if isinstance(value, Field):  # 将User的类属性（字段名对象拿出来，即数据表相关的列）\n",
    "                fields[key] = value\n",
    "        attrs_meta = attrs.get(\"Meta\", None) # 看是否定义了内部类，将内部类对象方进attrs_meta中\n",
    "        _meta = {}  \n",
    "        db_table = name.lower()\n",
    "        if attrs_meta is not None:\n",
    "            table = getattr(attrs_meta, \"db_table\", None)  # getattr() 函数用于返回一个对象属性值(类对象，实例对象都可以)。看内部类对象是否有 db_table 属性\n",
    "            if table is not None:\n",
    "                db_table = table  # 覆盖之前的db_table = name.lower()- 使用类名的小写作为表名\n",
    "        _meta[\"db_table\"] = db_table   \n",
    "        attrs[\"_meta\"] = _meta      # 添加了数据库表名\n",
    "        attrs[\"fields\"] = fields   # 往User类中添加了 数据库包含的列名\n",
    "        del attrs[\"Meta\"]         # 只是为了得到db_table数据库表名，获得后将User类中创建了Meta类删除\n",
    "        return super().__new__(cls, name, bases, attrs, **kwargs)  # 调用type类的__new__，完成User类的创建   至此，通过自定义元类的方式 往User中动态添加了数据库表名，数据库的列名（即数据表字段）\n",
    "\n",
    "class BaseModel(metaclass=ModelMetaClass):\n",
    "    '''\n",
    "    简化User的定义，简化使用\n",
    "    完成User()类的其他一些细节功能，如__init__ 和save()方法\n",
    "    '''\n",
    "    def __init__(self, *args, **kwargs):   # 实现BaseModel是为了定义一个__init__方法，接受用户直接在创建实例对象的时候传递的参数如 user = User(name='',age=\"\")\n",
    "        '''\n",
    "        实际也是做了映射，看似是创建属性，实际上是调用的User的描述符类，去给描述符类的属性创建值\n",
    "        '''\n",
    "        for key, value in kwargs.items():\n",
    "            setattr(self, key, value)     \n",
    "        return super().__init__()  # 重写了一些重要内置的方法的时候（如__init__,__new__,__getattribute__），一定要继承父类的同类方法，因为这些方法关系到类功能的完整   \n",
    "                                   # 这里的super()得到的是object类  此外 object的__init__没有参数，__new__因为是静态方法，除了cls也没有其他的参数，      \n",
    "        \n",
    "    def save(self):\n",
    "        '''拼凑sql字符串，实现保存功能'''\n",
    "        fields = []\n",
    "        values = []\n",
    "        for key, value in self.fields.items():\n",
    "            db_column = value.db_column  # 字段名\n",
    "            if db_column is None:\n",
    "                db_column = key.lower()  # 没有设置db_colum时，使用的是User类属性名（即字段名）的小写\n",
    "            fields.append(db_column)\n",
    "            value = getattr(self, key)  # self.key  调用的是描述符类的__get__方法\n",
    "            print(value)\n",
    "            values.append(str(value))   # 要变成string类型，因为是\n",
    "\n",
    "        sql = \"insert {db_table}({fields}) value({values})\".format(db_table=self._meta[\"db_table\"],\n",
    "                                                                   fields=\",\".join(fields), values=\",\".join(values))\n",
    "        \n",
    "class User(BaseModel):   # 自身没有metaclass的时候，会在父类中查找metaclass，若父类有metaclass,则使用该metacalss进行创建类\n",
    "    '''\n",
    "    实际上要想实现将类User能够映射到数据表还需要内部很多的操作，class User实际还有很多的属性要做，所以在创建User的时候，我们可以注册进自己需要的很多东西到User中 \n",
    "    通过自定义元类ModelMetaClass往我们的类中注入（动态添加）一些属性，方法之类的，供一些特有的方法使用这些属性\n",
    "    \n",
    "    这里通过自定义元类 动态 添加了数据库表名，数据库的列（字段名和值）   \n",
    "    然后将剩下的数据库操作，等都放到父类BaseModel中，在父类中设置__init__，save由子类User调用\n",
    "    而子类User中只留最简单的定义设置\n",
    "    \n",
    "    \n",
    "    整个过程：\n",
    "    由User类到元类 再到User类，再到父类的save方法 \n",
    "    \n",
    "    '''\n",
    "    name = CharField(db_column=\"name\", max_length=10)\n",
    "    age = IntField(db_column=\"age\", min_value=1, max_value=100)\n",
    "\n",
    "    class Meta:\n",
    "        db_table = \"user\"\n",
    "\n",
    "\n",
    "if __name__ == \"__main__\":\n",
    "    user = User(name=\"bobby\", age=28)   # 由于BaseModel的__init__方法设置，这里要求必须是以关键字参数的形式传递参数\n",
    "#     user.name = \"bobby\"\n",
    "#     user.age = 28\n",
    "    user.save()\n",
    "    print(User.__dict__)"
   ]
  },
  {
   "cell_type": "code",
   "execution_count": null,
   "metadata": {},
   "outputs": [],
   "source": [
    "注意一点： 自定义元类的__new__方法用于控制类的创建，可以对类的属性，方法，继承的类指定进行设置   ，而 类的__new__方法用于控制其实例对象的创建，可以对实例的属性进行一些设置\n",
    "自定义元类的__new__接受的参数是type()创建类时的参数， 而类的__new__方法接受的是实例属性给的值\n",
    "自定义元类的__new__接受参数中有类的方法，包括__init__，__new__（注意，这几个方法定义类的时候没写的时候是不会自动产生传进的）这些等等，这些方法只是有了内存空间，但是还没有被使用\n",
    "等到自定义元类的__new__调用结束，并返回了type.__new__，则我们的类就创建完成了，此时类在调用类自己的__new__方法 为实例对象分配空间，然后返回实例对象的引用和定义时接受到的参数（即属性的值），\n",
    "Python的解释器获得实例对象的引用之后，将引用作为第一个参数，传递给__init__方法，__init__方法进行实例对象的初始化，然后定义实例属性（由类自己的__new__方法接收的，-- 这里__new__是可以接受值进行修改的）"
   ]
  },
  {
   "cell_type": "code",
   "execution_count": null,
   "metadata": {},
   "outputs": [],
   "source": []
  },
  {
   "cell_type": "code",
   "execution_count": null,
   "metadata": {},
   "outputs": [],
   "source": [
    "getattr() 函数用于返回一个对象属性值(类对象，实例对象都可以)\n",
    "当对象是实例对象的时候，实际调用的是类内部的__getattribute__方法"
   ]
  },
  {
   "cell_type": "code",
   "execution_count": 3,
   "metadata": {},
   "outputs": [
    {
     "name": "stdout",
     "output_type": "stream",
     "text": [
      "3\n",
      "{'__module__': '__main__', '__init__': <function b.__init__ at 0x000001E9A84E31E0>, '__doc__': None}\n",
      "{'__module__': '__main__', '__init__': <function a.__init__ at 0x000001E9A84E3400>, 'pp': <function a.pp at 0x000001E9A84E3158>, '__dict__': <attribute '__dict__' of 'a' objects>, '__weakref__': <attribute '__weakref__' of 'a' objects>, '__doc__': None}\n",
      "{'a': 3, 'b': 3}\n"
     ]
    }
   ],
   "source": [
    "class a():\n",
    "    def __init__(self,b):\n",
    "        self.b = b\n",
    "        \n",
    "    def pp(self):\n",
    "        print(self.a)\n",
    "        \n",
    "class b(a):        \n",
    "    def __init__(self, a,b):\n",
    "        self.a = a\n",
    "        super().__init__(b)\n",
    "        \n",
    "bb = b(3,3)\n",
    "bb.pp()\n",
    "print(b.__dict__)\n",
    "print(a.__dict__)\n",
    "\n",
    "print(bb.__dict__)"
   ]
  },
  {
   "cell_type": "code",
   "execution_count": null,
   "metadata": {},
   "outputs": [],
   "source": [
    "可见，父类和子类都有自己的__dict__，且两者是不同享的\n",
    "但是子类的实例对象拥有父类实例的属性__dict__"
   ]
  },
  {
   "cell_type": "code",
   "execution_count": null,
   "metadata": {},
   "outputs": [],
   "source": [
    "所有的类都是object类的子类，即object类是所有类的基类，包括type\n",
    "然后所有的类都是type类的实例对象，包括object"
   ]
  },
  {
   "cell_type": "code",
   "execution_count": null,
   "metadata": {},
   "outputs": [],
   "source": []
  },
  {
   "cell_type": "code",
   "execution_count": null,
   "metadata": {},
   "outputs": [],
   "source": [
    "**kwargs在定义函数的时候做参数，是指的可变参数\n",
    "但是当调用函数的时候，若调用函数，然后传递了一个 **变量， 这里的**变量是作为解包用的 见例二 "
   ]
  },
  {
   "cell_type": "code",
   "execution_count": 4,
   "metadata": {},
   "outputs": [
    {
     "name": "stdout",
     "output_type": "stream",
     "text": [
      "{'a': 1}\n"
     ]
    }
   ],
   "source": [
    "# 例一:\n",
    "def internal_function(**a):\n",
    "    print(a)\n",
    "\n",
    "\n",
    "def func():\n",
    "    kwargs = {'a': 1}\n",
    "    internal_function(**kwargs)  # 此处确实是用的kwargs解包，不过得到的是关键字参数的形式，如 a = 1这样，所以也要对应函数调用的时候，用**a 可变参数类型\n",
    "\n",
    "func()"
   ]
  },
  {
   "cell_type": "code",
   "execution_count": 7,
   "metadata": {},
   "outputs": [
    {
     "name": "stdout",
     "output_type": "stream",
     "text": [
      "1\n"
     ]
    }
   ],
   "source": [
    "# 例二：\n",
    "def internal_function(a):\n",
    "    print(a)\n",
    "\n",
    "'''\n",
    "因为kwargs = {'a': 1} 直接**kwargs \n",
    "'''\n",
    "def func():\n",
    "    kwargs = {'a': 1}\n",
    "    '''\n",
    "    此处的**kwargs 是解包，得到的是 a = 1 ,类似这样，但是这是不能打印的，因为a是实实在在的变量\n",
    "    只能用参数是同名的函数来进行接受如这里的internal_function的参数是a，能正常运行\n",
    "    但是如参数是b或其他非a的参数，则就会报错\n",
    "    \n",
    "    所以一般像例一那样使用，这样例一能接受到完整的字典类型\n",
    "    '''\n",
    "    internal_function(**kwargs)\n",
    "\n",
    "func()"
   ]
  },
  {
   "cell_type": "code",
   "execution_count": null,
   "metadata": {},
   "outputs": [],
   "source": []
  }
 ],
 "metadata": {
  "kernelspec": {
   "display_name": "Python 3",
   "language": "python",
   "name": "python3"
  },
  "language_info": {
   "codemirror_mode": {
    "name": "ipython",
    "version": 3
   },
   "file_extension": ".py",
   "mimetype": "text/x-python",
   "name": "python",
   "nbconvert_exporter": "python",
   "pygments_lexer": "ipython3",
   "version": "3.7.4"
  }
 },
 "nbformat": 4,
 "nbformat_minor": 4
}
