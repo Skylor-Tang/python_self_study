{
 "cells": [
  {
   "cell_type": "code",
   "execution_count": 1,
   "metadata": {},
   "outputs": [
    {
     "name": "stdout",
     "output_type": "stream",
     "text": [
      "uoyevoli\n",
      "iloveyou\n",
      "uoyevoli\n",
      "==========================================================================================\n",
      "hello world\n",
      "==========================================================================================\n",
      "ld\n",
      "==========================================================================================\n",
      "4\n",
      "==========================================================================================\n"
     ]
    }
   ],
   "source": [
    "# 将字符串\"iloveyou\"进行反转\n",
    "\n",
    "str = \"iloveyou\"[::-1]\n",
    "print(str)\n",
    "\n",
    "print(''.join(list(reversed(str))))\n",
    "print(str)\n",
    "\n",
    "print(\"===\"* 30)\n",
    "\n",
    "\n",
    "# 将字符串前后空格去除\n",
    "s = \" hello world \"\n",
    "print(s.strip())   # rstrip是去除右边的空格\n",
    "\n",
    "print(\"===\"* 30)\n",
    "\n",
    "# 获取字符串”123456“最后的两个字符。\n",
    "a = \"hello world\"\n",
    "print(a[-2::]) \n",
    "print(\"===\"* 30)\n",
    "\n",
    "# 查找字符串\n",
    "'''\n",
    "find查找第一个索引，找不到时，返回-1 可以设置查找的范围\n",
    "index()功能类似，找不到的时候返回异常\n",
    "'''\n",
    "str = \"ABCDABC\"\n",
    "print(str.find(\"A\",2,5))    \n",
    "\n",
    "print(\"===\"* 30)\n"
   ]
  },
  {
   "cell_type": "code",
   "execution_count": null,
   "metadata": {},
   "outputs": [],
   "source": [
    "# 分割字符串\n",
    "split(\"\"[,分隔次数])  可以设置分隔的次数"
   ]
  },
  {
   "cell_type": "code",
   "execution_count": 15,
   "metadata": {},
   "outputs": [
    {
     "name": "stdout",
     "output_type": "stream",
     "text": [
      "Hello\n",
      "速度与激情2\n"
     ]
    }
   ],
   "source": [
    "import re   \n",
    "print(re.match(r'[hH]ello','Hello').group())   \n",
    "print(re.match(r'速度与激情.','速度与激情22222').group())"
   ]
  },
  {
   "cell_type": "code",
   "execution_count": 22,
   "metadata": {},
   "outputs": [
    {
     "data": {
      "text/plain": [
       "'82'"
      ]
     },
     "execution_count": 22,
     "metadata": {},
     "output_type": "execute_result"
    }
   ],
   "source": [
    "re.match(r'^1([38]\\d|5[0-35-9]|7[3678])\\d{8}$','18262587659').group(1) "
   ]
  },
  {
   "cell_type": "code",
   "execution_count": 39,
   "metadata": {},
   "outputs": [
    {
     "name": "stdout",
     "output_type": "stream",
     "text": [
      "dfsf\n",
      "fsdf\n",
      "asdf\n",
      "fasdf\n",
      "as\n",
      "\n"
     ]
    }
   ],
   "source": [
    "import re \n",
    "str =\"\"\"dfsf\n",
    "fsdf\n",
    "asdf\n",
    "fasdf\n",
    "as\n",
    "\"\"\"\n",
    "print(re.match(r'.*', str, re.S).group())   # . 不能匹配换行，所有.*只能匹配到一行的数据，使用re.S可以匹配到换行"
   ]
  },
  {
   "cell_type": "code",
   "execution_count": null,
   "metadata": {},
   "outputs": [],
   "source": [
    "re.search()和re.match()的区别在于：search()只从第一次匹配到的地方开始匹配，而\n",
    "不是和match()的从头开始匹配。所以search()匹配的正则表达式只要设置开始符^，作用就和match()一样。"
   ]
  },
  {
   "cell_type": "code",
   "execution_count": 47,
   "metadata": {},
   "outputs": [
    {
     "name": "stdout",
     "output_type": "stream",
     "text": [
      "['999', '100', '666']\n"
     ]
    }
   ],
   "source": [
    "print(re.findall(r'\\d+','python = 999,c++ = 100, c = 666')) "
   ]
  },
  {
   "cell_type": "code",
   "execution_count": null,
   "metadata": {},
   "outputs": [],
   "source": [
    "sub()：的作用用于替换匹配项的内容\n",
    "sub(正则表达式，’要替换的内容’，待匹配的字符串)\n"
   ]
  },
  {
   "cell_type": "code",
   "execution_count": 52,
   "metadata": {},
   "outputs": [
    {
     "name": "stdout",
     "output_type": "stream",
     "text": [
      "12345678@163.com\n",
      "2345678@163.com\n",
      "345678@163.com\n",
      "<callable_iterator object at 0x00000207495C8320>\n"
     ]
    }
   ],
   "source": [
    "content = '''''email:12345678@163.com \n",
    "email:2345678@163.com \n",
    "email:345678@163.com \n",
    "'''  \n",
    "result_finditer = re.finditer(r\"\\d+@\\w+?\\.com\", content)  \n",
    "#由于返回的为MatchObject的iterator，所以我们需要迭代并通过MatchObject的方法输出  \n",
    "for i in result_finditer :  \n",
    "    print(i.group())  \n",
    "print(result_finditer)"
   ]
  },
  {
   "cell_type": "code",
   "execution_count": 54,
   "metadata": {},
   "outputs": [
    {
     "name": "stdout",
     "output_type": "stream",
     "text": [
      "4-235-22-423\n",
      "234-235-22-423\n"
     ]
    }
   ],
   "source": [
    "# 贪婪和非贪婪要配合分组能得到好的效果\n",
    "s=\"This is a number 234-235-22-423\"  \n",
    "r=re.match(\".+(\\d+-\\d+-\\d+-\\d+)\",s)  \n",
    "print(r.group(1))  \n",
    "# 4-235-22-423  \n",
    "  \n",
    "r=re.match(\".+?(\\d+-\\d+-\\d+-\\d+)\",s)  \n",
    "print(r.group(1))  \n",
    "# 234-235-22-423  "
   ]
  },
  {
   "cell_type": "code",
   "execution_count": 55,
   "metadata": {},
   "outputs": [
    {
     "data": {
      "text/plain": [
       "['hello', 'world']"
      ]
     },
     "execution_count": 55,
     "metadata": {},
     "output_type": "execute_result"
    }
   ],
   "source": [
    "s = \" hello  world   \"\n",
    "s.split()"
   ]
  },
  {
   "cell_type": "code",
   "execution_count": 63,
   "metadata": {},
   "outputs": [
    {
     "name": "stdout",
     "output_type": "stream",
     "text": [
      "{4, 5}\n",
      "{4, 5, 6, 7, 8}\n",
      "两者都没有的值: {1, 2, 3, 6, 7, 8}\n",
      "{1, 2, 3, 4, 5, 6, 7, 8}\n",
      "{1, 2, 3, 4, 5}\n"
     ]
    }
   ],
   "source": [
    "# python 中 & 、| 代表的是位运算符， and 、or代表的是逻辑运算符\n",
    "# and 理解为且 or 为或\n",
    "a = set([1, 2, 3, 4, 5])\n",
    "b = set([4, 5, 6, 7, 8])\n",
    "\n",
    "print(a & b)   # 交集\n",
    "print(a and b)\n",
    "print(\"两者不同的值:\", a^b)  # 返回一个新的 set 包含 s 和 t 中不重复的元素\n",
    "print(a | b)   # 并集\n",
    "print(a or b)"
   ]
  },
  {
   "cell_type": "code",
   "execution_count": 61,
   "metadata": {},
   "outputs": [
    {
     "data": {
      "text/plain": [
       "False"
      ]
     },
     "execution_count": 61,
     "metadata": {},
     "output_type": "execute_result"
    }
   ],
   "source": [
    "'''\n",
    "and or 是逻辑运算符，用在if 中，\n",
    "条件A and 条件B \n",
    "'''\n",
    "\n",
    "True and False\n"
   ]
  },
  {
   "cell_type": "code",
   "execution_count": 65,
   "metadata": {},
   "outputs": [
    {
     "name": "stdout",
     "output_type": "stream",
     "text": [
      "[1, 2, 3, 4, 5, 6]\n"
     ]
    }
   ],
   "source": [
    "l = [[1,2],[3,4],[5,6]]\n",
    "x = [j for i in l for j in i]\n",
    "print(x)"
   ]
  },
  {
   "cell_type": "code",
   "execution_count": 66,
   "metadata": {},
   "outputs": [
    {
     "name": "stdout",
     "output_type": "stream",
     "text": [
      "[1, 5, 2, 4, 3]\n"
     ]
    }
   ],
   "source": [
    "# 打乱列表\n",
    "import random\n",
    "a = [1,2,3,4,5]\n",
    "random.shuffle(a)\n",
    "print(a)"
   ]
  },
  {
   "cell_type": "code",
   "execution_count": 67,
   "metadata": {},
   "outputs": [
    {
     "name": "stdout",
     "output_type": "stream",
     "text": [
      "1\n",
      "2\n",
      "3\n",
      "4\n",
      "5\n",
      "6\n",
      "7\n",
      "8\n",
      "9\n"
     ]
    }
   ],
   "source": [
    "for i in range(1,10):   # range是包开始没有结尾\n",
    "    print(i)"
   ]
  },
  {
   "cell_type": "code",
   "execution_count": 78,
   "metadata": {},
   "outputs": [
    {
     "name": "stdout",
     "output_type": "stream",
     "text": [
      "20\n",
      "100\n",
      "0.5041960001962951\n",
      "4.815526754065828\n",
      "q\n",
      "['b', 'l', 'x', 'd', 'h']\n",
      "C3P1wcaD\n",
      "zyfnd\n",
      "石头\n",
      "None\n"
     ]
    }
   ],
   "source": [
    "import random\n",
    "import string\n",
    "\n",
    "# 随机整数：\n",
    "print(random.randint(1,50))\n",
    "\n",
    "# 随机选取0到100间的偶数：\n",
    "print(random.randrange(0, 101, 2))\n",
    "\n",
    "# 随机浮点数：\n",
    "print(random.random())\n",
    "print(random.uniform(1, 10))\n",
    "\n",
    "# 随机字符：\n",
    "print(random.choice('abcdefghijklmnopqrstuvwxyz!@#$%^&*()'))\n",
    "\n",
    "# 多个字符中生成指定数量的随机字符：\n",
    "print(random.sample('zyxwvutsrqponmlkjihgfedcba',5))\n",
    "\n",
    "# 从a-zA-Z0-9生成指定数量的随机字符：\n",
    "ran_str = ''.join(random.sample(string.ascii_letters + string.digits, 8))\n",
    "print(ran_str)\n",
    "\n",
    "# 多个字符中选取指定数量的字符组成新字符串：\n",
    "print(''.join(random.sample(['z','y','x','w','v','u','t','s','r','q','p','o','n','m','l','k','j','i','h','g','f','e','d','c','b','a'], 5)))\n",
    "\n",
    "# 随机选取字符串：\n",
    "print(random.choice(['剪刀', '石头', '布']))\n",
    "      \n",
    "# 打乱排序\n",
    "items = [1, 2, 3, 4, 5, 6, 7, 8, 9, 0]\n",
    "print( random.shuffle(items))"
   ]
  },
  {
   "cell_type": "code",
   "execution_count": 96,
   "metadata": {},
   "outputs": [
    {
     "data": {
      "text/plain": [
       "[45, 5, 3, 2, 1]"
      ]
     },
     "execution_count": 96,
     "metadata": {},
     "output_type": "execute_result"
    }
   ],
   "source": [
    "# 排序，使用内置list内置的sort方法，没有返回值，是对list的直接修改\n",
    "\n",
    "'''\n",
    "可以发现规律，一般外带的方法都是内置方法的ed版本，如sort  sorted  reverse reversed\n",
    "且内置的一般都是直接进行修改，外置的是返回一个新的对象\n",
    "\n",
    "外置的操作对象更加广，如reversed接受的对象就是可迭代的对象，返回的值类型是一个迭代器\n",
    "\n",
    "sorted和sort都有参数 key,reverse=False\n",
    "\n",
    "'''\n",
    "a = [2,5,1,45,3]\n",
    "a.sort(reverse=True)\n",
    "a"
   ]
  },
  {
   "cell_type": "code",
   "execution_count": 93,
   "metadata": {},
   "outputs": [
    {
     "data": {
      "text/plain": [
       "[2, 5, 1, 45, 3]"
      ]
     },
     "execution_count": 93,
     "metadata": {},
     "output_type": "execute_result"
    }
   ],
   "source": [
    "# 外部方法sorted则是生成了新得对象，不对原来的list做出修改\n",
    "a = [2,5,1,45,3]\n",
    "sorted(a,reverse=True)\n",
    "a"
   ]
  },
  {
   "cell_type": "code",
   "execution_count": 101,
   "metadata": {},
   "outputs": [
    {
     "data": {
      "text/plain": [
       "<list_reverseiterator at 0x20749621898>"
      ]
     },
     "execution_count": 101,
     "metadata": {},
     "output_type": "execute_result"
    }
   ],
   "source": [
    "a = [2,5,1,45,3]\n",
    "reversed(a)"
   ]
  },
  {
   "cell_type": "code",
   "execution_count": null,
   "metadata": {},
   "outputs": [],
   "source": []
  }
 ],
 "metadata": {
  "kernelspec": {
   "display_name": "Python 3",
   "language": "python",
   "name": "python3"
  },
  "language_info": {
   "codemirror_mode": {
    "name": "ipython",
    "version": 3
   },
   "file_extension": ".py",
   "mimetype": "text/x-python",
   "name": "python",
   "nbconvert_exporter": "python",
   "pygments_lexer": "ipython3",
   "version": "3.7.2"
  }
 },
 "nbformat": 4,
 "nbformat_minor": 2
}
