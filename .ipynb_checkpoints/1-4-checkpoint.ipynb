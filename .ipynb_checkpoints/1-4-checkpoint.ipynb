{
 "cells": [
  {
   "cell_type": "raw",
   "metadata": {},
   "source": [
    "# python中一切皆对象的设计的原因  所有的类都是type的实例，type创建了一切对象，包括类、函数等等，所以能够一切皆对象，\n",
    "# 所以在Python中一切包括类、函数等都是可以修改的\n",
    "# 包括基类object都是type的实例对象，type是自己的实例对象，\n",
    "type(type)"
   ]
  },
  {
   "cell_type": "code",
   "execution_count": 1,
   "metadata": {},
   "outputs": [
    {
     "data": {
      "text/plain": [
       "type"
      ]
     },
     "execution_count": 1,
     "metadata": {},
     "output_type": "execute_result"
    }
   ],
   "source": [
    "type(type)"
   ]
  },
  {
   "cell_type": "code",
   "execution_count": 8,
   "metadata": {},
   "outputs": [
    {
     "data": {
      "text/plain": [
       "(object,)"
      ]
     },
     "execution_count": 8,
     "metadata": {},
     "output_type": "execute_result"
    }
   ],
   "source": [
    "# 之后所有的类都继承自object这个基类，包括type也是继承自object类，这导致了python中一切类都是继承自object这一个基类\n",
    "type.__bases__"
   ]
  },
  {
   "cell_type": "code",
   "execution_count": 2,
   "metadata": {},
   "outputs": [
    {
     "name": "stdout",
     "output_type": "stream",
     "text": [
      "<__main__.A object at 0x7feba8f3a190>\n",
      "<class '__main__.A'>\n",
      "<class 'type'>\n",
      "(<class 'object'>,)\n",
      "<__main__.B object at 0x7feba8f3a650>\n",
      "<class '__main__.B'>\n",
      "<class 'type'>\n",
      "(<class '__main__.A'>,)\n"
     ]
    }
   ],
   "source": [
    "'''\n",
    "注意区分，type讨论的是对象的范围，Python中一切对象都是type的实例，所以一切都是对象，所以object是type的实例\n",
    "\n",
    "而object只讨论的是类的关系，在这一维度中，type的基类是object\n",
    "\n",
    "一个讨论的是对象，一个讨论的是类继承的关系\n",
    "\n",
    "类型和类是两码事\n",
    "'''\n",
    "class A:\n",
    "    pass\n",
    "\n",
    "a = A()\n",
    "print(a)\n",
    "print(type(a))\n",
    "print(type(A))\n",
    "print(A.__bases__)\n",
    "\n",
    "class B(A):\n",
    "    pass\n",
    "\n",
    "b = B()\n",
    "print(b)\n",
    "print(type(b))\n",
    "print(type(B))\n",
    "print(B.__bases__)\n"
   ]
  },
  {
   "cell_type": "code",
   "execution_count": 15,
   "metadata": {},
   "outputs": [],
   "source": [
    "# 以上就是python中一切皆对象的原因\n"
   ]
  },
  {
   "cell_type": "code",
   "execution_count": 19,
   "metadata": {},
   "outputs": [],
   "source": [
    "# 2-3 Python的内置类型"
   ]
  },
  {
   "cell_type": "code",
   "execution_count": 3,
   "metadata": {},
   "outputs": [
    {
     "data": {
      "text/plain": [
       "True"
      ]
     },
     "execution_count": 3,
     "metadata": {},
     "output_type": "execute_result"
    }
   ],
   "source": [
    "# None全局只有唯一的一个，所有的None都指向同一个内存地址        题外话：NoneType类型的意义是指某个对象没有类型 其值为None\n",
    "a = None\n",
    "b = None \n",
    "id(a)==id(b)"
   ]
  },
  {
   "cell_type": "code",
   "execution_count": 5,
   "metadata": {},
   "outputs": [
    {
     "data": {
      "text/plain": [
       "NoneType"
      ]
     },
     "execution_count": 5,
     "metadata": {},
     "output_type": "execute_result"
    }
   ],
   "source": [
    "# 题外话：NoneType类型的意义是指某个对象没有类型 其值为None\n",
    "# NoneType之所以出现是因为定义了一个变量或函数，却没有值或者返回值，因此会默认值为None。 \n",
    "type(a)      # 因为a值为None，所以a的类型为NoneType"
   ]
  },
  {
   "cell_type": "code",
   "execution_count": 4,
   "metadata": {},
   "outputs": [
    {
     "ename": "NameError",
     "evalue": "name 'NoneType' is not defined",
     "output_type": "error",
     "traceback": [
      "\u001b[0;31m---------------------------------------------------------------------------\u001b[0m",
      "\u001b[0;31mNameError\u001b[0m                                 Traceback (most recent call last)",
      "\u001b[0;32m<ipython-input-4-ae2ac750eb28>\u001b[0m in \u001b[0;36m<module>\u001b[0;34m\u001b[0m\n\u001b[0;32m----> 1\u001b[0;31m \u001b[0mtype\u001b[0m\u001b[0;34m(\u001b[0m\u001b[0mNoneType\u001b[0m\u001b[0;34m)\u001b[0m\u001b[0;34m\u001b[0m\u001b[0;34m\u001b[0m\u001b[0m\n\u001b[0m",
      "\u001b[0;31mNameError\u001b[0m: name 'NoneType' is not defined"
     ]
    }
   ],
   "source": [
    "type(NoneType)"
   ]
  },
  {
   "cell_type": "code",
   "execution_count": 50,
   "metadata": {},
   "outputs": [],
   "source": [
    "# 序列类型 \n",
    "# list\n",
    "# bytes bytearray memoryview(二进制序列)\n",
    "# range\n",
    "# tuple\n",
    "# str\n",
    "# array"
   ]
  },
  {
   "cell_type": "code",
   "execution_count": 21,
   "metadata": {},
   "outputs": [],
   "source": [
    "# 映射类型（dict）"
   ]
  },
  {
   "cell_type": "code",
   "execution_count": 22,
   "metadata": {},
   "outputs": [],
   "source": [
    "# 集合 set frozenset(不可修改的set)\n",
    "# Python中的set 和 dict  的实现原理几乎一致，效率会非常高的"
   ]
  },
  {
   "cell_type": "code",
   "execution_count": 23,
   "metadata": {},
   "outputs": [],
   "source": [
    "# 上下文管理类型 with"
   ]
  },
  {
   "cell_type": "code",
   "execution_count": 24,
   "metadata": {},
   "outputs": [],
   "source": [
    "# 其他的类型\n",
    "# 模块类型 class和实例 函数类型 方法类型 代码类型（代码本省也会被Python解释器理解为一个代码对象） \n",
    "# object对象 type类型 ellipsis类型（省略号类型） motimplemented类型 "
   ]
  },
  {
   "cell_type": "markdown",
   "metadata": {},
   "source": [
    "### 第三章 魔法函数"
   ]
  },
  {
   "cell_type": "code",
   "execution_count": 9,
   "metadata": {},
   "outputs": [
    {
     "name": "stdout",
     "output_type": "stream",
     "text": [
      "tom\n",
      "bob\n",
      "jane\n",
      "['tom']\n"
     ]
    }
   ],
   "source": [
    "# 3-1 魔法函数\n",
    "# 调用魔法方法实现list效果\n",
    "class Company(object):\n",
    "    def __init__(self, employee_list):\n",
    "        self.employee = employee_list\n",
    "        \n",
    "    def __getitem__(self, item):                 # 通过定义__getitem__，使得类变成可迭代类型      # 并不是变成了可迭代的类型，而是通过变成了list类型，可以使用for循环，因为for循环在判定循环的时候判定的是__iter__，其次是 __getitem__\n",
    "        return self.employee[item]\n",
    "\n",
    "company = Company([\"tom\", \"bob\", \"jane\"])\n",
    "\n",
    "for em in company:\n",
    "    print(em)\n",
    "\n",
    "# python实际上会做一切优化，使用for循环实际上是要拿到company的迭代器的，即应该是类中的 __iter__魔法方法，\n",
    "# 但是当没有的时候，就会去找__getitem__方法，一次一次的调用，直到数据全部取完为止（通过将数字带入尝试，直到getitem报错为止，但是会自动处理异常）。\n",
    "print(company[0:1])"
   ]
  },
  {
   "cell_type": "code",
   "execution_count": 5,
   "metadata": {},
   "outputs": [
    {
     "data": {
      "text/plain": [
       "'bob'"
      ]
     },
     "execution_count": 5,
     "metadata": {},
     "output_type": "execute_result"
    }
   ],
   "source": [
    "class Company(object):\n",
    "    def __init__(self, employee_list):\n",
    "        self.employee = employee_list\n",
    "        \n",
    "    def __getitem__(self, item):                 # 通过定义__getitem__，使得类变成可迭代类型 \n",
    "        return self.employee[item]\n",
    "\n",
    "company = Company([\"tom\", \"bob\", \"jane\"])\n",
    "company[1]"
   ]
  },
  {
   "cell_type": "code",
   "execution_count": null,
   "metadata": {},
   "outputs": [],
   "source": [
    "__getitem__(self,key)中的key本意只是接受数值和slice（即切片），但是在使用的时候，直接调用的时候能接受[]中的任何值，但是在for循环的时候，只能是数值。"
   ]
  },
  {
   "cell_type": "code",
   "execution_count": 227,
   "metadata": {},
   "outputs": [
    {
     "name": "stdout",
     "output_type": "stream",
     "text": [
      "0\n",
      "tom\n",
      "1\n",
      "bob\n",
      "2\n",
      "jane\n",
      "3\n"
     ]
    }
   ],
   "source": [
    "class Company(object):\n",
    "    def __init__(self, employee_list):\n",
    "        self.employee = employee_list\n",
    "        \n",
    "    def __getitem__(self, item):\n",
    "        print(item)\n",
    "        return self.employee[item]\n",
    "\n",
    "company = Company([\"tom\", \"bob\", \"jane\"])\n",
    "# company[1]\n",
    "for em in company:\n",
    "    print(em)\n",
    "        "
   ]
  },
  {
   "cell_type": "code",
   "execution_count": 91,
   "metadata": {},
   "outputs": [],
   "source": [
    "# Python的魔法方法__getitem__ 可以让对象实现迭代功能，这样就可以使用for...in... 来迭代该对象了\n",
    "# 在用 for..in.. 迭代对象时，如果对象没有实现 __iter__ __next__ 迭代器协议，Python的解释器就会去寻找__getitem__ 来迭代对象，如果连__getitem__ 都没有定义，这解释器就会报对象不是迭代器的错误：\n",
    "# TypeError: 'Animal' object is not iterable\n"
   ]
  },
  {
   "cell_type": "code",
   "execution_count": 12,
   "metadata": {},
   "outputs": [
    {
     "name": "stdout",
     "output_type": "stream",
     "text": [
      "This is id\n",
      "__getitem__被调用\n",
      "python\n",
      "This is id\n",
      "__getitem__被调用\n",
      "99\n",
      "This is id\n"
     ]
    },
    {
     "data": {
      "text/plain": [
       "'\\n但是，注意的是，在使用for in 的时候，若没有__iter__，而使用__getitem__(self, item)的时候，此时for传递过来的时候都是数字，即item接受到的是序列值，而不能在for in 字典的时候，接受键\\n'"
      ]
     },
     "execution_count": 12,
     "metadata": {},
     "output_type": "execute_result"
    }
   ],
   "source": [
    "# __getitem__(self,key):   实现了__getitem__的类的实例对象就可以使用 实例对象[] 的方式取值\n",
    "# 这个方法返回与指定键相关联的值。对序列来说，键应该是0~n-1的整数，其中n为序列的长度。对映射来说，键可以是任何类型。\n",
    "# 验证：\n",
    "class Tag:\n",
    "    def __init__(self, id):\n",
    "        self.id = id\n",
    " \n",
    "    def __getitem__(self, item):\n",
    "        print('__getitem__被调用')\n",
    "        print(item)                    #  item的值为实例化对象调用时[]中的值\n",
    "        return self.id\n",
    "    \n",
    "a = Tag('This is id')\n",
    "print(a.id)\n",
    "print(a['python'])\n",
    "print(a[99])\n",
    "# 因为getitem的item可以接受各种类型，这里因为__getitem__方法的返回值对item没有要求，所以无所谓，   但是字典的时候就只能是键，序列的话就之能是序列值。\n",
    "'''\n",
    "但是，注意的是，在使用for in 的时候，若没有__iter__，而使用__getitem__(self, item)的时候，此时for传递过来的时候都是数字，即item接受到的是序列值，而不能在for in 字典的时候，接受键\n",
    "'''"
   ]
  },
  {
   "cell_type": "code",
   "execution_count": 246,
   "metadata": {},
   "outputs": [
    {
     "name": "stdout",
     "output_type": "stream",
     "text": [
      "__getitem__被调用\n",
      "This is python\n"
     ]
    }
   ],
   "source": [
    "# 但是事实上这样用是不好的，应该指明类型   即对item的类型有要求，这样不会什么都能传进[]中了\n",
    "class Tag:\n",
    "    def __init__(self):\n",
    "        self.change={'python':'This is python'}\n",
    " \n",
    "    def __getitem__(self, item):\n",
    "        print('__getitem__被调用')\n",
    "        return self.change[item]\n",
    "    \n",
    "a=Tag()\n",
    "print(a['python'])"
   ]
  },
  {
   "cell_type": "code",
   "execution_count": 11,
   "metadata": {},
   "outputs": [
    {
     "name": "stdout",
     "output_type": "stream",
     "text": [
      "value0\n"
     ]
    },
    {
     "data": {
      "text/plain": [
       "'value1'"
      ]
     },
     "execution_count": 11,
     "metadata": {},
     "output_type": "execute_result"
    }
   ],
   "source": [
    "# 利用魔法方法实现类似字典\n",
    "class DictDemo:\n",
    "    def __init__(self,key,value):\n",
    "        self.dict = {}\n",
    "        self.dict[key] = value\n",
    "\n",
    "    def __getitem__(self,key):\n",
    "        return self.dict[key]\n",
    "\n",
    "    def __setitem__(self,key,value):\n",
    "        self.dict[key] = value\n",
    "\n",
    "dictDemo = DictDemo('key0','value0')\n",
    "print(dictDemo['key0'])       # 此处调用了类的__getitem__方法   \n",
    "dictDemo['key1'] = 'value1'   # 此处调用了类的__setitem__方法 \n",
    "dictDemo['key1']\n"
   ]
  },
  {
   "cell_type": "code",
   "execution_count": 248,
   "metadata": {},
   "outputs": [
    {
     "name": "stdout",
     "output_type": "stream",
     "text": [
      "a\n",
      "b\n"
     ]
    }
   ],
   "source": [
    "a={'a':1,'b':3}\n",
    "for i in a:\n",
    "    print(i)"
   ]
  },
  {
   "cell_type": "code",
   "execution_count": 257,
   "metadata": {},
   "outputs": [
    {
     "ename": "KeyError",
     "evalue": "0",
     "output_type": "error",
     "traceback": [
      "\u001b[1;31m---------------------------------------------------------------------------\u001b[0m",
      "\u001b[1;31mKeyError\u001b[0m                                  Traceback (most recent call last)",
      "\u001b[1;32m<ipython-input-257-72a84e097962>\u001b[0m in \u001b[0;36m<module>\u001b[1;34m\u001b[0m\n\u001b[0;32m     10\u001b[0m \u001b[0mdictDemo\u001b[0m \u001b[1;33m=\u001b[0m \u001b[0mDictDemo\u001b[0m\u001b[1;33m(\u001b[0m\u001b[1;34m'key0'\u001b[0m\u001b[1;33m,\u001b[0m\u001b[1;34m'value0'\u001b[0m\u001b[1;33m)\u001b[0m\u001b[1;33m\u001b[0m\u001b[1;33m\u001b[0m\u001b[0m\n\u001b[0;32m     11\u001b[0m \u001b[0mdictDemo\u001b[0m\u001b[1;33m[\u001b[0m\u001b[1;34m'key1'\u001b[0m\u001b[1;33m]\u001b[0m \u001b[1;33m=\u001b[0m \u001b[1;34m'value1'\u001b[0m\u001b[1;33m\u001b[0m\u001b[1;33m\u001b[0m\u001b[0m\n\u001b[1;32m---> 12\u001b[1;33m \u001b[1;32mfor\u001b[0m \u001b[0mi\u001b[0m \u001b[1;32min\u001b[0m \u001b[0mdictDemo\u001b[0m\u001b[1;33m:\u001b[0m\u001b[1;33m\u001b[0m\u001b[1;33m\u001b[0m\u001b[0m\n\u001b[0m\u001b[0;32m     13\u001b[0m     \u001b[0mprint\u001b[0m\u001b[1;33m(\u001b[0m\u001b[0mi\u001b[0m\u001b[1;33m)\u001b[0m\u001b[1;33m\u001b[0m\u001b[1;33m\u001b[0m\u001b[0m\n\u001b[0;32m     14\u001b[0m \u001b[1;33m\u001b[0m\u001b[0m\n",
      "\u001b[1;32m<ipython-input-257-72a84e097962>\u001b[0m in \u001b[0;36m__getitem__\u001b[1;34m(self, key)\u001b[0m\n\u001b[0;32m      4\u001b[0m         \u001b[0mself\u001b[0m\u001b[1;33m.\u001b[0m\u001b[0mdict\u001b[0m\u001b[1;33m[\u001b[0m\u001b[0mkey\u001b[0m\u001b[1;33m]\u001b[0m \u001b[1;33m=\u001b[0m \u001b[0mvalue\u001b[0m\u001b[1;33m\u001b[0m\u001b[1;33m\u001b[0m\u001b[0m\n\u001b[0;32m      5\u001b[0m     \u001b[1;32mdef\u001b[0m \u001b[0m__getitem__\u001b[0m\u001b[1;33m(\u001b[0m\u001b[0mself\u001b[0m\u001b[1;33m,\u001b[0m\u001b[0mkey\u001b[0m\u001b[1;33m)\u001b[0m\u001b[1;33m:\u001b[0m\u001b[1;33m\u001b[0m\u001b[1;33m\u001b[0m\u001b[0m\n\u001b[1;32m----> 6\u001b[1;33m         \u001b[1;32mreturn\u001b[0m \u001b[0mself\u001b[0m\u001b[1;33m.\u001b[0m\u001b[0mdict\u001b[0m\u001b[1;33m[\u001b[0m\u001b[0mkey\u001b[0m\u001b[1;33m]\u001b[0m\u001b[1;33m\u001b[0m\u001b[1;33m\u001b[0m\u001b[0m\n\u001b[0m\u001b[0;32m      7\u001b[0m     \u001b[1;32mdef\u001b[0m \u001b[0m__setitem__\u001b[0m\u001b[1;33m(\u001b[0m\u001b[0mself\u001b[0m\u001b[1;33m,\u001b[0m\u001b[0mkey\u001b[0m\u001b[1;33m,\u001b[0m\u001b[0mvalue\u001b[0m\u001b[1;33m)\u001b[0m\u001b[1;33m:\u001b[0m\u001b[1;33m\u001b[0m\u001b[1;33m\u001b[0m\u001b[0m\n\u001b[0;32m      8\u001b[0m         \u001b[0mself\u001b[0m\u001b[1;33m.\u001b[0m\u001b[0mdict\u001b[0m\u001b[1;33m[\u001b[0m\u001b[0mkey\u001b[0m\u001b[1;33m]\u001b[0m \u001b[1;33m=\u001b[0m \u001b[0mvalue\u001b[0m\u001b[1;33m\u001b[0m\u001b[1;33m\u001b[0m\u001b[0m\n",
      "\u001b[1;31mKeyError\u001b[0m: 0"
     ]
    }
   ],
   "source": [
    "class DictDemo:\n",
    "    def __init__(self,key,value):\n",
    "        self.dict = {}\n",
    "        self.dict[key] = value\n",
    "    def __getitem__(self,key):\n",
    "        return self.dict[key]\n",
    "    def __setitem__(self,key,value):\n",
    "        self.dict[key] = value\n",
    "              \n",
    "dictDemo = DictDemo('key0','value0')\n",
    "dictDemo['key1'] = 'value1'\n",
    "for i in dictDemo:\n",
    "    print(i)\n",
    "\n",
    "# 这里会出问题的原因是因为__getitem__中的key在for循环的时候接受的是序列号0123之类的，而字典中a[1]是非法的，字典是不接受索引的。\n",
    "# for循环的时候，传递的是索引值0123，此时__getitem__接受的key就是索引值，return self.dict[key] 中的key就是索引，而字典类型是不接受索引的。"
   ]
  },
  {
   "cell_type": "code",
   "execution_count": 258,
   "metadata": {},
   "outputs": [
    {
     "ename": "KeyError",
     "evalue": "1",
     "output_type": "error",
     "traceback": [
      "\u001b[1;31m---------------------------------------------------------------------------\u001b[0m",
      "\u001b[1;31mKeyError\u001b[0m                                  Traceback (most recent call last)",
      "\u001b[1;32m<ipython-input-258-3b6a0bb53239>\u001b[0m in \u001b[0;36m<module>\u001b[1;34m\u001b[0m\n\u001b[0;32m      1\u001b[0m \u001b[1;31m# 验证字典不接受索引   通过报错得知，上例的分析正确，for传的是 0123 的索引类型，而字典不接受索引\u001b[0m\u001b[1;33m\u001b[0m\u001b[1;33m\u001b[0m\u001b[1;33m\u001b[0m\u001b[0m\n\u001b[0;32m      2\u001b[0m \u001b[0ma\u001b[0m\u001b[1;33m=\u001b[0m\u001b[1;33m{\u001b[0m\u001b[1;34m'a'\u001b[0m\u001b[1;33m:\u001b[0m\u001b[1;36m1\u001b[0m\u001b[1;33m,\u001b[0m\u001b[1;34m'b'\u001b[0m\u001b[1;33m:\u001b[0m\u001b[1;36m3\u001b[0m\u001b[1;33m}\u001b[0m\u001b[1;33m\u001b[0m\u001b[1;33m\u001b[0m\u001b[0m\n\u001b[1;32m----> 3\u001b[1;33m \u001b[0ma\u001b[0m\u001b[1;33m[\u001b[0m\u001b[1;36m1\u001b[0m\u001b[1;33m]\u001b[0m\u001b[1;33m\u001b[0m\u001b[1;33m\u001b[0m\u001b[0m\n\u001b[0m",
      "\u001b[1;31mKeyError\u001b[0m: 1"
     ]
    }
   ],
   "source": [
    "# 验证字典不接受索引   通过报错得知，上例的分析正确，for传的是 0123 的索引类型，而字典不接受索引\n",
    "a={'a':1,'b':3}\n",
    "a[1]"
   ]
  },
  {
   "cell_type": "code",
   "execution_count": 12,
   "metadata": {},
   "outputs": [
    {
     "name": "stdout",
     "output_type": "stream",
     "text": [
      "{'dict': {'key0': 'value0'}}\n",
      "key0\n",
      "key1\n"
     ]
    }
   ],
   "source": [
    "# 解决方法，自己实现字典的key()方法\n",
    "class DictDemo:\n",
    "    def __init__(self,key,value):\n",
    "        self.dict = {}\n",
    "        self.dict[key] = value\n",
    "    def __getitem__(self,key):\n",
    "        return self.dict[key]\n",
    "    def __setitem__(self,key,value):\n",
    "        self.dict[key] = value\n",
    "    \n",
    "    def keys(self):\n",
    "        return self.dict.keys()\n",
    "        \n",
    "        \n",
    "dictDemo = DictDemo('key0','value0')\n",
    "print(dictDemo.__dict__)\n",
    "dictDemo['key1'] = 'value1'\n",
    "for i in dictDemo.keys():\n",
    "    print(i)"
   ]
  },
  {
   "cell_type": "code",
   "execution_count": 23,
   "metadata": {},
   "outputs": [
    {
     "name": "stdout",
     "output_type": "stream",
     "text": [
      "__setitem__\n"
     ]
    }
   ],
   "source": [
    "class DictDemo:\n",
    "    def __init__(self, key, value):\n",
    "        self.dict = {}\n",
    "        \n",
    "    def __setitem__(self, key, value):  # __setitem__的作用是，当对实例对象进行[]操作的时候就会调用\n",
    "        print(\"__setitem__\")\n",
    "    \n",
    "dictDemo = DictDemo('key','value')\n",
    "dictDemo['ha']=1   \n"
   ]
  },
  {
   "cell_type": "code",
   "execution_count": 85,
   "metadata": {},
   "outputs": [],
   "source": [
    "# 3-2 Python数据模型对对Python的影响\n",
    "# 魔法方法即是Python的数据模型，通过定义魔法函数，会对Python的一些使用产生影响\n"
   ]
  },
  {
   "cell_type": "raw",
   "metadata": {},
   "source": [
    "# 3-3 python魔法函数汇总\n",
    "\n",
    "# 分两大类：非数学运算和数学运算\n",
    "# 非数学运算：\n",
    "# 字符串表示 __repr__    __str__\n",
    "# 集合、序列相关 __len__ __getitem__  __setitem__  __delitem__  __contains__\n",
    "# 迭代相关  __iter__  __next__\n",
    "# 可调用  __call__\n",
    "# with上下文管理器  __enter__  __exit__\n",
    "# 数值转换 __abs__ __bool__  __int__  __float__  __hash__  __index__\n",
    "# 元类相关  __new__  __init__  \n",
    "# 属性相关 __getattr__ 、__setattr__    __getattribute__、__setattribute__  __dir__\n",
    "# 属性描述符  __get__ __set__  __delete__\n",
    "# 协程  __await__ __aiter__ __anext__ __aenter__  __aexit__\n",
    "\n",
    "# 数学运算 \n",
    "#\n",
    "#\n",
    "#\n",
    "#"
   ]
  },
  {
   "cell_type": "code",
   "execution_count": 19,
   "metadata": {},
   "outputs": [
    {
     "name": "stdout",
     "output_type": "stream",
     "text": [
      "<__main__.Company object at 0x7fbcb026c190>\n"
     ]
    }
   ],
   "source": [
    "#字符串表示 魔法方法演示\n",
    "class Company(object):\n",
    "    def __init__(self, employee_list):\n",
    "        self.employee = employee_list\n",
    "        \n",
    "    def __getitem__(self, item):\n",
    "        print(item)\n",
    "        return self.employee[item]\n",
    "\n",
    "company = Company([\"tom\", \"bob\", \"jane\"])\n",
    "\n",
    "\n",
    "print(company)   # 直接打印对象的时候是打印的内存地址\n"
   ]
  },
  {
   "cell_type": "code",
   "execution_count": 16,
   "metadata": {},
   "outputs": [
    {
     "name": "stdout",
     "output_type": "stream",
     "text": [
      "<__main__.Company object at 0x7fbcb0259810>\n"
     ]
    }
   ],
   "source": [
    "# 实际上在print类对象的时候，隐含调用str()方法\n",
    "print(str(company))\n"
   ]
  },
  {
   "cell_type": "code",
   "execution_count": 148,
   "metadata": {},
   "outputs": [],
   "source": []
  },
  {
   "cell_type": "code",
   "execution_count": 21,
   "metadata": {},
   "outputs": [
    {
     "name": "stdout",
     "output_type": "stream",
     "text": [
      "tom,bob,jane\n"
     ]
    },
    {
     "data": {
      "text/plain": [
       "<__main__.Company at 0x7fbcb0265bd0>"
      ]
     },
     "execution_count": 21,
     "metadata": {},
     "output_type": "execute_result"
    }
   ],
   "source": [
    "# 我们可以通过在类中定义__str__魔法方法，改变print的格式\n",
    "class Company(object):\n",
    "    def __init__(self, employee_list):\n",
    "        self.employee = employee_list\n",
    "    \n",
    "    def __str__(self):\n",
    "        return ','.join(self.employee)   # 返回值的格式必须是str类型的。\n",
    "    \n",
    "#     def __repr__(self):  # 用于设置在开发者模式下，直接company时的输出值。\n",
    "#         return ','.join(self.employee)   # 返回值的格式必须是str类型的。\n",
    "    \n",
    "company = Company([\"tom\", \"bob\", \"jane\"])\n",
    "\n",
    "print(company)   # 设置__str__可以改变输出的格式\n",
    "company  # 开发者模式下，直接company会输出和没有设置__str__时print输出一样的值，但是设置了__repr__后就会改变输出格式。"
   ]
  },
  {
   "cell_type": "raw",
   "metadata": {},
   "source": [
    "总结：  字符串表示 __repr__ 用于开发者模式下的格式化输出   __str__一般情况下的格式化输出\n",
    "       实现魔法方法不需要类继承什么，而是只用一个类实现了某个魔法方法，Python解释器就能自动识别出它具有什么特性。不需要我们显示的去调用，\n",
    "       即定义了魔法方法后就不需要去调用它，解释器会会知道在什么情况下要调用\n",
    "       如实现了__repr__魔法方法后，不需要显式的调用，而是只要写company，解释器就知道要调用这个，解释器自己调用company.__repr__或是repr(company)"
   ]
  },
  {
   "cell_type": "code",
   "execution_count": 144,
   "metadata": {},
   "outputs": [
    {
     "name": "stdout",
     "output_type": "stream",
     "text": [
      "tom,bob,jane\n"
     ]
    }
   ],
   "source": [
    "# 子类会继承父类的魔法方法\n",
    "class a(Company):\n",
    "    def __init__(self, *args):\n",
    "        super().__init__(*args)\n",
    "        \n",
    "b = a([\"tom\", \"bob\", \"jane\"])\n",
    "print(b)  "
   ]
  },
  {
   "cell_type": "code",
   "execution_count": 262,
   "metadata": {},
   "outputs": [
    {
     "name": "stdout",
     "output_type": "stream",
     "text": [
      "x:3, y:5\n"
     ]
    }
   ],
   "source": [
    "# 实现对象的相加  魔法方法 __add__\n",
    "class MyVector(object):\n",
    "    def __init__(self, x, y):\n",
    "        self.x = x\n",
    "        self.y = y\n",
    "        \n",
    "    def __add__(self, other_instance):\n",
    "        \"\"\"实现的是对象的相加，返回值是一个对象\"\"\"\n",
    "        re_vector = MyVector(self.x + other_instance.x, self.y + other_instance.y)\n",
    "        return re_vector\n",
    "    \n",
    "    def __str__(self):                        # 因为__add__方法的返回值是实例对象，所以要使用__str__直接输出实例对象进行样式格式化，这样能直观的显示加的执行效果\n",
    "        return f\"x:{self.x}, y:{self.y}\"\n",
    "    \n",
    "first_vec = MyVector(1, 2)\n",
    "second_vec = MyVector(2, 3)\n",
    "print(first_vec + second_vec)\n",
    "        "
   ]
  },
  {
   "cell_type": "raw",
   "metadata": {},
   "source": [
    "# 3-4 魔法函数的重要性 len() 方法的特殊性\n",
    "len方法在处理内置的几个数据类型list、dict、set这些原生的数据结构（都是用cpython实现的），性能会非常的高。\n",
    "在是用len对这些数据进行运算的时候，会走捷径，直接读取这些数据在内部负责维护长度的部分，是一个数，而不用再去遍历这些数据。\n",
    "所以在使用Python的时候，尽量去使用这些内置的原生类型：1 性能很高 2 在使用一些方法的时候，如len，因为在内部做过一些优化，使用原生类型的话，len去处理的时候，也比我们直接用Python去实现效果更高。\n",
    "\n",
    "想要说明的是，一些方法在Python内部的实现都是做过相应优化的，直接使用会比再去实现效率，性能更高。\n",
    "如for循环，在处理类对象的时候，会首先去找类中实现的__iter__魔法方法，如果没有，则就会去找__getitem__魔法方法，这都是Python内部实现的，直接调用，性能效率都要高。\n",
    "\n",
    "总结：类定义了魔法函数后，就会具有一定的特性，如定义了__iter__，类就是可迭代的了。提升了代码的灵活性。\n"
   ]
  },
  {
   "cell_type": "markdown",
   "metadata": {},
   "source": [
    "### 第四章 深入类和对象"
   ]
  },
  {
   "cell_type": "code",
   "execution_count": 6,
   "metadata": {},
   "outputs": [
    {
     "name": "stdout",
     "output_type": "stream",
     "text": [
      "i am a cat\n"
     ]
    }
   ],
   "source": [
    "# 4-1 鸭子类型 以及鸭子类型和多态的关系\n",
    "# 鸭子类型是贯穿了Python类的核心知识点，维基百科：当你看见一只鸟走起来像鸭子，游泳起来像鸭子，叫起来像鸭子，那么这只鸟就可以被称为鸭子。\n",
    "# 鸭子类型示例：\n",
    "class Cat(object):\n",
    "    def say(self):\n",
    "        print(\"i am a cat\")\n",
    "        \n",
    "class Dog(object):\n",
    "    def say(self):\n",
    "        print(\"i am a dog\")\n",
    "        \n",
    "class Duck(object):\n",
    "    def say(self):\n",
    "        print(\"i am a duck\")\n",
    "        \n",
    "animal = Cat                     # 特点是这三个类都实现了say这一方法\n",
    "animal().say()\n"
   ]
  },
  {
   "cell_type": "markdown",
   "metadata": {},
   "source": [
    "##### 类比在java中实现多态\n",
    "##### java中实现多态：\n",
    "```java\n",
    "class Animal:\n",
    "    def say(self):\n",
    "        print(\"i am a animal\")\n",
    "\n",
    "class Cat(Animal): # 首先继承Animal这个类，然后再重写say这个方法\n",
    "    def say(self):\n",
    "        print(\"i am a cat\")\n",
    "\n",
    "Animal an = Cat()           # java中在申明变量的时候必须指明变量的类型，但是Python不要。\n",
    "an.say()                    # 在java等静态语言中，为了实现多态，做法是定义的时候是父类类型，然后实例化的时候传递的是该父类的子类，然后就可以调用子类的方法。\n",
    "'i am a cat'                # 在java中实际上隐含了一个点就是，必须要继承父类，然后重写与父类相同的方法，才能实现多态\n",
    "```"
   ]
  },
  {
   "cell_type": "code",
   "execution_count": 160,
   "metadata": {},
   "outputs": [
    {
     "name": "stdout",
     "output_type": "stream",
     "text": [
      "i am a cat\n",
      "i am a dog\n",
      "i am a duck\n"
     ]
    }
   ],
   "source": [
    "# 但是在python中就不需要这样\n",
    "# 在python中，变量是动态的，可以指向任意一个类型（动态语言的特性，和静态语言的最大的一个区别），\n",
    "# 鸭子类型演示：\n",
    "class Cat(object):\n",
    "    def say(self):\n",
    "        print(\"i am a cat\")\n",
    "        \n",
    "class Dog(object):\n",
    "    def say(self):\n",
    "        print(\"i am a dog\")\n",
    "        \n",
    "class Duck(object):\n",
    "    def say(self):                   # 特点是这三个类都实现了say这一方法\n",
    "        print(\"i am a duck\")   \n",
    "        \n",
    "animal_list = [Cat, Dog, Duck]\n",
    "for animal in animal_list:\n",
    "    animal().say()"
   ]
  },
  {
   "cell_type": "code",
   "execution_count": 26,
   "metadata": {},
   "outputs": [
    {
     "name": "stdout",
     "output_type": "stream",
     "text": [
      "['bobby1', 'bobby2', 'bobby2', 'bobby', 'bobby3', 'bobby4']\n",
      "{'bobby5', 'bobby6'}\n"
     ]
    }
   ],
   "source": [
    "# Cat、Dog、Duck这三个类都实现了say()这个方法，\n",
    "# 鸭子类型的特点 就是所有的类都实现了同一个方法，这些类就可以归为同一类，这就实现了Python的多态\n",
    "# 在java中，要实现多态，需要所有的类都继承自同一个父类，但是在Python中就只需要实现共同的方法名就行了。\n",
    "a = [\"bobby1\", \"bobby2\"]\n",
    "b = [\"bobby2\", \"bobby\"]\n",
    "name_tuple = (\"bobby3\", \"bobby4\")\n",
    "name_set = set()\n",
    "name_set.add(\"bobby5\")\n",
    "name_set.add(\"bobby6\")\n",
    "a.extend(b)\n",
    "a.extend(name_tuple)     # extend方法的后面的参数是（iterable一个可迭代对象），所以不仅只能接受list，还可以是元组、集合等可迭代的类型，甚至可以是生成器\n",
    "print(a)\n",
    "print(name_set)"
   ]
  },
  {
   "cell_type": "markdown",
   "metadata": {},
   "source": [
    "#### 总结\n",
    "<font color='red'>鸭子类型的特点 就是所有的类都实现了同一个方法，这些类就可以归为同一类</br>\n",
    "这也就解释了，在Python中，只要实现了某种魔法方法（不需要通过继承的方式），就可以具有某些数据类型的特征了，如 实现了`__iter__`就是可迭代的，就可以和可迭代的类型归为同一类对象</br>\n",
    "使用鸭子类型是有好处的：如果我们要写个类，该类要求实现序列的某一些特性，如切片，for循环取值等等，我们可以继承序列的抽象基类，但是我们又不需要其他的功能，此时我们就可以使用鸭子类型，只实现一些魔法函数`__getitem__`和`__iter__`，\n",
    "就能使该类的实例对象能够切片，for循环取值，相比于继承完整的类，鸭子类型值要求实现几个相应的魔法函数，更加轻便</font>"
   ]
  },
  {
   "cell_type": "code",
   "execution_count": 27,
   "metadata": {},
   "outputs": [
    {
     "name": "stdout",
     "output_type": "stream",
     "text": [
      "['c', 'd', 'a', 'b']\n"
     ]
    },
    {
     "data": {
      "text/plain": [
       "'\\n原理解析：\\n因为list对象的extend()方法接受任何可迭代的对象，然后对对象进行for循环取出其中的值进行append()\\n\\ndef extend(self, values):\\n    for v in values:\\n        self.append(v)\\n        \\n执行for循环的时候，Test的__getitem__被调动，key接收数值（缩影），正好self.a是list序列类型，支持索引取值\\n'"
      ]
     },
     "execution_count": 27,
     "metadata": {},
     "output_type": "execute_result"
    }
   ],
   "source": [
    "# 我们要认识到，Python的一些方法中不仅是可以存某个数据，还可以是某一类型的数据，如extend()就是可以接收一切的可迭代的对象，而不只是list等具体的类型。  \n",
    "# 下面定义一个类，实现其__getitem__魔法方法，此时该类就是一个可迭代的对象了，再使用extend()添加\n",
    "class Test(object):\n",
    "    def __init__(self, list_instance):\n",
    "        self.a = list_instance\n",
    "        \n",
    "    def __getitem__(self, key):\n",
    "        return self.a[key]\n",
    "    \n",
    "test = Test(['a','b'])\n",
    "c = [\"c\", \"d\"]\n",
    "c.extend(test) \n",
    "print(c)  # 因为Test类实现了__getitem__方法，所以类Test也是可迭代的，满足extend()的参数要是迭代器的要求\n",
    "\n",
    "'''\n",
    "原理解析：\n",
    "因为list对象的extend()方法接受任何可迭代的对象，然后对对象进行for循环取出其中的值进行append()\n",
    "\n",
    "def extend(self, values):\n",
    "    for v in values:\n",
    "        self.append(v)\n",
    "        \n",
    "执行for循环的时候，Test的__getitem__被调动，key接收数值（缩影），正好self.a是list序列类型，支持索引取值\n",
    "'''"
   ]
  },
  {
   "cell_type": "markdown",
   "metadata": {},
   "source": [
    "###### for 循环是如何工作的\n",
    "https://www.jb51.net/article/117554.htm"
   ]
  },
  {
   "cell_type": "code",
   "execution_count": 193,
   "metadata": {},
   "outputs": [
    {
     "data": {
      "text/plain": [
       "1"
      ]
     },
     "execution_count": 193,
     "metadata": {},
     "output_type": "execute_result"
    }
   ],
   "source": [
    "# 可迭代对象必须实现了__iter__()魔法方法，__iter__()返回一个迭代器对象，而迭代器只需要实现了__next__()方法\n",
    "a = [1,2]\n",
    "iter = a.__iter__()\n",
    "iter.__next__()"
   ]
  },
  {
   "cell_type": "code",
   "execution_count": 191,
   "metadata": {},
   "outputs": [
    {
     "data": {
      "text/plain": [
       "2"
      ]
     },
     "execution_count": 191,
     "metadata": {},
     "output_type": "execute_result"
    }
   ],
   "source": [
    "iter.__next__()"
   ]
  },
  {
   "cell_type": "code",
   "execution_count": 192,
   "metadata": {},
   "outputs": [
    {
     "ename": "StopIteration",
     "evalue": "",
     "output_type": "error",
     "traceback": [
      "\u001b[1;31m---------------------------------------------------------------------------\u001b[0m",
      "\u001b[1;31mStopIteration\u001b[0m                             Traceback (most recent call last)",
      "\u001b[1;32m<ipython-input-192-b7997f96db20>\u001b[0m in \u001b[0;36m<module>\u001b[1;34m\u001b[0m\n\u001b[1;32m----> 1\u001b[1;33m \u001b[0miter\u001b[0m\u001b[1;33m.\u001b[0m\u001b[0m__next__\u001b[0m\u001b[1;33m(\u001b[0m\u001b[1;33m)\u001b[0m\u001b[1;33m\u001b[0m\u001b[1;33m\u001b[0m\u001b[0m\n\u001b[0m",
      "\u001b[1;31mStopIteration\u001b[0m: "
     ]
    }
   ],
   "source": [
    "iter.__next__()   # 我们看到它不断地调用__next__方法，其实就是不断地迭代获取容器中的元素，直到容器中没有更多元素抛出 StopIteration 异常为止。（在for循环的实现中，for会自动处理StopIteration 异常，不会抛出，此时也就意味着for循环结束）"
   ]
  },
  {
   "cell_type": "markdown",
   "metadata": {},
   "source": [
    "那么 for 语句又是如何循环的呢？（在含有__iter__方法的情况下）它的步骤是：\n",
    "1. 先判断对象是否为可迭代对象，不是的话直接报错，抛出TypeError异常，是的话，调用`__iter__`，返回一个迭代器对象\n",
    "2. 不断地调用迭代器的`__next__`方法，每次按序返回迭代器中的一个值\n",
    "3. 迭代到最后，没有更多元素了，就抛出异常 StopIteration，这个异常python的for循环自己会处理，不会暴露给开发者\n",
    "\n",
    "for 循环本质是不断地调用迭代器的`__next__`方法，直到有 StopIteration 异常为止，所以任何可迭代对象都可以作用在for循环中。"
   ]
  },
  {
   "cell_type": "code",
   "execution_count": 195,
   "metadata": {},
   "outputs": [],
   "source": [
    "# 模仿内建函数range的功能的类\n",
    "class MyRange:\n",
    "    def __init__(self, num):\n",
    "        self.i = 0\n",
    "        self.num = num\n",
    "\n",
    "    def __iter__(self):\n",
    "        return self\n",
    "\n",
    "    def __next__(self):\n",
    "        if self.i < self.num:\n",
    "            i = self.i\n",
    "            self.i += 1\n",
    "            return i\n",
    "        else:# 达到某个条件时必须抛出此异常，否则会无止境地迭代下去\n",
    "            self.i = 0  # 重置标志位，这样可以多次调用创建的示例对象。\n",
    "            raise StopIteration() "
   ]
  },
  {
   "cell_type": "code",
   "execution_count": 196,
   "metadata": {},
   "outputs": [
    {
     "name": "stdout",
     "output_type": "stream",
     "text": [
      "0\n",
      "1\n",
      "2\n"
     ]
    }
   ],
   "source": [
    "for i in MyRange(3):\n",
    "    print(i)"
   ]
  },
  {
   "cell_type": "code",
   "execution_count": 197,
   "metadata": {},
   "outputs": [],
   "source": [
    "# 解析：因为for 会先判断对象是否可迭代，因为类MyRange实现了__iter__，所以该类对象是一个可迭代对象，\n",
    "# 还要求可迭代对象必须返回实现了__next__方法的迭代器，该类中因为类本身实现了__next__方法，所以是一个迭代器，所以在__iter__中只要返回本身的实例对象，就是返回了一个可迭代的对象。\n",
    "# 两个条件都满足，所以for拿到了迭代器，不断调用__next__方法，直到有StopIteration异常为止。"
   ]
  },
  {
   "cell_type": "raw",
   "metadata": {},
   "source": [
    "# 4-2 抽象基类\n",
    "# 当做java中的接口，java中是不能实现多继承的（Java中只能继承一个类，但是可以实现多个接口），接口是不能用来实例化的，\n",
    "# Python中的抽象基类也是不能实例化的，Python是动态语言，动态语言是没有变量的类型的，实际在Python中，变量只是一个符号而已，它是可以指向任意类型的对象，所以在Python中也就没有多态这个概念，我们可以赋值任何类型数据给任意一个变量，而且是可以修改的\n",
    "# 所以不需要像java中去实现一个多态，本身从语言的层面上讲，它就已经是一个支持多态的语言了。\n",
    "因为动态语言不需要指明变量的类型，所以就少了在编译的时候检查类型的环节，所以只有等到运行时才能知道错误，不能事先知道。无法做类型检查\n",
    "\n",
    "Python信奉鸭子类型，贯穿于整个Python面向对象之中，在使用和设计Python的类的时候，一定要将鸭子类型的思想放在首位，和java最大的区别在于，我们在实现class的时候不需要去继承某个指定的类，我们一个类到底有什么特性和到底是属于什么类型，\n",
    "要看里面到底实现了什么魔法函数，不同的魔法函数赋予了类不同的特性。\n",
    "鸭子类型和魔法函数构成了Python的基础，也就是Python的协议，Python本身不是通过去继承某个类或是实现某个接口就具有了某些特性，而是只要我们的类去实现了指定的魔法函数，该类就是某种类型的对象\n",
    "所以在写代码的时候应该尽量去遵从这种协议，写出的代码才足够Python\n",
    "\n",
    "分析：Python动态语言的特性导致变量只是符号，可以指向任意类型 -----> 鸭子类型，只要是所有的类都实现了同一个方法，就是同一种类型 -----> 设计出只要我们的类去实现了指定的魔法函数，该类就是某种类型的对象，都具有同一种特性 \n",
    "\n",
    "\n",
    "抽象基类：\n",
    "1. 在该基础的类中，设定好一些方法，所有继承该基类的类都必须覆盖这些抽象方法\n",
    "2. 抽象基类是无法实例化的\n",
    "疑问：为什么有了鸭子类型还要有抽象基类的概念，直接实现一些方法不就可以了吗\n",
    "假设两种应用场景：\n"
   ]
  },
  {
   "cell_type": "code",
   "execution_count": 4,
   "metadata": {},
   "outputs": [
    {
     "name": "stdout",
     "output_type": "stream",
     "text": [
      "True\n",
      "True\n",
      "True\n",
      "False\n",
      "2\n"
     ]
    }
   ],
   "source": [
    "# 场景一 我们去检查某个类是否有某种方法\n",
    "class Company(object):\n",
    "    def __init__(self, employee_list):\n",
    "        self.employee = employee_list\n",
    "        \n",
    "    def __len__(self):\n",
    "        return len(self.employee)\n",
    "    \n",
    "com = Company(['bobby1','bobby2'])\n",
    "print(hasattr(com, '__len__')) # 判断某个对象是否含有某个属性 \n",
    "print(hasattr(Company,'__len__'))#类中的函数也是类的属性\n",
    "\n",
    "# 我们在某种情况之下，需要判定某个对象的类型\n",
    "from collections.abc import Sized\n",
    "# 一般偏向于用下面这种方法，而不是hasattr()\n",
    "print(isinstance(com, Sized)) # 判断某个对象是否是指定的类型， 因为com实现类__len__方法，     \n",
    "print(len(com))"
   ]
  },
  {
   "cell_type": "code",
   "execution_count": 286,
   "metadata": {},
   "outputs": [],
   "source": [
    "# 场景二 我们需要强制某个子类必须实现某些方法\n",
    "# 如实现了一个web框架，希望集成cache（redis, cache, memorychache），此时我们需要设计一个抽象基类，指定子类必须实现某些方法\n",
    "class CacheBase():\n",
    "    def get(self, key):\n",
    "        pass\n",
    "    def set(self, key, value):\n",
    "        pass\n",
    "# 事先定义一些必须实现的方法    "
   ]
  },
  {
   "cell_type": "code",
   "execution_count": 7,
   "metadata": {},
   "outputs": [
    {
     "ename": "NotImplementedError",
     "evalue": "",
     "output_type": "error",
     "traceback": [
      "\u001b[0;31m---------------------------------------------------------------------------\u001b[0m",
      "\u001b[0;31mNotImplementedError\u001b[0m                       Traceback (most recent call last)",
      "\u001b[0;32m<ipython-input-7-826616cc6cfd>\u001b[0m in \u001b[0;36m<module>\u001b[0;34m\u001b[0m\n\u001b[1;32m     13\u001b[0m \u001b[0;34m\u001b[0m\u001b[0m\n\u001b[1;32m     14\u001b[0m \u001b[0mredis_cache\u001b[0m \u001b[0;34m=\u001b[0m \u001b[0mRedisCache\u001b[0m\u001b[0;34m(\u001b[0m\u001b[0;34m)\u001b[0m\u001b[0;34m\u001b[0m\u001b[0;34m\u001b[0m\u001b[0m\n\u001b[0;32m---> 15\u001b[0;31m \u001b[0mredis_cache\u001b[0m\u001b[0;34m.\u001b[0m\u001b[0mset\u001b[0m\u001b[0;34m(\u001b[0m\u001b[0;34m\"key\"\u001b[0m\u001b[0;34m,\u001b[0m \u001b[0;34m\"value\"\u001b[0m\u001b[0;34m)\u001b[0m\u001b[0;34m\u001b[0m\u001b[0;34m\u001b[0m\u001b[0m\n\u001b[0m\u001b[1;32m     16\u001b[0m \u001b[0;34m\u001b[0m\u001b[0m\n",
      "\u001b[0;32m<ipython-input-7-826616cc6cfd>\u001b[0m in \u001b[0;36mset\u001b[0;34m(self, key, value)\u001b[0m\n\u001b[1;32m      5\u001b[0m         \u001b[0;32mraise\u001b[0m \u001b[0mNotImplementedError\u001b[0m       \u001b[0;31m# 默认是抛出异常的，即提示用户在调用的时候，如果没有自己重新定义这些方法，是会抛出相应的异常\u001b[0m\u001b[0;34m\u001b[0m\u001b[0;34m\u001b[0m\u001b[0m\n\u001b[1;32m      6\u001b[0m     \u001b[0;32mdef\u001b[0m \u001b[0mset\u001b[0m\u001b[0;34m(\u001b[0m\u001b[0mself\u001b[0m\u001b[0;34m,\u001b[0m \u001b[0mkey\u001b[0m\u001b[0;34m,\u001b[0m \u001b[0mvalue\u001b[0m\u001b[0;34m)\u001b[0m\u001b[0;34m:\u001b[0m\u001b[0;34m\u001b[0m\u001b[0;34m\u001b[0m\u001b[0m\n\u001b[0;32m----> 7\u001b[0;31m         \u001b[0;32mraise\u001b[0m \u001b[0mNotImplementedError\u001b[0m\u001b[0;34m\u001b[0m\u001b[0;34m\u001b[0m\u001b[0m\n\u001b[0m\u001b[1;32m      8\u001b[0m \u001b[0;34m\u001b[0m\u001b[0m\n\u001b[1;32m      9\u001b[0m \u001b[0;32mclass\u001b[0m \u001b[0mRedisCache\u001b[0m\u001b[0;34m(\u001b[0m\u001b[0mCacheBase\u001b[0m\u001b[0;34m)\u001b[0m\u001b[0;34m:\u001b[0m\u001b[0;34m\u001b[0m\u001b[0;34m\u001b[0m\u001b[0m\n",
      "\u001b[0;31mNotImplementedError\u001b[0m: "
     ]
    }
   ],
   "source": [
    "# 如何去模拟一个抽象基类\n",
    "class CacheBase():     \n",
    "    '''实现一个缓存基类'''\n",
    "    def get(self, key):\n",
    "        raise NotImplementedError       # 默认是抛出异常的，即提示用户在调用的时候，如果没有自己重新定义这些方法，是会抛出相应的异常\n",
    "    def set(self, key, value):\n",
    "        raise NotImplementedError\n",
    "\n",
    "class RedisCache(CacheBase):\n",
    "#     def set(self, key, value):    # 继承后，重写了抽象基类的方法，则调用的时候就是调用该重写的方法\n",
    "#         pass\n",
    "    pass\n",
    "\n",
    "redis_cache = RedisCache()\n",
    "redis_cache.set(\"key\", \"value\")\n",
    "    "
   ]
  },
  {
   "cell_type": "code",
   "execution_count": 9,
   "metadata": {},
   "outputs": [],
   "source": [
    "# 上例中有个缺点就是，只有在调用set方法的时候才会报异常，没有实现抽象基类的方法，如何实现在初始化的时候就抛出异常呢（当没有实现抽象基类的方法的时候）\n",
    "import abc\n",
    "class CacheBase(metaclass=abc.ABCMeta):     \n",
    "    @abc.abstractmethod\n",
    "    def get(self, key):\n",
    "        pass # 此处就可以直接pass了，不需要raise NotImplementedError，  因为使用了abc，这样当一个类继承该抽象基类时没有实现其抽象方法的时候，就会报错\n",
    "                                  # 相当于之前是手动加保险，用raise手动抛出异常，这里我们借助abc模块，所以即不用手动在写出来了。\n",
    "    @abc.abstractmethod\n",
    "    def set(self, key, value):\n",
    "        pass\n",
    "    \n",
    "class RedisCache(CacheBase):\n",
    "    def get(self, key):\n",
    "        pass\n",
    "    \n",
    "    def set(self, key, value):     # python 中只要求方法名相同即可，不需要参数也要一致，甚至可以将某个方法设置为静态方法都行\n",
    "        pass\n",
    "\n",
    "redis_cache = RedisCache()  # 这样直接在初始化阶段就会告知创建 RedisCache(CacheBase)类的时候要实现的抽象方法 TypeError: Can't instantiate abstract class RedisCache with abstract methods get, set "
   ]
  },
  {
   "cell_type": "code",
   "execution_count": null,
   "metadata": {},
   "outputs": [],
   "source": [
    "\"\"\"\n",
    "使用了abc.abstractmethod之后，该类的子类在继承的时候，必须要实现该方法 \n",
    "\"\"\""
   ]
  },
  {
   "cell_type": "code",
   "execution_count": null,
   "metadata": {},
   "outputs": [],
   "source": [
    "# python的 collections.abc 下存放了很多的抽象基类，且这些抽象基类中都有一个魔法方法，__subclasshook__(cls, C)\n",
    "# 抽象类Sized的实现方式\n",
    "\n",
    "class Sized(metaclass=ABCMeta):\n",
    "    __slots__ = ()\n",
    "    \n",
    "    @abstractmethod\n",
    "    def __len__(self):\n",
    "        return 0\n",
    "    \n",
    "    @classmethod\n",
    "    def __subclasshook__(cls, C):\n",
    "        if cls is Sized:\n",
    "            return _check_methods(C, \"__len__\")\n",
    "        return NotImplemented\n",
    "# 所以是Python中的抽象基类可以用来 1. 调用isinstance   2. 用来作接口的强制规定     \n",
    "\n",
    "# 不推荐使用抽象基类，实际上在作接口的时候我们也是可以有代替的办法的，\n",
    "# Python中虽然实现了静态语言中的抽象类，但还是尽量在重用鸭子类型\n",
    "# Python本身一些类型的实现也不是通过抽象类型来继承的，如list这个可迭代对象也不是通过继承Iterable这个抽象基类来实现的\n",
    "# 使用抽象基类很容易造成设计过度的问题反而不利于理解，还不如使用Mixin（多继承）实现。"
   ]
  },
  {
   "cell_type": "markdown",
   "metadata": {},
   "source": [
    "##### 总结： python 中尽量使用鸭子类型来实现类型 Python本身也是这么做的，不推荐使用抽象基类"
   ]
  },
  {
   "cell_type": "code",
   "execution_count": 12,
   "metadata": {},
   "outputs": [
    {
     "name": "stdout",
     "output_type": "stream",
     "text": [
      "True\n",
      "True\n",
      "<class '__main__.B'>\n",
      "True\n",
      "False\n"
     ]
    }
   ],
   "source": [
    "# 4-4 isinstance和type的区别   推荐使用isinstance 而少用 type\n",
    "\n",
    "class A:\n",
    "    pass\n",
    "\n",
    "class B(A):\n",
    "    pass\n",
    "\n",
    "b = B()\n",
    "print(isinstance(b, B))\n",
    "print(isinstance(b, A))   #因为 A 是 B 的父类，所以B的实例也是A的类型\n",
    "print(type(b))\n",
    "print(type(b) is B)    # is 判断 是否是同一个对象， 比较的是 id()  即 id()==id()这样   而== 判断值类型    type(b)指向B这个类对象 （在内存中只有一个 是类模板）\n",
    "print(type(b) is A)"
   ]
  },
  {
   "cell_type": "markdown",
   "metadata": {},
   "source": [
    "isinstance() 函数来判断一个对象是否是一个已知的类型，类似 type()。\n",
    "isinstance() 与 type() 区别：\n",
    "1. type() 不会认为子类是一种父类类型，不考虑继承关系。\n",
    "2. isinstance() 会认为子类是一种父类类型，考虑继承关系。\n",
    "\n",
    "如果要判断两个类型是否相同推荐使用 isinstance()。\n",
    "\n",
    "因为一般在要判定两个是否是同一类型的时候，基本都是要确定两着是否具有某种共同的属性，\n",
    "而Python采用鸭子类型，如果两者类型相同，就是不是同一个类的实例对象，也说明两者具有相同的方法。\n",
    "例如，想确定两个对象是否都可以使用len()方法，此时就可以判断时候都是Sized这个类的instance。"
   ]
  },
  {
   "cell_type": "code",
   "execution_count": 360,
   "metadata": {},
   "outputs": [
    {
     "name": "stdout",
     "output_type": "stream",
     "text": [
      "2018/12/32\n",
      "2019/1/2\n",
      "2019/12/21\n",
      "False\n"
     ]
    }
   ],
   "source": [
    "# 4-7 类方法 实例方法，静态方法\n",
    "class Date:\n",
    "    def __init__(self, year, month, day):\n",
    "        self.year = year\n",
    "        self.month = month\n",
    "        self.day = day\n",
    "        \n",
    "    def tomorrow(self):\n",
    "        self.day += 1\n",
    "        \n",
    "    @staticmethod\n",
    "    def parse_from_string(date_str):\n",
    "        year, month, day = tuple(date_str.split('-'))  #解包的时候，个数要一致\n",
    "        return Date(int(year), int(month), int(day))\n",
    "    \n",
    "    @staticmethod\n",
    "    def valid_str(date_str):\n",
    "        year, month, day = tuple(date_str.split('-'))\n",
    "        if int(year) > 0 and (int(month) >0 and int(month)<=12) and (int(day)>0 and int(day)<=31):\n",
    "            return True\n",
    "        else:\n",
    "            return False\n",
    "        \n",
    "    @classmethod\n",
    "    def from_string(cls, date_str):\n",
    "        year, month, day = tuple(date_str.split('-'))  \n",
    "        return cls(int(year), int(month), int(day))\n",
    "        \n",
    "    def __str__(self):\n",
    "        return f\"{self.year}/{self.month}/{self.day}\"\n",
    "    \n",
    "if __name__ == \"__main__\":\n",
    "    new_day = Date(2018, 12, 31)\n",
    "    new_day.tomorrow()\n",
    "    print(new_day)\n",
    "    \n",
    "    # 用staticmethod完成完成初始化\n",
    "    print(Date.parse_from_string('2019-1-2'))\n",
    "    \n",
    "    # 用classmethod完成完成初始化\n",
    "    new_day = Date.from_string('2019-12-21')\n",
    "    print(new_day)\n",
    "    \n",
    "    \n",
    "    print(Date.valid_str('2019-12-32'))"
   ]
  },
  {
   "cell_type": "code",
   "execution_count": 13,
   "metadata": {},
   "outputs": [
    {
     "name": "stdout",
     "output_type": "stream",
     "text": [
      "{'school_name': 'xxx学校'}\n",
      "user\n",
      "{'__module__': '__main__', '__init__': <function Student.__init__ at 0x7ff5091f13b0>, '__doc__': None}\n",
      "{'__module__': '__main__', '__doc__': '人', 'name': 'user', '__dict__': <attribute '__dict__' of 'Person' objects>, '__weakref__': <attribute '__weakref__' of 'Person' objects>}\n",
      "上海市\n",
      "{'school_name': 'xxx学校', 'school_address': '上海市'}\n",
      "********************************************************************************\n",
      "['__class__', '__delattr__', '__dict__', '__dir__', '__doc__', '__eq__', '__format__', '__ge__', '__getattribute__', '__gt__', '__hash__', '__init__', '__init_subclass__', '__le__', '__lt__', '__module__', '__ne__', '__new__', '__reduce__', '__reduce_ex__', '__repr__', '__setattr__', '__sizeof__', '__str__', '__subclasshook__', '__weakref__', 'name', 'school_address', 'school_name']\n",
      "['__class__', '__delattr__', '__dict__', '__dir__', '__doc__', '__eq__', '__format__', '__ge__', '__getattribute__', '__gt__', '__hash__', '__init__', '__init_subclass__', '__le__', '__lt__', '__module__', '__ne__', '__new__', '__reduce__', '__reduce_ex__', '__repr__', '__setattr__', '__sizeof__', '__str__', '__subclasshook__', '__weakref__', 'name']\n",
      "['__class__', '__delattr__', '__dict__', '__dir__', '__doc__', '__eq__', '__format__', '__ge__', '__getattribute__', '__gt__', '__hash__', '__init__', '__init_subclass__', '__le__', '__lt__', '__module__', '__ne__', '__new__', '__reduce__', '__reduce_ex__', '__repr__', '__setattr__', '__sizeof__', '__str__', '__subclasshook__', '__weakref__', 'name']\n"
     ]
    }
   ],
   "source": [
    "# 4-9 python对象的自省机制: 通过一定的机制查询到对象的内部结构\n",
    "class Person:\n",
    "    '''人'''\n",
    "    name = 'user'\n",
    "    \n",
    "class Student(Person):\n",
    "    def __init__(self, school_name):\n",
    "        self.school_name = school_name\n",
    "        \n",
    "if __name__ == \"__main__\":\n",
    "    user = Student(\"xxx学校\")\n",
    "    \n",
    "    # 通过__dict__查询属性\n",
    "    print(user.__dict__)\n",
    "    print(user.name)\n",
    "    \n",
    "    print(Student.__dict__)\n",
    "    print(Person.__dict__)  \n",
    "    \n",
    "\n",
    "    # 通过__dict__为实例对象添加属性    利用__dict__本身打印的是字典的特性\n",
    "    user.__dict__['school_address'] = '上海市'\n",
    "    print(user.school_address)\n",
    "    print(user.__dict__)\n",
    "    \n",
    "# __doc__是文档信息\n",
    "   \n",
    "    print('*'*80)\n",
    "    print(dir(user))   # 使用dir()会列出对象的所有属性    只有属性的名称但是没有值\n",
    "    print(dir(Person)) \n",
    "    print(dir(Student))"
   ]
  },
  {
   "cell_type": "code",
   "execution_count": 395,
   "metadata": {},
   "outputs": [
    {
     "name": "stdout",
     "output_type": "stream",
     "text": [
      "['__add__', '__class__', '__contains__', '__delattr__', '__delitem__', '__dir__', '__doc__', '__eq__', '__format__', '__ge__', '__getattribute__', '__getitem__', '__gt__', '__hash__', '__iadd__', '__imul__', '__init__', '__init_subclass__', '__iter__', '__le__', '__len__', '__lt__', '__mul__', '__ne__', '__new__', '__reduce__', '__reduce_ex__', '__repr__', '__reversed__', '__rmul__', '__setattr__', '__setitem__', '__sizeof__', '__str__', '__subclasshook__', 'append', 'clear', 'copy', 'count', 'extend', 'index', 'insert', 'pop', 'remove', 'reverse', 'sort']\n"
     ]
    }
   ],
   "source": [
    "a = [1,2]\n",
    "print(dir(a))  # 这里使用 a.__dict__是没有用的，通过dir(a)的结果也可见，list中没有实现__dict__属性"
   ]
  },
  {
   "cell_type": "markdown",
   "metadata": {},
   "source": [
    "### 关于类的多继承 调用 传参的说明 \n",
    "python在多继承的时候，内部的查找方法的实现叫做C3算法，算法的实现很复杂，但是可以通过类的`__mro__`属性进行查看的</br>\n",
    "而在类的多继承中，super()的调用关系是： 按照`__mro__`的顺序挨个指代"
   ]
  },
  {
   "cell_type": "code",
   "execution_count": 8,
   "metadata": {},
   "outputs": [
    {
     "name": "stdout",
     "output_type": "stream",
     "text": [
      "D\n",
      "B\n",
      "A\n",
      "(<class '__main__.D'>, <class '__main__.B'>, <class '__main__.A'>, <class '__main__.C'>, <class 'object'>)\n"
     ]
    }
   ],
   "source": [
    "# super()实际上并不是父类  而是按照 __mro__的顺序的值进行调用的\n",
    "class A:\n",
    "    def __init__(self):\n",
    "        print(\"A\")\n",
    "        \n",
    "class B(A):\n",
    "    def __init__(self):\n",
    "        print(\"B\")\n",
    "        super().__init__()\n",
    "    \n",
    "class C():\n",
    "    def __init__(self):\n",
    "        print(\"C\")\n",
    "        \n",
    "class D(B,C):\n",
    "    def __init__(self):\n",
    "        print(\"D\")\n",
    "        super().__init__()\n",
    "        \n",
    "\n",
    "if __name__ == \"__main__\":\n",
    "    d = D()\n",
    "    print(D.__mro__)    # 有结果可知，D的super是B，B的super是A，A没有调用super()，所以就没有输出了\n",
    "    "
   ]
  },
  {
   "cell_type": "code",
   "execution_count": 10,
   "metadata": {},
   "outputs": [
    {
     "name": "stdout",
     "output_type": "stream",
     "text": [
      "D\n",
      "B\n",
      "A\n"
     ]
    },
    {
     "ename": "AttributeError",
     "evalue": "'D' object has no attribute 'c'",
     "output_type": "error",
     "traceback": [
      "\u001b[0;31m---------------------------------------------------------------------------\u001b[0m",
      "\u001b[0;31mAttributeError\u001b[0m                            Traceback (most recent call last)",
      "\u001b[0;32m<ipython-input-10-47a3f536c44f>\u001b[0m in \u001b[0;36m<module>\u001b[0;34m\u001b[0m\n\u001b[1;32m     26\u001b[0m \u001b[0;32mif\u001b[0m \u001b[0m__name__\u001b[0m \u001b[0;34m==\u001b[0m \u001b[0;34m\"__main__\"\u001b[0m\u001b[0;34m:\u001b[0m\u001b[0;34m\u001b[0m\u001b[0;34m\u001b[0m\u001b[0m\n\u001b[1;32m     27\u001b[0m     \u001b[0md\u001b[0m \u001b[0;34m=\u001b[0m \u001b[0mD\u001b[0m\u001b[0;34m(\u001b[0m\u001b[0;34m)\u001b[0m\u001b[0;34m\u001b[0m\u001b[0;34m\u001b[0m\u001b[0m\n\u001b[0;32m---> 28\u001b[0;31m     \u001b[0md\u001b[0m\u001b[0;34m.\u001b[0m\u001b[0mfun\u001b[0m\u001b[0;34m(\u001b[0m\u001b[0;34m)\u001b[0m\u001b[0;34m\u001b[0m\u001b[0;34m\u001b[0m\u001b[0m\n\u001b[0m\u001b[1;32m     29\u001b[0m     \u001b[0mprint\u001b[0m\u001b[0;34m(\u001b[0m\u001b[0mD\u001b[0m\u001b[0;34m.\u001b[0m\u001b[0m__mro__\u001b[0m\u001b[0;34m)\u001b[0m\u001b[0;34m\u001b[0m\u001b[0;34m\u001b[0m\u001b[0m\n",
      "\u001b[0;32m<ipython-input-10-47a3f536c44f>\u001b[0m in \u001b[0;36mfun\u001b[0;34m(self)\u001b[0m\n\u001b[1;32m     16\u001b[0m \u001b[0;34m\u001b[0m\u001b[0m\n\u001b[1;32m     17\u001b[0m     \u001b[0;32mdef\u001b[0m \u001b[0mfun\u001b[0m\u001b[0;34m(\u001b[0m\u001b[0mself\u001b[0m\u001b[0;34m)\u001b[0m\u001b[0;34m:\u001b[0m\u001b[0;34m\u001b[0m\u001b[0;34m\u001b[0m\u001b[0m\n\u001b[0;32m---> 18\u001b[0;31m         \u001b[0mprint\u001b[0m\u001b[0;34m(\u001b[0m\u001b[0;34m\"我是C的方法\"\u001b[0m\u001b[0;34m,\u001b[0m\u001b[0mself\u001b[0m\u001b[0;34m.\u001b[0m\u001b[0mc\u001b[0m\u001b[0;34m)\u001b[0m\u001b[0;34m\u001b[0m\u001b[0;34m\u001b[0m\u001b[0m\n\u001b[0m\u001b[1;32m     19\u001b[0m \u001b[0;34m\u001b[0m\u001b[0m\n\u001b[1;32m     20\u001b[0m \u001b[0;34m\u001b[0m\u001b[0m\n",
      "\u001b[0;31mAttributeError\u001b[0m: 'D' object has no attribute 'c'"
     ]
    }
   ],
   "source": [
    "# 上面的例子中，由于实现的问题，类C是没有被调用初始化函数的，而C是被D继承了的，所以当类D用到类C的方法是没有问题的(没有用到类C的实例属性，只调用c的实例方法，且实例方法没有用到c的实例属性就没有问题)，\n",
    "# 但是因为类C是没有被调用初始化函数的，所以若C的方法有参数的话就没法传递进来，此时D调用C含有实例属性的方法的时候就会报错\n",
    "class A:\n",
    "    def __init__(self):\n",
    "        print(\"A\")\n",
    "        \n",
    "class B(A):\n",
    "    def __init__(self):\n",
    "        print(\"B\")\n",
    "        super().__init__()\n",
    "    \n",
    "class C():\n",
    "    def __init__(self,c):\n",
    "        print(\"C\")\n",
    "        self.c = c\n",
    "        \n",
    "    def fun(self):\n",
    "        print(\"我是C的方法\",self.c)\n",
    "    \n",
    "        \n",
    "class D(B,C):\n",
    "    def __init__(self):\n",
    "        print(\"D\")\n",
    "        super().__init__()\n",
    "\n",
    "if __name__ == \"__main__\":\n",
    "    d = D()\n",
    "    d.fun()\n",
    "    print(D.__mro__)   "
   ]
  },
  {
   "cell_type": "code",
   "execution_count": 455,
   "metadata": {},
   "outputs": [
    {
     "name": "stdout",
     "output_type": "stream",
     "text": [
      "D\n",
      "B\n",
      "C\n",
      "A\n",
      "我是C的方法 2\n",
      "(<class '__main__.D'>, <class '__main__.B'>, <class '__main__.C'>, <class '__main__.A'>, <class 'object'>)\n",
      "(<class 'object'>,)\n"
     ]
    }
   ],
   "source": [
    "# 解决办法如下，必须使C的参数能够传递进去，什么位置要传递该参数关键看super()的类是否需要参数\n",
    "class A:\n",
    "    def __init__(self):\n",
    "        print(\"A\")\n",
    "        \n",
    "class B(A):\n",
    "    def __init__(self):\n",
    "        print(\"B\")\n",
    "        super().__init__(c)\n",
    "    \n",
    "class C(A):                         # 让C继承了A\n",
    "    def __init__(self,c):\n",
    "        print(\"C\")\n",
    "        super().__init__()\n",
    "        self.c = c\n",
    "        \n",
    "        \n",
    "    def fun(self):\n",
    "        print(\"我是C的方法\",self.c)\n",
    "    \n",
    "        \n",
    "class D(B,C):\n",
    "    def __init__(self,c):\n",
    "        print(\"D\")\n",
    "        super().__init__()\n",
    "\n",
    "if __name__ == \"__main__\":\n",
    "    d = D(2)\n",
    "    d.fun()\n",
    "    print(D.__mro__)  \n",
    "    print(A.__bases__)\n",
    "\n",
    "# 由结果可知，D的__init__首先要有要传递的参数，D的super是B，B的init不需要参数，所以不传递，B的super是C，C有参数，所以B中的init要传递参数，\n",
    "# C的super是A，A没有参数，就不需要传递了。"
   ]
  },
  {
   "cell_type": "raw",
   "metadata": {},
   "source": [
    "多继承时， 类的继承必须保持一致的 MRO.  若产生冲突则报错， 可通过调用 __mro__  查看类的继承调用顺序，\n",
    "类中的属性以及方法的调用顺序都与MRO 保持一致                                                        http://juke.outofmemory.cn/entry/128164     "
   ]
  },
  {
   "cell_type": "markdown",
   "metadata": {},
   "source": [
    "### Mixin模式"
   ]
  },
  {
   "cell_type": "code",
   "execution_count": 431,
   "metadata": {},
   "outputs": [],
   "source": [
    "# python多继承也是不推荐使用的，尽量只继承一个类\n",
    "# Mixin模式特点：\n",
    "# 1.  Mixin类功能单一  （只有一个方法）\n",
    "# 2. 不和基类关联（即没有继承其他类），可以和任意基类组合，基类可以不和Mixin关联就能初始化成功    ---  组合模式（java）\n",
    "# 3. 在Mixin中不要使用super这种用法\n",
    "# 另外，在设计Mixin类的时候，类名一般以Mixin结尾，不成文的规定"
   ]
  },
  {
   "cell_type": "code",
   "execution_count": 435,
   "metadata": {},
   "outputs": [],
   "source": [
    "# Minix实例：  因为\n",
    "class Vehicle(object):\n",
    "    '''交通工具类'''\n",
    "    pass\n",
    "\n",
    "class PlaneMixin(object):\n",
    "    '''飞行器特性'''\n",
    "    def fly(self):\n",
    "        print('I am flying')\n",
    "        \n",
    "class Airplane(Vehicle, PlaneMixin):\n",
    "    pass\n",
    "\n",
    "\n"
   ]
  },
  {
   "cell_type": "raw",
   "metadata": {},
   "source": [
    "可以看到，上面的Airplane类实现了多继承，不过它继承的第二个类我们起名为PlaneMixin，而不是Plane，这个并不影响功能，但是会告诉后来读代码的人，这个类是一个Mixin类。所以从含义上理解，Airplane只是一个Vehicle，不是一个Plane。这个Mixin，表示混入(mix-in)，它告诉别人，这个类是作为功能添加到子类中，而不是作为父类，它的作用同Java中的接口。\n",
    "\n",
    "使用Mixin类实现多重继承要非常小心\n",
    "\n",
    "1. 首先它必须表示某一种功能，而不是某个物品，如同Java中的Runnable，Callable等\n",
    "2. 其次它必须责任单一，如果有多个功能，那就写多个Mixin类\n",
    "3. 然后，它不依赖于子类的实现\n",
    "4. 最后，子类即便没有继承这个Mixin类，也照样可以工作，就是缺少了某个功能。（比如飞机照样可以载客，就是不能飞了）"
   ]
  },
  {
   "cell_type": "raw",
   "metadata": {},
   "source": [
    "组合优于继承，继承的结构不宜太多，我比较欣赏单一继承结构\n",
    "Mixin其实还是解决高内聚，低耦合的问题"
   ]
  },
  {
   "cell_type": "raw",
   "metadata": {},
   "source": [
    "有两个主要的使用 mixin 的场景:\n",
    "\n",
    "你希望给一个类提供很多可选的特征(feature).\n",
    "你希望在很多不同的类中使用一个特定的特征(feature)."
   ]
  },
  {
   "cell_type": "code",
   "execution_count": null,
   "metadata": {},
   "outputs": [],
   "source": [
    "Mixin 的实现   http://juke.outofmemory.cn/entry/128164\n",
    "假定我们有下面两个类需要Mixin:\n",
    "\n",
    "    class Base(object):\n",
    "        pass\n",
    "\n",
    "    class FeatureMixin(object):\n",
    "        pass\n",
    "\n",
    "方式一：直接定义一个类 mixin 所有的 feature\n",
    "\n",
    "    class MyClass(Base, FeatureMixin):\n",
    "        pass\n",
    "\n",
    "方式二：通过闭包动态定义类来实现 Mixin\n",
    "\n",
    "    def mixin(base, mixin, name):\n",
    "        class MixinClass(base, mixin):\n",
    "            pass\n",
    "        MixinClass.__name__ = name\n",
    "        return MixinClass\n",
    "\n",
    "    MyClass = mixin(Base, FeatureMixin, 'MyClass')\n",
    "    '''\n",
    "    这里注意，实际修改类的__name__属性，并不会对类的调用产生影响，\n",
    "    这里对__name__属性进行设置，是为了保持MyClass的调用一致。\n",
    "    最后还是显示为类MixinClass\n",
    "    '''\n",
    "\n",
    "方式三：使用type动态构造类来实现 Mixin\n",
    "\n",
    "    MyClass = type('MyClass', (Base, FeatureMixin), {})\n",
    "    \n",
    "方式四：更改__bases__来实现 Mixin. 只能 mixin classic class\n",
    "\n",
    "    class Base(otherclass):   # not inherite from object  不从object继承\n",
    "        pass\n",
    "\n",
    "    class FeatureMixin: \n",
    "        pass\n",
    "\n",
    "    Base.__bases__ += (FeatureMixin,) # then Base should have FeatureMixin\n",
    "    '''\n",
    "    方式四中要注意：两个类的基类不能相同，否则出MRO异常，因为mixin类是不推荐有基类的（除了object以外），所以Base类应该继承除了object以外的类。\n",
    "    '''"
   ]
  },
  {
   "cell_type": "code",
   "execution_count": null,
   "metadata": {},
   "outputs": [],
   "source": [
    "# 选项做成配置项来达到动态加载的目的   https://www.jianshu.com/p/dae61c60f323    例子有问题 不对"
   ]
  },
  {
   "cell_type": "code",
   "execution_count": 1,
   "metadata": {},
   "outputs": [
    {
     "name": "stdout",
     "output_type": "stream",
     "text": [
      "140702056257648\n",
      "(1, 2, 3)\n",
      "140701656119488\n"
     ]
    }
   ],
   "source": [
    "a = (1,2)  # 虽然元组是只读列表，不可以修改，但是可以通过 自身加上一个新元组的形式来改变自身----- 实际上是新产生了一个新的元组对象\n",
    "print(id(a))\n",
    "a += (3,)\n",
    "print(a)\n",
    "print(id(a))"
   ]
  },
  {
   "cell_type": "code",
   "execution_count": 12,
   "metadata": {},
   "outputs": [
    {
     "name": "stdout",
     "output_type": "stream",
     "text": [
      "(<class 'object'>,)\n"
     ]
    }
   ],
   "source": [
    "class A:\n",
    "    pass\n",
    "\n",
    "a = A()\n",
    "print(A.__bases__)"
   ]
  },
  {
   "cell_type": "code",
   "execution_count": 25,
   "metadata": {},
   "outputs": [
    {
     "name": "stdout",
     "output_type": "stream",
     "text": [
      "(<class '__main__.A'>, <class '__main__.C'>)\n"
     ]
    }
   ],
   "source": [
    "class C(object):\n",
    "    pass\n",
    "\n",
    "\n",
    "class B(A):\n",
    "    pass\n",
    "\n",
    "B.__bases__ += (C,)\n",
    "\n",
    "print(B.__bases__)"
   ]
  },
  {
   "cell_type": "code",
   "execution_count": 24,
   "metadata": {},
   "outputs": [
    {
     "ename": "TypeError",
     "evalue": "Cannot create a consistent method resolution\norder (MRO) for bases object, FeatureMixin",
     "output_type": "error",
     "traceback": [
      "\u001b[0;31m---------------------------------------------------------------------------\u001b[0m",
      "\u001b[0;31mTypeError\u001b[0m                                 Traceback (most recent call last)",
      "\u001b[0;32m<ipython-input-24-eb753a6c5bfe>\u001b[0m in \u001b[0;36m<module>\u001b[0;34m\u001b[0m\n\u001b[1;32m      5\u001b[0m         \u001b[0;32mpass\u001b[0m\u001b[0;34m\u001b[0m\u001b[0;34m\u001b[0m\u001b[0m\n\u001b[1;32m      6\u001b[0m \u001b[0;34m\u001b[0m\u001b[0m\n\u001b[0;32m----> 7\u001b[0;31m \u001b[0mBase\u001b[0m\u001b[0;34m.\u001b[0m\u001b[0m__bases__\u001b[0m \u001b[0;34m+=\u001b[0m \u001b[0;34m(\u001b[0m\u001b[0mFeatureMixin\u001b[0m\u001b[0;34m,\u001b[0m\u001b[0;34m)\u001b[0m \u001b[0;31m# then Base should have FeatureMixin\u001b[0m\u001b[0;34m\u001b[0m\u001b[0;34m\u001b[0m\u001b[0m\n\u001b[0m",
      "\u001b[0;31mTypeError\u001b[0m: Cannot create a consistent method resolution\norder (MRO) for bases object, FeatureMixin"
     ]
    }
   ],
   "source": [
    "class Base(object):\n",
    "        pass\n",
    "\n",
    "class FeatureMixin: # not inherite from object  不从对象继承\n",
    "        pass\n",
    "\n",
    "Base.__bases__ += (FeatureMixin,) # then Base should have FeatureMixin\n",
    "\n",
    "\"\"\"\n",
    "说明：\n",
    "\n",
    "在使用该中方式进行继承的时候，基础类Base类需要有优先继承的类，否则出现继承顺序MRO异常\n",
    "\"\"\""
   ]
  },
  {
   "cell_type": "code",
   "execution_count": 1,
   "metadata": {},
   "outputs": [],
   "source": [
    "# 4-12 with语句---上下文管理器"
   ]
  },
  {
   "cell_type": "code",
   "execution_count": 2,
   "metadata": {},
   "outputs": [
    {
     "name": "stdout",
     "output_type": "stream",
     "text": [
      "code started\n",
      "key error\n",
      "finally \n",
      "2\n"
     ]
    }
   ],
   "source": [
    "# try except finally\n",
    "def exe_try():\n",
    "    try:\n",
    "        print(\"code started\") \n",
    "        raise KeyError                   # 抛出异常之后，异常后面的语句就不继续执行了，而是跳转到except中进行处理\n",
    "        print(\"continue\")\n",
    "        return 1\n",
    "    except KeyError as e:\n",
    "        print(\"key error\")\n",
    "        return 2\n",
    "    else:  # 没有抛出异常的时候，执行\n",
    "        print(\"no error\")\n",
    "        return 3\n",
    "    finally:   # 无论是否有异常，都执行\n",
    "        print(\"finally \")\n",
    "#         return 4                              # Python中如果finally中有return语句就会使用finally中的return     \n",
    "    \n",
    "if __name__ == \"__main__\":\n",
    "    result = exe_try()             \n",
    "    print(result)\n",
    "#return 的处理过程：首先执行try语句，raise异常后就跳出try进入except，看见return 2 ，将2压入栈里面，之后执行finally的时候return4 也压入栈中，最后从栈顶取出值为4     \n",
    "# 如果将finally中的return 4 注释掉，则取到的是2"
   ]
  },
  {
   "cell_type": "markdown",
   "metadata": {},
   "source": [
    "### 上下文管理器\n",
    "可以帮我们统一做一些资源管理的事"
   ]
  },
  {
   "cell_type": "code",
   "execution_count": 45,
   "metadata": {},
   "outputs": [
    {
     "name": "stdout",
     "output_type": "stream",
     "text": [
      "首先调用__enter__\n",
      "doing something\n",
      "exit\n"
     ]
    }
   ],
   "source": [
    "# Python中的with语句就是为了简化上面的写法而诞生的\n",
    "# 即上下文管理器\n",
    "# 上下文管理器协议 - -- 协议和魔法方法联系\n",
    "# 魔法方法中有一个with上下文管理器，要求实现了__enter__ 和 __exit__   （缺一不可）\n",
    "class Sample():\n",
    "    def __enter__(self):\n",
    "        # 做获取资源的事\n",
    "        print(\"首先调用__enter__\")\n",
    "        return self\n",
    "    \n",
    "    def __exit__(self, exc_type, exc_val, exc_tb):\n",
    "        # 做一些释放资源的事\n",
    "        print(\"exit\")\n",
    "    \n",
    "    def do_something(self):\n",
    "        print(\"doing something\")\n",
    "        \n",
    "with Sample() as sample:               # 实现了上下文管理器协议，则该类的实例对象可以直接被with调用\n",
    "    sample.do_something()\n",
    "# 整个过程，进入的时候会自动调用__enter__方法，退出是会自动调用__exit__方法\n",
    "# 然后在with的内部可以使用实现了上下文管理器的类的方法，所以可以在__enter__中获得资源，在__exit__中释放资源"
   ]
  },
  {
   "cell_type": "code",
   "execution_count": null,
   "metadata": {},
   "outputs": [],
   "source": [
    "# 4-13 "
   ]
  },
  {
   "cell_type": "code",
   "execution_count": 46,
   "metadata": {},
   "outputs": [
    {
     "name": "stdout",
     "output_type": "stream",
     "text": [
      "file open\n",
      "{1}\n",
      "file_processing\n",
      "file end\n"
     ]
    }
   ],
   "source": [
    "# 之前通过定义一个实现了__enter__ 和 __exit__方法的类来构造一个上下文管理器\n",
    "# 使用python提供的contextliab类可以更加简便的实现一个上下文管理器\n",
    "import contextlib\n",
    "\n",
    "@contextlib.contextmanager     # 提供一个函数装饰器，可以将一个被装饰的函数变成一个上下文管理器\n",
    "def file_open(file_name):\n",
    "    print(\"file open\")   # 一些处理文件的动作      相当于之前的__exter__中的代码\n",
    "    yield {1} # 使用yield将该函数变成一个生成器\n",
    "    print(\"file end\")                 # 相当于__exit__中的代码\n",
    "    \n",
    "with file_open(\"b.txt\") as f_open:\n",
    "    print(f_open)     # 得到的是 yield 生成器返回的值\n",
    "    print(\"file_processing\")         "
   ]
  },
  {
   "cell_type": "code",
   "execution_count": null,
   "metadata": {},
   "outputs": [],
   "source": [
    "@contextlib.contextmanager 巧妙利用生成器的一些特性，将file_open函数和__enter__、__exit__魔法函数合起来，将里面的逻辑包装成一个装饰器"
   ]
  },
  {
   "cell_type": "code",
   "execution_count": null,
   "metadata": {},
   "outputs": [],
   "source": [
    "https://www.cnblogs.com/pyspark/articles/8819803.html   使用@contextlib.contextmanager的好处"
   ]
  },
  {
   "cell_type": "code",
   "execution_count": 3,
   "metadata": {},
   "outputs": [
    {
     "name": "stdout",
     "output_type": "stream",
     "text": [
      "connect to resource\n",
      "query data\n",
      "connect to resource\n"
     ]
    }
   ],
   "source": [
    "# @contextlib.contextmanager妙用\n",
    "# 1. 在不修改源码的情况下，将一个不是上下问管理器的类变成一个上下文管理器，\n",
    "# 这样做的好处在于，我们就可以在执行真正的核心代码之前可以执行一部分代码，然后在执行完毕后，又可以执行一部分代码，\n",
    "import contextlib\n",
    "\n",
    "class MyResource:\n",
    "    def query(self):\n",
    "        print(\"query data\")\n",
    "\n",
    "@contextlib.contextmanager\n",
    "def make_myresource():\n",
    "    print(\"connect to resource\")\n",
    "    yield MyResource()\n",
    "    print(\"connect to resource\")\n",
    "\n",
    "with make_myresource() as r:\n",
    "    r.query()"
   ]
  },
  {
   "cell_type": "markdown",
   "metadata": {},
   "source": [
    "#### 装饰器\n",
    "\n",
    "##### 装饰器分为函数装饰器和类装饰器"
   ]
  },
  {
   "cell_type": "code",
   "execution_count": 13,
   "metadata": {},
   "outputs": [
    {
     "name": "stdout",
     "output_type": "stream",
     "text": [
      "我是初始化函数，只调动一次\n"
     ]
    }
   ],
   "source": [
    "# 类装饰器  必须实现__call__方法\n",
    "class Decorator:\n",
    "    def __init__(self, f):\n",
    "        self.func = f\n",
    "        print('我是初始化函数，只调动一次')\n",
    "    \n",
    "    def __call__(self, x, y):                 # __call__()方法 使类的实例对象能够被当做函数一样调用，类装饰器的实现正是基于这一点的\n",
    "        print(\"调用了__call__方法\")\n",
    "        return self.func(x, y) + 1\n",
    "@Decorator\n",
    "def func(x, y):            \n",
    "    return x + y\n",
    "\n",
    "# d = func(3,4)         # func = Decorator(func)    实际上类似是   d= Decorator(func)(3, 4)\n",
    "# d= Decorator(func)(3, 4)\n",
    "# print(type(func))\n",
    "# print(func)\n",
    "# print(d)\n",
    "# 解释器一遇到“@Decorator”语句时就会完成对func( )函数的装饰，即调用@Decorator类的__init__( )方法；当代码执行到func( )时，会执行装饰类@Decorator的__call__( )方法，实现对func( )函数的调用。"
   ]
  },
  {
   "cell_type": "code",
   "execution_count": 16,
   "metadata": {},
   "outputs": [
    {
     "name": "stdout",
     "output_type": "stream",
     "text": [
      "调用了__call__方法\n"
     ]
    },
    {
     "data": {
      "text/plain": [
       "12"
      ]
     },
     "execution_count": 16,
     "metadata": {},
     "output_type": "execute_result"
    }
   ],
   "source": [
    "func(5, 6)    # 再次调用被装饰的函数，没有再次打印__init__中的输出语句，可见__init__()"
   ]
  },
  {
   "cell_type": "code",
   "execution_count": 17,
   "metadata": {},
   "outputs": [
    {
     "name": "stdout",
     "output_type": "stream",
     "text": [
      "<__main__.Decorator object at 0x7f97983730d0>\n"
     ]
    }
   ],
   "source": [
    "'''\n",
    "使用类装饰器之后，被装饰的函数实际变成了类装饰器的实例化对象\n",
    "'''\n",
    "print(func)"
   ]
  },
  {
   "cell_type": "markdown",
   "metadata": {},
   "source": [
    "#### 不含参数的类装饰器可以发现：\n",
    "1. 只要有被类装饰器装饰的对象，类装饰器的`__init__`函数就会执行，`__init__`要接收被装饰的函数对象。\n",
    "2. 被类装饰器装饰的函数不论被调用多少次，`__init__`函数只会执行一次，并且它的执行是被装饰函数声明装饰时就自动执行的，不需要手动执行。\n",
    "3. 当被装饰函数存在参数时，从`__call__`函数传进参数（通过定义一个内部函数），被装饰对象函数被`__call__`接收，装饰器的参数从`__init__`传进。"
   ]
  },
  {
   "cell_type": "markdown",
   "metadata": {},
   "source": [
    "#### 类装饰器含有参数时（重点）：\n",
    "1. 虽然“`@Decorator`”后面没有括号，也没有参数，但实际上它是有参数的，被装饰函数对象func()就是`@Decorator`的默认参数，函数对象被传入到装饰器类中的构造方法`__init__( )`中，并在`__call__( )`方法中调用。\n",
    "2. 当然我们也可以通过“`@Decorator(args)`”的语法像类装饰器传递其它参数，但是需要注意的是：一旦在`@Decorator`中的参数将被传入`__init__( )`方法，被装饰函数对象func( )无法同时传入。\n",
    "3. 解决办法是：将被装饰函数对象传入`__call__( )`方法。下面的代码中在Ly类的`__call__( )`方法中定义了一个内部函数（闭包）接收被装饰对象函数中的参数，并实现对被装饰函数的调用（类似在将`__call__`实现为一个函数装饰器）。   关于闭包：https://blog.csdn.net/u013380694/article/details/90019571"
   ]
  },
  {
   "cell_type": "code",
   "execution_count": 22,
   "metadata": {},
   "outputs": [
    {
     "name": "stdout",
     "output_type": "stream",
     "text": [
      "我是初始化函数，只调动一次\n",
      "我是__call__方法\n",
      "性别为男的22岁的小王我是__call__中的输出\n",
      "性别为男的20岁的小明\n",
      "------------------------------\n",
      "性别为女的20岁的小微\n",
      "<class 'function'>\n"
     ]
    }
   ],
   "source": [
    "# 类装饰器含有参数的情况\n",
    "import time\n",
    "\n",
    "class Ly:\n",
    "    def __init__(self, one_parm, two_parm, three_parm):\n",
    "        self.one_parm = one_parm\n",
    "        self.two_parm = two_parm\n",
    "        self.three_parm = three_parm\n",
    "        print('我是初始化函数，只调动一次')\n",
    "\n",
    "    def __call__(self, fun):           # 当类装饰器含有参数的时候，__init__就不能接受被装饰对象了 ，只负责接收类装饰器的参数，此时的被装饰对象由__call__接受，将__call__实现为一个函数装饰器\n",
    "        print(\"我是__call__方法\")\n",
    "        print('性别为' + self.one_parm + \"的\" + self.two_parm + \"岁的\" + self.three_parm+'我是__call__中的输出')\n",
    "        time.sleep(1)\n",
    "        def info(*args):\n",
    "            fun(*args)\n",
    "        return info\n",
    "\n",
    "\n",
    "@Ly(\"男\", \"22\", \"小王\")\n",
    "def show(name, age, sex):\n",
    "    print('性别为' + sex + \"的\" + age + \"岁的\" + name)\n",
    "\n",
    "show(\"小明\", \"20\", \"男\") \n",
    "print('-'*30)\n",
    "show(\"小微\", \"20\", \"女\")    # 与 不含装饰器参数的类装饰器不同，这里多次使用被装饰的函数，只会调用__call__()的内部函数，而不会调用__call__()了 \n",
    "print(type(show))    # 使用不含有参数的类装饰器装饰的函数的时候，函数的类型是类的实例<class '__main__.Decorator'>  而使用有参数的装饰器的时候，函数的类型就是函数类型   <class 'function'> "
   ]
  },
  {
   "cell_type": "code",
   "execution_count": 23,
   "metadata": {},
   "outputs": [
    {
     "name": "stdout",
     "output_type": "stream",
     "text": [
      "<class 'function'>\n",
      "info\n"
     ]
    }
   ],
   "source": [
    "print(type(show))   # 可见show此时是一个函数，由__call__返回的内部函数\n",
    "print(show.__name__)"
   ]
  },
  {
   "cell_type": "markdown",
   "metadata": {},
   "source": [
    "#### 说类装饰器比函数装饰器更强大，我想可能这可能是由类的特点决定的，首先类中可以实现多个方法，这使得类装饰器功能更丰富；其次类可以被继承，这使得类装饰器更加灵活。"
   ]
  },
  {
   "cell_type": "markdown",
   "metadata": {},
   "source": [
    "## 函数装饰器"
   ]
  },
  {
   "cell_type": "code",
   "execution_count": 74,
   "metadata": {},
   "outputs": [
    {
     "name": "stdout",
     "output_type": "stream",
     "text": [
      "土行孙\n"
     ]
    }
   ],
   "source": [
    "\n",
    "def decorator(f):    # 这里的f参数为被装饰的对象，如此例中的method，只是该例中没有使用\n",
    "    def wrapper(self, x, y):\n",
    "        return self.name + x + y\n",
    "    return wrapper\n",
    "\n",
    "class C:\n",
    "    name = \"土\"\n",
    "    @decorator\n",
    "    def method(x, y):\n",
    "        return x + y\n",
    "\n",
    "ins = C()\n",
    "myname = ins.method(\"行\", \"孙\")     # 此时调用method相当于调用ins.wrapper(self, x, y)\n",
    "print(myname)"
   ]
  },
  {
   "cell_type": "markdown",
   "metadata": {},
   "source": [
    "##### 关于被装饰函数的参数问题\n",
    "1. 装饰器本身接受被装饰的对象，装饰器返回的可调用对象接受被装饰对象所有的参数（是被装饰后的对象实际使用的参数列表的参数个数）\n",
    "2. 即实际调用时，传递给被装饰的函数的参数的个数可以不和定义时的参数个数一致，但是要和装饰器返回的可调用对象所需的参数个数一致"
   ]
  },
  {
   "cell_type": "code",
   "execution_count": 522,
   "metadata": {},
   "outputs": [
    {
     "name": "stdout",
     "output_type": "stream",
     "text": [
      "内函数id:2026580405512\n",
      "3\n"
     ]
    }
   ],
   "source": [
    "def decorator(fun):\n",
    "    def wrapper(*args):\n",
    "        print(f\"内函数id:{id(wrapper)}\")   #  虽然每次调用外函数的时候返回的内函数都不同，但是这里装饰器，一旦装饰完毕（即使用@进行装饰），实际只是调用了一次外函数，之后只要没有使用@再次装饰，使用的都是返回的同一个内函数\n",
    "        return args[0]\n",
    "    return wrapper\n",
    "\n",
    "@decorator\n",
    "def func(x):               \n",
    "    return 1\n",
    "\n",
    "print(func(3, 4))"
   ]
  },
  {
   "cell_type": "code",
   "execution_count": 523,
   "metadata": {},
   "outputs": [
    {
     "name": "stdout",
     "output_type": "stream",
     "text": [
      "内函数id:2026580405512\n",
      "5\n"
     ]
    }
   ],
   "source": [
    "print(func(5, 4))"
   ]
  },
  {
   "cell_type": "code",
   "execution_count": 199,
   "metadata": {},
   "outputs": [
    {
     "name": "stdout",
     "output_type": "stream",
     "text": [
      "我是装饰器，我被调用了\n"
     ]
    }
   ],
   "source": [
    "def decorator(fun):\n",
    "    print(\"我是装饰器，我被调用了\")\n",
    "    def wrapper(*args):\n",
    "        print(\"我在调用的被装饰的函数后才调用\")\n",
    "        return args[0]\n",
    "    return wrapper\n",
    "\n",
    "@decorator\n",
    "def func(x):               # 装饰器函数在被装饰函数定义好后立即执行 func = decorate(fun) = wrapper  注意：此时只是返回内部的wrapper函数对象，但是并没有调用该函数，所以该函数内部并未打印出来\n",
    "    return 1\n"
   ]
  },
  {
   "cell_type": "code",
   "execution_count": 198,
   "metadata": {},
   "outputs": [
    {
     "name": "stdout",
     "output_type": "stream",
     "text": [
      "我在调用的被装饰的函数后才调用\n"
     ]
    },
    {
     "data": {
      "text/plain": [
       "3"
      ]
     },
     "execution_count": 198,
     "metadata": {},
     "output_type": "execute_result"
    }
   ],
   "source": [
    "func(3, 4)"
   ]
  },
  {
   "cell_type": "markdown",
   "metadata": {},
   "source": [
    "##### 含有参数的函数装饰器"
   ]
  },
  {
   "cell_type": "code",
   "execution_count": 3,
   "metadata": {},
   "outputs": [
    {
     "name": "stdout",
     "output_type": "stream",
     "text": [
      "装饰器参数传递\n",
      "被装饰函数对象传递\n",
      "('index.html/',) {}\n",
      "(3,) {'c': 4}\n",
      "现在开始装饰\n",
      "我是被装饰的函数\n",
      "现在结束装饰\n"
     ]
    }
   ],
   "source": [
    "# 含有参数的装饰器，需要在函数的外面再次嵌套一层，用于接收装饰器传递过来的参数\n",
    "# 此外，由于都是使用 *args,**kwargs 可变长参数的形式来接收参数，\n",
    "# 所以为了不影响被装饰的函数传递的参数，装饰器最外层接收装饰器参数的函数，和最内层接收被装饰函数参数的函数的可变长参数的名字应该不同\n",
    "def get_parameter(*args,**kwargs):  # 工厂函数，用来接受@get_parameter('index.html/')的'index.html/'\n",
    "    print('装饰器参数传递')\n",
    "    def log_time(func):        # 装饰器一定要有接收被装饰对象的的参数\n",
    "        print(\"被装饰函数对象传递\")\n",
    "        def make_decorater(*a, **k):\n",
    "            print(args,kwargs)\n",
    "            print(a, k)\n",
    "            print('现在开始装饰')\n",
    "            func()\n",
    "            print('现在结束装饰')\n",
    "        return make_decorater\n",
    "    return log_time\n",
    " \n",
    "@get_parameter('index.html/')\n",
    "def test():\n",
    "    print('我是被装饰的函数')\n",
    "    # return num+1\n",
    "\n",
    "test(3, c = 4)  # test()=make_decorater()\n"
   ]
  },
  {
   "cell_type": "markdown",
   "metadata": {},
   "source": [
    "##### 多个装饰器修饰同一个函数 （主要看被装饰的顺序）    是最内层的先调用"
   ]
  },
  {
   "cell_type": "code",
   "execution_count": 180,
   "metadata": {},
   "outputs": [
    {
     "name": "stdout",
     "output_type": "stream",
     "text": [
      "2开始调用\n",
      "1开始调用\n",
      "1现在开始装饰\n",
      "2现在开始装饰\n",
      "我是被装饰的函数\n",
      "2现在结束装饰\n",
      "1现在结束装饰\n",
      "3\n"
     ]
    }
   ],
   "source": [
    "def log_time1(func):\n",
    "    print(\"1开始调用\")\n",
    "    def make_decorater1(*args,**kwargs): \n",
    "        print('1现在开始装饰')\n",
    "        test_func = func(*args,**kwargs)  # 实际在此处func是test，此时调用第二个装饰器， func = log_time2(func) = make_decorator2 即  test = log_time2(test) = make_decorator2\n",
    "        print('1现在结束装饰') \n",
    "        return test_func \n",
    "    return make_decorater1\n",
    " \n",
    "def log_time2(func):\n",
    "    print(\"2开始调用\")\n",
    "    def make_decorater2(*args,**kwargs):  # 接受调用语句的实参，在下面传递给被装饰函数（原函数）\n",
    "        print('2现在开始装饰')\n",
    "        test_func = func(*args,**kwargs)  # 如果在这里return，则下面的代码无法执行，所以引用并在下面返回\n",
    "        print('2现在结束装饰')\n",
    "        return test_func  # 因为被装饰函数里有return，所以需要给调用语句（test（2））一个返回，又因为test_func = func(*args,**kwargs)已经调用了被装饰函数，这里就不用带（）调用了，区别在于运行顺序的不同。\n",
    "    return make_decorater2\n",
    " \n",
    "@log_time1\n",
    "@log_time2\n",
    "def test(num):\n",
    "    print('我是被装饰的函数')    \n",
    "    return num+1\n",
    " \n",
    "a = test(2) #  分析可知实际上 别装饰的函数test()只被调用了一次，所以返回值是3，而不是4\n",
    "print(a)"
   ]
  },
  {
   "cell_type": "code",
   "execution_count": null,
   "metadata": {},
   "outputs": [],
   "source": []
  },
  {
   "cell_type": "code",
   "execution_count": 267,
   "metadata": {},
   "outputs": [
    {
     "name": "stdout",
     "output_type": "stream",
     "text": [
      "1现在开始装饰\n",
      "1现在开始装饰\n",
      "我是被装饰的函数\n",
      "1现在结束装饰\n",
      "1现在结束装饰\n",
      "None\n"
     ]
    }
   ],
   "source": [
    "def log_time1(func):\n",
    "    def make_decorater1(*args,**kwargs): \n",
    "        print('1现在开始装饰')\n",
    "        test_func = func(*args,**kwargs) \n",
    "        print('1现在结束装饰') \n",
    "#         return test_func \n",
    "    return make_decorater1\n",
    "\n",
    " \n",
    "@log_time1\n",
    "@log_time1\n",
    "def test(num):\n",
    "    print('我是被装饰的函数')\n",
    "    return num+1\n",
    " \n",
    "a = test(2) # 同一个装饰器可以多次调用\n",
    "print(a)"
   ]
  },
  {
   "cell_type": "markdown",
   "metadata": {},
   "source": [
    "#### 装饰器总结\n",
    "python装饰器可分为两种：函数装饰器和类装饰器。函数装饰器可以用来装饰普通函数和类中的方法，类装饰器可以用来装饰普通函数，但是不能用来直接装饰类中的方法。（是可以的，较复杂）\n",
    "\n",
    "装饰器高级： https://baijiahao.baidu.com/s?id=1627791616262685687&wfr=spider&for=pc"
   ]
  },
  {
   "cell_type": "code",
   "execution_count": null,
   "metadata": {},
   "outputs": [],
   "source": []
  },
  {
   "cell_type": "code",
   "execution_count": 301,
   "metadata": {},
   "outputs": [
    {
     "ename": "TypeError",
     "evalue": "'CallTest' object is not callable",
     "output_type": "error",
     "traceback": [
      "\u001b[1;31m---------------------------------------------------------------------------\u001b[0m",
      "\u001b[1;31mTypeError\u001b[0m                                 Traceback (most recent call last)",
      "\u001b[1;32m<ipython-input-301-ecf37aa4ea6a>\u001b[0m in \u001b[0;36m<module>\u001b[1;34m\u001b[0m\n\u001b[0;32m      5\u001b[0m \u001b[1;33m\u001b[0m\u001b[0m\n\u001b[0;32m      6\u001b[0m \u001b[0mct\u001b[0m \u001b[1;33m=\u001b[0m \u001b[0mCallTest\u001b[0m\u001b[1;33m(\u001b[0m\u001b[1;36m2\u001b[0m\u001b[1;33m)\u001b[0m\u001b[1;33m\u001b[0m\u001b[1;33m\u001b[0m\u001b[0m\n\u001b[1;32m----> 7\u001b[1;33m \u001b[0mct\u001b[0m\u001b[1;33m(\u001b[0m\u001b[1;33m)\u001b[0m\u001b[1;33m\u001b[0m\u001b[1;33m\u001b[0m\u001b[0m\n\u001b[0m",
      "\u001b[1;31mTypeError\u001b[0m: 'CallTest' object is not callable"
     ]
    }
   ],
   "source": [
    " # __call__()方法使类实例对象能够被像函数一样调用\n",
    "class CallTest(object):\n",
    "    def __init__(self, a):\n",
    "        self.a = a \n",
    "    \n",
    "ct = CallTest(2)\n",
    "ct()"
   ]
  },
  {
   "cell_type": "code",
   "execution_count": 303,
   "metadata": {},
   "outputs": [
    {
     "name": "stdout",
     "output_type": "stream",
     "text": [
      "我是__call__方法，我使得类实例对象能够被调用\n",
      "2\n"
     ]
    }
   ],
   "source": [
    "class CallTest(object):\n",
    "    def __init__(self, a):\n",
    "        self.a = a \n",
    "    \n",
    "    def __call__(self):\n",
    "        print(\"我是__call__方法，我使得类实例对象能够被调用\")\n",
    "        print(self.a)\n",
    "        \n",
    "ct = CallTest(2)\n",
    "ct()"
   ]
  },
  {
   "cell_type": "code",
   "execution_count": 88,
   "metadata": {},
   "outputs": [
    {
     "name": "stdout",
     "output_type": "stream",
     "text": [
      "<class '__main__.A'>\n",
      "<class 'function'>\n",
      "<class 'method'>\n"
     ]
    }
   ],
   "source": [
    "class A:\n",
    "    def a(self):\n",
    "        pass\n",
    "print(type(A()))\n",
    "print(type(A.a))\n",
    "print(type(A().a))     \n",
    "# 关于区分函数（function） 和 方法（method）关键看是否与实例绑定     详见： https://www.cnblogs.com/blackmatrix/p/6847313.html 该博文的标题错误了"
   ]
  },
  {
   "cell_type": "markdown",
   "metadata": {},
   "source": [
    "#### 类装饰器装饰类的方法"
   ]
  },
  {
   "cell_type": "code",
   "execution_count": 33,
   "metadata": {},
   "outputs": [
    {
     "name": "stdout",
     "output_type": "stream",
     "text": [
      "<class '__main__.log'>\n",
      "<__main__.log object at 0x7f97983791d0>\n",
      "正在执行函数： sayHi\n",
      "args:\n",
      "kwargs:\n"
     ]
    },
    {
     "ename": "TypeError",
     "evalue": "sayHi() missing 1 required positional argument: 'self'",
     "output_type": "error",
     "traceback": [
      "\u001b[0;31m---------------------------------------------------------------------------\u001b[0m",
      "\u001b[0;31mTypeError\u001b[0m                                 Traceback (most recent call last)",
      "\u001b[0;32m<ipython-input-33-f468cc4ba9d1>\u001b[0m in \u001b[0;36m<module>\u001b[0;34m\u001b[0m\n\u001b[1;32m     22\u001b[0m \u001b[0mprint\u001b[0m\u001b[0;34m(\u001b[0m\u001b[0mtype\u001b[0m\u001b[0;34m(\u001b[0m\u001b[0mp\u001b[0m\u001b[0;34m.\u001b[0m\u001b[0msayHi\u001b[0m\u001b[0;34m)\u001b[0m\u001b[0;34m)\u001b[0m\u001b[0;34m\u001b[0m\u001b[0;34m\u001b[0m\u001b[0m\n\u001b[1;32m     23\u001b[0m \u001b[0mprint\u001b[0m\u001b[0;34m(\u001b[0m\u001b[0mp\u001b[0m\u001b[0;34m.\u001b[0m\u001b[0msayHi\u001b[0m\u001b[0;34m)\u001b[0m\u001b[0;34m\u001b[0m\u001b[0;34m\u001b[0m\u001b[0m\n\u001b[0;32m---> 24\u001b[0;31m \u001b[0mp\u001b[0m\u001b[0;34m.\u001b[0m\u001b[0msayHi\u001b[0m\u001b[0;34m(\u001b[0m\u001b[0;34m)\u001b[0m\u001b[0;34m\u001b[0m\u001b[0;34m\u001b[0m\u001b[0m\n\u001b[0m\u001b[1;32m     25\u001b[0m \u001b[0;31m# 解释：（这是一种理解角度） 这里报错是sayHi()缺少位置参数self，但是sayHi()为person实例对象的方法，实例对象调用的时候，默认将实例对象自己传进该方法内，而不需要手动传递，\u001b[0m\u001b[0;34m\u001b[0m\u001b[0;34m\u001b[0m\u001b[0;34m\u001b[0m\u001b[0m\n\u001b[1;32m     26\u001b[0m \u001b[0;31m# 这里会出错是因为，当调用不含参数的类装饰器装饰函数的时候，被装饰的函数就变为了装饰类的实例对象了。\u001b[0m\u001b[0;34m\u001b[0m\u001b[0;34m\u001b[0m\u001b[0;34m\u001b[0m\u001b[0m\n",
      "\u001b[0;32m<ipython-input-33-f468cc4ba9d1>\u001b[0m in \u001b[0;36m__call__\u001b[0;34m(self, *args, **kwargs)\u001b[0m\n\u001b[1;32m      8\u001b[0m         \u001b[0mprint\u001b[0m\u001b[0;34m(\u001b[0m\u001b[0;34m\"args:\"\u001b[0m\u001b[0;34m,\u001b[0m\u001b[0;34m*\u001b[0m\u001b[0margs\u001b[0m\u001b[0;34m)\u001b[0m\u001b[0;34m\u001b[0m\u001b[0;34m\u001b[0m\u001b[0m\n\u001b[1;32m      9\u001b[0m         \u001b[0mprint\u001b[0m\u001b[0;34m(\u001b[0m\u001b[0;34m\"kwargs:\"\u001b[0m\u001b[0;34m,\u001b[0m\u001b[0;34m**\u001b[0m\u001b[0mkwargs\u001b[0m\u001b[0;34m)\u001b[0m\u001b[0;34m\u001b[0m\u001b[0;34m\u001b[0m\u001b[0m\n\u001b[0;32m---> 10\u001b[0;31m         \u001b[0mself\u001b[0m\u001b[0;34m.\u001b[0m\u001b[0m_func\u001b[0m\u001b[0;34m(\u001b[0m\u001b[0;34m*\u001b[0m\u001b[0margs\u001b[0m\u001b[0;34m,\u001b[0m \u001b[0;34m**\u001b[0m\u001b[0mkwargs\u001b[0m\u001b[0;34m)\u001b[0m\u001b[0;34m\u001b[0m\u001b[0;34m\u001b[0m\u001b[0m\n\u001b[0m\u001b[1;32m     11\u001b[0m \u001b[0;34m\u001b[0m\u001b[0m\n\u001b[1;32m     12\u001b[0m \u001b[0;32mclass\u001b[0m \u001b[0mperson\u001b[0m\u001b[0;34m(\u001b[0m\u001b[0mobject\u001b[0m\u001b[0;34m)\u001b[0m\u001b[0;34m:\u001b[0m\u001b[0;34m\u001b[0m\u001b[0;34m\u001b[0m\u001b[0m\n",
      "\u001b[0;31mTypeError\u001b[0m: sayHi() missing 1 required positional argument: 'self'"
     ]
    }
   ],
   "source": [
    "# 例1\n",
    "class log(object):\n",
    "    def __init__(self, func):\n",
    "        self._func = func\n",
    "    \n",
    "    def __call__(self, *args, **kwargs):\n",
    "        print(\"正在执行函数：\", self._func.__name__)\n",
    "        print(\"args:\",*args)\n",
    "        print(\"kwargs:\",**kwargs)\n",
    "        self._func(*args, **kwargs)\n",
    "        \n",
    "class person(object):\n",
    "    def __init__(self, name):\n",
    "        self.name = name    \n",
    "        \n",
    "    @log\n",
    "    def sayHi(self):\n",
    "        print(f\"Hi, I am {self.name}\")\n",
    "        \n",
    "p = person(\"小明\")\n",
    "# print(p)\n",
    "print(type(p.sayHi))\n",
    "print(p.sayHi)\n",
    "p.sayHi()               \n",
    "# 解释：（这是一种理解角度） 这里报错是sayHi()缺少位置参数self，但是sayHi()为person实例对象的方法，实例对象调用的时候，默认将实例对象自己传进该方法内，而不需要手动传递，\n",
    "# 这里会出错是因为，当调用不含参数的类装饰器装饰函数的时候，被装饰的函数就变为了装饰类的实例对象了。 \n",
    "# 为了使实例对象能够使用()的形式可调用，所以调用了__call__()方法，但是该方法中，self._func(*args, **kwargs)，实际调用的是person类的sayHi()方法，由调用的形式可见，是没有传递person实例对象的self参数的，\n",
    "# 但是在person类实例对象调用类方法sayHi()的时候是要传递给self其本身这个实例对象的，所此处要显式给出  应该是 p.sayHi(p) 这样的方式\n",
    "\n",
    "# 或者理解为，sayHi此时是属性了，p.sayHi加括号就调用了__call__方法，之后就执行__call__里面的self._func(*args, **kwargs)，通过print检测*args传递了p对象给方法，但是由于self._func(*args, **kwargs)\n",
    "# 调用的self并不是person的实例对象，所以报错缺self    暂定\n"
   ]
  },
  {
   "cell_type": "code",
   "execution_count": 36,
   "metadata": {},
   "outputs": [
    {
     "name": "stdout",
     "output_type": "stream",
     "text": [
      "我比method中的print先执行\n",
      "我是在执行完 log __init__后才执行的\n",
      "args: <__main__.person object at 0x7f976802dad0>\n",
      "kwargs:\n",
      "正在执行函数： sayHi\n",
      "Hi, I am 小明\n"
     ]
    }
   ],
   "source": [
    "# 例2\n",
    "class log(object):\n",
    "    def __init__(self, func):\n",
    "        print(\"我比method中的print先执行\")\n",
    "        self._func = func\n",
    "    \n",
    "    def __call__(self, *args, **kwargs):\n",
    "        print(\"正在执行函数：\", self._func.__name__)\n",
    "        self._func(*args, **kwargs)\n",
    "\n",
    "# 定义了函数method，用于将属性转换为方法\n",
    "def method(call):\n",
    "    print(\"我是在执行完 log __init__后才执行的\")\n",
    "    def wrapper(*args, **kwargs):\n",
    "        print(\"args:\",*args)\n",
    "        print(\"kwargs:\",**kwargs)\n",
    "        call(*args, **kwargs)\n",
    "    return wrapper\n",
    "\n",
    "class person(object):\n",
    "    def __init__(self, name):\n",
    "        self.name = name \n",
    "        \n",
    "    @method   # 首先log先调用，得到名字为sayHi的log类的实例化对象，然后将给实例化对象传递给method装饰，call接收sayHi该实例对象，返回内函数对象wrapper给sayHi，之后p.sayHi()就是p.wrapper()\n",
    "    @log      # 然后在里面执行call()，就是调用log类的__call__\n",
    "    def sayHi(self):                # sayHi = log(sayHi)   sayHi() = log(sayHi)() 缺少实例self的值，因为此时p.sayHi()不是自己内部调用，不会自动将自己p传递给self  p.log(sayHi)(p)\n",
    "        print(f\"Hi, I am {self.name}\")   # 首先 sayHi = log(sayHi) 得到类log的实例化对象，之后method获得该实例化对象，返回wrapper，当真正调用的时候，就是调用了wrapper方法，即调用call方法，为其添上()，即为实例化对象添上()可调用，此时就是执行了__call__方法，经过method的装饰后，返回的是方法，\n",
    "        \n",
    "p = person(\"小明\")\n",
    "# print(type(p.sayHi))   # 为<class 'method'> 说明为person的方法，与实例对象进行了绑定。\n",
    "# print(p.sayHi)\n",
    "p.sayHi()"
   ]
  },
  {
   "cell_type": "code",
   "execution_count": 3,
   "metadata": {},
   "outputs": [
    {
     "name": "stdout",
     "output_type": "stream",
     "text": [
      "正在执行函数： sayHi\n",
      "指派类的实例对象：<__main__.person object at 0x0000021F31B6BFD0>, 指派类对象：<class '__main__.person'>\n",
      "Hi, I am 小明\n",
      "<__main__.person object at 0x0000021F31B6BFD0>\n"
     ]
    }
   ],
   "source": [
    "# 例3\n",
    "# 上上例中因为使用类装饰器，sayHi实际变成了person类的类属性，且该属性是类log的实例化对象，即log类变成了描述器（所以该类要定义一个__get__方法）\n",
    "class log(object):\n",
    "    def __init__(self, func):\n",
    "        self._func = func\n",
    "    \n",
    "    def __get__(self, instance, owner):                # 将__call__改为__get__       关于__get__的： https://www.jianshu.com/p/7aaf23831168\n",
    "        print(\"正在执行函数：\", self._func.__name__)\n",
    "        print(f\"指派类的实例对象：{instance}, 指派类对象：{owner}\")\n",
    "        return self._func(instance)\n",
    "        \n",
    "class person(object):\n",
    "    def __init__(self, name):\n",
    "        self.name = name \n",
    "        \n",
    "    @log                   # 装饰后，sayHi为描述类log的实例化对象\n",
    "    def sayHi(self):                     \n",
    "        print(f\"Hi, I am {self.name}\")\n",
    "        \n",
    "p = person(\"小明\")\n",
    "p.sayHi   # 此时，log类就是一个描述类，sayHi为描述类log的实例化对象，使用p.sayHi会调用描述类的__get__方法               -----    这实际上就是@property装饰器的实现原理，可以参照元类编程中对@property的描述\n",
    "print(p)  # 打印结果可见，和 指派类实例对象是同一个对象，则我们的理论是对的"
   ]
  },
  {
   "cell_type": "markdown",
   "metadata": {},
   "source": [
    "##### 类装饰器细节究极总结\n",
    "<font face='黑体' color='red'>通过上面的例子我们可以知道</font></br>\n",
    "1. 使用类装饰器的时候，由于类装饰器的特殊性，被装饰的对象就变成了装饰器类的实例化对象了，所以调用被装饰的函数的时候，需要装饰器类有`__call__()`方法，因为，想要让类的实例对象可以像函数那样被调用，需要该类实现了`__call__()`方法\n",
    "2. 由于以上的特性在装饰函数的时候没有问题，但是使用类装饰器去装饰一个类的方法的时候，就会有问题，因为被装饰的对象实际变成了装饰器类的实例化对象，方法名就是被装饰的类的一个属性了，属性值为装饰器类的实例化对象，此时想要能够正常使用，有两种方法，a. 应该将装饰器类中的`__call__`方法变成`__get__`方法，即创建为描述符类，此时调用的时候，只要调用方法名即可，即调用的是属性  b. 实例对象想要能够像函数一样被调用，添加括号，要实现`__call__`方法，但是这种方式可能会丢失参数，参见例1，不建议使用，此时调用的函数，需要添加()，还要手动添加被装饰的实例对象。   但是注意：`__get__`和`__call__`不能同时实现，因为一旦`__get__`，就会执行先执行`__get__`得到的返回值在进行`__call__`，这就要求`__get__`方法返回的一定要是一个可调用的对象。参见158例子。\n",
    "3. 对于2的问题，还可以像例2那样，再调用一个函数装饰器，将属性转换为方法。"
   ]
  },
  {
   "cell_type": "code",
   "execution_count": 563,
   "metadata": {},
   "outputs": [
    {
     "name": "stdout",
     "output_type": "stream",
     "text": [
      "__init__\n",
      "<class 'method'>\n",
      "装饰函数\n",
      "正在执行函数： sayHi\n",
      "Hi, I am 小明\n"
     ]
    }
   ],
   "source": [
    "# 补充：当使用含有参数的类装饰器来做这些事的时候就没有问题，从代码理解\n",
    "class log(object):\n",
    "    def __init__(self, a, b):\n",
    "        self._a = a\n",
    "        self._b = b\n",
    "        print(\"__init__\")\n",
    "    \n",
    "    def __call__(self, fun):\n",
    "        def w(*args,**kwargs):\n",
    "            print(\"装饰函数\")\n",
    "            print(\"正在执行函数：\", fun.__name__)\n",
    "            fun(*args,**kwargs)\n",
    "        return w\n",
    "\n",
    "class person(object):\n",
    "    def __init__(self, name):\n",
    "        self.name = name \n",
    "        \n",
    "    @log(1,2)\n",
    "    def sayHi(self):\n",
    "        print(f\"Hi, I am {self.name}\")\n",
    "        \n",
    "p = person(\"小明\")\n",
    "print(type(p.sayHi))                   # 由打印结果可知，此时经过含有参数的类装饰器的装饰，返回的是一个函数，此处通过实例对象进行调用，返回的是method方法，\n",
    "p.sayHi()    "
   ]
  },
  {
   "cell_type": "raw",
   "metadata": {},
   "source": [
    "造成这种情况的根由是因为 含有参数的类装饰器装饰后得到的是__call__中返回的函数对象（就相当于整个__call__方法是一个函数装饰器）\n",
    "                       而不含参数的类装饰器装饰后得到的是一个该装饰器类的实例化对象，实例名为别装饰的函数名\n",
    "                       这也解释了例2 通过定义一个函数装饰器，将原本的属性变成了函数，之后便能通过p.sayHi()的方式调用了"
   ]
  },
  {
   "cell_type": "markdown",
   "metadata": {},
   "source": [
    "#### 使用类装饰器装饰类"
   ]
  },
  {
   "cell_type": "code",
   "execution_count": 2,
   "metadata": {},
   "outputs": [
    {
     "name": "stdout",
     "output_type": "stream",
     "text": [
      "装饰类__init__被调用\n",
      "<class '__main__.cellphone_NewClass'>\n",
      "我是原厂手机！！我是今年最新的VR手机！！\n"
     ]
    }
   ],
   "source": [
    "# 使用类装饰器装饰类\n",
    "class cellphone_NewClass(object):\n",
    "    def __init__(self, cls):\n",
    "        print(\"装饰类__init__被调用\")\n",
    "        self._cls = cls\n",
    "        \n",
    "    def __call__(self, a):\n",
    "        classobject = self._cls(a)\n",
    "        newstr = classobject.fun() + \"我是今年最新的VR手机！！\"\n",
    "        return newstr\n",
    "    \n",
    "@cellphone_NewClass                              # 使用不含装饰器参数的类装饰器装饰的时候都是将装饰对象变成装饰类的实例对象，而使用类装饰装饰类没有类装饰类的方法传递self的弊端，所以直接调用即可。\n",
    "class cellphone_SourceClass(object):\n",
    "    def __init__(self, a):\n",
    "        self.value = a\n",
    "        \n",
    "    def fun(self):\n",
    "        return self.value\n",
    "    \n",
    "a = cellphone_SourceClass(\"我是原厂手机！！\")\n",
    "print(type(cellphone_SourceClass))\n",
    "print(a)\n"
   ]
  },
  {
   "cell_type": "markdown",
   "metadata": {},
   "source": [
    "#### 关于装饰器调用（即使用@调用的时候）时内部的触发顺序 \n",
    "1. 函数装饰器：\n",
    "    a. 函数装饰器在被调动时（即用来装饰的时候），直接运行装饰函数，返回内部的函数对象，因为是对象，没有被调用，所以内部实现并没有执行。装饰一个函数时，后面再次调用该被装饰了的函数，所用的内部函数是同一个。即装饰函数外函数只调用了一次，（这也印证了在闭包中，每次调用外部函数，返回的内部函数都是不同的，这里相同，说明使用的是同一个内部函数）\n",
    "    b. 含有参数的函数装饰器，也是一次装饰，先执行最外两层的函数，最内部函数作为装饰器的返回值，之后调用的都是该返回函数。 （说明含有参数的装饰器会在调用的时候，自动执行最外两层的函数，即内部实现要求他一次性执行了最外两层函数）\n",
    "2. 类装饰器：\n",
    "    a. 不含装饰器参数的类装饰器：在调用的时候，首先调用`__init__`，负责接收被装饰的函数对象，只执行一次，得到名字为被装饰的函数的名字的装饰器类实例化对象，之后使用的时候会调用`__call__`方法，`__call__`方法负责接收被装饰函数的参数\n",
    "    b. 含有装饰器参数的类装饰器：与不含参数的类装饰器相比，在进行装饰的时候，首先调用`__init__`，负责接收类装饰器的参数，之后直接调用`__call__`方法，负责接收被装饰的函数对象，且调用并返回`__call__`中定义的内函数，该内函数作为之后的对象被使用，接收被装饰的函数对象的参数\n",
    "注意：使用不含有参数的类装饰器装饰的函数的时候，被装饰的函数的类型是类的实例对象 <class '__main__.Decorator'> 所以`__call__`中一般是self.fun()直接执行（说的通，被装饰函数加上括号就是调用，然后在`__call__`中直接执行，得到返回值） \n",
    "而使用有参数的类装饰器的时候，使用的是将`__call__`做函数装饰器处理，得到的是内函数对象，所以被装饰的函数的类型就是函数类型   <class 'function'>    所以`__call__` 中是返回内函数对象，然后在内函数中执行完被装饰的函数，一定是要执行完的，参数也传递给被装饰的函数了"
   ]
  },
  {
   "cell_type": "code",
   "execution_count": 543,
   "metadata": {},
   "outputs": [
    {
     "name": "stdout",
     "output_type": "stream",
     "text": [
      "140715043771344 140715043771504\n",
      "内函数id:2026580376976\n",
      "15\n",
      "140715043771344 140715043771504\n",
      "------------------------------\n",
      "140715043771408 140715043771504\n",
      "内函数id:2026580449072\n",
      "17\n",
      "140715043771408 140715043771504\n"
     ]
    }
   ],
   "source": [
    "# 关于闭包的内外函数的关系 \n",
    "# 一般情况下，如果一个函数结束，函数的内部所有东西都会释放掉，还给内存，\n",
    "# 局部变量都会消失。但是闭包是一种特殊情况，如果外函数在结束的时候发现有自己的临时变量将来会在内部函数中用到，就把这个临时变量绑定给了内部函数，然后自己再结束。\n",
    "def outer( a ):\n",
    "    b = 10\n",
    "    print(id(a), id(b))\n",
    "    # inner是内函数\n",
    "    def inner():\n",
    "        # 在内函数中 用到了外函数的临时变量\n",
    "        print(a + b)\n",
    "        print(id(a), id(b))\n",
    "    # 外函数的返回值是内函数的引用\n",
    "    print(f\"内函数id:{id(inner)}\")     ### 我们每次调用外函数，都返回不同的实例对象的引用，他们的功能是一样的，但是它们实际上不是同一个函数对象。\n",
    "    return inner\n",
    " \n",
    "if __name__ == '__main__':\n",
    "    # 在这里我们调用外函数传入参数5\n",
    "    #此时外函数两个临时变量 a是5 b是10 ，并创建了内函数，然后把内函数的引用返回存给了demo\n",
    "    # 外函数结束的时候发现内部函数将会用到自己的临时变量，这两个临时变量就不会释放，会绑定给这个内部函数\n",
    "    demo = outer(5)\n",
    "    demo() # 15\n",
    "    print('-'*30)\n",
    "    demo2 = outer(7)\n",
    "    demo2()"
   ]
  },
  {
   "cell_type": "code",
   "execution_count": 539,
   "metadata": {},
   "outputs": [
    {
     "name": "stdout",
     "output_type": "stream",
     "text": [
      "最外部\n",
      "中间\n",
      "内函数id:2026580376296\n"
     ]
    }
   ],
   "source": [
    "def fun(*args, **kwargs):\n",
    "    print(\"最外部\")\n",
    "    def outer( *args ):\n",
    "        print(\"中间\")\n",
    "        def inner():\n",
    "            print(f\"内函数id:{id(inner)}\")    \n",
    "        return inner\n",
    "    return outer\n",
    " \n",
    "if __name__ == '__main__':\n",
    "    fun(1,2)(3)()"
   ]
  },
  {
   "cell_type": "code",
   "execution_count": null,
   "metadata": {},
   "outputs": [],
   "source": [
    "有结果可知\n",
    "1. 多次调用外部函数，每次返回的内部函数都不是同一个\n",
    "2. 在一次调用中，外部函数的的临时变量会在内部函数中用到，就把这个临时变量绑定给了内部函数，然后自己再结束，所以外部函数和内部函数的用的变量是同一个。（但是只限使用临时变量，而不能修改！！！）\n",
    "3. 多次调用时，使用的是同一个外函数，所以多次使用是，都是用到的外函数中的定义的变量是同一个"
   ]
  },
  {
   "cell_type": "markdown",
   "metadata": {},
   "source": [
    "#### 在闭包中通过使用 `nonlocal` 关键字来修改外函数的变量"
   ]
  },
  {
   "cell_type": "code",
   "execution_count": null,
   "metadata": {},
   "outputs": [],
   "source": [
    "2 闭包中内函数修改外函数局部变量\n",
    "　　在闭包内函数中，可以随意使用外函数绑定来的临时变量，但是如果想修改外函数临时变量数值的时候发现出问题了！\n",
    "\n",
    "　　在基本的python语法当中，一个函数可以随意读取全局数据，但是要修改全局数据的时候有两种方法:\n",
    "\n",
    "       1 global 声明全局变量\n",
    "\n",
    "       2 全局变量是可变类型数据的时候可以修改\n",
    "\n",
    "　　在闭包内函数也是类似的情况。在内函数中想修改闭包变量（外函数绑定给内函数的局部变量）的时候：\n",
    "\n",
    "　　1 在python3中，可以用nonlocal 关键字声明 一个变量， 表示这个变量不是局部变量空间的变量时，需要向上一层变量空间找这个变量。\n",
    "\n",
    "　　2 在python2中，没有nonlocal这个关键字，可以把闭包变量改成可变类型数据进行修改，比如列表。\n"
   ]
  },
  {
   "cell_type": "code",
   "execution_count": 482,
   "metadata": {},
   "outputs": [
    {
     "ename": "UnboundLocalError",
     "evalue": "local variable 'd' referenced before assignment",
     "output_type": "error",
     "traceback": [
      "\u001b[1;31m---------------------------------------------------------------------------\u001b[0m",
      "\u001b[1;31mUnboundLocalError\u001b[0m                         Traceback (most recent call last)",
      "\u001b[1;32m<ipython-input-482-aa1c5b1df3f2>\u001b[0m in \u001b[0;36m<module>\u001b[1;34m\u001b[0m\n\u001b[0;32m      3\u001b[0m     \u001b[0md\u001b[0m\u001b[1;33m+=\u001b[0m\u001b[1;36m1\u001b[0m     \u001b[1;31m#  果然。Python处理内部变量调用的时候，一旦直接对没有定义过的变量进行操作，就会显示  UnboundLocalError: local variable 'd' referenced before assignment 越界调用，局部调用全局变量处理。\u001b[0m\u001b[1;33m\u001b[0m\u001b[1;33m\u001b[0m\u001b[0m\n\u001b[0;32m      4\u001b[0m     \u001b[0mprint\u001b[0m\u001b[1;33m(\u001b[0m\u001b[0md\u001b[0m\u001b[1;33m)\u001b[0m    \u001b[1;31m#  而如果没有 d+=1 ，直接print(d)的话，则是变量没有定义   NameError: name 'd' is not defined\u001b[0m\u001b[1;33m\u001b[0m\u001b[1;33m\u001b[0m\u001b[0m\n\u001b[1;32m----> 5\u001b[1;33m \u001b[0mff\u001b[0m\u001b[1;33m(\u001b[0m\u001b[1;33m)\u001b[0m\u001b[1;33m\u001b[0m\u001b[1;33m\u001b[0m\u001b[0m\n\u001b[0m",
      "\u001b[1;32m<ipython-input-482-aa1c5b1df3f2>\u001b[0m in \u001b[0;36mff\u001b[1;34m()\u001b[0m\n\u001b[0;32m      1\u001b[0m \u001b[1;31m# 关于 Python处理内部变量调用的时候，一旦直接对没有定义过的变量进行操作 处理的验证：\u001b[0m\u001b[1;33m\u001b[0m\u001b[1;33m\u001b[0m\u001b[1;33m\u001b[0m\u001b[0m\n\u001b[0;32m      2\u001b[0m \u001b[1;32mdef\u001b[0m \u001b[0mff\u001b[0m\u001b[1;33m(\u001b[0m\u001b[1;33m)\u001b[0m\u001b[1;33m:\u001b[0m\u001b[1;33m\u001b[0m\u001b[1;33m\u001b[0m\u001b[0m\n\u001b[1;32m----> 3\u001b[1;33m     \u001b[0md\u001b[0m\u001b[1;33m+=\u001b[0m\u001b[1;36m1\u001b[0m     \u001b[1;31m#  果然。Python处理内部变量调用的时候，一旦直接对没有定义过的变量进行操作，就会显示  UnboundLocalError: local variable 'd' referenced before assignment 越界调用，局部调用全局变量处理。\u001b[0m\u001b[1;33m\u001b[0m\u001b[1;33m\u001b[0m\u001b[0m\n\u001b[0m\u001b[0;32m      4\u001b[0m     \u001b[0mprint\u001b[0m\u001b[1;33m(\u001b[0m\u001b[0md\u001b[0m\u001b[1;33m)\u001b[0m    \u001b[1;31m#  而如果没有 d+=1 ，直接print(d)的话，则是变量没有定义   NameError: name 'd' is not defined\u001b[0m\u001b[1;33m\u001b[0m\u001b[1;33m\u001b[0m\u001b[0m\n\u001b[0;32m      5\u001b[0m \u001b[0mff\u001b[0m\u001b[1;33m(\u001b[0m\u001b[1;33m)\u001b[0m\u001b[1;33m\u001b[0m\u001b[1;33m\u001b[0m\u001b[0m\n",
      "\u001b[1;31mUnboundLocalError\u001b[0m: local variable 'd' referenced before assignment"
     ]
    }
   ],
   "source": [
    "# 关于 Python处理内部变量调用的时候，一旦直接对没有定义过的变量进行操作 处理的验证：\n",
    "def ff():\n",
    "    d+=1     #  果然。Python处理内部变量调用的时候，一旦直接对没有定义过的变量进行操作，就会显示  UnboundLocalError: local variable 'd' referenced before assignment 越界调用，局部调用全局变量处理。 \n",
    "    print(d)    #  而如果没有 d+=1 ，直接print(d)的话，则是变量没有定义   NameError: name 'd' is not defined\n",
    "ff()"
   ]
  },
  {
   "cell_type": "code",
   "execution_count": 11,
   "metadata": {},
   "outputs": [
    {
     "name": "stdout",
     "output_type": "stream",
     "text": [
      "hahah\n",
      "fsd\n",
      "getting.. <__main__.MyDecriptor object at 0x7faaf9510f50> <__main__.Test object at 0x7faaf9510f90> <class '__main__.Test'>\n"
     ]
    },
    {
     "data": {
      "text/plain": [
       "<bound method MyDecriptor.say of <__main__.MyDecriptor object at 0x7faaf9510f50>>"
      ]
     },
     "execution_count": 11,
     "metadata": {},
     "output_type": "execute_result"
    }
   ],
   "source": [
    "# 描述符 __get__()\n",
    "class MyDecriptor(object):\n",
    "    def __init__(self):\n",
    "        print(\"hahah\")\n",
    "\n",
    "    def say(self):\n",
    "        print(\"fa\")\n",
    "        \n",
    "    def __get__(self, instance, owner):\n",
    "        print(\"getting..\", self, instance, owner)\n",
    "        return self.say\n",
    "        \n",
    "    def __set__(self, instance, value):\n",
    "        print(\"setting..\", self, instance, value)\n",
    "        \n",
    "    def __delete__(self, instance):\n",
    "        print(\"delete..\", self, instance)\n",
    "        \n",
    "    def __call__(self):  \n",
    "        print('fsd')\n",
    "        \n",
    "class Test(object):\n",
    "    x = MyDecriptor()\n",
    "    x()  # 同样是，当前类实例直接调用的时候，触发该函数\n",
    "    \n",
    "test = Test()\n",
    "test.x"
   ]
  },
  {
   "cell_type": "code",
   "execution_count": 170,
   "metadata": {},
   "outputs": [
    {
     "name": "stdout",
     "output_type": "stream",
     "text": [
      "<class 'method'>\n",
      "<class 'function'>\n"
     ]
    }
   ],
   "source": [
    "# 关于Python的函数和方法    https://www.cnblogs.com/blackmatrix/p/6847313.html  作者标题有误\n",
    "class Aaaa(object):\n",
    "    def a():\n",
    "        pass\n",
    "    \n",
    "print(type(Aaaa().a))\n",
    "print(type(Aaaa.a))   # 关于函数和方法的区别，在于是否与一个实例对象绑定"
   ]
  },
  {
   "cell_type": "markdown",
   "metadata": {},
   "source": [
    "#### 多个装饰器的调用顺序"
   ]
  },
  {
   "cell_type": "code",
   "execution_count": 181,
   "metadata": {},
   "outputs": [
    {
     "name": "stdout",
     "output_type": "stream",
     "text": [
      "----a----\n",
      "----1----\n",
      "----2----\n",
      "----b----\n",
      "----3----\n"
     ]
    }
   ],
   "source": [
    "def one(func):\n",
    "    print('----1----')\n",
    "    def two():\n",
    "        print('----2----')\n",
    "        func()\n",
    "    return two\n",
    "\n",
    "def a(func):\n",
    "    print('----a----')\n",
    "    def b():\n",
    "        print('----b----')             # demo = a(demo)\n",
    "        func()\n",
    "    return b\n",
    "\n",
    "@one\n",
    "@a\n",
    "def demo():\n",
    "    print('----3----')\n",
    "\n",
    "demo()"
   ]
  },
  {
   "cell_type": "code",
   "execution_count": 187,
   "metadata": {},
   "outputs": [
    {
     "name": "stdout",
     "output_type": "stream",
     "text": [
      "Get in decorator_a\n",
      "Get in decorator_b\n",
      "Get in inner_b\n",
      "Get in inner_a\n",
      "Get in f\n"
     ]
    },
    {
     "data": {
      "text/plain": [
       "2"
      ]
     },
     "execution_count": 187,
     "metadata": {},
     "output_type": "execute_result"
    }
   ],
   "source": [
    "def decorator_a(func):\n",
    "    print('Get in decorator_a')\n",
    "    def inner_a(*args, **kwargs):\n",
    "        print('Get in inner_a')\n",
    "        return func(args[0])   \n",
    "    return inner_a\n",
    "\n",
    "def decorator_b(func):\n",
    "    print('Get in decorator_b')\n",
    "    def inner_b(*args, **kwargs):\n",
    "        print('Get in inner_b')\n",
    "        return func(args[0])\n",
    "    return inner_b\n",
    "\n",
    "@decorator_b\n",
    "@decorator_a\n",
    "def f(x):\n",
    "    print('Get in f')\n",
    "    return x * 2\n",
    "\n",
    "f(1,3,4,5,5)\n"
   ]
  },
  {
   "cell_type": "code",
   "execution_count": null,
   "metadata": {},
   "outputs": [],
   "source": []
  }
 ],
 "metadata": {
  "kernelspec": {
   "display_name": "Python 3",
   "language": "python",
   "name": "python3"
  },
  "language_info": {
   "codemirror_mode": {
    "name": "ipython",
    "version": 3
   },
   "file_extension": ".py",
   "mimetype": "text/x-python",
   "name": "python",
   "nbconvert_exporter": "python",
   "pygments_lexer": "ipython3",
   "version": "3.7.4"
  }
 },
 "nbformat": 4,
 "nbformat_minor": 4
}
