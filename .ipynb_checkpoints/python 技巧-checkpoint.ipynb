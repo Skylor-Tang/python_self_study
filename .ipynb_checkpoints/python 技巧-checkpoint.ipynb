{
 "cells": [
  {
   "cell_type": "markdown",
   "metadata": {},
   "source": [
    "#### 链式调用"
   ]
  },
  {
   "cell_type": "code",
   "execution_count": 9,
   "metadata": {},
   "outputs": [
    {
     "name": "stdout",
     "output_type": "stream",
     "text": [
      "http://xxxx/users/show\n"
     ]
    },
    {
     "data": {
      "text/plain": [
       "<__main__.UrlGenerator at 0x25e31e27a58>"
      ]
     },
     "execution_count": 9,
     "metadata": {},
     "output_type": "execute_result"
    }
   ],
   "source": [
    "class UrlGenerator(object):                         \n",
    "    '''\n",
    "    通过返回该类的对象 实现链式调用\n",
    "    充分利用getattr会在没有查找到相应实例属性时被调用的特点，方便的通过链式调用生成对应的url\n",
    "    '''\n",
    "    def __init__(self, root_url):\n",
    "        self.url = root_url\n",
    "\n",
    "    def __getattr__(self, item):  # __getattr__魔法函数会在实例调用不存在的属性时调用\n",
    "        if item == 'get' or item == 'post':\n",
    "            print(self.url)  \n",
    "        return UrlGenerator('{}/{}'.format(self.url, item))    # 因为return的对象为当前类UrlGenerator的实例对象，所以当不存在某个属性的时候可以继续调用__getattr__ ， 因为返回的是新的当前类实例对象\n",
    "\n",
    "url_gen = UrlGenerator('http://xxxx')\n",
    "url_gen.users.show.get                                 # https://www.jb51.net/article/87073.htm"
   ]
  },
  {
   "cell_type": "code",
   "execution_count": 42,
   "metadata": {},
   "outputs": [
    {
     "name": "stdout",
     "output_type": "stream",
     "text": [
      "我被调用了\n",
      "我被调用了\n",
      "{1: 3}\n"
     ]
    }
   ],
   "source": [
    "class ObjectDict(dict):\n",
    "    def __init__(self, *args, **kwargs):\n",
    "        super(ObjectDict, self).__init__(*args, **kwargs)\n",
    "\n",
    "    def __getattr__(self, name):\n",
    "        \"\"\"\n",
    "            因为字典的项的调用方式是ob[\"asf\"]的方式，即调用的是__getitem__来实现[]的调用方式\n",
    "            因而使用ob.asf调用属性的方式是不行的，所以利用__getattr__来处理ob.asf的调用形式\n",
    "        \"\"\"\n",
    "        value =  self[name]\n",
    "        if isinstance(value, dict):                                                                       \n",
    "            print(\"我被调用了\")\n",
    "            value = ObjectDict(value)\n",
    "        return value\n",
    "\n",
    "if __name__ == '__main__':\n",
    "    od = ObjectDict(asf={'a': {1:3}}, d=True)               \n",
    "#     print(od.asf)\n",
    "    print(od.asf.a)  # od.asf得到{'a': {1:3}}该对象是ObjectDice的实例对象（为什么），继续调用a属性，没有该属性，调用__getattr__，self[a] 得到一个字典{1: 3}   奇怪的是 为什么使用value =  self[name]得到的就是当前对象的实例，而直接{}字典就不是呢\n",
    "#     print(od.d)\n",
    "#     print(isinstance({'a':1}, ObjectDict))     # 为什么是False呢\n",
    "#     print(isinstance(od.asf, ObjectDict))      # 这里却是True  "
   ]
  },
  {
   "cell_type": "code",
   "execution_count": 43,
   "metadata": {},
   "outputs": [
    {
     "name": "stdout",
     "output_type": "stream",
     "text": [
      "当前属性不存在\n"
     ]
    }
   ],
   "source": [
    "class T():\n",
    "    '''实践证明，当类的属性不存在的时候，是不会调用类中的__getattr__的，类的属性调用时的__getattr__可以在元类编程中实现-- 因为类是元类的实例对象'''\n",
    "#     instance = 123\n",
    "    def __getattr__(self, item):\n",
    "        return \"当前属性不存在\"\n",
    "    \n",
    "tt = T()\n",
    "print(tt.instance333)      \n",
    "# print(T.instance4444)    # AttributeError: type object 'T' has no attribute 'instance4444'       "
   ]
  },
  {
   "cell_type": "code",
   "execution_count": 31,
   "metadata": {},
   "outputs": [
    {
     "name": "stdout",
     "output_type": "stream",
     "text": [
      "getlength\n",
      "<class 'str'>\n",
      "6\n"
     ]
    }
   ],
   "source": [
    "class Test(object):\n",
    "    def __init__(self,name):\n",
    "        self.name = name\n",
    "    def __getattr__(self, value):    # 可以接受不存在的方法，接受到的是方法名，类型为str \n",
    "        print(value)\n",
    "        print(type(value))\n",
    "        return len\n",
    "\n",
    "if __name__==\"__main__\":\n",
    "    test = Test('letian')\n",
    "    print(test.getlength('letian'))"
   ]
  },
  {
   "cell_type": "code",
   "execution_count": 32,
   "metadata": {},
   "outputs": [
    {
     "name": "stdout",
     "output_type": "stream",
     "text": [
      "father： {'father_b': 'Father'}\n",
      "son： {'son_b': 'son', 'father_b': 'father1'}\n",
      "{'__module__': '__main__', 'father_a': 1, '__init__': <function Father.__init__ at 0x000001E5D85C1D08>, 'say': <function Father.say at 0x000001E5D85A69D8>, '__dict__': <attribute '__dict__' of 'Father' objects>, '__weakref__': <attribute '__weakref__' of 'Father' objects>, '__doc__': None}\n",
      "{'__module__': '__main__', 'son_a': 2, '__init__': <function Son.__init__ at 0x000001E5D8754158>, '__doc__': None}\n",
      "================================================================================================================================================================================================================================================\n",
      "['__class__', '__delattr__', '__dict__', '__dir__', '__doc__', '__eq__', '__format__', '__ge__', '__getattribute__', '__gt__', '__hash__', '__init__', '__init_subclass__', '__le__', '__lt__', '__module__', '__ne__', '__new__', '__reduce__', '__reduce_ex__', '__repr__', '__setattr__', '__sizeof__', '__str__', '__subclasshook__', '__weakref__', 'father_a', 'say', 'son_a']\n"
     ]
    },
    {
     "data": {
      "text/plain": [
       "['Father',\n",
       " 'In',\n",
       " 'Out',\n",
       " 'Son',\n",
       " 'Test',\n",
       " 'User',\n",
       " '_',\n",
       " '_7',\n",
       " '_8',\n",
       " '__',\n",
       " '___',\n",
       " '__builtin__',\n",
       " '__builtins__',\n",
       " '__doc__',\n",
       " '__loader__',\n",
       " '__name__',\n",
       " '__package__',\n",
       " '__spec__',\n",
       " '_dh',\n",
       " '_i',\n",
       " '_i1',\n",
       " '_i10',\n",
       " '_i11',\n",
       " '_i12',\n",
       " '_i13',\n",
       " '_i14',\n",
       " '_i15',\n",
       " '_i16',\n",
       " '_i17',\n",
       " '_i18',\n",
       " '_i19',\n",
       " '_i2',\n",
       " '_i20',\n",
       " '_i21',\n",
       " '_i22',\n",
       " '_i23',\n",
       " '_i24',\n",
       " '_i25',\n",
       " '_i26',\n",
       " '_i27',\n",
       " '_i28',\n",
       " '_i29',\n",
       " '_i3',\n",
       " '_i30',\n",
       " '_i31',\n",
       " '_i32',\n",
       " '_i4',\n",
       " '_i5',\n",
       " '_i6',\n",
       " '_i7',\n",
       " '_i8',\n",
       " '_i9',\n",
       " '_ih',\n",
       " '_ii',\n",
       " '_iii',\n",
       " '_oh',\n",
       " 'collections',\n",
       " 'exit',\n",
       " 'father',\n",
       " 'get_ipython',\n",
       " 'namedtuple',\n",
       " 'quit',\n",
       " 'son',\n",
       " 'suits',\n",
       " 'test',\n",
       " 'user']"
      ]
     },
     "execution_count": 32,
     "metadata": {},
     "output_type": "execute_result"
    }
   ],
   "source": [
    "# 看父类子类的__dict__关系\n",
    "\n",
    "class Father():\n",
    "    father_a = 1\n",
    "    def __init__(self,father_b):\n",
    "        self.father_b = father_b\n",
    "        \n",
    "    def say(self):\n",
    "        pass\n",
    "        \n",
    "class Son(Father):\n",
    "    son_a = 2\n",
    "    def __init__(self, son_b, father_b):\n",
    "        self.son_b = son_b\n",
    "        super().__init__(father_b)\n",
    "        \n",
    "father = Father(\"Father\")                       # 子类在初始化函数__init__中没有使用super调用父类的方法的时候，子类实例的__dict__中没有父类实例对象的 __dict__\n",
    "son = Son(\"son\",'father1')                      # 子类继承父类方法时没有重写父类方法的时候，子类的__dict__中没有没有父类的方法   但是子类是可以调用的  使用dir 可以查看\n",
    "print(\"father：\",father.__dict__)\n",
    "print(\"son：\",son.__dict__)\n",
    "print(Father.__dict__)\n",
    "print(Son.__dict__)  # 继承的子类没有  __dict__ 、 __weakref__\n",
    "print(\"====\"*60)\n",
    "\n",
    "\n",
    "print(dir(Son))   # 使用dir可以使用查看当前对象能调用的所有方法  所以在son类中可以看到\n",
    "\n",
    "dir()    # https://www.jb51.net/article/101250.htm"
   ]
  },
  {
   "cell_type": "markdown",
   "metadata": {},
   "source": [
    "#### 巧用异常"
   ]
  },
  {
   "cell_type": "code",
   "execution_count": 7,
   "metadata": {},
   "outputs": [
    {
     "name": "stdout",
     "output_type": "stream",
     "text": [
      "1.000169038772583\n",
      "0.0\n",
      "{'SELECT * FROM blog_post': 'execute SELECT * FROM blog_post'}\n"
     ]
    }
   ],
   "source": [
    "import time\n",
    "\n",
    "CACHE = {}\n",
    "\n",
    "def query(sql):\n",
    "    '''\n",
    "    实现缓存效果\n",
    "    '''\n",
    "    try:\n",
    "        result = CACHE[sql]\n",
    "    except KeyError:           #使用异常来代替条件   判断    省略 if条件判断 \n",
    "        time.sleep(1)\n",
    "        result = 'execute %s' % sql\n",
    "        CACHE[sql] = result\n",
    "    return result\n",
    "\n",
    "if __name__ == '__main__':\n",
    "    start = time.time()\n",
    "    query('SELECT * FROM blog_post')\n",
    "    print(time.time() - start)\n",
    "\n",
    "    start = time.time()  \n",
    "    query('SELECT * FROM blog_post')\n",
    "    print(time.time() - start)     # 第二次使用的时候，原先已经存储过直接调用，节省了时间\n",
    "    print(CACHE)"
   ]
  },
  {
   "cell_type": "code",
   "execution_count": null,
   "metadata": {},
   "outputs": [],
   "source": [
    "'''\n",
    "上面使用异常的方式模拟sql请求缓存的方式，在异常发生时的处理过程开销较大，建议采用下面的方式\n",
    "'''\n",
    "CACHE = {}\n",
    "\n",
    "def query(sql):\n",
    "    result = CACHE.get(sql)\n",
    "    if not result:\n",
    "        result = 'execute %s' % sql\n",
    "        CACHE[sql] = result\n",
    "    return result"
   ]
  },
  {
   "cell_type": "markdown",
   "metadata": {},
   "source": [
    "上面的缓存方式易用性较差，且会入侵到业务代码之中（因为需要在业务代码中存在该方法），所以推荐使用装饰器模式，给对应的函数增加缓存机制"
   ]
  },
  {
   "cell_type": "code",
   "execution_count": 1,
   "metadata": {},
   "outputs": [
    {
     "name": "stdout",
     "output_type": "stream",
     "text": [
      "1.0025811195373535\n",
      "5.0067901611328125e-06\n"
     ]
    }
   ],
   "source": [
    "'''\n",
    "装饰器方式实现\n",
    "'''\n",
    "import functools\n",
    "import time\n",
    "\n",
    "CACHE = {}\n",
    "\n",
    "def cache_it(func):\n",
    "    @functools.wraps(func)\n",
    "    def innner(*args, **kwargs):\n",
    "        key = repr(*args, **kwargs)  # 将对象转化为供解释器读取的形式，接受一个对象，然后返回该对象的string格式。\n",
    "        result = CACHE.get(key)\n",
    "        if not result:\n",
    "            result = func(*args, **kwargs)\n",
    "            CACHE[key] = result\n",
    "        return result\n",
    "    return innner\n",
    "\n",
    "@cache_it\n",
    "def query(sql):\n",
    "    time.sleep(1)\n",
    "    result = 'excute %s' % sql\n",
    "    return result\n",
    "\n",
    "if __name__ == \"__main__\":\n",
    "    start = time.time()\n",
    "    query('SELECT * FROM blog_post')\n",
    "    print(time.time() - start)\n",
    "\n",
    "    start = time.time()\n",
    "    query('SELECT * FROM blog_post')\n",
    "    print(time.time() - start)\n"
   ]
  },
  {
   "cell_type": "code",
   "execution_count": null,
   "metadata": {},
   "outputs": [],
   "source": [
    "import time\n",
    "from collections import OrderedDict\n",
    "\n",
    "class LRUCacheDict:\n",
    "    def __init__(self, max_size=1024, expiration=60):\n",
    "        \"\"\" 最大容量为1024个key，每个key的有效期为60s \"\"\"\n",
    "        self.max_size = max_size\n",
    "        self.expiration = expiration\n",
    "\n",
    "        self._cache = {}\n",
    "        self._access_records = OrderedDict() # 记录访问时间\n",
    "        self._expire_records = OrderedDict() # 记录失效时间\n",
    "\n",
    "    def __setitem__(self, key, value):\n",
    "        now = int(time.time())\n",
    "        self.__delete__(key)\n",
    "\n",
    "        self._cache[key] = value\n",
    "        self._expire_records[key] = now + self.expiration\n",
    "        self._access_records[key] = now\n",
    "\n",
    "        self.cleanup()\n",
    "\n",
    "    def __getitem__(self, key):\n",
    "        now = int(time.time())\n",
    "        del self._access_records[key]\n",
    "        self._access_records[key] = now\n",
    "        self.cleanup()\n",
    "\n",
    "        return self._cache[key]\n",
    "\n",
    "    def __contains__(self, key):\n",
    "        self.cleanup()\n",
    "        return key in self._cache\n",
    "\n",
    "    def __delete__(self, key):\n",
    "        if key in self._cache:\n",
    "            del self._cache[key]\n",
    "            del self._expire_records[key]\n",
    "            del self._access_records[key]\n",
    "\n",
    "    def cleanup(self):\n",
    "        \"\"\" 去掉无效（过期或者超出存储大小）的缓存 \"\"\"\n",
    "        if self.expiration is None:\n",
    "            return None\n",
    "    \n",
    "        pending_delete_keys = []\n",
    "        now = int(time.time())\n",
    "        # 删除已经过期的缓存\n",
    "        for k, v in self._expire_records.items():\n",
    "            if v < now:\n",
    "                pending_delete_keys.append(k)\n",
    "\n",
    "        for del_k in pending_delete_keys:\n",
    "            self.__delete__(del_k)\n",
    "\n",
    "        # 如果数据量大于 max_size ，则删掉最旧的缓存\n",
    "        while (len(self._cache) > self.max_size):\n",
    "            for k in self._access_records:\n",
    "                self.__delete__(k)\n",
    "                break\n",
    "\n",
    "if __name__ == \"__main__\":\n",
    "    cache_dict = LRUCacheDict(max_size=2, expiration=10)\n",
    "    cache_dict['name'] = 'tmj'\n",
    "    cache_dict['age'] = 24\n",
    "    cache_dict['addr'] = 'shanghai'\n",
    "\n",
    "    print('name' in  cache_dict)\n",
    "    print('age' in cache_dict)\n",
    "\n",
    "    time.sleep(11)\n",
    "    print('age' in cache_dict)"
   ]
  },
  {
   "cell_type": "code",
   "execution_count": 3,
   "metadata": {},
   "outputs": [
    {
     "ename": "SyntaxError",
     "evalue": "invalid syntax (<ipython-input-3-496da5d7965e>, line 1)",
     "output_type": "error",
     "traceback": [
      "\u001b[0;36m  File \u001b[0;32m\"<ipython-input-3-496da5d7965e>\"\u001b[0;36m, line \u001b[0;32m1\u001b[0m\n\u001b[0;31m    from ./ import LRUCacheDict\u001b[0m\n\u001b[0m          ^\u001b[0m\n\u001b[0;31mSyntaxError\u001b[0m\u001b[0;31m:\u001b[0m invalid syntax\n"
     ]
    }
   ],
   "source": [
    "import LRUCacheDict\n",
    "import functools\n",
    "from functools import lru_cache\n",
    "import time\n",
    "\n",
    "def cache_it(max_size=1024, expiration=60):\n",
    "    CACHE = LRUCacheDict(max_size=max_size, expiration=expiration)\n",
    "\n",
    "    def wrapper(func):\n",
    "        @functools.wraps(func)\n",
    "        def inner(*args, **kwargs):\n",
    "            key = repr(*args, **kwargs)\n",
    "            try:\n",
    "                result = CACHE[key]\n",
    "            except KeyError:\n",
    "                result = func(*args, **kwargs)\n",
    "                CACHE[key] = result\n",
    "            return result\n",
    "        return inner\n",
    "    return wrapper\n",
    "\n",
    "@cache_it(max_size=10, expiration=3)\n",
    "def query(sql):\n",
    "    time.sleep(1)\n",
    "    result = 'excute %s' % sql\n",
    "    return result"
   ]
  },
  {
   "cell_type": "markdown",
   "metadata": {},
   "source": [
    "#### 解包"
   ]
  },
  {
   "cell_type": "code",
   "execution_count": 29,
   "metadata": {},
   "outputs": [
    {
     "name": "stdout",
     "output_type": "stream",
     "text": [
      "1\n",
      "------------------------------------------------------------\n",
      "(1, 2, 4)\n"
     ]
    },
    {
     "data": {
      "text/plain": [
       "[0, 1, 2, 3, 4]"
      ]
     },
     "execution_count": 29,
     "metadata": {},
     "output_type": "execute_result"
    }
   ],
   "source": [
    "# 使用* 解包\n",
    "def a(f,*args):\n",
    "    print(*args)   \n",
    "a(a,(1))\n",
    "print(\"--\"*30)\n",
    "\n",
    "a = (1,2,4)\n",
    "print(a)\n",
    "[*range(4),4]  # 利用 * 进行解包  https://blog.csdn.net/weixin_42635759/article/details/81990343"
   ]
  },
  {
   "cell_type": "code",
   "execution_count": null,
   "metadata": {},
   "outputs": [],
   "source": []
  },
  {
   "cell_type": "markdown",
   "metadata": {},
   "source": [
    "#### 批量执行操作并得到返回值"
   ]
  },
  {
   "cell_type": "code",
   "execution_count": null,
   "metadata": {},
   "outputs": [],
   "source": [
    "from concurrent.futures import ThreadPoolExecutor\n",
    "import time\n",
    "\n",
    "def get_html(times):\n",
    "    time.sleep(times)\n",
    "    print(\"get page {} success\".format(times))\n",
    "    return times\n",
    "\n",
    "executor = ThreadPoolExecutor(max_workers=2) \n",
    "# 批量获取启动任务对象\n",
    "urls = [3,2,4]\n",
    "all_task = [executor.submit(get_html, (url)) for url in urls]  # 实现了批量提交任务并返回对象\n",
    "wait(all_task, return_when=FIRST_COMPLETED)\n",
    "print(\"main\")"
   ]
  },
  {
   "cell_type": "code",
   "execution_count": 39,
   "metadata": {},
   "outputs": [
    {
     "name": "stdout",
     "output_type": "stream",
     "text": [
      "[1, 2, 3]\n"
     ]
    }
   ],
   "source": [
    "def a(i):\n",
    "    return i+1\n",
    "b = [a(i) for i in range(3)]\n",
    "print(b)"
   ]
  },
  {
   "cell_type": "code",
   "execution_count": null,
   "metadata": {},
   "outputs": [],
   "source": []
  },
  {
   "cell_type": "markdown",
   "metadata": {},
   "source": [
    "#### `split`"
   ]
  },
  {
   "cell_type": "code",
   "execution_count": 6,
   "metadata": {},
   "outputs": [
    {
     "name": "stdout",
     "output_type": "stream",
     "text": [
      "['spades', 'diamonds', 'clubs', 'hearts']\n"
     ]
    }
   ],
   "source": [
    "# split使用的时候\n",
    "\n",
    "# split()为空的时候 效果等同于 split(\" \")  \" \"中间是一个空格\n",
    "# ValueError: empty separator\n",
    "\n",
    "suits = \"spades diamonds clubs hearts\".split(\" \") # 效果等同于  suits = \"spades diamonds clubs hearts\".split()  split中不传递值\n",
    "print(suits)"
   ]
  },
  {
   "cell_type": "code",
   "execution_count": null,
   "metadata": {},
   "outputs": [],
   "source": []
  },
  {
   "cell_type": "markdown",
   "metadata": {},
   "source": [
    "#### 巧用 `Python` 生成器"
   ]
  },
  {
   "cell_type": "code",
   "execution_count": 4,
   "metadata": {},
   "outputs": [
    {
     "data": {
      "text/plain": [
       "0"
      ]
     },
     "execution_count": 4,
     "metadata": {},
     "output_type": "execute_result"
    }
   ],
   "source": [
    "# 实现功能，接受一个数字，并计算当前平均数\n",
    "def averager():\n",
    "    sum = 0\n",
    "    num = 0\n",
    "    while True:\n",
    "        sum += (yield sum / num if num > 0 else 0)\n",
    "        num += 1\n",
    "x = averager()\n",
    "x.send(None) "
   ]
  },
  {
   "cell_type": "code",
   "execution_count": null,
   "metadata": {},
   "outputs": [],
   "source": [
    "'''\n",
    "事实上，此处使用yield来实现，并不直观，且还需要先调用一次x.send(None)来启动生成器\n",
    "不如下面的方式直观\n",
    "'''\n",
    "class Averager:\n",
    "    def __init__(self):\n",
    "        self.sum = 0\n",
    "        self.num = 0\n",
    "    def avg_num(self, n):\n",
    "        self.sum += n\n",
    "        self.num += 1\n",
    "        return self.sum / self.num\n",
    "averager = Averager()\n",
    "averager.avg_num(1)\n",
    "#=> 1.0\n",
    "averager.avg_num(2)\n",
    "#=> 1.5\n",
    "averager.avg_num(3)\n",
    "#=> 2.0\n",
    "\n",
    "'''\n",
    "生成器send 是为了协程的实现\n",
    "'''\n"
   ]
  },
  {
   "cell_type": "code",
   "execution_count": null,
   "metadata": {},
   "outputs": [],
   "source": []
  }
 ],
 "metadata": {
  "kernelspec": {
   "display_name": "Python 3",
   "language": "python",
   "name": "python3"
  },
  "language_info": {
   "codemirror_mode": {
    "name": "ipython",
    "version": 3
   },
   "file_extension": ".py",
   "mimetype": "text/x-python",
   "name": "python",
   "nbconvert_exporter": "python",
   "pygments_lexer": "ipython3",
   "version": "3.7.4"
  }
 },
 "nbformat": 4,
 "nbformat_minor": 4
}
