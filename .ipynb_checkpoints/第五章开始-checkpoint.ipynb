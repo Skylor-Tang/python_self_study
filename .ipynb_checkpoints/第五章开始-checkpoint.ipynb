{
 "cells": [
  {
   "cell_type": "code",
   "execution_count": 2,
   "metadata": {},
   "outputs": [
    {
     "data": {
      "text/plain": [
       "mappingproxy({'__module__': 'collections',\n",
       "              '__init__': <function collections.UserDict.__init__(*args, **kwargs)>,\n",
       "              '__len__': <function collections.UserDict.__len__(self)>,\n",
       "              '__getitem__': <function collections.UserDict.__getitem__(self, key)>,\n",
       "              '__setitem__': <function collections.UserDict.__setitem__(self, key, item)>,\n",
       "              '__delitem__': <function collections.UserDict.__delitem__(self, key)>,\n",
       "              '__iter__': <function collections.UserDict.__iter__(self)>,\n",
       "              '__contains__': <function collections.UserDict.__contains__(self, key)>,\n",
       "              '__repr__': <function collections.UserDict.__repr__(self)>,\n",
       "              '__copy__': <function collections.UserDict.__copy__(self)>,\n",
       "              'copy': <function collections.UserDict.copy(self)>,\n",
       "              'fromkeys': <classmethod at 0x7fbad00a5e90>,\n",
       "              '__dict__': <attribute '__dict__' of 'UserDict' objects>,\n",
       "              '__weakref__': <attribute '__weakref__' of 'UserDict' objects>,\n",
       "              '__doc__': None,\n",
       "              '__abstractmethods__': frozenset(),\n",
       "              '_abc_impl': <_abc_data at 0x7fbad009df00>})"
      ]
     },
     "execution_count": 2,
     "metadata": {},
     "output_type": "execute_result"
    }
   ],
   "source": [
    "'''\n",
    "几个查看源码的包\n",
    "'''\n",
    "# from collections import abc\n",
    "# from collections import defaultdict\n",
    "# import _collections   里面有defauledict 和 queue\n",
    "\n",
    "# from _collections_abc import Sequence\n",
    "\n",
    "\n",
    "# defaultdict.__missing__.__doc__    利用该方法 __doc__查看文档  \n",
    "\n",
    "\n",
    "from collections import UserDict\n",
    "'''\n",
    "python内部实现了当达成某个条件的时候就会自动调用某些相对应的魔法函数，如当使用 dict[key] 的时候，就会调用__getitem__方法，\n",
    "只是会规定达成条件要调用相应的魔法函数，以及规定魔法函数要接收的参数。Python内部自动能够当达成条件的时候就调用相应的魔法函数。\n",
    "在Python的一些内部的类型，如dict这些也是指定了这些方法实现相应的功能（只是dict是Python内置类型，其相应魔法函数的内部的实现是使用c语言实现的，效率较高。可以看UserDict类，\n",
    "这个是使用Python语言实现的一个和dict功能相同的类，只是由于是全Python实现，效率没有dict高可能，）\n",
    "所以当我们需要定义一个类能实现某些内部类型的特性的时候，也就可以使其实现特定的魔法函数即可（这也是利用Python鸭子类型特性）。\n",
    "\n",
    "在我们使用魔法函数的时候，我们可以在里面借用已有的内置类型。\n",
    "如 UserDict 是用Python实现的与dict功能一样的类，但是有源码看就知道，其相应的魔法函数内也是借用了dict类型，是通过维护了一个self.data属性（self.data = {}），然后在相应的魔法函数内调用dict的相应方法完成定义，如\n",
    "def __len__(self): return len(self.data)  都是调用的已经实现的类型的方法。这也是我们应该学习的模式。\n",
    "'''\n",
    "dict.__getitem__.__doc__\n",
    "UserDict.__dict__\n",
    "# dir(UserDict)\n"
   ]
  },
  {
   "cell_type": "code",
   "execution_count": null,
   "metadata": {},
   "outputs": [],
   "source": [
    "list 类型的添加方法是 append extend   append是将整个加到内部，而extend是将iterable的元素取出在append进去，效果就是一个一个的装进去    insert(index, value) 原先位置往后顺移，一次只能操作一个\n",
    "set  类型的添加方法是 add   update\n",
    "dict 类型的添加方法是 update   setdefault    update的时候，如果添加的key在原先列表中存在，则要覆盖掉原先的字典中的value  items()能够打印字典，返回dict_items，可list()\n",
    "set和dict相似，所以都有update方法\n",
    "\n",
    "注意区分 __add__ 和 add \n",
    "__add__是魔法方法，实现了能够使用  + 进行运算\n",
    "而add 是单纯的方法 可以被调用\n",
    "\n",
    "\n",
    "list 类型的pop()可以没有参数，有参数的时候为下表  \n",
    "dict 类型的pop()必须要有参数，参数为key  这是因为字典就是使用dict[key]的方式索引的，不支持下表index    popitem()方法没有参数 直接去除最后的项，并且返回 (key, value)\n",
    "OrderedDict 类型的pop()也必须有有参数，为key   popitem()方法有参数 没有参数的时候和dict的popitem()效果一样， 可以有参数为last 默认为True，从尾部删除 \n",
    "OrderedDict的popitem之所以可以设置last=False从头部开始删除 得益于其内部的堆实现 \n",
    "\n",
    "\n",
    "dict和 OrderedDict的pop方法都含有第二个参数，用于设置当去除一个不存在的元素时，返回的默认参数，否则接raise KeyError(key)\n",
    "list 的pop没有该用法，当超出索引时，IndexError: pop index out of range\n"
   ]
  },
  {
   "cell_type": "code",
   "execution_count": 4,
   "metadata": {},
   "outputs": [
    {
     "data": {
      "text/plain": [
       "\"D.items() -> a set-like object providing a view on D's items\""
      ]
     },
     "execution_count": 4,
     "metadata": {},
     "output_type": "execute_result"
    }
   ],
   "source": [
    "list.append.__doc__\n",
    "dict.items.__doc__"
   ]
  },
  {
   "cell_type": "code",
   "execution_count": 11,
   "metadata": {},
   "outputs": [
    {
     "name": "stdout",
     "output_type": "stream",
     "text": [
      "{'name': 'tmj', 'age': 24}\n",
      "[('name', 'tmj'), ('age', 24)]\n",
      "name tmj\n",
      "age 24\n"
     ]
    }
   ],
   "source": [
    "dicta = {\"name\":\"tmj\",\"age\":24}\n",
    "print(dicta)\n",
    "print(list(dicta.items()))\n",
    "for k , v in dicta.items():\n",
    "    print(k, v)"
   ]
  },
  {
   "cell_type": "markdown",
   "metadata": {},
   "source": [
    "### 自定义序列类"
   ]
  },
  {
   "cell_type": "code",
   "execution_count": 1,
   "metadata": {},
   "outputs": [
    {
     "name": "stdout",
     "output_type": "stream",
     "text": [
      "140732322141392\n",
      "140732322141392\n"
     ]
    }
   ],
   "source": [
    "# 5-1 序列类型的分类    可以使用for循环进行遍历 使用for in     序列类型均支持索引 切片 相加 相乘\n",
    "# 1 通过序列存储的类型分类：\n",
    "# 容器序列： list、tuple、deque                        # 容器序列中可以放置任意类型的数据\n",
    "# 扁平序列 ： list、bytes、bytearray、array.array -- 数组                                # 注意区分list 和 array（数组）的区别 \n",
    "# 2 根据序列是否可变   是否可往里面添加数据\n",
    "# 可变序列 : list、deque、bytearray、array  -----  MutableSequence\n",
    "# 不可变序列 : str、tuple、bytes  ------  Sequence\n",
    "\n",
    "\n",
    "\n",
    "# 非序列： dict set 这两个不是序列类型\n",
    "\n",
    "# 在id不变的前提下， 增减了元素。 说明该对象是可变的\n",
    "# id改变，则新生成了一个对象\n",
    "\n",
    "# 注意：a-z,A-Z,0-9  单个元素的id是固定的\n",
    "# 另外一些小的数字也是公用的一个内存地址\n",
    "a = 13\n",
    "print(id(a))\n",
    "b = 13\n",
    "print(id(b))"
   ]
  },
  {
   "cell_type": "code",
   "execution_count": 20,
   "metadata": {},
   "outputs": [
    {
     "name": "stdout",
     "output_type": "stream",
     "text": [
      "{1, 2, 3, 4, 5, 6, 7, 8, 9}\n",
      "<class 'set'>\n"
     ]
    }
   ],
   "source": [
    "seta = {1,2,3,4,5,6,7,8,9}\n",
    "print(seta)\n",
    "print(type(seta))"
   ]
  },
  {
   "cell_type": "code",
   "execution_count": 13,
   "metadata": {},
   "outputs": [],
   "source": [
    "# 5-2 python中序列类型的abc继承关系\n",
    "# collections下的abc  与容器相关的数据结构的抽象基类 规定了序列必须要实现的方法（魔法方法）\n",
    "# from collections import abc\n"
   ]
  },
  {
   "cell_type": "code",
   "execution_count": 23,
   "metadata": {},
   "outputs": [
    {
     "name": "stdout",
     "output_type": "stream",
     "text": [
      "[1, 2, 3, 4]\n",
      "[1, 2, 5, 6]\n"
     ]
    }
   ],
   "source": [
    "# 5-3 序列的 + += 和 extend的区别\n",
    "a = [1,2]\n",
    "c = a + [3,4]\n",
    "print(c) #  形成一个新的序列\n",
    "a += [5,6]\n",
    "print(a) #  在a序列的基础上直接加，而不产生一个新的序列"
   ]
  },
  {
   "cell_type": "code",
   "execution_count": 20,
   "metadata": {},
   "outputs": [
    {
     "name": "stdout",
     "output_type": "stream",
     "text": [
      "[1, 2, 3, 4]\n"
     ]
    },
    {
     "ename": "TypeError",
     "evalue": "can only concatenate list (not \"tuple\") to list",
     "output_type": "error",
     "traceback": [
      "\u001b[1;31m---------------------------------------------------------------------------\u001b[0m",
      "\u001b[1;31mTypeError\u001b[0m                                 Traceback (most recent call last)",
      "\u001b[1;32m<ipython-input-20-170b54d97fc7>\u001b[0m in \u001b[0;36m<module>\u001b[1;34m\u001b[0m\n\u001b[0;32m      4\u001b[0m \u001b[0mprint\u001b[0m\u001b[1;33m(\u001b[0m\u001b[0ma1\u001b[0m\u001b[1;33m)\u001b[0m\u001b[1;33m\u001b[0m\u001b[1;33m\u001b[0m\u001b[0m\n\u001b[0;32m      5\u001b[0m \u001b[1;33m\u001b[0m\u001b[0m\n\u001b[1;32m----> 6\u001b[1;33m \u001b[0mc1\u001b[0m \u001b[1;33m=\u001b[0m \u001b[0ma1\u001b[0m \u001b[1;33m+\u001b[0m \u001b[1;33m(\u001b[0m\u001b[1;36m3\u001b[0m\u001b[1;33m,\u001b[0m\u001b[1;36m4\u001b[0m\u001b[1;33m)\u001b[0m  \u001b[1;31m# + 号的两边的类型必须一致\u001b[0m\u001b[1;33m\u001b[0m\u001b[1;33m\u001b[0m\u001b[0m\n\u001b[0m",
      "\u001b[1;31mTypeError\u001b[0m: can only concatenate list (not \"tuple\") to list"
     ]
    }
   ],
   "source": [
    "# + 和+= 的区别\n",
    "a1 = [1,2]\n",
    "a1 += (3,4)            # 在可变序列的抽象基类中定义了一个魔法方法 __iadd__ 在其内部实际上是调用了可变序列的 extend方法，而extend方法是可以在序列中添加序列的\n",
    "print(a1)\n",
    "\n",
    "c1 = a1 + (3,4)  # + 号的两边的类型必须一致"
   ]
  },
  {
   "cell_type": "code",
   "execution_count": 24,
   "metadata": {},
   "outputs": [
    {
     "name": "stdout",
     "output_type": "stream",
     "text": [
      "140439531353024\n",
      "[2, 3, 4, 5, 1]\n",
      "140439531352784\n"
     ]
    }
   ],
   "source": [
    "lista = [2,3,4,5]\n",
    "print(id(lista))\n",
    "listb = [1,]\n",
    "lista = lista + listb   # 普通的+ 会改变原有的地址，实际就是产生了新的列表对象， 且加号两边只能是相同的数据类型，如这里都是list\n",
    "print(lista)\n",
    "print(id(lista))"
   ]
  },
  {
   "cell_type": "code",
   "execution_count": 25,
   "metadata": {},
   "outputs": [],
   "source": [
    "# += 实现的是__iadd__魔法方法，而该方法的内部的实现原理又是extend实现的\n",
    "'''\n",
    "MutableSequence 抽象基类中实现的方法\n",
    "'''\n",
    "def __iadd__(self, values):\n",
    "    self.extend(values)\n",
    "    return self\n",
    "\n",
    "def extend(self, values):\n",
    "    'S.extend(iterable) -- extend sequence by appending elements from the iterable'\n",
    "    for v in values:\n",
    "        self.append(v)\n"
   ]
  },
  {
   "cell_type": "code",
   "execution_count": 74,
   "metadata": {},
   "outputs": [
    {
     "data": {
      "text/plain": [
       "[1, 2, 'addd', 2, 3]"
      ]
     },
     "execution_count": 74,
     "metadata": {},
     "output_type": "execute_result"
    }
   ],
   "source": [
    "'''\n",
    "列表类型中只有append和extend（+= 功能一致）两种添加元素的方法，append是将括号里的值整个当做一个元素添加进列表中的\n",
    "extend的内部也是调用的是append方法，但是extend中使用for in 将类型中的值取出后再使用append进行添加，所以extend能够接受一个可迭代iterable对象，然后将里面的值取出在append进列表中\n",
    "'''\n",
    "lista = [1,2]\n",
    "lista.append('addd')\n",
    "lista += [2,3]\n",
    "lista"
   ]
  },
  {
   "cell_type": "code",
   "execution_count": 25,
   "metadata": {},
   "outputs": [
    {
     "name": "stdout",
     "output_type": "stream",
     "text": [
      "[1, 2, (1,)]\n"
     ]
    }
   ],
   "source": [
    "# append和extend 的区别\n",
    "a = [1,2]\n",
    "a.append((1,))\n",
    "print(a)    # 结果可见，append做的是直接将整个值放到了原先的序列里面，而extend是将序列(1,)中的值循环取出在放到序列a里面"
   ]
  },
  {
   "cell_type": "code",
   "execution_count": null,
   "metadata": {},
   "outputs": [],
   "source": [
    "# 5-4 实现可切片的对象\n",
    "# 切片操作模式：[start:end:step]\n",
    "'''\n",
    "    其中，第一个数字start表示切片开始位置，默认为0\n",
    "    第二个数字end表示切片截止（但不包含）位置（默认为列表的长度）\n",
    "    第三个数字step表示切片的步长（默认为1）\n",
    "    当start为0时可以省略，当end为列表长度时，可以省略\n",
    "    当stepw为1时可以省略，并且省略步长时可以同时省略最后一个冒号\n",
    "    另外，当step为负整数时，表示反向切片，且这时的start应该比end的值要大才行\n",
    "'''\n",
    "aList = [1,3,4,5]\n",
    "aList[-4:-1]       # 若是负数的话，就是从后往前，最后的为-1，最开始的为 -序列长度  也是按照从前往后的顺序， -4 -3 -2 -1    这里的值为[1,3,4] 同样是左闭右开\n",
    "aList[len(list_a):] = [9] # 在列表尾部增加元素\n",
    "aList[:0] = [4,2] # 在列表的开头插入元素\n",
    "aList[3:3] = [4] # 在aList[3]位置插入新的元素，原先的顺序后移\n",
    "aList[:3] = [1,2] # 替换列表元素            \n"
   ]
  },
  {
   "cell_type": "code",
   "execution_count": 30,
   "metadata": {},
   "outputs": [
    {
     "data": {
      "text/plain": [
       "[5, 4, 3]"
      ]
     },
     "execution_count": 30,
     "metadata": {},
     "output_type": "execute_result"
    }
   ],
   "source": [
    "aList = [1,3,4,5]\n",
    "aList[-1:-4:-1]    # 注意反向的时候，取的值也是反向的，且还是左开右闭"
   ]
  },
  {
   "cell_type": "code",
   "execution_count": 34,
   "metadata": {},
   "outputs": [
    {
     "name": "stdout",
     "output_type": "stream",
     "text": [
      "140440870140976\n",
      "[0, 3, 0, 5, 0, 3, 0, 34, 0]\n",
      "140440870140976\n"
     ]
    }
   ],
   "source": [
    "# 隔一个修改一个       要求要等于一个 长度为要修改的长度的序列   用该序列中的内容去填充\n",
    "aList = [1,3,4,5,5,3,2,34,2]\n",
    "print(id(aList))\n",
    "\n",
    "aList[::2] = (0,) * 5  #  [0] * 5 实际是[0,0,0,0,0]   用\n",
    "print(aList)\n",
    "print(id(aList))"
   ]
  },
  {
   "cell_type": "code",
   "execution_count": 33,
   "metadata": {},
   "outputs": [
    {
     "name": "stdout",
     "output_type": "stream",
     "text": [
      "140440870124112\n",
      "140439794453952\n",
      "[0, 0, 0, 0, 0]\n"
     ]
    }
   ],
   "source": [
    "zero = [0]\n",
    "print(id(zero))\n",
    "zero = zero * 5\n",
    "print(id(zero))\n",
    "print(zero)"
   ]
  },
  {
   "cell_type": "code",
   "execution_count": 82,
   "metadata": {},
   "outputs": [
    {
     "name": "stdout",
     "output_type": "stream",
     "text": [
      "2780758735944\n",
      "(1, 2, 1, 2, 1, 2, 1, 2, 1, 2)\n",
      "2780757482952\n"
     ]
    }
   ],
   "source": [
    "a = (1,2)\n",
    "print(id(a))\n",
    "a = a * 5\n",
    "print(a)\n",
    "print(id(a))   "
   ]
  },
  {
   "cell_type": "code",
   "execution_count": null,
   "metadata": {},
   "outputs": [],
   "source": [
    "'''\n",
    "可见，无论是字典还是列表，对自身执行乘法，都是返回了新的数据\n",
    "'''"
   ]
  },
  {
   "cell_type": "code",
   "execution_count": 87,
   "metadata": {},
   "outputs": [
    {
     "data": {
      "text/plain": [
       "[5, 5, 3, 2, 34, 2]"
      ]
     },
     "execution_count": 87,
     "metadata": {},
     "output_type": "execute_result"
    }
   ],
   "source": [
    "# 删除列表的前3项\n",
    "aList = [1,3,4,5,5,3,2,34,2]\n",
    "aList[:3] = []\n",
    "aList"
   ]
  },
  {
   "cell_type": "code",
   "execution_count": 91,
   "metadata": {},
   "outputs": [
    {
     "data": {
      "text/plain": [
       "[1, 5, 2]"
      ]
     },
     "execution_count": 91,
     "metadata": {},
     "output_type": "execute_result"
    }
   ],
   "source": [
    "aList = [1,3,4,5,5,3,2,34,2]\n",
    "aList[:3] # 切片连续\n",
    "aList[::3] # 切片不连续"
   ]
  },
  {
   "cell_type": "code",
   "execution_count": 47,
   "metadata": {},
   "outputs": [
    {
     "name": "stdout",
     "output_type": "stream",
     "text": [
      "4\n",
      "yes\n",
      "<generator object Group.__reversed__ at 0x7fbaf0311a50>\n",
      "['bobby4', 'bobby3', 'bobby2', 'bobby1']\n",
      "bobby1\n",
      "bobby2\n",
      "bobby3\n",
      "bobby4\n"
     ]
    },
    {
     "data": {
      "text/plain": [
       "<__main__.Group at 0x7fbaf02de550>"
      ]
     },
     "execution_count": 47,
     "metadata": {},
     "output_type": "execute_result"
    }
   ],
   "source": [
    "# 实现可以切片的对象\n",
    "\n",
    "# 实现原理：\n",
    "\"\"\"\n",
    "通过在 _collections_abc.py 找到序列的抽象基类，（实际只是想要知道实现序列需要实现哪些魔法方法，\n",
    "因为抽象基类也是定义了要实现的魔法函数来实现相应的效果的，我们只是通过查找得知要用到的魔法函数，\n",
    "而不采用继承抽象基类的方式，来实现我们自己的类，因为Python不推荐使用抽象基类，\n",
    "而且这些抽象基类也是实现了相应的魔法函数来完成功能的，为什么我们不呢，Python是推崇使用鸭子类型的，这些抽象基类也是利用鸭子类型的特性来实现的，\n",
    "_collections_abc.py实际就相当于一本说明说，告诉我们要用到的魔法函数）\n",
    "\n",
    "在_collections_abc.py中找到抽象基类class Sequence(Reversible, Collection)，看他必须要是实现的魔法函数，再看其继承的类Reversible, Collection中必须要实现的魔法函数\n",
    "即使用   @abstractmethod 装饰的函数\n",
    "\"\"\"\n",
    "import numbers\n",
    "\n",
    "class Group:\n",
    "    # 支持切片操作\n",
    "    def __init__(self, group_name, company_name, staffs):\n",
    "        self.group_name = group_name\n",
    "        self.company_name = company_name\n",
    "        self.staffs = staffs  # 全体组员\n",
    "        \n",
    "    def __reversed__(self):\n",
    "        \"\"\"实现翻转\"\"\"\n",
    "#         self.staffs.reverse()  # 因为self.staffs = staffs staffs接受到的是list，所以这里的reverse()实际是调用的list的reverse()方法       reversed(序列)的时候会调用该魔法函数，但是reversed()在Python中使用返回值的为反向迭代器，\n",
    "                               # 但是我们实现的时候调用的list的reverse()方法，该方法没有返回值，会直接将原始list进行修改。\n",
    "        # 正常的方式，借助reversed()方法\n",
    "        for i in reversed(range(len(self))):\n",
    "            yield self.staffs[i]\n",
    "\n",
    "    \n",
    "    # 实现必须要实现的魔法函数    \n",
    "    def __getitem__(self, item):     # TypeError: 'Group' object is not subscriptable\n",
    "        '''实现切片的关键'''   \n",
    "        cls = type(self)   # 当然也可是硬编码的形式 cls = Group，但是不推荐\n",
    "        if isinstance(item, slice):\n",
    "            return cls(group_name=self.group_name, company_name=self.company_name, staffs=self.staffs[item]) # 切片得到的还是序列类型，所以这里不需要变化\n",
    "        elif isinstance(item, numbers.Integral):\n",
    "            return cls(group_name=self.group_name, company_name=self.company_name, staffs=[self.staffs[item]]) # 取元素得到的是得到的值，加上[] 变成列表        \n",
    "        \n",
    "    def __len__(self):\n",
    "        return len(self.staffs)\n",
    "    \n",
    "    def __iter__(self):\n",
    "        return iter(self.staffs)\n",
    "\n",
    "    def __contains__(self, item): \n",
    "        \"\"\"该魔法函数会在调用if in 的时候调用\"\"\"\n",
    "        if item in self.staffs:\n",
    "            return True\n",
    "        else:\n",
    "            return False\n",
    "        \n",
    "staffs = [\"bobby1\", \"bobby2\", \"bobby3\", \"bobby4\"]\n",
    "group = Group(company_name='Tentle', group_name='user', staffs=staffs)\n",
    "print(len(group))\n",
    "if \"bobby1\" in group:\n",
    "    print('yes')\n",
    "    \n",
    "a = reversed(group)\n",
    "print(a)\n",
    "print(list(a))\n",
    "# reversed(group)\n",
    "\n",
    "for user in group:  # 在__iter__和__getitem__同时存在的情况下，执行for in时，优先执行__iter__\n",
    "    print(user)\n",
    "\n",
    "group[:2]\n"
   ]
  },
  {
   "cell_type": "code",
   "execution_count": 38,
   "metadata": {},
   "outputs": [
    {
     "name": "stdout",
     "output_type": "stream",
     "text": [
      "<list_reverseiterator object at 0x7fbaf02de390>\n",
      "None\n",
      "[4, 3, 2, 1]\n"
     ]
    }
   ],
   "source": [
    "'''\n",
    "使用reversed(序列)方法时，会调用序列的__reversed__魔法方法，得到一个反向迭代器，不会修改原始的list\n",
    "使用list.reverse()时，会调用list的reverse()方法，没有返回值，会将原始的list反转，\n",
    "'''\n",
    "alist = [1,2,3,4]\n",
    "print(reversed(alist))    \n",
    "print(alist.reverse())\n",
    "print(alist)"
   ]
  },
  {
   "cell_type": "code",
   "execution_count": 102,
   "metadata": {},
   "outputs": [],
   "source": [
    "# 分析：\n",
    "# 实现必须要实现的魔法函数    \n",
    "def __getitem__(self, item):     # TypeError: 'Group' object is not subscriptable\n",
    "    '''实现切片的关键'''   \n",
    "    print(item)  # 当切片时：slice(None, 2, None)   得到的是slice对象（该对象专门用于做切片）    当时  group[2]时，得到的是序列号 2\n",
    "    return self.staffs[item]"
   ]
  },
  {
   "cell_type": "code",
   "execution_count": 142,
   "metadata": {},
   "outputs": [
    {
     "data": {
      "text/plain": [
       "<list_reverseiterator at 0x287726d2400>"
      ]
     },
     "execution_count": 142,
     "metadata": {},
     "output_type": "execute_result"
    }
   ],
   "source": [
    "a = [1,2,3,4,5]\n",
    "reversed(a) # 得到的是反向迭代器"
   ]
  },
  {
   "cell_type": "markdown",
   "metadata": {},
   "source": [
    "#### 完整的Python魔法函数的调用原理"
   ]
  },
  {
   "cell_type": "code",
   "execution_count": 18,
   "metadata": {},
   "outputs": [
    {
     "name": "stdout",
     "output_type": "stream",
     "text": [
      "[2, 1]\n"
     ]
    }
   ],
   "source": [
    "from _collections_abc import Sequence\n",
    "'''\n",
    "实现了魔法方法后，我们的类就能具有某些类型的特性\n",
    "实际Sequence只是告诉我们实现序列要包含的魔法函数，\n",
    "比如list类型的实现也是有了这些魔法函数，但是list的源码不是用Python写的，而是用的c（在CPython中使用c实现的），\n",
    "之所以有Sequence这些类，只是告诉我们可以使用这些魔法方法可以具有序列的特性\n",
    "Python解释器应该是将用c实现的list和这些魔法方法相关连的，所有list类的实例对象也可以有用，即list的这些魔法函数的内部的实现是由c代码实现的\n",
    "\n",
    "使用某些操作，就会执行相应的魔法函数，例如使用reversed(序列)方法，就会找序列类型的__reversed__魔法方法（利用鸭子类型的Python特性，所以使用某些魔法方法就能具有某些特性），\n",
    "'''\n",
    "\n",
    "class LIST(Sequence):   \n",
    "    '''\n",
    "    通过继承抽象基类，实现类似list序列的功能 \n",
    "    而继承抽象基类，必须要实现的方法有__init__、__getitem__和__len__ 其实要实现这两个方法是有道理的，因为这是方法序列的基础\n",
    "    __reversed__(self)抽象基类已经实现，不要求重写，这里是为了演示\n",
    "    \n",
    "    '''\n",
    "    def __init__(self, seq=()):  # 继承抽象基类Sequence时，__init__或者__new__是必须要有一个的，因为要定义一个变量来做所有操作的调用对象实际内部都是借助于已实现的类型使用的\n",
    "        self.seq = seq\n",
    "\n",
    "    def __getitem__(self, index):\n",
    "        return self.seq[index]\n",
    "\n",
    "    def __len__(self):\n",
    "        return len(self.seq)\n",
    "\n",
    "    def __reversed__(self):\n",
    "        '''\n",
    "        重点解释：\n",
    "        len(self)会调用该类的__len__(self)魔法函数\n",
    "        yield self[i] 也不会有问题，因为self[i] 的时候会调用自己的__getitem__魔法函数，\n",
    "        所以乍一看 self[i]   其实是不会有问题的\n",
    "        '''\n",
    "        for i in reversed(range(len(self))): \n",
    "            yield self[i]\n",
    "\n",
    "l = LIST()\n",
    "a = reversed((1,2))\n",
    "print(list(a))"
   ]
  },
  {
   "cell_type": "code",
   "execution_count": 156,
   "metadata": {},
   "outputs": [
    {
     "name": "stdout",
     "output_type": "stream",
     "text": [
      "haha\n"
     ]
    }
   ],
   "source": [
    "# 利用鸭子类型的Python特性，所以使用某些魔法方法就能具有某些特性，即使使用了后毫无意义\n",
    "class A():\n",
    "    def __reversed__(self):\n",
    "        print('haha')\n",
    "    \n",
    "a = A()\n",
    "reversed(a)"
   ]
  },
  {
   "cell_type": "markdown",
   "metadata": {},
   "source": [
    "<font color='red'>使用鸭子类型是有好处的：如果我们要写个类，该类要求实现序列的某一些特性，如切片，for循环取值等等，我们可以继承序列的抽象基类，但是我们又不需要其他的功能，此时我们就可以使用鸭子类型，只实现一些魔法函数`__getitem__`和`__iter__`，\n",
    "就能使该类的实例对象能够切片，for循环取值，相比于继承完整的类，鸭子类型值要求实现几个相应的魔法函数，更加轻便</font>\n",
    "for in 优先看__iter__,没有时在使用__getitem__，但是要实现切片，需要用到__getitem__"
   ]
  },
  {
   "cell_type": "code",
   "execution_count": 14,
   "metadata": {},
   "outputs": [
    {
     "name": "stdout",
     "output_type": "stream",
     "text": [
      "[1, 2, 3, 5, 6]\n",
      "3\n"
     ]
    }
   ],
   "source": [
    "# 5-5 bisect维护已排序序列   作用于可以可修改的序列  （bisect.bisect()可以作用于不可修改的序列的 而bisect.insort()不可以，因为bisect.insort()相比于bisect.bisect()多了插入的操作，insert()只可以被可修改序列调用）\n",
    "# bisect使用二分查找(对排序的列表或是数组，查找效率非常高的算法)来维持可排序序列\n",
    "# insort 用来做插入，\n",
    "# bisect 查找数据应该放到哪个位置\n",
    "import bisect\n",
    "\n",
    "\n",
    "# 用来处理已经排序的序列，用来维持已排序的序列， 升序    \n",
    "# 但是要注意，不可变序列不能使用bisect.insort() 因为该方法有调用了insert()，但不可变序列是没有该方法的\n",
    "# 二分查找\n",
    "inter_list = list()   # 要求是已经排序好的序列\n",
    "bisect.insort(inter_list, 3)\n",
    "bisect.insort(inter_list, 2)\n",
    "bisect.insort(inter_list, 5)\n",
    "bisect.insort(inter_list, 1)\n",
    "bisect.insort(inter_list, 6)\n",
    "print(inter_list)  #  得到一个完整的排完序的序列\n",
    "# 所以当需要维持一个排序好的序列，推荐使用bisect，二分查找的性能高\n",
    "\n",
    "# 插入一个元素，还要使得序列是有序的\n",
    "#bisect.bisect方法的实现和bisect.insort相同，只是少了插入的操作\n",
    "index = bisect.bisect(inter_list, 3)\n",
    "print(index)\n",
    "\n",
    "# 关于以上两个方法的_left 版本，虽然在查找时，序列中有和被查找的数一样的时候，\n",
    "# 使用_left看起来都一样（当然，只有存在查找到相同数的时候，_left才会产生不同的下标，一前一后，而在找不到的时候，是不会出现两个值的）\n",
    "# 还是有使用场景的，如 1 == 1.0 此时我们就可以选择插入的位置\n",
    "\n"
   ]
  },
  {
   "cell_type": "code",
   "execution_count": 2,
   "metadata": {},
   "outputs": [
    {
     "name": "stdout",
     "output_type": "stream",
     "text": [
      "一共查找了1次,此数字在列表中的下标为:2\n"
     ]
    }
   ],
   "source": [
    "# 二分查找\n",
    "def binary_search(data_list, target):\n",
    "    \"\"\"\n",
    "    :param data_list: 传入的有序列表\n",
    "    :param target:  传入要查找的目标值\n",
    "    \"\"\"\n",
    "    low = 0  # 最小数下标\n",
    "    high = len(data_list) - 1  # 最大数的下标\n",
    "    index = 1  # 用index来记录查找的次数\n",
    " \n",
    "    while low <= high:\n",
    "        mid = (low + high) // 2  # 取中间值\n",
    " \n",
    "        if data_list[mid] == target:\n",
    "            return \"一共查找了%d次,此数字在列表中的下标为:%d\" % (index, mid)\n",
    "        elif data_list[mid] > target:\n",
    "            high = mid - 1  # 如果中间值比目标值大,则在mid左半边找\n",
    "        else:\n",
    "            low = mid + 1  # 如果中间值比目标值小,则在mid右半边找\n",
    " \n",
    "        index += 1\n",
    "    return \"一共找了%d次,找不到这样的值!\" % index\n",
    "\n",
    "ret1 = binary_search([1,2,3,4,5,6],3)\n",
    "ret2 = binary_search(list(range(1, 1000)), 10000)\n",
    "print(ret1)\n"
   ]
  },
  {
   "cell_type": "code",
   "execution_count": 134,
   "metadata": {},
   "outputs": [
    {
     "name": "stdout",
     "output_type": "stream",
     "text": [
      "array('i', [1, 2])\n"
     ]
    }
   ],
   "source": [
    "# 5-5 什么时候不使用list 而是用其他的内置数据结构  \n",
    "# array ： 性能要比list 好很多   是c语言中的数组，连续的存储空间\n",
    "# deque ： \n",
    "import array\n",
    "# array和list的一个重要的区别，array只能存放指定的数据类型  但是性能比list高很多\n",
    "my_array = array.array('i')\n",
    "my_array.append(1)\n",
    "my_array.append(2)\n",
    "print(my_array)"
   ]
  },
  {
   "cell_type": "code",
   "execution_count": 135,
   "metadata": {},
   "outputs": [
    {
     "ename": "TypeError",
     "evalue": "an integer is required (got type str)",
     "output_type": "error",
     "traceback": [
      "\u001b[1;31m---------------------------------------------------------------------------\u001b[0m",
      "\u001b[1;31mTypeError\u001b[0m                                 Traceback (most recent call last)",
      "\u001b[1;32m<ipython-input-135-15fbb87c3f4b>\u001b[0m in \u001b[0;36m<module>\u001b[1;34m\u001b[0m\n\u001b[1;32m----> 1\u001b[1;33m \u001b[0mmy_array\u001b[0m\u001b[1;33m.\u001b[0m\u001b[0mappend\u001b[0m\u001b[1;33m(\u001b[0m\u001b[1;34m'1'\u001b[0m\u001b[1;33m)\u001b[0m\u001b[1;33m\u001b[0m\u001b[1;33m\u001b[0m\u001b[0m\n\u001b[0m",
      "\u001b[1;31mTypeError\u001b[0m: an integer is required (got type str)"
     ]
    }
   ],
   "source": [
    "my_array.append('1')  # 此时放入其他的类型，就报错"
   ]
  },
  {
   "cell_type": "code",
   "execution_count": 106,
   "metadata": {},
   "outputs": [
    {
     "name": "stdout",
     "output_type": "stream",
     "text": [
      "列表生成器：\n",
      "[1, 9, 25, 49, 81, 121, 169, 225, 289, 361]\n",
      "生成器表达式：\n",
      "[1, 9, 25, 49, 81, 121, 169, 225, 289, 361]\n",
      "[1, 3, 5, 7, 9, 11, 13, 15, 17, 19]\n",
      "字典推导式：\n",
      "{22: 'bobby1', 23: 'bobby2'}\n",
      "集合推导式：\n",
      "<class 'set'>\n",
      "{'bobby1', 'bobby2'}\n"
     ]
    }
   ],
   "source": [
    "# 5-6 列表推导式 生成器表达式 字典推导式\n",
    "# 列表生成器 （列表推导式）\n",
    "print(\"列表生成器：\")\n",
    "# 1. 提取出 1-20 之间的奇数\n",
    "odd_list = [i for i in range(21) if i%2 ==1 ]\n",
    "\n",
    "# 2. 逻辑复杂的情况\n",
    "def hadle_item(item):\n",
    "    return item * item\n",
    "\n",
    "odd_list = [hadle_item(i) for i in range(21) if i% 2 ==1]\n",
    "print(odd_list)\n",
    "\n",
    "# 列表生成式性能高于列表操作\n",
    "# 但是当内部逻辑过于复杂的时候就不建议使用了，因为违背了代码可读性的原则\n",
    "\n",
    "\n",
    "# 生成器表达式\n",
    "print(\"生成器表达式：\")\n",
    "odd_gen = (i for i in range(21) if i%2 ==1 )\n",
    "print(odd_list)\n",
    "# print(type(odd_list))   # <class 'generator'>\n",
    "print(list(odd_gen))   # [1, 3, 5, 7, 9, 11, 13, 15, 17, 19]\n",
    "# for item in odd_gen:  # 也可以\n",
    "#     print(item)\n",
    "\n",
    "# 字典推导式\n",
    "print(\"字典推导式：\")\n",
    "my_dict = {'bobby1':22, 'bobby2':23}\n",
    "# 实现key 和 value 颠倒\n",
    "reversed_dict = {value:key for key,value in my_dict.items()}\n",
    "\n",
    "print(reversed_dict)\n",
    "\n",
    "# 集合推导式\n",
    "print(\"集合推导式：\")\n",
    "my_set = {key for key,value in my_dict.items()}  # my_set = set(my_dict.keys())\n",
    "print(type(my_set))\n",
    "print(my_set)\n",
    "\n",
    "\n",
    "\n"
   ]
  },
  {
   "cell_type": "markdown",
   "metadata": {},
   "source": [
    "#### 第六章"
   ]
  },
  {
   "cell_type": "code",
   "execution_count": null,
   "metadata": {},
   "outputs": [],
   "source": [
    "# 6-1 dict的abc继承关系\n"
   ]
  },
  {
   "cell_type": "code",
   "execution_count": 35,
   "metadata": {},
   "outputs": [
    {
     "name": "stdout",
     "output_type": "stream",
     "text": [
      "None\n",
      "没有该值\n",
      "dict_items([('bobby1', {'company': 'imooc'}), ('bobby2', {'company': 'imooc'})])\n",
      "bobby1 {'company': 'imooc'}\n",
      "bobby2 {'company': 'imooc'}\n",
      "imooc\n"
     ]
    }
   ],
   "source": [
    "# dict_method\n",
    "a = {\"bobby1\":{\"company\":\"imooc\"},\n",
    "     \"bobby2\": {\"company\": \"imooc2\"}\n",
    "     }\n",
    "# #clear\n",
    "# # a.clear()\n",
    "# # pass\n",
    "#\n",
    "# #copy, 返回浅拷贝\n",
    "# new_dict = a.copy()\n",
    "# new_dict[\"bobby1\"][\"company\"] = \"imooc3\"\n",
    "\n",
    "\n",
    "#  formkeys 将一个序列作为key值，用后面的内容填充作为value，变成字典\n",
    "# 是静态方法 要使用dict.类进行调用\n",
    "new_list = (\"bobby1\", \"bobby2\")\n",
    "\n",
    "\n",
    "new_dict = dict.fromkeys(new_list, {\"company\":\"imooc\"})\n",
    "# {'bobby1': {'company': 'imooc'}, 'bobby2': {'company': 'imooc'}}\n",
    "\n",
    "# get方法\n",
    "# new_dict[\"bobby\"] 取值有一个弊端，就是若没有改key值的话，会报KeyError错误但是使用get()方法，若没有该值，返回None，\n",
    "# 也可以设置找不到值的时候的返回值\n",
    "a = new_dict.get(\"bobby\")\n",
    "print(a)\n",
    "b = new_dict.get(\"bobby\",\"没有该值\")\n",
    "print(b)\n",
    "# items()\n",
    "print(new_dict.items())         # dict_items([('bobby1', {'company': 'imooc'}), ('bobby2', {'company': 'imooc'})])\n",
    "\n",
    "for key, value in new_dict.items():\n",
    "     print(key, value)\n",
    "\n",
    "# setdefault(key, defaule_value)\n",
    "# 向字典中添加数据，如果列表中没有该key直接添加并返回value值，若key存在，则不添加，并返回原来的value值\n",
    "cc = new_dict.setdefault(\"bobby\", \"imooc\")\n",
    "print(cc)\n",
    "\n",
    "# update()方法，  没有返回值，如果添加的key在原先列表中存在，则要覆盖掉原先的字典中的value\n",
    "# 将新的字典传进字典中 接受以下几种形式的参数\n",
    "# 字典{\"bobby\":\"imooc\"}\n",
    "# key=value形式\n",
    "# 元组列表[(\"bobby\",\"imooc\")]\n",
    "# ((\"bobby\",\"imooc\"),)   tuple也是可迭代的对象，所以也是可以的 (需要注意的是元组只存在单个元素的时候，需要使用, 不然不视为元组)\n",
    "\n",
    "new_dict.update(((\"bobby\",\"imooc\"),)) # 这里的用法注意一下，实际上update的用法是接受一个新的dict对象，进行合并，同名的覆盖，不同名的加在后面\n",
    "\n",
    "# 实际dict 的初始化  mydict = dict() 也可以接受以上update的参数 "
   ]
  },
  {
   "cell_type": "code",
   "execution_count": 7,
   "metadata": {},
   "outputs": [
    {
     "name": "stdout",
     "output_type": "stream",
     "text": [
      "{'one': 1}\n"
     ]
    }
   ],
   "source": [
    "# 6-3 dict的子类\n",
    "'''\n",
    "在Python中通过继承的方法去继承list、dict这些用c实现的类型是非常不建议的\n",
    "'''\n",
    "#不建议继承list和dict\n",
    "class Mydict(dict):\n",
    "    def __setitem__(self, key, value):\n",
    "        super().__setitem__(key, value*2)\n",
    "\n",
    "my_dict = Mydict(one=1)    # {'one': 1} 不会调用__setitem__方法\n",
    "# my_dict[\"one\"] = 1        # {'one': 2}  会调用__setitem__方法       内置类型（因为使用c语言实现的）不会调用我们覆盖的__setitem__魔法方法  \n",
    "print(my_dict)"
   ]
  },
  {
   "cell_type": "code",
   "execution_count": 2,
   "metadata": {},
   "outputs": [
    {
     "name": "stdout",
     "output_type": "stream",
     "text": [
      "我是继承UserDict的子类\n",
      "{'one': 2}\n",
      "Mydict\n"
     ]
    }
   ],
   "source": [
    "# 可以继承UserDict，该类是dict的Python语言实现  继承自_collections_abc.MutableMapping   dict也是该类的子类\n",
    "from collections import UserDict  # 可以完全覆盖  因为该类是模拟c语言的实现，用Python语言重新实现了一遍 且在__init__方法中进行了相应的赋值操作，使用了__setitem__魔法函数，可以看源码的实现\n",
    "'''\n",
    "UserDict和dict功能上一致，可能的区别就是 dict的性能可能更加好，因为使用c语言实现的底层代码\n",
    "实际上是对内建字典类型的 Python 封装\n",
    "'''\n",
    "class Mydict(UserDict):\n",
    "    def __setitem__(self, key, value):\n",
    "        super().__setitem__(key, value*2)\n",
    "        self.__class__.say(self)                # __class__属性，为当前实例对象的类对象， 可以通过该方法实现在当前类的方法内调用其他的方法\n",
    "    \n",
    "    def say(self):\n",
    "        print(\"我是继承UserDict的子类\")\n",
    "        \n",
    "    def __missing__(self, key):                                 # dict中不存在__missing__()方法，需要在派生的子类中自己实现这个方法\n",
    "        return f\"找不到{key}对应的value\"\n",
    "        \n",
    "\n",
    "my_dict = Mydict(one=1)\n",
    "print(my_dict)\n",
    "print(my_dict.__class__.__name__)  # __class__获得类对象，而__name__获得类对象的类名"
   ]
  },
  {
   "cell_type": "code",
   "execution_count": 6,
   "metadata": {},
   "outputs": [
    {
     "name": "stdout",
     "output_type": "stream",
     "text": [
      "找不到f对应的value\n"
     ]
    }
   ],
   "source": [
    "'''\n",
    "这里我们当我们使用my_dict[\"f\"]的方式去找字典中的值的时候，实际调用的是__gititem__方法，如没有对应的key，则UserDict里面的实现是找当前类是否有__missing__方法，\n",
    "如果有就调用该方法，没有再抛出KeyError异常\n",
    "def __getitem__(self, key):\n",
    "    if key in self.data:\n",
    "        return self.data[key]\n",
    "    if hasattr(self.__class__, \"__missing__\"):\n",
    "        return self.__class__.__missing__(self, key)\n",
    "    raise KeyError(key)\n",
    "'''\n",
    "print(my_dict[\"f\"])\n"
   ]
  },
  {
   "cell_type": "markdown",
   "metadata": {},
   "source": [
    "#### `defaultdict` "
   ]
  },
  {
   "cell_type": "code",
   "execution_count": 68,
   "metadata": {},
   "outputs": [
    {
     "name": "stdout",
     "output_type": "stream",
     "text": [
      "defaultdict(<class 'int'>, {})\n",
      "defaultdict(<class 'int'>, {'q': 2})\n"
     ]
    }
   ],
   "source": [
    "# dict类的子类 defaultdict 实现了__missing__方法\n",
    "# 在_collections中查看defaultdict的实现源码\n",
    "from collections import defaultdict      #不同于UserDict，是真正的继承自dict dict的方法 都能使用\n",
    "\n",
    "my_dict = defaultdict(int)   # defaultdict()是一个dict类的子类，它接受一个类型、或者函数作为处理没有value值key的时候自动给的value值\n",
    "# 这就声明了一个字典 my_dict\n",
    "print(my_dict)  # defaultdict(<class 'int'>, {})\n",
    "my_dict['q'] = 2    # 也是字典，可以正常进行字典的操作\n",
    "print(my_dict)"
   ]
  },
  {
   "cell_type": "code",
   "execution_count": 69,
   "metadata": {},
   "outputs": [
    {
     "data": {
      "text/plain": [
       "0"
      ]
     },
     "execution_count": 69,
     "metadata": {},
     "output_type": "execute_result"
    }
   ],
   "source": [
    "# 当访问一个不存在的key的时候，可以的到一个实现规定的类型的返回值，并将其添加进该字典中\n",
    "my_dict['aaa']  # 得到的是int 类型的值 默认是0\n"
   ]
  },
  {
   "cell_type": "code",
   "execution_count": 74,
   "metadata": {},
   "outputs": [
    {
     "name": "stdout",
     "output_type": "stream",
     "text": [
      "我是默认值\n"
     ]
    },
    {
     "data": {
      "text/plain": [
       "defaultdict(<function __main__.zero()>, {'aaa': '我是默认值'})"
      ]
     },
     "execution_count": 74,
     "metadata": {},
     "output_type": "execute_result"
    }
   ],
   "source": [
    "# 除了接受类型名称作为初始化函数的参数之外，还可以使用任何不带参数的可调用函数，到时该函数的返回结果作为默认值，这样使得默认值的取值更加灵活。\n",
    "def zero():\n",
    "    return \"我是默认值\"\n",
    "my_dict = defaultdict(zero)\n",
    "print(my_dict[\"aaa\"])\n",
    "my_dict  # [\"aaa\":'我是默认值']被添加进了字典"
   ]
  },
  {
   "cell_type": "code",
   "execution_count": 90,
   "metadata": {},
   "outputs": [
    {
     "data": {
      "text/plain": [
       "'__missing__(key) # Called by __getitem__ for missing key; pseudo-code:\\n  if self.default_factory is None: raise KeyError((key,))\\n  self[key] = value = self.default_factory()\\n  return value\\n'"
      ]
     },
     "execution_count": 90,
     "metadata": {},
     "output_type": "execute_result"
    }
   ],
   "source": [
    "'''defaultdict是因为实现了__missing__才有此功能，当访问不存在的键时，dict[key]会调用 __missing__() 方法取得默认值'''\n",
    "defaultdict.__missing__.__doc__   # defaultdict的__missing__是实现好了的"
   ]
  },
  {
   "cell_type": "code",
   "execution_count": null,
   "metadata": {},
   "outputs": [],
   "source": [
    "'''__missing__的内部实现大致如下，将默认值设置给不存在的key，并返回该默认值'''\n",
    "def __missing__(self, key):\n",
    "    self[key] = 'default'\n",
    "    return 'default'"
   ]
  },
  {
   "cell_type": "raw",
   "metadata": {},
   "source": [
    "虽然dict支持 __missing__() 方法，但是在dict本身是不存在这个方法的，而是需要在派生的子类中自行实现这个方法，UserDict也没有实现该方法。\n",
    "UserDict的__getitem__方法会自动检测其实现类有没有__missing__方法"
   ]
  },
  {
   "cell_type": "code",
   "execution_count": null,
   "metadata": {},
   "outputs": [],
   "source": []
  },
  {
   "cell_type": "code",
   "execution_count": null,
   "metadata": {},
   "outputs": [],
   "source": [
    "# UserDict的__getitem__方法\n",
    "def __getitem__(self, key):\n",
    "    if key in self.data:\n",
    "        return self.data[key]\n",
    "    if hasattr(self.__class__, \"__missing__\"):\n",
    "        return self.__class__.__missing__(self, key)\n",
    "    raise KeyError(key)"
   ]
  },
  {
   "cell_type": "code",
   "execution_count": 118,
   "metadata": {},
   "outputs": [],
   "source": [
    "# 自己实现的defaultdict类，功能与Python自带的defaultdict一致，可能性能上差点，同理，Python字典的是用c语言实现的底层代码\n",
    "try:\n",
    "    from collections import defaultdict\n",
    "except ImportError:\n",
    "    class defaultdict(dict):\n",
    "        def __init__(self, default_factory=None, *a, **kw):\n",
    "            dict.__init__(self, *a, **kw)\n",
    "            self.default_factory = default_factory\n",
    "        def __getitem__(self, key):\n",
    "            try:\n",
    "                return dict.__getitem__(self, key)\n",
    "            except KeyError:\n",
    "                return self.__missing__(key)\n",
    "        def __missing__(self, key):\n",
    "            self[key] = value = self.default_factory()\n",
    "            return value"
   ]
  },
  {
   "cell_type": "code",
   "execution_count": null,
   "metadata": {},
   "outputs": [],
   "source": [
    "Python内的defaultdict中的default_factory   \n",
    "default_factory = property(lambda self: object(), lambda self, v: None, lambda self: None)  # default\n",
    "    \"\"\"Factory for default value called by __missing__().\"\"\""
   ]
  },
  {
   "cell_type": "code",
   "execution_count": null,
   "metadata": {},
   "outputs": [],
   "source": []
  },
  {
   "cell_type": "markdown",
   "metadata": {},
   "source": [
    "#### 实践： 统计strings中某个单词出现的次数，并在counts字典中作记录"
   ]
  },
  {
   "cell_type": "code",
   "execution_count": 82,
   "metadata": {},
   "outputs": [
    {
     "ename": "KeyError",
     "evalue": "'puppy'",
     "output_type": "error",
     "traceback": [
      "\u001b[1;31m---------------------------------------------------------------------------\u001b[0m",
      "\u001b[1;31mKeyError\u001b[0m                                  Traceback (most recent call last)",
      "\u001b[1;32m<ipython-input-82-6b542910075b>\u001b[0m in \u001b[0;36m<module>\u001b[1;34m\u001b[0m\n\u001b[0;32m      3\u001b[0m \u001b[0mcounts\u001b[0m \u001b[1;33m=\u001b[0m \u001b[1;33m{\u001b[0m\u001b[1;33m}\u001b[0m\u001b[1;33m\u001b[0m\u001b[1;33m\u001b[0m\u001b[0m\n\u001b[0;32m      4\u001b[0m \u001b[1;32mfor\u001b[0m \u001b[0mkw\u001b[0m \u001b[1;32min\u001b[0m \u001b[0mstrings\u001b[0m\u001b[1;33m:\u001b[0m\u001b[1;33m\u001b[0m\u001b[1;33m\u001b[0m\u001b[0m\n\u001b[1;32m----> 5\u001b[1;33m     \u001b[0mcounts\u001b[0m\u001b[1;33m[\u001b[0m\u001b[0mkw\u001b[0m\u001b[1;33m]\u001b[0m \u001b[1;33m+=\u001b[0m \u001b[1;36m1\u001b[0m   \u001b[1;31m# 报错是因为 第一次的counts[kw]的时候，counts里面没有改kw，会报KeyError错误\u001b[0m\u001b[1;33m\u001b[0m\u001b[1;33m\u001b[0m\u001b[0m\n\u001b[0m",
      "\u001b[1;31mKeyError\u001b[0m: 'puppy'"
     ]
    }
   ],
   "source": [
    "strings = ('puppy', 'kitten', 'puppy', 'puppy',\n",
    "   'weasel', 'puppy', 'kitten', 'puppy')\n",
    "counts = {}\n",
    "for kw in strings:\n",
    "    counts[kw] += 1   # 报错是因为 第一次的counts[kw]的时候，counts里面没有改kw，会报KeyError错误"
   ]
  },
  {
   "cell_type": "code",
   "execution_count": 50,
   "metadata": {},
   "outputs": [
    {
     "data": {
      "text/plain": [
       "{'puppy': 5, 'kitten': 2, 'weasel': 1}"
      ]
     },
     "execution_count": 50,
     "metadata": {},
     "output_type": "execute_result"
    }
   ],
   "source": [
    "# 方式一：\n",
    "strings = ('puppy', 'kitten', 'puppy', 'puppy',\n",
    "   'weasel', 'puppy', 'kitten', 'puppy')\n",
    "counts = {}\n",
    "for kw in strings:\n",
    "    counts.setdefault(kw, 0)  # 向字典中添加数据，如果列表中没有该key直接添加并返回value值，若key存在，则不添加，并返回原来的value值\n",
    "    counts[kw] += 1\n",
    "counts\n",
    "# 更加简洁的方法  利用setdefault()本身会返回值的特性  有就返回当前值，没有返回默认的值 \n",
    "strings = ('puppy', 'kitten', 'puppy', 'puppy',\n",
    "   'weasel', 'puppy', 'kitten', 'puppy')\n",
    "counts = {}\n",
    "for kw in strings:\n",
    "    counts[kw] = counts.setdefault(kw, 0) + 1\n",
    "counts"
   ]
  },
  {
   "cell_type": "code",
   "execution_count": 67,
   "metadata": {},
   "outputs": [
    {
     "data": {
      "text/plain": [
       "2"
      ]
     },
     "execution_count": 67,
     "metadata": {},
     "output_type": "execute_result"
    }
   ],
   "source": [
    "counts['kitten']"
   ]
  },
  {
   "cell_type": "code",
   "execution_count": 101,
   "metadata": {},
   "outputs": [
    {
     "data": {
      "text/plain": [
       "defaultdict(int, {'puppy': 5, 'kitten': 2, 'weasel': 1})"
      ]
     },
     "execution_count": 101,
     "metadata": {},
     "output_type": "execute_result"
    }
   ],
   "source": [
    "# 方式二： 使用 defaultdict实现\n",
    "from collections import defaultdict\n",
    "strings = ('puppy', 'kitten', 'puppy', 'puppy',\n",
    "   'weasel', 'puppy', 'kitten', 'puppy')\n",
    "counts = defaultdict(int)   # counts = defaultdict(lambda: 0) # 使用lambda来定义简单的函数\n",
    "for kw in strings:\n",
    "    counts[kw] += 1\n",
    "counts\n"
   ]
  },
  {
   "cell_type": "code",
   "execution_count": 117,
   "metadata": {},
   "outputs": [
    {
     "name": "stdout",
     "output_type": "stream",
     "text": [
      "{'a': 1, 'c': 3, 'b': 2}\n"
     ]
    }
   ],
   "source": [
    "# 自定义实现了初始化函数的字典类\n",
    "from collections import UserDict\n",
    "class FancyDict(UserDict):\n",
    "    def __init__(self, data = {}, **kw):  #  此处的__init__是可以不用实现的，直接调用父类UserDict的初始化函数即可，定制化的时候可以要，但是为了和字典接收值的传参方式能一致，最好定义成这样，或者__init__(*args,**kwargs)具体看内部的实现\n",
    "        super().__init__()     # 根据UserDict的__init__代码实现，执行完此句后，  FancyDict中已经获得了UserDict中定义的data属性，为一个空字典，就是下面的 __add__中使用的self.data  （UserDict类中也是维护属性，在之后方法中调用的）\n",
    "        self.update(data)     \n",
    "        self.update(kw)     ###  这里接收的几个\n",
    "\n",
    "    def __add__(self, other):\n",
    "        dict = FancyDict(self.data)  # 用当前类的data属性（就是当前这个字典对象），创建一个新的对象，没有必要，不如用下面的形式。\n",
    "        dict.update(other)\n",
    "        return dict\n",
    "\n",
    "a = FancyDict(a=1,c=3)  # 能接收[(1,2)]，是因为update方法的缘故\n",
    "b = FancyDict(b = 2)\n",
    "\n",
    "print(a+b)\n"
   ]
  },
  {
   "cell_type": "code",
   "execution_count": 83,
   "metadata": {},
   "outputs": [
    {
     "name": "stdout",
     "output_type": "stream",
     "text": [
      "{1: 2, 'b': 2}\n"
     ]
    }
   ],
   "source": [
    "\n",
    "from collections import UserDict\n",
    "class FancyDict(UserDict):\n",
    "    def __add__(self, other_instance):\n",
    "        self.update(other_instance)\n",
    "        return self\n",
    "    \n",
    "a = FancyDict({1:2})\n",
    "b = FancyDict(b = 2)\n",
    "\n",
    "print(a+b)"
   ]
  },
  {
   "cell_type": "code",
   "execution_count": 16,
   "metadata": {},
   "outputs": [
    {
     "data": {
      "text/plain": [
       "{1: 2}"
      ]
     },
     "execution_count": 16,
     "metadata": {},
     "output_type": "execute_result"
    }
   ],
   "source": [
    "a = dict([(1,2)])\n",
    "a"
   ]
  },
  {
   "cell_type": "markdown",
   "metadata": {},
   "source": [
    "#### UserDict内部实现"
   ]
  },
  {
   "cell_type": "code",
   "execution_count": null,
   "metadata": {},
   "outputs": [],
   "source": [
    "# UserDict的初始化函数\n",
    "def __init__(*args, **kwargs):  #  def __init__(self, *args, **kwargs):\n",
    "        if not args:    # 此处是为了保证args中能有一个self参数 即当前类的实例对象         args元组中最多只能有两个参数，或者只有一个，只有的必须是self，最终为（self, {4:5,\"a\":1}） 或 （self, [(1,2),('a',1)]）\n",
    "            raise TypeError(\"descriptor '__init__' of 'UserDict' object \"\n",
    "                            \"needs an argument\")\n",
    "        self, *args = args   ###  self得到的类的实例对象self 这是每个类实例方法都有的第一个参数self， 但是很奇怪，这个__init__竟然没有显式写出\n",
    "                            ###  此处的*args是使用序列解包得到的列表格式 \n",
    "        if len(args) > 1:   ### args得到的是字典{4:5,\"a\":1} 但是类型也可能是[(1,2),('a',1)]这种 ，只能是一个值，或者没有值，没有值得时候有kwargs得到关键字参数作为字典  \n",
    "            raise TypeError('expected at most 1 arguments, got %d' % len(args))\n",
    "        if args:        ### args若是空的列表 []则判定为假\n",
    "            dict = args[0] ### 存储得到的值，此时也就是当args接收到{4:5,\"a\":1}或是[(1,2),('a',1)]这写类型的时候就已经初始化值完成了，不需要再到kwargs中取值（到kwargs中取值交给最后一步，因为kwargs本身就是字典，所以直接update即可）\n",
    "        elif 'dict' in kwargs:  ### 如果args中没有，就取kwargs中的关键字参数，但是关键字参数不能是dict，如果是则去除并警告，但不会报异常，程序继续，因为kwargs本省就是字典，所以不需要其他处理\n",
    "            dict = kwargs.pop('dict')  # 通过源码可以发现，dict实际是作为关键字参数，接受一个字典类型的对象，如dict = {'a':1} 此时会做这步骤的处理，如果使用dict = 1出错（只在args没有值的时候出错）\n",
    "                                    # 因为args没有值时，会走这个步骤，将dict变量的值拿出，当做是可悲update接受的类型，但是实际上若用dict = 1 得到的1并不是这中对象\n",
    "            import warnings\n",
    "            warnings.warn(\"Passing 'dict' as keyword argument is deprecated\",\n",
    "                          DeprecationWarning, stacklevel=2)\n",
    "        else:\n",
    "            dict = None   ### 如果kwargs也没有值，则创建了 dict = None\n",
    "        self.data = {} ### 创建一个属性，空字典   -------------------------------------------------------   这是UserDict能实现字典的根本属性，所有的初始化的值都放到了属性中，以及所有字典方法都是通过该属性简介调用的dict的同类方法\n",
    "        if dict is not None:   ### dict中接收到了args的值  {4:5,\"a\":1} 或者是 [(1,2),('a',1)]这样子的\n",
    "            self.update(dict)\n",
    "        if len(kwargs):      ### dict中接收了kwargs的值 直接是字典类型\n",
    "            self.update(kwargs)                                #  这里的两个if 语句当初始化的时候没有传进任何值的时候，都不会执行， 则直接就使用self.data空字典"
   ]
  },
  {
   "cell_type": "code",
   "execution_count": 20,
   "metadata": {},
   "outputs": [
    {
     "name": "stderr",
     "output_type": "stream",
     "text": [
      "C:\\Users\\tmj\\Anaconda3\\lib\\site-packages\\ipykernel_launcher.py:2: DeprecationWarning: Passing 'dict' as keyword argument is deprecated\n",
      "  \n"
     ]
    },
    {
     "data": {
      "text/plain": [
       "{'a': 3}"
      ]
     },
     "execution_count": 20,
     "metadata": {},
     "output_type": "execute_result"
    }
   ],
   "source": [
    "from collections import UserDict\n",
    "UserDict(dict = [('a',3)])     # 在UserDict的实现中使用变量名dict来存储args中的值\n",
    " '''  DeprecationWarning: Passing 'dict' as keyword argument is deprecated\n",
    "  a = UserDict( dict=[('a',3)])hi输出警告''' \n",
    "# UserDict(dict = 'b') # 在没有args的情况下使用dict做key会出错\n",
    "# UserDict([(\"c\",3)],dict = 1) # 但是有args的情况下就没有问题  {'c': 3, 'dict': 1}"
   ]
  },
  {
   "cell_type": "code",
   "execution_count": 98,
   "metadata": {},
   "outputs": [],
   "source": [
    "# update的内部实现  UserDict的父类实现  UserDict的__init__对接受的参数做初步的处理，调用update方法，这里update又对接受的参数做进一步处理\n",
    "def update(*args, **kwds):\n",
    "        ''' D.update([E, ]**F) -> None.  Update D from mapping/iterable E and F.\n",
    "            If E present and has a .keys() method, does:     for k in E: D[k] = E[k]\n",
    "            If E present and lacks .keys() method, does:     for (k, v) in E: D[k] = v\n",
    "            In either case, this is followed by: for k, v in F.items(): D[k] = v\n",
    "        '''\n",
    "        if not args:\n",
    "            raise TypeError(\"descriptor 'update' of 'MutableMapping' object \"\n",
    "                            \"needs an argument\")\n",
    "        self, *args = args\n",
    "        if len(args) > 1:    #  因为剩下的args是 ({4:5,\"a\":1},)形式， 所以计算时的长度时元组的，所以长度时< \n",
    "            raise TypeError('update expected at most 1 arguments, got %d' %\n",
    "                            len(args))\n",
    "        if args:   # {4:5,\"a\":1} 或者是 [(1,2),('a',1)]这样子的\n",
    "            other = args[0]\n",
    "            if isinstance(other, Mapping):   # 接受的是字典{4:5,\"a\":1}\n",
    "                for key in other:\n",
    "                    self[key] = other[key]\n",
    "            elif hasattr(other, \"keys\"):   # hasattr() 函数用于判断对象是否包含对应的属性   一般就是dict对象\n",
    "                for key in other.keys():\n",
    "                    self[key] = other[key]\n",
    "            else:\n",
    "                for key, value in other:   # 接受的是 [(1,2),('a',1)]格式\n",
    "                    self[key] = value\n",
    "        for key, value in kwds.items():  # dict的方法 items 应为kwargs是dict类型\n",
    "            self[key] = value   \n",
    "############ 这里使用self[]的时候，会调用UserDict重写的__setitem__魔法函数，而在该魔法函数中我们发现，实际上调用了__init__中的定义的 self.data对象，发现其还是使用的是内建的dict类型，以及一些方法内部也是通过self.data调用dict的方法\n",
    "############ 这样实现也是对的，借用内建的dict 效率更高\n",
    "\n",
    "def __setitem__(self, key, item): self.data[key] = item  # 最后还是使用的__init__中创建的 data这的dict字典  最终调用的是原生字典dict的__setitem__方法"
   ]
  },
  {
   "cell_type": "code",
   "execution_count": 103,
   "metadata": {},
   "outputs": [
    {
     "data": {
      "text/plain": [
       "True"
      ]
     },
     "execution_count": 103,
     "metadata": {},
     "output_type": "execute_result"
    }
   ],
   "source": [
    "from collections import Mapping    #dict的父类\n",
    "other = {4:5,\"a\":1}        # [(1,2),('a',1)]不是 Mapping的实例\n",
    "isinstance(other, Mapping)"
   ]
  },
  {
   "cell_type": "code",
   "execution_count": 116,
   "metadata": {},
   "outputs": [
    {
     "data": {
      "text/plain": [
       "True"
      ]
     },
     "execution_count": 116,
     "metadata": {},
     "output_type": "execute_result"
    }
   ],
   "source": [
    "other = {4:5,\"a\":1}  \n",
    "hasattr(other, \"keys\")"
   ]
  },
  {
   "cell_type": "code",
   "execution_count": 118,
   "metadata": {},
   "outputs": [
    {
     "name": "stdout",
     "output_type": "stream",
     "text": [
      "1 : 2\n",
      "a : 1\n"
     ]
    }
   ],
   "source": [
    "other = [(1,2),('a',1)]  #  专门接收 可迭代的类型 所以tuple 也行，得到里面的元组（只要是可解包类型就可以了）\n",
    "for key, value in other:\n",
    "    print(key,':',value)"
   ]
  },
  {
   "cell_type": "code",
   "execution_count": 31,
   "metadata": {},
   "outputs": [
    {
     "name": "stdout",
     "output_type": "stream",
     "text": [
      "{'b', ',', 'a', 'e', 'c'}\n",
      "{'a', 'sss', 'c', 'b'}\n"
     ]
    }
   ],
   "source": [
    "# 6-4 set和frozenset\n",
    "\n",
    "#set 集合 fronzenset (不可变集合) 无序， 不重复    --- 可用去重\n",
    "s = set('a,b,c,ee')   # 可接受iterable可迭代类型\n",
    "print(s)   #  因为str也是可迭代类型，所以也是可以作为参数进行传递初始化的'a,b,c,ee'需要注意这是一个完整的字符串 其中的逗号也是一个元素，另外，set类型会自动去重\n",
    "# s = set(['a','b','c','d','e'])   # 字典可使用 add方法进行添加新的元素\n",
    "s = {'a','b', 'c'}\n",
    "s.add('sss') # add 方法是将整个内容作为一项添加进集合中的，如添加的为set中已有的重复值，则不添加\n",
    "print(s)"
   ]
  },
  {
   "cell_type": "code",
   "execution_count": 3,
   "metadata": {},
   "outputs": [
    {
     "name": "stdout",
     "output_type": "stream",
     "text": [
      "frozenset({'d', 'a', 'e', 'b', 'c'})\n"
     ]
    },
    {
     "data": {
      "text/plain": [
       "{'d': None, 'a': None, 'e': None, 'b': None, 'c': None}"
      ]
     },
     "execution_count": 3,
     "metadata": {},
     "output_type": "execute_result"
    }
   ],
   "source": [
    "# 不可变集合 frozenset\n",
    "s = frozenset(\"abcde\")   #frozenset 可以作为dict的key\n",
    "print(s)\n",
    "\n",
    "new_dict = dict.fromkeys(s,None)\n",
    "new_dict\n"
   ]
  },
  {
   "cell_type": "code",
   "execution_count": 1,
   "metadata": {},
   "outputs": [
    {
     "name": "stdout",
     "output_type": "stream",
     "text": [
      "{'f', 'c', 'e'}\n",
      "{'f', 'd', 'a', 'e', 'b', 'c'}\n"
     ]
    }
   ],
   "source": [
    "#向set添加数据\n",
    "s = frozenset(\"abcde\") \n",
    "another_set = set(\"cef\")\n",
    "another_set.add('c') # 往集合中添加一个新元素，如元素已经存在，则不添加\n",
    "print(another_set)\n",
    "another_set.update(s)  # 往现有 集合中添加新的可迭代类型、新的集合\n",
    "print(another_set)"
   ]
  },
  {
   "cell_type": "code",
   "execution_count": 59,
   "metadata": {},
   "outputs": [
    {
     "name": "stdout",
     "output_type": "stream",
     "text": [
      "{'a', 'b'}\n",
      "差集： {'a', 'b'}\n",
      "交集： {'c'}\n",
      "并集： {'a', 'e', 'c', 'f', 'b'}\n",
      "i am in set\n",
      "True\n"
     ]
    }
   ],
   "source": [
    "s = set('abc')\n",
    "another_set = set(\"cef\")\n",
    "re_set = s.difference(another_set)  # 集合的差集 得到的是返回值，不修改原有集合\n",
    "print(re_set)\n",
    "# | & -  #集合运算\n",
    "re_set = s - another_set   #__lor__魔法函数\n",
    "print(\"差集：\",re_set)\n",
    "\n",
    "re_set = s & another_set\n",
    "print(\"交集：\",re_set)\n",
    "\n",
    "re_set = s | another_set\n",
    "print(\"并集：\",re_set)\n",
    "\n",
    "#set性能很高  和 dict 实现原理一样都是哈希算法，查找元素的时间复杂度为1\n",
    "\n",
    "# 能够使用 if in 因为实现了 __contains__魔法函数\n",
    "if \"c\" in another_set:\n",
    "    print(\"i am in set\")\n",
    "\n",
    "# 使用issubset判断一个set是否是另一个set的一部分\n",
    "print (s.issubset(re_set))  # re_set: {'a', 'b'}   s: {'a','b','c'}  判断括号里的是否是本集合的一部分"
   ]
  },
  {
   "cell_type": "markdown",
   "metadata": {},
   "source": [
    "<font color='red'>`frozenset`的用法和set一样，就是不能被修改</font>"
   ]
  },
  {
   "cell_type": "code",
   "execution_count": null,
   "metadata": {},
   "outputs": [],
   "source": [
    "# 6-5 dict和set的实现原理\n",
    "'''\n",
    "dict查找的性能远远大于list\n",
    "\n",
    "在list中随着list数据的增大 查找时间会增大\n",
    "在dict中查找元素不会随着dict的增大而增大\n",
    "'''\n",
    "\n",
    "from random import randint\n",
    "\n",
    "\n",
    "def load_list_data(total_nums, target_nums):\n",
    "    \"\"\"\n",
    "    从文件中读取数据，以list的方式返回\n",
    "    :param total_nums: 读取的数量\n",
    "    :param target_nums: 需要查询的数据的数量\n",
    "    \"\"\"\n",
    "    all_data = []\n",
    "    target_data = []\n",
    "    file_name = \"G:/fbobject_idnew.txt\"\n",
    "    with open(file_name, encoding=\"utf8\", mode=\"r\") as f_open:\n",
    "        for count, line in enumerate(f_open):\n",
    "            if count < total_nums:\n",
    "                all_data.append(line)\n",
    "            else:\n",
    "                break\n",
    "\n",
    "    for x in range(target_nums):\n",
    "        random_index = randint(0, total_nums)\n",
    "        if all_data[random_index] not in target_data:\n",
    "            target_data.append(all_data[random_index])\n",
    "            if len(target_data) == target_nums:\n",
    "                break\n",
    "\n",
    "    return all_data, target_data\n",
    "\n",
    "def load_dict_data(total_nums, target_nums):\n",
    "    \"\"\"\n",
    "    从文件中读取数据，以dict的方式返回\n",
    "    :param total_nums: 读取的数量\n",
    "    :param target_nums: 需要查询的数据的数量\n",
    "    \"\"\"\n",
    "    all_data = {}\n",
    "    target_data = []\n",
    "    file_name = \"G:/慕课网课程/AdvancePython/fbobject_idnew.txt\"\n",
    "    with open(file_name, encoding=\"utf8\", mode=\"r\") as f_open:\n",
    "        for count, line in enumerate(f_open):\n",
    "            if count < total_nums:\n",
    "                all_data[line] = 0\n",
    "            else:\n",
    "                break\n",
    "    all_data_list = list(all_data)\n",
    "    for x in range(target_nums):\n",
    "        random_index = randint(0, total_nums-1)\n",
    "        if all_data_list[random_index] not in target_data:\n",
    "            target_data.append(all_data_list[random_index])\n",
    "            if len(target_data) == target_nums:\n",
    "                break\n",
    "\n",
    "    return all_data, target_data\n",
    "\n",
    "\n",
    "def find_test(all_data, target_data):\n",
    "    #测试运行时间\n",
    "    test_times = 100\n",
    "    total_times = 0\n",
    "    import time\n",
    "    for i in range(test_times):\n",
    "        find = 0\n",
    "        start_time = time.time()\n",
    "        for data in target_data:\n",
    "            if data in all_data:\n",
    "                find += 1\n",
    "        last_time = time.time() - start_time\n",
    "        total_times += last_time\n",
    "    return total_times/test_times\n",
    "\n",
    "\n",
    "if __name__ == \"__main__\":\n",
    "    '''\n",
    "    该脚本用于测试dict 和 set的性能\n",
    "    '''\n",
    "    # all_data, target_data = load_list_data(10000, 1000)\n",
    "    # all_data, target_data = load_list_data(100000, 1000)\n",
    "    # all_data, target_data = load_list_data(1000000, 1000)\n",
    "\n",
    "\n",
    "    # all_data, target_data = load_dict_data(10000, 1000)\n",
    "    # all_data, target_data = load_dict_data(100000, 1000)\n",
    "    # all_data, target_data = load_dict_data(1000000, 1000)\n",
    "    all_data, target_data = load_dict_data(2000000, 1000)\n",
    "    last_time = find_test(all_data, target_data)\n",
    "\n",
    "    #dict查找的性能远远大于list\n",
    "    #在list中随着list数据的增大 查找时间会增大\n",
    "    #在dict中查找元素不会随着dict的增大而增大\n",
    "    print(last_time)\n",
    "\n"
   ]
  },
  {
   "cell_type": "markdown",
   "metadata": {},
   "source": [
    "1.  dict的key 、 set的值 都必须是可以hash的    什么是哈希的：不可变对象 都是可hash的， str， fronzenset， tuple，自己实现的类 通过实现`__hash__`魔法函数，让其能够返回一个固定的值，则该类的实例对象就是可哈希的。     不可变对象，如tuple，str都实现了`__hash__`魔法函数\n",
    "2. dict的内存花销大（哈希表的共性），但是查询速度快， ------  自定义的对象 或者python内部的对象都是用dict包装的\n",
    "3. dict的存储顺序和元素添加顺序有关  -----   遍历时读出的顺序可能和存储是不一样的，  一般我们是不要求dict书序的，但是在Python内部是实现的时候，实际上是维护了一个order_dict ， 能保证顺序\n",
    "4. 添加数据有可能改变已有数据的顺序 ----- 因为当哈希表的空余的表元少于1/3的时候，哈希表会进行扩张（因为理论上当空间少于1/3的时候，就会很容易造成添加值的时候重复到同一个表元，而要进行冲突解决，解决的方式是重新申请一个空间，然后将数据一条一条的插入，采取数据搬迁的时候，极有可能该表数据映射的位置，此时是可能改变顺序的），所以当插入数据造成重新分配内存的时候，改变已有的位置，所以不要期望dict的顺序。\n",
    "<font color='red'>尽量不要期望dict的顺序</font>\n",
    "set 类型 和dict 的实现原理一致，性能差不多。\n",
    "去重的时候首选set，因为set的占用空间比dict小，\n",
    "dict之所以有这样的性能，主要是因为其背后的实现原理是哈希表（又叫散列表） 之所以查找的快，是因为散列表使用数组array，查找时间为1 ，"
   ]
  },
  {
   "cell_type": "code",
   "execution_count": 132,
   "metadata": {},
   "outputs": [
    {
     "name": "stdout",
     "output_type": "stream",
     "text": [
      "-9223371938026491276 1581252552520\n",
      "-9223371938026491332 1581252551624\n",
      "-9223371938026491276 1581252552520\n",
      "-9223371938026491332 1581252551624\n",
      "-9223371938026491276 1581252552520\n",
      "-9223371938026491332 1581252551624\n",
      "-9223371938026491276 1581252552520\n",
      "-9223371938026491332 1581252551624\n",
      "-9223371938026491276 1581252552520\n",
      "-9223371938026491332 1581252551624\n"
     ]
    }
   ],
   "source": [
    "'''\n",
    "自己实现的类 通过实现__hash__魔法函数，让其能够返回一个固定的值，则该类的实例对象就是可哈希的\n",
    "一般能够可哈希的对象都是实现了__hash__方法，该方法的内部实现一般就是 hash(self)  ----  只是文档，源码的实现不一样\n",
    "\n",
    "\n",
    "调用hash(对象)的时候，会自动调用该类的__hash__魔法函数\n",
    "hash() 函数可以应用于数字、字符串和对象，不能直接应用于 list、set、dictionary。\n",
    "这点通过源码就能发现，set 、 dict 和 list 的源码中都是 __hash__ = None  即该方法在其内部是没有实现的，但set 和 dict 本身的值存储是使用的哈希算法的，维护一个哈希表，要求dict的key 和 set的元素类型都必须是可哈希的 。\n",
    "但是 set 和 dict本身不是可哈希的，因为他们都是可变对象\n",
    "'''\n",
    "\n",
    "\n",
    "# 在 hash() 对对象使用时，所得的结果不仅和对象的内容有关，还和对象的 id()，也就是内存地址有关。\n",
    "\n",
    "class Test:\n",
    "    def __init__(self, i):\n",
    "        self.i = i\n",
    "for i in range(10):\n",
    "    t = Test(1)\n",
    "    print(hash(t), id(t))"
   ]
  },
  {
   "cell_type": "code",
   "execution_count": 124,
   "metadata": {},
   "outputs": [
    {
     "data": {
      "text/plain": [
       "11"
      ]
     },
     "execution_count": 124,
     "metadata": {},
     "output_type": "execute_result"
    }
   ],
   "source": [
    "# 调用hash 方法会找__hash__魔法函数\n",
    "class A():\n",
    "    def __hash__(self):\n",
    "        return 11\n",
    "    \n",
    "hash(A())"
   ]
  },
  {
   "cell_type": "code",
   "execution_count": 98,
   "metadata": {},
   "outputs": [
    {
     "ename": "TypeError",
     "evalue": "unhashable type: 'list'",
     "output_type": "error",
     "traceback": [
      "\u001b[1;31m---------------------------------------------------------------------------\u001b[0m",
      "\u001b[1;31mTypeError\u001b[0m                                 Traceback (most recent call last)",
      "\u001b[1;32m<ipython-input-98-919173ebff31>\u001b[0m in \u001b[0;36m<module>\u001b[1;34m\u001b[0m\n\u001b[1;32m----> 1\u001b[1;33m \u001b[0ma\u001b[0m \u001b[1;33m=\u001b[0m \u001b[1;33m{\u001b[0m\u001b[1;33m[\u001b[0m\u001b[1;36m1\u001b[0m\u001b[1;33m,\u001b[0m\u001b[1;36m3\u001b[0m\u001b[1;33m]\u001b[0m\u001b[1;33m,\u001b[0m\u001b[1;36m3\u001b[0m\u001b[1;33m}\u001b[0m\u001b[1;33m\u001b[0m\u001b[1;33m\u001b[0m\u001b[0m\n\u001b[0m",
      "\u001b[1;31mTypeError\u001b[0m: unhashable type: 'list'"
     ]
    }
   ],
   "source": [
    "# dict的key 和 set的元素类型都必须是可哈希的\n",
    "a = {[1,3],3}"
   ]
  },
  {
   "cell_type": "code",
   "execution_count": 111,
   "metadata": {},
   "outputs": [
    {
     "name": "stdout",
     "output_type": "stream",
     "text": [
      "None\n",
      "None\n",
      "None\n",
      "<slot wrapper '__hash__' of 'tuple' objects>\n"
     ]
    }
   ],
   "source": [
    "'''\n",
    "能不能被hash()，直接看该对象类是否实现了__hash__方法。\n",
    "'''\n",
    "# set 、 dict 和 list 的源码中都是 __hash__ = None  即该方法在其内部是没有实现的\n",
    "print(list.__hash__)\n",
    "print(set.__hash__)\n",
    "print(dict.__hash__)\n",
    "# 但是 tuple 有\n",
    "print(tuple.__hash__)"
   ]
  },
  {
   "cell_type": "code",
   "execution_count": null,
   "metadata": {},
   "outputs": [],
   "source": []
  },
  {
   "cell_type": "code",
   "execution_count": null,
   "metadata": {},
   "outputs": [],
   "source": [
    "# 7-1 python中的变量是什么"
   ]
  },
  {
   "cell_type": "code",
   "execution_count": 3,
   "metadata": {},
   "outputs": [
    {
     "name": "stdout",
     "output_type": "stream",
     "text": [
      "2966635018824 2966635018824\n",
      "True\n",
      "[1, 2, 3, 4]\n"
     ]
    }
   ],
   "source": [
    "# python和java中的变量本质不一样，java中的变量相当于一个容器，声明后就限定了能存什么类型的数据\n",
    "# python的变量实质上是一个指针（指针大小固定） int str， 便利贴\n",
    "\n",
    "a = 1\n",
    "a = \"abc\"\n",
    "#1. a贴在1上面\n",
    "#2. 先生成对象 然后贴便利贴\n",
    "# a 可以\"贴\"在任何数据上面  这是动态语言的核心\n",
    "\n",
    "a = [1,2,3]\n",
    "b = a\n",
    "print (id(a), id(b))  # a和b \"贴\"在同一数据上\n",
    "print (a is b)\n",
    "b.append(4)  # b和a是同一变量，使用b操作数据就像是使用a在操作\n",
    "print (a)"
   ]
  },
  {
   "cell_type": "code",
   "execution_count": 14,
   "metadata": {},
   "outputs": [
    {
     "name": "stdout",
     "output_type": "stream",
     "text": [
      "True\n",
      "False\n"
     ]
    }
   ],
   "source": [
    "# 7-2 ==和is的区别\n",
    "# is是判断两者的id是否一样，即是否是同一对象，内部在使用is的时候实际上是 id()==id() 这样处理的\n",
    "# inter机制  https://www.cnblogs.com/greatfish/p/6045088.html\n",
    "a = \"fdasfasdfasdfasfasddfasdfasdfasdffasdfasdfasdfasfasdfasdfasdffafasdfasfwetgggadfgfa\"\n",
    "b = \"fdasfasdfasdfasfasddfasdfasdfasdffasdfasdfasdfasfasdfasdfasdffafasdfasfwetgggadfgfa\"\n",
    "print(a is b)      # 造成这样的原因是 inter机制\n",
    "\n",
    "d = (1,3,45,5,6,87,8)   # 同样是不可变对象的tuple就没有这样\n",
    "c = (1,3,45,5,6,87,8)\n",
    "print(d is c)"
   ]
  },
  {
   "cell_type": "code",
   "execution_count": 19,
   "metadata": {},
   "outputs": [
    {
     "data": {
      "text/plain": [
       "True"
      ]
     },
     "execution_count": 19,
     "metadata": {},
     "output_type": "execute_result"
    }
   ],
   "source": [
    "a = [1,2,3,4]\n",
    "b = [1,2,3,4]\n",
    "a == b  # 执行双等号的时候，实际会调用类型的__eq__魔法方法  "
   ]
  },
  {
   "cell_type": "code",
   "execution_count": 23,
   "metadata": {},
   "outputs": [
    {
     "name": "stdout",
     "output_type": "stream",
     "text": [
      "yes\n",
      "yes\n"
     ]
    }
   ],
   "source": [
    "class People:\n",
    "    pass\n",
    "\n",
    "person = People()\n",
    "if type(person) is People:  #  一般都是使用is 而不是使用 ==    能使用type的原因，类本身也是对象，全局唯一的对象\n",
    "    print (\"yes\")\n",
    "    \n",
    "if isinstance(person, People):  #  更常用的方法是使用instance\n",
    "    print (\"yes\")"
   ]
  },
  {
   "cell_type": "code",
   "execution_count": null,
   "metadata": {},
   "outputs": [],
   "source": []
  },
  {
   "cell_type": "code",
   "execution_count": 4,
   "metadata": {},
   "outputs": [
    {
     "name": "stdout",
     "output_type": "stream",
     "text": [
      "<object object at 0x00000243BF40AFD0>\n"
     ]
    },
    {
     "ename": "NameError",
     "evalue": "name 'a' is not defined",
     "output_type": "error",
     "traceback": [
      "\u001b[1;31m---------------------------------------------------------------------------\u001b[0m",
      "\u001b[1;31mNameError\u001b[0m                                 Traceback (most recent call last)",
      "\u001b[1;32m<ipython-input-4-e9d543863456>\u001b[0m in \u001b[0;36m<module>\u001b[1;34m\u001b[0m\n\u001b[0;32m      8\u001b[0m \u001b[1;32mdel\u001b[0m \u001b[0ma\u001b[0m   \u001b[1;31m# c++ 是直接将该对象给回收，但是Python中只有当对象的计数为0是才会将对象进行回收\u001b[0m\u001b[1;33m\u001b[0m\u001b[1;33m\u001b[0m\u001b[0m\n\u001b[0;32m      9\u001b[0m \u001b[0mprint\u001b[0m\u001b[1;33m(\u001b[0m\u001b[0mb\u001b[0m\u001b[1;33m)\u001b[0m\u001b[1;33m\u001b[0m\u001b[1;33m\u001b[0m\u001b[0m\n\u001b[1;32m---> 10\u001b[1;33m \u001b[0mprint\u001b[0m\u001b[1;33m(\u001b[0m\u001b[0ma\u001b[0m\u001b[1;33m)\u001b[0m  \u001b[1;31m# a 指针被删除了，不存在\u001b[0m\u001b[1;33m\u001b[0m\u001b[1;33m\u001b[0m\u001b[0m\n\u001b[0m",
      "\u001b[1;31mNameError\u001b[0m: name 'a' is not defined"
     ]
    }
   ],
   "source": [
    "# 7-3 del语句和垃圾回收\n",
    "#cpython中垃圾回收的算法是采用 引用计数器    cpython2.0后有变化    Python处理循环引用的方法   https://blog.csdn.net/e15273/article/details/79576389\n",
    "# Python的GC模块主要运用了“引用计数”（reference counting）来跟踪和回收垃圾。在引用计数的基础上，\n",
    "# 还可以通过“标记-清除”（mark and sweep）解决容器对象可能产生的循环引用的问题。通过“分代回收”（generation collection）以空间换取时间来进一步提高垃圾回收的效率。\n",
    "\n",
    "a = object()\n",
    "b = a\n",
    "del a   # c++ 是直接将该对象给回收，但是Python中只有当对象的计数为0是才会将对象进行回收\n",
    "print(b)\n",
    "print(a)  # a 指针被删除了，不存在"
   ]
  },
  {
   "cell_type": "code",
   "execution_count": null,
   "metadata": {},
   "outputs": [],
   "source": [
    "class Item:\n",
    "    def __init__ (self, name, price):\n",
    "        self.name = name\n",
    "        self.price = price\n",
    "    # 定义析构函数\n",
    "    def __del__ (self):\n",
    "        print('del删除对象')\n",
    "# 创建一个Item对象，将之赋给im变量\n",
    "im = Item('鼠标', 29.8)\n",
    "x = im   # ①\n",
    "# 打印im所引用的Item对象\n",
    "del im\n",
    "print('--------------')\n",
    "for i in range(11):\n",
    "    print(i)           \n",
    "    \n",
    "    \n",
    "# 定义类的时候定义了 __del__魔法函数，当对象被回收(引用为0)的时候，执行   ----   （是仅当对象引用为0被回收时，才调用该函数，不是一del，就执行__del__）\n",
    "# jupyter lab的执行结果有点问题， 这里直接手动打印\n",
    "# 结果：\n",
    "# --------------\n",
    "# 0\n",
    "# 1\n",
    "# 2\n",
    "# 3\n",
    "# 4\n",
    "# 5\n",
    "# 6\n",
    "# 7\n",
    "# 8\n",
    "# 9\n",
    "# 10\n",
    "# del删除对象     最后任然会执行__del__，是因为真个程序结束，会自动回收所有的对象，所以__del__就执行了"
   ]
  },
  {
   "cell_type": "markdown",
   "metadata": {},
   "source": [
    "<font color='red'>最后需要说明的是，如果父类提供了 `__del__() `方法，则系统重写 `__del__()` 方法时必须显式调用父类的 `__del__()` 方法，这样才能保证合理地回收父类实例的部分属性。</font>"
   ]
  },
  {
   "cell_type": "code",
   "execution_count": 75,
   "metadata": {},
   "outputs": [
    {
     "name": "stdout",
     "output_type": "stream",
     "text": [
      "[[[...]]]\n",
      "[[[...]]]\n"
     ]
    }
   ],
   "source": [
    "# 循环引用示例：\n",
    "a = []\n",
    "b = []\n",
    "a.append(b)\n",
    "b.append(a)\n",
    "print(a)\n",
    "print(b)"
   ]
  },
  {
   "cell_type": "code",
   "execution_count": null,
   "metadata": {},
   "outputs": [],
   "source": []
  },
  {
   "cell_type": "code",
   "execution_count": null,
   "metadata": {},
   "outputs": [],
   "source": []
  },
  {
   "cell_type": "code",
   "execution_count": 92,
   "metadata": {},
   "outputs": [
    {
     "name": "stdout",
     "output_type": "stream",
     "text": [
      "['bobby2', 'bobby3']\n",
      "['bobby2', 'bobby3']\n",
      "['bobby']\n",
      "('com', ['bobby'])\n",
      "['bobby', 'bobby5'] com2\n",
      "['bobby', 'bobby5'] com3\n",
      "True\n",
      "('com', ['bobby', 'bobby5'])\n"
     ]
    }
   ],
   "source": [
    "# 7-4 一个经典的参数错误\n",
    "class Company:\n",
    "    def __init__(self, name=\"com\", staffs=[]):\n",
    "        self.name = name\n",
    "        self.staffs = staffs\n",
    "    def add(self, staff_name):\n",
    "        self.staffs.append(staff_name)\n",
    "    def remove(self, staff_name):\n",
    "        self.staffs.remove(staff_name)\n",
    "\n",
    "if __name__ == \"__main__\":\n",
    "    sta = [\"bobby1\", \"bobby2\"]\n",
    "    com1 = Company(\"com1\", sta) # 尽量不要将list这种可变类型传递进，因为对list是可变类型的，对list的操作会直接改变原有的值\n",
    "    com1.add(\"bobby3\")\n",
    "    com1.remove(\"bobby1\")\n",
    "    print (com1.staffs)\n",
    "    print(sta)    #  sta 也被修改了 因为list是可变对象\n",
    "\n",
    "    com2 = Company(\"com2\")\n",
    "    com2.add(\"bobby\")\n",
    "    print(com2.staffs)\n",
    "\n",
    "    print (Company.__init__.__defaults__)  # 打印函数的默认参数的值  __defaults__为函数对象的属性，为函数参数的默认值 元组形式， 没有时为None\n",
    "\n",
    "    com3 = Company(\"com3\")\n",
    "    com3.add(\"bobby5\")\n",
    "    print (com2.staffs, com2.name)   # 因为list是可变对象，所以对list的操作会影响到所有使用了默认list参数类的对象的list值\n",
    "    print (com3.staffs, com3.name)\n",
    "    print (com2.staffs is com3.staffs)\n",
    "    print (Company.__init__.__defaults__)"
   ]
  },
  {
   "cell_type": "code",
   "execution_count": 127,
   "metadata": {},
   "outputs": [
    {
     "name": "stdout",
     "output_type": "stream",
     "text": [
      "(323232326261, [])\n",
      "323232326262\n",
      "323232326261\n",
      "False\n",
      "True\n"
     ]
    }
   ],
   "source": [
    "\"\"\"\n",
    "Python中，__init__函数有默认参数的时候，__defaults__可以看默认值。\n",
    "当类的实例对象使用的是默认参数的时候，\n",
    "这时候，所以的使用默认参数的实例对象使用的 参数 都是指向的同一个对象，就是__init__的默认参数对象\n",
    "参数的类型有两种，可变类型和不可变类型，\n",
    "当都使用的默认参数是可变类型的时候，如list，这时候，只要有一个实例对他的默认list执行了操作，所有使用了默认list的实例对象的list都会改变\n",
    "当都使用的默认参数是不可变类型的时候，虽然所有的实例对象都是使用的同一个对象（即同一个地址），但是操作的时候相互之间是没有影响的，\n",
    "因为是不可变对象，操作的时候，就生成了一个新的对象，所以不可变对象是没有影响的。\n",
    "\n",
    "\n",
    "当然这一切都是建立在 __init__有默认参数，而且实例对象使用的都是默认参数，没有进行传参\n",
    "\"\"\"\n",
    "\n",
    "class A:\n",
    "    def __init__(self, name=323232326261, age=[]):\n",
    "        self.name = name\n",
    "        self.age = age\n",
    "        \n",
    "    def s(self):\n",
    "        self.name = 21\n",
    "        \n",
    "print(A.__init__.__defaults__)\n",
    "a = A()\n",
    "a.name += 1                           \n",
    "print(a.name)\n",
    "# a.s()\n",
    "b = A()\n",
    "print(b.name)\n",
    "print(a.name is b.name)\n",
    "print(a.age is b.age)"
   ]
  },
  {
   "cell_type": "code",
   "execution_count": 109,
   "metadata": {},
   "outputs": [
    {
     "data": {
      "text/plain": [
       "False"
      ]
     },
     "execution_count": 109,
     "metadata": {},
     "output_type": "execute_result"
    }
   ],
   "source": [
    "a = 323232326261\n",
    "b = 323232326261\n",
    "a is b"
   ]
  },
  {
   "cell_type": "code",
   "execution_count": null,
   "metadata": {},
   "outputs": [],
   "source": []
  }
 ],
 "metadata": {
  "kernelspec": {
   "display_name": "Python 3",
   "language": "python",
   "name": "python3"
  },
  "language_info": {
   "codemirror_mode": {
    "name": "ipython",
    "version": 3
   },
   "file_extension": ".py",
   "mimetype": "text/x-python",
   "name": "python",
   "nbconvert_exporter": "python",
   "pygments_lexer": "ipython3",
   "version": "3.7.4"
  }
 },
 "nbformat": 4,
 "nbformat_minor": 4
}
