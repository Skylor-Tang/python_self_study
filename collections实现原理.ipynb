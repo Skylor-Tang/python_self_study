{
 "cells": [
  {
   "cell_type": "markdown",
   "metadata": {},
   "source": [
    "#### 数据统计"
   ]
  },
  {
   "cell_type": "code",
   "execution_count": 5,
   "metadata": {},
   "outputs": [
    {
     "name": "stdout",
     "output_type": "stream",
     "text": [
      "defaultdict(<class 'int'>, {'puppy': 5, 'kitten': 2, 'weasel': 1})\n",
      "Counter({'puppy': 5, 'kitten': 2, 'weasel': 1})\n",
      "{'puppy': 5, 'kitten': 2, 'weasel': 1}\n"
     ]
    }
   ],
   "source": [
    "# 数据处理的时候做数据的统计的时候 \n",
    "# 方式一 defaultdict\n",
    "from collections import defaultdict\n",
    "strings = ('puppy', 'kitten', 'puppy', 'puppy',\n",
    "   'weasel', 'puppy', 'kitten', 'puppy')\n",
    "counts = defaultdict(int)   # counts = defaultdict(lambda: 0) # 使用lambda来定义简单的函数\n",
    "for kw in strings:\n",
    "    counts[kw] += 1\n",
    "print(counts)\n",
    "# 方式二 Counter\n",
    "from collections import Counter\n",
    "counts = Counter(strings)   # Counter({'puppy': 5, 'kitten': 2, 'weasel': 1})\n",
    "print(counts)\n",
    "# 方式三\n",
    "strings = ('puppy', 'kitten', 'puppy', 'puppy',\n",
    "   'weasel', 'puppy', 'kitten', 'puppy')\n",
    "counts = {}\n",
    "for kw in strings:\n",
    "    counts[kw] = counts.setdefault(kw, 0) + 1\n",
    "print(counts)\n",
    "\n",
    "#  以上三种方法都是返回的字典类型，可直接使用字典类型操作"
   ]
  },
  {
   "cell_type": "code",
   "execution_count": null,
   "metadata": {},
   "outputs": [],
   "source": []
  },
  {
   "cell_type": "code",
   "execution_count": null,
   "metadata": {},
   "outputs": [],
   "source": [
    "\"\"\"\n",
    "魔法函数是Python解释器可以直接调用的函数\n",
    "\"\"\""
   ]
  },
  {
   "cell_type": "markdown",
   "metadata": {},
   "source": [
    "### `collections`模块实现"
   ]
  },
  {
   "cell_type": "code",
   "execution_count": null,
   "metadata": {},
   "outputs": [],
   "source": [
    "关于一些类型的位置  \n",
    "collections 中的类型  其中导入了_collections_abc模块  Abstract Base Class（抽象基类）\n",
    "__all__ = ['deque', 'defaultdict', 'namedtuple', 'UserDict', 'UserList',\n",
    "            'UserString', 'Counter', 'OrderedDict', 'ChainMap']\n",
    "\n",
    "'''此模块实现了专门的容器数据类型\n",
    "Python的通用内置容器的替代品，dict，\n",
    "list，set和tuple。\n",
    "\n",
    "* namedtuple工厂函数，用于创建具有命名字段的元组子类\n",
    "* deque list-like容器，两端都有快速附加和弹出\n",
    "* ChainMap类似于dict的类，用于创建多个映射的单个视图\n",
    "* Counter dict子类用于计算可哈希的对象\n",
    "* OrderedDict dict子类记住了订单条目的添加的顺序 \n",
    "* defaultdict dict子类调用工厂函数来提供缺失值   内部实现了__missing__方法\n",
    "* UserDict包装字典对象，以便于dict子类化\n",
    "* UserList包装列表对象，以便于列表子类化\n",
    "* UserString包装字符串对象，以便更容易地进行字符串子类化\n",
    "\n",
    "------------ 实际上是提供了对原有类型的增强------------------\n",
    "namedtuple \n",
    "'''\n",
    "\n",
    "_collections_abc 中 是一些抽象基类 各种类型的抽象基类 即 dict list 这些内置类型的抽象基类，实际上相当于代码说明书，告知内置类型的含有方法。\n",
    "一般要自定义和内置类型一样的类，需要继承实现这些抽象基类（但一般不推荐这么用，都是利用鸭子类型，只具有内置类型的一些特性即可）\n",
    "\n",
    "collections 中是数据结构  abc中是抽象基类--- Abstract Base Class（抽象基类）"
   ]
  },
  {
   "cell_type": "code",
   "execution_count": null,
   "metadata": {},
   "outputs": [],
   "source": [
    "重点是：'deque', 'defaultdict', 'namedtuple', 'Counter', 'OrderedDict', 'ChainMap'  其中最常用的又是'defaultdict', 'namedtuple'类型\n",
    "'UserDict', 'UserList', 'UserString',是Python内置类型的包装类\n",
    "\n",
    "collections.abc中abc的含义abstractbaseclass，抽象基类"
   ]
  },
  {
   "cell_type": "code",
   "execution_count": 3,
   "metadata": {},
   "outputs": [
    {
     "name": "stdout",
     "output_type": "stream",
     "text": [
      "xiaoming\n",
      "[20, 175, 'shanghai']\n"
     ]
    }
   ],
   "source": [
    "'''\n",
    "元组支持拆包，不能修改即tuple[1]=值 是不行的，但是可以用[]取值。\n",
    "\n",
    "'''\n",
    "\n",
    "# 拆包的高级用法 只取前几个值\n",
    "user_tuple = (\"xiaoming\", 20, 175, \"shanghai\")\n",
    "name, *other = user_tuple   # *为序列解包，得到的是list类型的对象\n",
    "print(name)\n",
    "print(other)"
   ]
  },
  {
   "cell_type": "code",
   "execution_count": 13,
   "metadata": {},
   "outputs": [
    {
     "data": {
      "text/plain": [
       "('bobby1', [27, 175, 58])"
      ]
     },
     "execution_count": 13,
     "metadata": {},
     "output_type": "execute_result"
    }
   ],
   "source": [
    "# tuple不可修改，但是当里面有list 这样的元素 是可修改的 是因为数组存的是id, id 没有变 \n",
    "'''但是可变对象建议不要放在tuple中'''\n",
    "name_tuple = ('bobby1', [27,175])\n",
    "name_tuple[1].append(58)\n",
    "name_tuple"
   ]
  },
  {
   "cell_type": "code",
   "execution_count": 20,
   "metadata": {},
   "outputs": [
    {
     "name": "stdout",
     "output_type": "stream",
     "text": [
      "{(1,): 1}\n"
     ]
    }
   ],
   "source": [
    "# tuple比list好的地方 虽然没有list灵活\n",
    "'''\n",
    "1. immutable（不可变）的重要性： \n",
    "        性能优化：指出元素全部为immutable的tuple会作为常量在编译时确定（变成字节码），因此产生了如此显著的速度差异---Python字节码，速度比加载文件快\n",
    "        线程安全：不可变对象，线程对其无法修改\n",
    "        可以作为dict的key:不可变对象的id不变，所以可以hash，而dict的key要求是可哈希\n",
    "        拆包特性: 可拆包\n",
    "        \n",
    "2. 如果要拿c语言来类比，Tuple对应的是struct，而List对应的是array\n",
    "        \n",
    "'''\n",
    "# 元组作为字典的key\n",
    "a = (1,)\n",
    "print(dict([(a,1)]))\n",
    "\n"
   ]
  },
  {
   "cell_type": "markdown",
   "metadata": {},
   "source": [
    "#### `namedtuple`    ----  用以构建只有少数属性，但是没有方法的对象，比如数据库的条目   （相较于一般的类，`namedtuple`所占用的空间较小）"
   ]
  },
  {
   "cell_type": "code",
   "execution_count": 5,
   "metadata": {},
   "outputs": [
    {
     "name": "stdout",
     "output_type": "stream",
     "text": [
      "29 bobby 175\n",
      "<class '__main__.User'>\n"
     ]
    }
   ],
   "source": [
    "# namedtuple  namedtuple本身是个方法，其作用是返回一个tuple的子类\n",
    "from collections import namedtuple\n",
    "\n",
    "User1 = namedtuple(\"User\", [\"name\", \"age\", \"height\"])\n",
    "user = User1(name='bobby', age=29, height=175)\n",
    "print(user.age, user.name, user.height)\n",
    "print(user.__class__)   # 实际上创建的namedtuple类的名字是定义时设置的User，但是创建后仍需使用一个变量接受，且需要使用该变量名去创建类实例 ----   但是一般建议还是保持一致的好，即使用  User = namedtuple(\"User\", [\"name\", \"age\", \"height\"]) 名字一致好"
   ]
  },
  {
   "cell_type": "code",
   "execution_count": 35,
   "metadata": {},
   "outputs": [
    {
     "name": "stdout",
     "output_type": "stream",
     "text": [
      "Returns a new subclass of tuple with named fields.\n",
      "\n",
      "    >>> Point = namedtuple('Point', ['x', 'y'])\n",
      "    >>> Point.__doc__                   # docstring for the new class\n",
      "    'Point(x, y)'\n",
      "    >>> p = Point(11, y=22)             # instantiate with positional args or keywords\n",
      "    >>> p[0] + p[1]                     # indexable like a plain tuple\n",
      "    33\n",
      "    >>> x, y = p                        # unpack like a regular tuple\n",
      "    >>> x, y\n",
      "    (11, 22)\n",
      "    >>> p.x + p.y                       # fields also accessible by name\n",
      "    33\n",
      "    >>> d = p._asdict()                 # convert to a dictionary\n",
      "    >>> d['x']\n",
      "    11\n",
      "    >>> Point(**d)                      # convert from a dictionary\n",
      "    Point(x=11, y=22)\n",
      "    >>> p._replace(x=100)               # _replace() is like str.replace() but targets named fields\n",
      "    Point(x=100, y=22)\n",
      "\n",
      "    \n"
     ]
    }
   ],
   "source": [
    "# namedtuple使用文档\n",
    "print(namedtuple.__doc__)"
   ]
  },
  {
   "cell_type": "code",
   "execution_count": 45,
   "metadata": {},
   "outputs": [
    {
     "name": "stdout",
     "output_type": "stream",
     "text": [
      "bobby\n",
      "User(name='bobby', age=29, height=175, edu='master')\n"
     ]
    }
   ],
   "source": [
    "'''\n",
    "效果类似创建了一个自定义的类\n",
    "class User:\n",
    "    def __init__(self, name, age, height):\n",
    "        pass\n",
    "        \n",
    "namedtuple相比于手动实现子类的好处， \n",
    "是tuple的子类，代码简单\n",
    "namedtuple很省空间，少了class定义时的内部变量的消耗\n",
    "所以在创建简单变量的时候会非常适用\n",
    "\n",
    "将一张user表数据全部取出，然后加一个列\n",
    "mysqlclient pymysql取出的数据就是一个tuple\n",
    "使用namedtuple会很方便      \n",
    "步骤如下  \n",
    "'''\n",
    "User = namedtuple(\"User\", [\"name\", \"age\", \"height\", 'edu'])   # edu为新添的列\n",
    "user_tuple = (\"bobby\", 29, 175)  # 实际上很多驱动，数据库查询出的数据都是元组类型，所以可以使用*user_tuple的方法直接整个传参，省事\n",
    "user = User(*user_tuple,'master') # 可使用元组、列表进行传递 (最好元组，因为*args是元组)    *user_tuple\n",
    "# 同理还可以使用以下的方式，只不过第二个参数edu需要写成关键字参数的形式, \n",
    "# 这是因为直接像之前那样写的话就是位置参数，位置参数一定要在关键字参数之前，\n",
    "# 但是此处使用位置参数在关键字参数之前又是不行的，因为位置参数接受的值必定给了第一个name，而在*user_dict中已经给了name值了\n",
    "# user_dict = {\n",
    "#     name: 'bobby',\n",
    "#     age : 29,\n",
    "#     height : 175\n",
    "# }\n",
    "# user = User(**user_dict, edu='master')\n",
    "# 应为是tuple的子类，所以tuple的方法也同样适用     不是tuple的子类，但是可以完全当做tuple使用\n",
    "print(user[0])\n",
    "print(user)\n"
   ]
  },
  {
   "cell_type": "code",
   "execution_count": 32,
   "metadata": {},
   "outputs": [
    {
     "ename": "SyntaxError",
     "evalue": "positional argument follows keyword argument (<ipython-input-32-51fa3ec1eaf2>, line 8)",
     "output_type": "error",
     "traceback": [
      "\u001b[1;36m  File \u001b[1;32m\"<ipython-input-32-51fa3ec1eaf2>\"\u001b[1;36m, line \u001b[1;32m8\u001b[0m\n\u001b[1;33m    A=a(a=1,1,1)\u001b[0m\n\u001b[1;37m           ^\u001b[0m\n\u001b[1;31mSyntaxError\u001b[0m\u001b[1;31m:\u001b[0m positional argument follows keyword argument\n"
     ]
    }
   ],
   "source": [
    "# 关键字参数一定要在位置参数之后    关键字参数一定在最后，且不能是已经传递过的位置参数\n",
    "class a():\n",
    "    def __init__(self,a,b,c):\n",
    "        self.a = a \n",
    "        self.b = b\n",
    "        self.c = c\n",
    "        print(self.a,'----',self.b,'----',self.c)\n",
    "A=a(a=1,1,1)"
   ]
  },
  {
   "cell_type": "code",
   "execution_count": 50,
   "metadata": {},
   "outputs": [
    {
     "name": "stdout",
     "output_type": "stream",
     "text": [
      "User(name='bobby', age=29, height=175, edu='master')\n"
     ]
    }
   ],
   "source": [
    "# 除了使用一般类实例的创建方法，还可以调用namedtuple的内置_make方法，该方法可接受iterable类型参数，此时\n",
    "\n",
    "'''\n",
    "使用_make()方法的灵活性不足，要求必须传入完整的参数的可迭代对象\n",
    "'''\n",
    "\n",
    "user_tuple = (\"bobby\", 29, 175,'master')  # 但是user_tuple中必须完整的值，完全能对照初始化参数\n",
    "user = User._make(user_tuple) # 不用加*号了    \n",
    "print(user)\n"
   ]
  },
  {
   "cell_type": "code",
   "execution_count": 49,
   "metadata": {},
   "outputs": [
    {
     "name": "stdout",
     "output_type": "stream",
     "text": [
      "OrderedDict([('name', 'bobby'), ('age', 29), ('height', 175), ('edu', 'master')])\n"
     ]
    }
   ],
   "source": [
    "user_info_dict = user._asdict()\n",
    "print(user_info_dict)  # 得到一个OrderedDict对象"
   ]
  },
  {
   "cell_type": "code",
   "execution_count": 12,
   "metadata": {},
   "outputs": [
    {
     "name": "stdout",
     "output_type": "stream",
     "text": [
      "User(name='tester', age='22', id='464643123')\n"
     ]
    }
   ],
   "source": [
    "import collections\n",
    "\n",
    "# 两种方法来给 namedtuple 定义方法名    字段名的使用方式可以是有多个字符串组成的可迭代对象，或者是有空格分隔开的字段名组成的字符串\n",
    "#User = collections.namedtuple('User', ['name', 'age', 'id'])\n",
    "User = collections.namedtuple('User', 'name age id')\n",
    "user = User('tester', '22', '464643123')\n",
    "print(user)\n",
    "# print(user.__dict__)   # 报错  因为namedtuple中不使用__dict__存储实例属性 所以这个类跟普通的对象实例比起来也要小一些\n",
    "\n"
   ]
  },
  {
   "cell_type": "code",
   "execution_count": 13,
   "metadata": {},
   "outputs": [
    {
     "name": "stdout",
     "output_type": "stream",
     "text": [
      "('name', 'sex', 'age')\n",
      "User(name='Runoob', sex='male', age=12)\n",
      "Runoob\n",
      "male\n",
      "12\n",
      "User(name='Runoob', sex='male', age=22)\n",
      "OrderedDict([('name', 'Runoob'), ('sex', 'male'), ('age', 22)])\n"
     ]
    }
   ],
   "source": [
    "# 具名元组的特有属性:\n",
    "\n",
    "# 类属性 _fields：包含这个类所有字段名的元组 类方法 _make(iterable)：接受一个可迭代对象来生产这个类的实例 实例方法 _asdict()：把具名元组以 collections.OrdereDict 的形式返回，可以利用它来把元组里的信息友好的展示出来\n",
    "\n",
    "from collections import namedtuple\n",
    "\n",
    "# 定义一个namedtuple类型User，并包含name，sex和age属性。\n",
    "User = namedtuple('User', ['name', 'sex', 'age'])\n",
    "\n",
    "# 创建一个User对象\n",
    "user = User(name='Runoob', sex='male', age=12)\n",
    "\n",
    "# 获取所有字段名  ----  值为元组形式\n",
    "print( user._fields )\n",
    "\n",
    "# 也可以通过一个list来创建一个User对象，这里注意需要使用\"_make\"方法\n",
    "user = User._make(['Runoob', 'male', 12])\n",
    "\n",
    "print( user )\n",
    "# User(name='user1', sex='male', age=12)\n",
    "\n",
    "# 获取用户的属性\n",
    "print( user.name )\n",
    "print( user.sex )\n",
    "print( user.age )\n",
    "\n",
    "# 修改对象属性，注意要使用\"_replace\"方法\n",
    "user = user._replace(age=22)\n",
    "print( user )\n",
    "# User(name='user1', sex='male', age=21)\n",
    "\n",
    "# 将User对象转换成字典，注意要使用\"_asdict\"\n",
    "print( user._asdict() )\n",
    "# OrderedDict([('name', 'Runoob'), ('sex', 'male'), ('age', 22)])"
   ]
  },
  {
   "cell_type": "code",
   "execution_count": null,
   "metadata": {},
   "outputs": [],
   "source": []
  },
  {
   "cell_type": "code",
   "execution_count": null,
   "metadata": {},
   "outputs": [],
   "source": []
  },
  {
   "cell_type": "markdown",
   "metadata": {},
   "source": [
    "#### `defaultdict`    ----   实现了`__missing__`方法"
   ]
  },
  {
   "cell_type": "code",
   "execution_count": 52,
   "metadata": {},
   "outputs": [
    {
     "data": {
      "text/plain": [
       "defaultdict(int, {'puppy': 5, 'kitten': 2, 'weasel': 1})"
      ]
     },
     "execution_count": 52,
     "metadata": {},
     "output_type": "execute_result"
    }
   ],
   "source": [
    "# 使用 defaultdict实现 统计单词个数    ----   使用defaultdict，可以简化逻辑\n",
    "from collections import defaultdict\n",
    "strings = ('puppy', 'kitten', 'puppy', 'puppy',\n",
    "   'weasel', 'puppy', 'kitten', 'puppy')\n",
    "counts = defaultdict(int)   # counts = defaultdict(lambda: 0) # 使用lambda来定义简单的函数\n",
    "for kw in strings:\n",
    "    counts[kw] += 1\n",
    "counts"
   ]
  },
  {
   "cell_type": "code",
   "execution_count": 58,
   "metadata": {},
   "outputs": [
    {
     "name": "stdout",
     "output_type": "stream",
     "text": [
      "defaultdict(<function gen_default at 0x000001F34BE43840>, {'groupe1': {'name': '', 'age': 0}})\n"
     ]
    }
   ],
   "source": [
    "# 还可以接受函数，构造更加复杂的字典\n",
    "def gen_default():\n",
    "    return {\n",
    "        \"name\":'',\n",
    "        \"age\":0 ,\n",
    "    }\n",
    "default_dict = defaultdict(gen_default)\n",
    "default_dict[\"groupe1\"]\n",
    "print(default_dict)"
   ]
  },
  {
   "cell_type": "code",
   "execution_count": null,
   "metadata": {},
   "outputs": [],
   "source": []
  },
  {
   "cell_type": "code",
   "execution_count": null,
   "metadata": {},
   "outputs": [],
   "source": []
  },
  {
   "cell_type": "markdown",
   "metadata": {},
   "source": [
    "#### `queue`"
   ]
  },
  {
   "cell_type": "code",
   "execution_count": 89,
   "metadata": {},
   "outputs": [
    {
     "name": "stdout",
     "output_type": "stream",
     "text": [
      "deque(['a', 'b'])\n"
     ]
    }
   ],
   "source": [
    "# list 中只有pop函数，用于将指定下标的数据弹出，并返回该值，没有指定index的时候，默认最后一个\n",
    "from collections import deque\n",
    "\n",
    "# 一个tuple中的内容我们一般当做是一个对象来使用的，即是一个有某种意义的整体\n",
    "# 而list、deque我们当做容器，里面存储一类东西\n",
    "# 所以deque也和list一样用来保存一种类型的数据 --- 良好的变成习惯\n",
    "user_deque = deque([\"a\", \"b\"])  # 接受一个iterable作为初始化对象\n",
    "# user_deque.appendleft(\"c\")   # 放到队列头部\n",
    "print(user_deque) # 得到一个双端列表   deque(['c', 'a', 'b'])"
   ]
  },
  {
   "cell_type": "code",
   "execution_count": 90,
   "metadata": {},
   "outputs": [
    {
     "name": "stdout",
     "output_type": "stream",
     "text": [
      "deque(['c', 'a', 'b'])\n"
     ]
    }
   ],
   "source": [
    "user_deque.appendleft(\"c\")   # 放到队列头部\n",
    "print(user_deque)"
   ]
  },
  {
   "cell_type": "code",
   "execution_count": 91,
   "metadata": {},
   "outputs": [
    {
     "name": "stdout",
     "output_type": "stream",
     "text": [
      "2144462950472 2144462950576\n"
     ]
    }
   ],
   "source": [
    "# copy  是一个浅拷贝 当某个元素是可变类型的时候，浅拷贝的时候就是指向给可变类型 如list\n",
    "user_deque_copy = user_deque.copy()\n",
    "print(id(user_deque), id(user_deque_copy))   # id不一样，copy成功\n",
    "\n"
   ]
  },
  {
   "cell_type": "code",
   "execution_count": null,
   "metadata": {},
   "outputs": [],
   "source": [
    "# insert   extend方法都和list一致 \n",
    "# reverser()也是list一样，都是调用reverse是永久性的操作，但是调用reversed()方法的时候不是，调用该方法的时候实际上是调用的__reversed__魔法函数，\n",
    "# 该方法内 返回得到的是可迭代对象"
   ]
  },
  {
   "cell_type": "code",
   "execution_count": 97,
   "metadata": {},
   "outputs": [
    {
     "data": {
      "text/plain": [
       "deque(['b', 'c', 'a'])"
      ]
     },
     "execution_count": 97,
     "metadata": {},
     "output_type": "execute_result"
    }
   ],
   "source": [
    "# rotate 翻转  向右旋转deque n步（默认n = 1）。 如果n为负数，则向左旋转\n",
    "user_deque = deque([\"a\", \"b\", 'c']) \n",
    "user_deque.rotate(-1)\n",
    "user_deque"
   ]
  },
  {
   "cell_type": "code",
   "execution_count": null,
   "metadata": {},
   "outputs": [],
   "source": [
    "# deque的具体应用场景\n",
    "from queue import  Queue\n",
    "# 其内部是使用双端队列queue实现的\n",
    "\n",
    "# 特性：deque是线程安全的（GIL保护），list是线程不安全的"
   ]
  },
  {
   "cell_type": "code",
   "execution_count": null,
   "metadata": {},
   "outputs": [],
   "source": []
  },
  {
   "cell_type": "code",
   "execution_count": null,
   "metadata": {},
   "outputs": [],
   "source": []
  },
  {
   "cell_type": "markdown",
   "metadata": {},
   "source": [
    "#### `Counter`"
   ]
  },
  {
   "cell_type": "code",
   "execution_count": 98,
   "metadata": {},
   "outputs": [
    {
     "name": "stdout",
     "output_type": "stream",
     "text": [
      "Counter({'xiaoming1': 2, 'xiaoming2': 1, 'xiaoming3': 1})\n"
     ]
    }
   ],
   "source": [
    "# 统计功能\n",
    "from collections import Counter\n",
    "\n",
    "users = [\"xiaoming1\", \"xiaoming1\", \"xiaoming2\", \"xiaoming3\"]\n",
    "user_counter = Counter(users)  # 接受可迭代对象\n",
    "print(user_counter)  #Counter({'xiaoming1': 2, 'xiaoming2': 1, 'xiaoming3': 1})直接完成统计，且按照个数从大到小排列"
   ]
  },
  {
   "cell_type": "code",
   "execution_count": 185,
   "metadata": {},
   "outputs": [
    {
     "ename": "TypeError",
     "evalue": "unhashable type: 'list'",
     "output_type": "error",
     "traceback": [
      "\u001b[1;31m---------------------------------------------------------------------------\u001b[0m",
      "\u001b[1;31mTypeError\u001b[0m                                 Traceback (most recent call last)",
      "\u001b[1;32m<ipython-input-185-f263e0570996>\u001b[0m in \u001b[0;36m<module>\u001b[1;34m\u001b[0m\n\u001b[1;32m----> 1\u001b[1;33m \u001b[0mCounter\u001b[0m\u001b[1;33m(\u001b[0m\u001b[1;33m[\u001b[0m\u001b[1;36m1\u001b[0m\u001b[1;33m,\u001b[0m\u001b[1;33m[\u001b[0m\u001b[1;36m1\u001b[0m\u001b[1;33m,\u001b[0m\u001b[1;36m4\u001b[0m\u001b[1;33m]\u001b[0m\u001b[1;33m]\u001b[0m\u001b[1;33m)\u001b[0m\u001b[1;33m\u001b[0m\u001b[1;33m\u001b[0m\u001b[0m\n\u001b[0m",
      "\u001b[1;32m~\\Anaconda3\\lib\\collections\\__init__.py\u001b[0m in \u001b[0;36m__init__\u001b[1;34m(*args, **kwds)\u001b[0m\n\u001b[0;32m    564\u001b[0m             \u001b[1;32mraise\u001b[0m \u001b[0mTypeError\u001b[0m\u001b[1;33m(\u001b[0m\u001b[1;34m'expected at most 1 arguments, got %d'\u001b[0m \u001b[1;33m%\u001b[0m \u001b[0mlen\u001b[0m\u001b[1;33m(\u001b[0m\u001b[0margs\u001b[0m\u001b[1;33m)\u001b[0m\u001b[1;33m)\u001b[0m\u001b[1;33m\u001b[0m\u001b[1;33m\u001b[0m\u001b[0m\n\u001b[0;32m    565\u001b[0m         \u001b[0msuper\u001b[0m\u001b[1;33m(\u001b[0m\u001b[0mCounter\u001b[0m\u001b[1;33m,\u001b[0m \u001b[0mself\u001b[0m\u001b[1;33m)\u001b[0m\u001b[1;33m.\u001b[0m\u001b[0m__init__\u001b[0m\u001b[1;33m(\u001b[0m\u001b[1;33m)\u001b[0m\u001b[1;33m\u001b[0m\u001b[1;33m\u001b[0m\u001b[0m\n\u001b[1;32m--> 566\u001b[1;33m         \u001b[0mself\u001b[0m\u001b[1;33m.\u001b[0m\u001b[0mupdate\u001b[0m\u001b[1;33m(\u001b[0m\u001b[1;33m*\u001b[0m\u001b[0margs\u001b[0m\u001b[1;33m,\u001b[0m \u001b[1;33m**\u001b[0m\u001b[0mkwds\u001b[0m\u001b[1;33m)\u001b[0m\u001b[1;33m\u001b[0m\u001b[1;33m\u001b[0m\u001b[0m\n\u001b[0m\u001b[0;32m    567\u001b[0m \u001b[1;33m\u001b[0m\u001b[0m\n\u001b[0;32m    568\u001b[0m     \u001b[1;32mdef\u001b[0m \u001b[0m__missing__\u001b[0m\u001b[1;33m(\u001b[0m\u001b[0mself\u001b[0m\u001b[1;33m,\u001b[0m \u001b[0mkey\u001b[0m\u001b[1;33m)\u001b[0m\u001b[1;33m:\u001b[0m\u001b[1;33m\u001b[0m\u001b[1;33m\u001b[0m\u001b[0m\n",
      "\u001b[1;32m~\\Anaconda3\\lib\\collections\\__init__.py\u001b[0m in \u001b[0;36mupdate\u001b[1;34m(*args, **kwds)\u001b[0m\n\u001b[0;32m    651\u001b[0m                     \u001b[0msuper\u001b[0m\u001b[1;33m(\u001b[0m\u001b[0mCounter\u001b[0m\u001b[1;33m,\u001b[0m \u001b[0mself\u001b[0m\u001b[1;33m)\u001b[0m\u001b[1;33m.\u001b[0m\u001b[0mupdate\u001b[0m\u001b[1;33m(\u001b[0m\u001b[0miterable\u001b[0m\u001b[1;33m)\u001b[0m \u001b[1;31m# fast path when counter is empty\u001b[0m\u001b[1;33m\u001b[0m\u001b[1;33m\u001b[0m\u001b[0m\n\u001b[0;32m    652\u001b[0m             \u001b[1;32melse\u001b[0m\u001b[1;33m:\u001b[0m\u001b[1;33m\u001b[0m\u001b[1;33m\u001b[0m\u001b[0m\n\u001b[1;32m--> 653\u001b[1;33m                 \u001b[0m_count_elements\u001b[0m\u001b[1;33m(\u001b[0m\u001b[0mself\u001b[0m\u001b[1;33m,\u001b[0m \u001b[0miterable\u001b[0m\u001b[1;33m)\u001b[0m\u001b[1;33m\u001b[0m\u001b[1;33m\u001b[0m\u001b[0m\n\u001b[0m\u001b[0;32m    654\u001b[0m         \u001b[1;32mif\u001b[0m \u001b[0mkwds\u001b[0m\u001b[1;33m:\u001b[0m\u001b[1;33m\u001b[0m\u001b[1;33m\u001b[0m\u001b[0m\n\u001b[0;32m    655\u001b[0m             \u001b[0mself\u001b[0m\u001b[1;33m.\u001b[0m\u001b[0mupdate\u001b[0m\u001b[1;33m(\u001b[0m\u001b[0mkwds\u001b[0m\u001b[1;33m)\u001b[0m\u001b[1;33m\u001b[0m\u001b[1;33m\u001b[0m\u001b[0m\n",
      "\u001b[1;31mTypeError\u001b[0m: unhashable type: 'list'"
     ]
    }
   ],
   "source": [
    "\"\"\"\n",
    "注意，统计的时候因为其中的元素要作为统计后的字典的key，而字典的key又要求是\n",
    "可哈希的，所以像下面这样就是不对的，[1,4]list对象是不可哈希的，所以不行\n",
    "\"\"\"\n",
    "Counter([1,[1,4]])  "
   ]
  },
  {
   "cell_type": "code",
   "execution_count": 176,
   "metadata": {},
   "outputs": [
    {
     "name": "stdout",
     "output_type": "stream",
     "text": [
      "Counter({' ': 3, 'i': 2, 's': 2, 'a': 2, 'p': 2, 't': 1, 'h': 1, 'n': 1, 'l': 1, 'e': 1})\n"
     ]
    }
   ],
   "source": [
    "# 当闯入字符串类型 str的时候也是可以统计字符串中各字母的数量的\n",
    "letter_count = Counter(\"this is an apple\")\n",
    "print(letter_count)"
   ]
  },
  {
   "cell_type": "code",
   "execution_count": 177,
   "metadata": {},
   "outputs": [
    {
     "name": "stdout",
     "output_type": "stream",
     "text": [
      "Counter({'f': 4, ' ': 3, 'i': 2, 's': 2, 'a': 2, 'p': 2, 1: 2, 't': 1, 'h': 1, 'n': 1, 'l': 1, 'e': 1})\n"
     ]
    }
   ],
   "source": [
    "# Counter可以使用update方法接受任何可迭代对象，但是不能添加字典，添加字典的时候则直接将字典添加现有的统计中 \n",
    "# 因为在Counter的update的设计中，Counter本身也是dict对象，和添加的{1:2, 'f':4}就是同一个性质， 在处理Counter对象的时候都是直接加进去的\n",
    "letter_count.update({1:2, 'f':4})\n",
    "print(letter_count)\n"
   ]
  },
  {
   "cell_type": "code",
   "execution_count": 179,
   "metadata": {},
   "outputs": [
    {
     "data": {
      "text/plain": [
       "4"
      ]
     },
     "execution_count": 179,
     "metadata": {},
     "output_type": "execute_result"
    }
   ],
   "source": [
    "# Counter的update的用法\n",
    "c = Counter('which')\n",
    "c.update('witch')           \n",
    "d = Counter('watch')\n",
    "c.update(d)                \n",
    "c['h']                      "
   ]
  },
  {
   "cell_type": "code",
   "execution_count": 148,
   "metadata": {},
   "outputs": [
    {
     "data": {
      "text/plain": [
       "{1: 3, 'a': 4}"
      ]
     },
     "execution_count": 148,
     "metadata": {},
     "output_type": "execute_result"
    }
   ],
   "source": [
    "# Counter的update方法和dict类型的update方法可添加的内容不一样\n",
    "# dict 的 update只能接受字典类型，像以下这样使用\n",
    "dictA = dict({1:32})\n",
    "dictA.update([(1,3)],a=4)\n",
    "dictA"
   ]
  },
  {
   "cell_type": "code",
   "execution_count": 180,
   "metadata": {},
   "outputs": [],
   "source": [
    "# Counter的update方法\n",
    "def update(*args, **kwds):\n",
    "    if not args:\n",
    "        raise TypeError(\"descriptor 'update' of 'Counter' object \"\n",
    "                        \"needs an argument\")\n",
    "    self, *args = args\n",
    "    if len(args) > 1:\n",
    "        raise TypeError('expected at most 1 arguments, got %d' % len(args))\n",
    "    iterable = args[0] if args else None\n",
    "    if iterable is not None:\n",
    "        if isinstance(iterable, _collections_abc.Mapping):\n",
    "            if self:\n",
    "                self_get = self.get\n",
    "                for elem, count in iterable.items():\n",
    "                    self[elem] = count + self_get(elem, 0)\n",
    "            else:\n",
    "                super(Counter, self).update(iterable) # fast path when counter is empty\n",
    "        else:\n",
    "            _count_elements(self, iterable)\n",
    "    if kwds:\n",
    "        self.update(kwds)\n",
    "                       \n",
    "def _count_elements(mapping, iterable):\n",
    "    'Tally elements from the iterable.'\n",
    "    mapping_get = mapping.get\n",
    "    for elem in iterable:\n",
    "        mapping[elem] = mapping_get(elem, 0) + 1"
   ]
  },
  {
   "cell_type": "code",
   "execution_count": 214,
   "metadata": {},
   "outputs": [
    {
     "name": "stdout",
     "output_type": "stream",
     "text": [
      "Counter({' ': 3, 'i': 2, 's': 2, 'a': 2, 'p': 2, 't': 1, 'h': 1, 'n': 1, 'l': 1, 'e': 1})\n",
      "个数最多的前两个：\n",
      "[(' ', 3), ('i', 2)]\n"
     ]
    },
    {
     "data": {
      "text/plain": [
       "dict_items([('t', 1), ('h', 1), ('i', 2), ('s', 2), (' ', 3), ('a', 2), ('n', 1), ('p', 2), ('l', 1), ('e', 1)])"
      ]
     },
     "execution_count": 214,
     "metadata": {},
     "output_type": "execute_result"
    }
   ],
   "source": [
    "# Counter.most_common(n) 返回个数最多的前n个元素\n",
    "# top n 的问题\n",
    "letter_count = Counter(\"this is an apple\")\n",
    "print(letter_count)\n",
    "print(\"个数最多的前两个：\")\n",
    "print(letter_count.most_common(2))  # 返回值是list类型，为元组列表，这样的好处是可解包for循环\n",
    "\n",
    "letter_count.items()"
   ]
  },
  {
   "cell_type": "code",
   "execution_count": 200,
   "metadata": {},
   "outputs": [
    {
     "data": {
      "text/plain": [
       "4"
      ]
     },
     "execution_count": 200,
     "metadata": {},
     "output_type": "execute_result"
    }
   ],
   "source": [
    "# Counter的most_common方法\n",
    "def most_common(self, n=None):   \n",
    "    if n is None:  # most_count没有传递个数参数的时候，默认 返回所有的\n",
    "        return sorted(self.items(), key=_itemgetter(1), reverse=True)  # items使用的是字典中定义的  \n",
    "    # 此处的_itemgetter是从 from operator import itemgetter as _itemgetter 中来的\n",
    "    return _heapq.nlargest(n, self.items(), key=_itemgetter(1))  # 使用的是Python的堆栈   import heapq as _heapq\n",
    "\n",
    "\n",
    "\"\"\"\n",
    "排序函数 sorted(iterable[, cmp[, key[, reverse]]])  https://www.cnblogs.com/100thMountain/p/4719503.html\n",
    "\n",
    "sorted中的key是确定iterable参数排序的部分\n",
    "cmp方法是定义比较的方法\n",
    "\n",
    "\n",
    "itemgetter()方法  定义一个函数，该函数实现的功能是获得某个对象的指定域的值：\n",
    "a = [1,2,3] \n",
    ">>> b=operator.itemgetter(1)      //定义函数b，获取对象的第1个域的值\n",
    ">>> b(a) \n",
    "2 \n",
    ">>> b=operator.itemgetter(1,0)  //定义函数b，获取对象的第1个域和第0个的值\n",
    ">>> b(a) \n",
    "(2, 1)\n",
    "\n",
    "要注意，operator.itemgetter得到的是一个函数，通过该函数作用到对象上才能获取值。\n",
    "\"\"\"\n",
    "from operator import itemgetter \n",
    "c = itemgetter('key')     # 即使字典也可以\n",
    "c({\"key\":4})"
   ]
  },
  {
   "cell_type": "code",
   "execution_count": null,
   "metadata": {},
   "outputs": [],
   "source": [
    "\"\"\"\n",
    "import heapq 是Python中的堆数据结构\n",
    "在处理数据的过程中用的比较多   \n",
    "是专门用来处理top n  的问题的 性能比我们自己自己遍历一遍的性能要高很多\n",
    "\n",
    "Python手动实现队列和栈  https://www.cnblogs.com/shenbuer/p/7841626.html\n",
    "\"\"\""
   ]
  },
  {
   "cell_type": "code",
   "execution_count": 227,
   "metadata": {},
   "outputs": [
    {
     "name": "stdout",
     "output_type": "stream",
     "text": [
      "2144460679496\n",
      "2144460680840\n"
     ]
    },
    {
     "data": {
      "text/plain": [
       "'Remove first occurrence of value.\\n\\nRaises ValueError if the value is not present.'"
      ]
     },
     "execution_count": 227,
     "metadata": {},
     "output_type": "execute_result"
    }
   ],
   "source": [
    "a = list()\n",
    "b = list()\n",
    "print(id(a))\n",
    "print(id(b))\n",
    "a == b\n",
    "list.remove.__doc__"
   ]
  },
  {
   "cell_type": "code",
   "execution_count": 168,
   "metadata": {},
   "outputs": [
    {
     "name": "stdout",
     "output_type": "stream",
     "text": [
      "1:2\n"
     ]
    }
   ],
   "source": [
    "dict({1:2}).items()  # 字典的items得到的是元组列表   可以使用 for 循环 解包\n",
    "for key, value in dict({1:2}).items():\n",
    "    print(f\"{key}:{value}\")"
   ]
  },
  {
   "cell_type": "code",
   "execution_count": null,
   "metadata": {},
   "outputs": [],
   "source": []
  },
  {
   "cell_type": "code",
   "execution_count": 42,
   "metadata": {},
   "outputs": [
    {
     "ename": "IndexError",
     "evalue": "pop index out of range",
     "output_type": "error",
     "traceback": [
      "\u001b[1;31m---------------------------------------------------------------------------\u001b[0m",
      "\u001b[1;31mIndexError\u001b[0m                                Traceback (most recent call last)",
      "\u001b[1;32m<ipython-input-42-528e5e9cb880>\u001b[0m in \u001b[0;36m<module>\u001b[1;34m\u001b[0m\n\u001b[1;32m----> 1\u001b[1;33m \u001b[0mlist\u001b[0m\u001b[1;33m(\u001b[0m\u001b[1;34m\"12345\"\u001b[0m\u001b[1;33m)\u001b[0m\u001b[1;33m.\u001b[0m\u001b[0mpop\u001b[0m\u001b[1;33m(\u001b[0m\u001b[1;36m29\u001b[0m\u001b[1;33m)\u001b[0m\u001b[1;33m\u001b[0m\u001b[1;33m\u001b[0m\u001b[0m\n\u001b[0m",
      "\u001b[1;31mIndexError\u001b[0m: pop index out of range"
     ]
    }
   ],
   "source": [
    "list(\"12345\").pop(29)"
   ]
  },
  {
   "cell_type": "markdown",
   "metadata": {},
   "source": [
    "#### `OrderedDict`------  更加接近`dict`类型的实现，可以看到`dict`的实现原理    \n",
    "不好说： dict字典是底层实现 OrderedDict是中有堆  再看"
   ]
  },
  {
   "cell_type": "code",
   "execution_count": 43,
   "metadata": {},
   "outputs": [
    {
     "name": "stdout",
     "output_type": "stream",
     "text": [
      "OrderedDict([('b', 'bobby2'), ('a', 'bobby1'), ('c', 'bobby3')])\n",
      "('b', 'bobby2')\n",
      "该项不存在\n"
     ]
    }
   ],
   "source": [
    "from collections import OrderedDict\n",
    "\n",
    "# 继承自dict，是dict的子类，继承dict的全部方法\n",
    "user_dict = OrderedDict()\n",
    "user_dict[\"b\"] = \"bobby2\"\n",
    "user_dict[\"a\"] = \"bobby1\"\n",
    "user_dict[\"c\"] = \"bobby3\"\n",
    "print(user_dict)  # OrderedDict([('b', 'bobby2'), ('a', 'bobby1'), ('c', 'bobby3')])保留的是装载时的顺序\n",
    "\n",
    "# dict的有序 是指 按照添加的顺序， 先添加在前面，后添加的在后面\n",
    "# python3.6后dict和OrderedDict一样是有序的\n",
    "\n",
    "last = user_dict.popitem(last=False) # 有默认参数last为True 从尾部开始删除 dict的popitem()没有该参数，只能从尾部删除\n",
    "print(last)\n",
    "\n",
    "poplast = user_dict.pop(4, \"该项不存在\")\n",
    "print(poplast)"
   ]
  },
  {
   "cell_type": "code",
   "execution_count": 44,
   "metadata": {},
   "outputs": [],
   "source": [
    "# OrderedDict的pop方法实现原理\n",
    "\n",
    "__marker = object()\n",
    "def pop(self, key, default=__marker):\n",
    "    '''od.pop(k[,d]) -> v, remove specified key and return the corresponding\n",
    "    value.  If key is not found, d is returned if given, otherwise KeyError\n",
    "    is raised.\n",
    "    '''\n",
    "    if key in self:\n",
    "        result = self[key]\n",
    "        del self[key]\n",
    "        return result\n",
    "    if default is self.__marker:\n",
    "        raise KeyError(key)\n",
    "    return default"
   ]
  },
  {
   "cell_type": "code",
   "execution_count": 45,
   "metadata": {},
   "outputs": [
    {
     "name": "stdout",
     "output_type": "stream",
     "text": [
      "没移动之前：OrderedDict([('b', 'bobby2'), ('a', 'bobby1'), ('c', 'bobby3')])\n",
      "移动之后：OrderedDict([('a', 'bobby1'), ('c', 'bobby3'), ('b', 'bobby2')])\n"
     ]
    }
   ],
   "source": [
    "user_dict = OrderedDict()\n",
    "user_dict[\"b\"] = \"bobby2\"\n",
    "user_dict[\"a\"] = \"bobby1\"\n",
    "user_dict[\"c\"] = \"bobby3\"\n",
    "print(f\"没移动之前：{user_dict}\")\n",
    "user_dict.move_to_end(\"b\") # 方法没有返回值\n",
    "print(f\"移动之后：{user_dict}\")"
   ]
  },
  {
   "cell_type": "code",
   "execution_count": null,
   "metadata": {},
   "outputs": [],
   "source": []
  },
  {
   "cell_type": "markdown",
   "metadata": {},
   "source": [
    "#### `ChainMap`   ------  让我们访问多个`dict`的时候能像访问一个`dict`一样来进行操作，因为对`ChainMap`的操作会直接反应到原始`dict`上。"
   ]
  },
  {
   "cell_type": "code",
   "execution_count": 46,
   "metadata": {},
   "outputs": [
    {
     "name": "stdout",
     "output_type": "stream",
     "text": [
      "ChainMap({'a': 'bobby1', 'b': 'bobby2'}, {'c': 'bobby2', 'd': 'bobby3'})\n",
      "c bobby2\n",
      "d bobby3\n",
      "a bobby1\n",
      "b bobby2\n"
     ]
    }
   ],
   "source": [
    "from collections import ChainMap\n",
    "\n",
    "user_dict1 = {\"a\": \"bobby1\", \"b\": \"bobby2\"}\n",
    "user_dict2 = {\"c\": \"bobby2\", \"d\": \"bobby3\"}\n",
    "new_dict = ChainMap(user_dict1, user_dict2)\n",
    "# ChainMap({'a': 'bobby1', 'b': 'bobby2'}, {'c': 'bobby2', 'd': 'bobby3'})\n",
    "# 得到的类型和dict的抽象基类一样，所以也具有一些dict类似的方法\n",
    "print(new_dict)  # 两个dict合并为一个dict，当做一个dict处理\n",
    "\n",
    "for key, value in new_dict.items():\n",
    "    print(key, value)"
   ]
  },
  {
   "cell_type": "code",
   "execution_count": 53,
   "metadata": {},
   "outputs": [
    {
     "name": "stdout",
     "output_type": "stream",
     "text": [
      "ChainMap({'a': 'bobby1', 'b': 'bobby3'}, {'b': 'bobby4', 'd': 'bobby3'})\n",
      "b bobby3\n",
      "d bobby3\n",
      "a bobby1\n"
     ]
    }
   ],
   "source": [
    "# 当两个待合并的dict中有一样的元素的时候，能够正常使用，但是for循环的时候，只会打印一个重复的那一项\n",
    "user_dict1 = {\"a\": \"bobby1\", \"b\": \"bobby3\"}\n",
    "user_dict2 = {\"b\": \"bobby4\", \"d\": \"bobby3\"}\n",
    "new_dict = ChainMap(user_dict1, user_dict2)\n",
    "print(new_dict)\n",
    "for key, value in new_dict.items(): \n",
    "    print(key, value)"
   ]
  },
  {
   "cell_type": "code",
   "execution_count": 3,
   "metadata": {},
   "outputs": [
    {
     "name": "stdout",
     "output_type": "stream",
     "text": [
      "2681022571296\n",
      "2681022541952\n",
      "2681022571296\n",
      "ChainMap({'c': 'cc'}, {'a': 'bobby1', 'b': 'bobby2'}, {'b': 'bobby3', 'd': 'bobby3'})\n"
     ]
    }
   ],
   "source": [
    "# 动态添加新的字典，构成新的ChainMap，不改变原有的ChainMap\n",
    "user_dict1 = {\"a\": \"bobby1\", \"b\": \"bobby2\"}\n",
    "user_dict2 = {\"b\": \"bobby3\", \"d\": \"bobby3\"}\n",
    "new_dict = ChainMap(user_dict1, user_dict2)\n",
    "print(id(new_dict))\n",
    "# 动态添加字典，在字典前插入一个新的字典，参数为空：插入一个空的字典。\n",
    "# 参数不为空，插入第一个位置。但是只是生成一个新的ChainMap，不会改变原有的ChainMap\n",
    "print(id(new_dict.new_child({\"c\":\"cc\"})))\n",
    "print(id(new_dict))\n",
    "print(new_dict.new_child({\"c\":\"cc\"}))"
   ]
  },
  {
   "cell_type": "code",
   "execution_count": 5,
   "metadata": {},
   "outputs": [
    {
     "name": "stdout",
     "output_type": "stream",
     "text": [
      "[{'a': 'bobby1', 'b': 'bobby2'}, {'b': 'bobby3', 'd': 'bobby3'}]\n",
      "ChainMap({'a': 'hahaha', 'b': 'bobby2'}, {'b': 'bobby3', 'd': 'bobby3'})\n",
      "原始数据发生了改变： {'a': 'hahaha', 'b': 'bobby2'}\n"
     ]
    }
   ],
   "source": [
    "user_dict1 = {\"a\": \"bobby1\", \"b\": \"bobby2\"}\n",
    "user_dict2 = {\"b\": \"bobby3\", \"d\": \"bobby3\"}\n",
    "new_dict = ChainMap(user_dict1, user_dict2)\n",
    "# maps属性 :把ChainMap对象转化为list对象，可以被访问和修改。\n",
    "print(new_dict.maps)\n",
    "# 注意maps是指向ChainMap中的数据的，而不是数据的拷贝，即对maps的列表进行改变会改变ChainMap中的数据\n",
    "new_dict.maps[0][\"a\"] = \"hahaha\"\n",
    "print(new_dict)\n",
    "# 另外ChainMap()只是在user_dict1和user_dict2上加了一层迭代器，并不是对这两个数据的拷贝，对数据的操作，也会改变原始数据\n",
    "print(\"原始数据发生了改变：\",user_dict1)  # 可见，原始数据也发生了变化\n",
    "\n",
    "# 总结：所以ChainMap的作用就是，让我们访问多个dict的时候能像访问一个dict一样来进行操作，\n",
    "# 因为对ChainMap的操作会直接反应到原始dict上。\n"
   ]
  }
 ],
 "metadata": {
  "kernelspec": {
   "display_name": "Python 3",
   "language": "python",
   "name": "python3"
  },
  "language_info": {
   "codemirror_mode": {
    "name": "ipython",
    "version": 3
   },
   "file_extension": ".py",
   "mimetype": "text/x-python",
   "name": "python",
   "nbconvert_exporter": "python",
   "pygments_lexer": "ipython3",
   "version": "3.7.2"
  }
 },
 "nbformat": 4,
 "nbformat_minor": 2
}
