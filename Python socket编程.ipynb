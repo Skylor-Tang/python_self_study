{
 "cells": [
  {
   "cell_type": "code",
   "execution_count": null,
   "metadata": {},
   "outputs": [],
   "source": [
    "# 10-1 弄懂 HTTP、Socket、TCP 这几个概念\n",
    "\n",
    "《Tcp/Ip详解 卷一：协议》\n",
    "五层网络模型（实际7层）：应用层 --> 传输层 --> 网络层 --> 数据链路层 --> 物理层\n",
    "socket是操作系统提供的api，使得我们能够直接使用传输层以及传输层以下的内容， 而我们自己实现的内容则相当于是应用层的协议（自己实现的新协议）\n",
    "socket本身不属于网络模型，他是使得我们自定义的应用层协议能够与传输层（tcp）打交道的api  在其之上实现我们自己的新应用层协议\n",
    "而我们设计的聊天工具就相当于一个聊天协议\n",
    "socket底层的tcp协议有个特性是 两者协议一旦建立好，则a就可以随时向b发，b也可以向a发，不主动断开是不会自行断开的\n",
    "网站中的 消息提醒 实时聊天 功能实际都是基于 WebSocket来完成的-- 实际也是一个socket链接（tcp协议）"
   ]
  },
  {
   "cell_type": "code",
   "execution_count": null,
   "metadata": {},
   "outputs": [],
   "source": []
  },
  {
   "cell_type": "code",
   "execution_count": null,
   "metadata": {},
   "outputs": [],
   "source": [
    "# 10-2 socket实现 client 和 server 的通信\n",
    "\n",
    "'''server端：'''\n",
    "import socket\n",
    "\n",
    "server = socket.socket(socket.AF_INET,socket.SOCK_STREAM)   # 指明socket的连接类型和连接协议   服务器到服务器的连接类型：socket.AF_INET iPv4  AF_INET6 iPv6     连接协议：SOCK_STREAM tcp协议  SOCK_DGRAM udp协议\n",
    "server.bind(('0.0.0.0', 8000))    # 绑定ip地址和端口， 必须是tuple类型\n",
    "server.listen()   # 监听\n",
    "\n",
    "sock, addr = server.accept()     # sock = socket(self.family, self.type, self.proto, fileno=fd)\n",
    "print(sock)          #  <socket.socket fd=540, family=AddressFamily.AF_INET, type=SocketKind.SOCK_STREAM, proto=0, laddr=('127.0.0.1', 8000), raddr=('127.0.0.1', 62139)>\n",
    "print(addr)          #  ('127.0.0.1', 62139)\n",
    "# 获取从客户端发送的数据\n",
    "# 一次获取1k数据\n",
    "data = sock.recv(1024)\n",
    "print(data.decode(\"utf8\"))   # 得到的是二进制数据，要进行解码\n",
    "sock.send(f\"hello,{data.decode('utf8')}\".encode(\"utf-8\"))  # 发送数据\n",
    "# 真正的是不可能将 server close的\n",
    "server.close()\n",
    "sock.close()\n",
    "          \n",
    "          \n",
    "'''client端：'''      \n",
    "import socket\n",
    "client = socket.socket(socket.AF_INET,socket.SOCK_STREAM)\n",
    "client.connect(('127.0.0.1', 8000))\n",
    "\n",
    "client.send(\"bobby\".encode(\"utf-8\"))  # 传递 是二进制 ，要进行编码为二进制文件\n",
    "data = client.recv(1024)\n",
    "print(data.decode(\"utf-8\"))\n",
    "client.close()\n",
    "          \n",
    "          \n",
    "'''\n",
    "server 绑定的端口是专门用于监听的\n",
    "而server.accept()得到的新的sock才是得到的用户的请求\n",
    "\n",
    "在client端 只需要一个socket就行了\n",
    "'''          "
   ]
  },
  {
   "cell_type": "code",
   "execution_count": null,
   "metadata": {},
   "outputs": [],
   "source": []
  }
 ],
 "metadata": {
  "kernelspec": {
   "display_name": "Python 3",
   "language": "python",
   "name": "python3"
  },
  "language_info": {
   "codemirror_mode": {
    "name": "ipython",
    "version": 3
   },
   "file_extension": ".py",
   "mimetype": "text/x-python",
   "name": "python",
   "nbconvert_exporter": "python",
   "pygments_lexer": "ipython3",
   "version": "3.7.2"
  }
 },
 "nbformat": 4,
 "nbformat_minor": 2
}
